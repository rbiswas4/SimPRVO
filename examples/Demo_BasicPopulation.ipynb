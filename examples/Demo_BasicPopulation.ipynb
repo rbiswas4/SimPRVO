{
 "cells": [
  {
   "cell_type": "code",
   "execution_count": 1,
   "metadata": {
    "collapsed": true
   },
   "outputs": [],
   "source": [
    "from varsim import BasePopulation"
   ]
  },
  {
   "cell_type": "code",
   "execution_count": 2,
   "metadata": {
    "collapsed": false
   },
   "outputs": [],
   "source": [
    "import numpy as np\n",
    "import pandas as pd\n",
    "from collections import OrderedDict"
   ]
  },
  {
   "cell_type": "code",
   "execution_count": 28,
   "metadata": {
    "collapsed": false
   },
   "outputs": [],
   "source": [
    "class StupidPopulation(BasePopulation):\n",
    "    def __init__(self):\n",
    "        self.t0 = [59580.03, 59580.05]\n",
    "        self.f = [0.002, 0.004]\n",
    "        self.minvals = [-0.2, -0.5]\n",
    "        self.maxvals = [0.5, 1.0]\n",
    "        self._paramsTable = None\n",
    "    \n",
    "    @property\n",
    "    def rng_model(self):\n",
    "        return None\n",
    "    \n",
    "        \n",
    "    @property\n",
    "    def paramsTable(self):\n",
    "        if self._paramsTable is None:\n",
    "            df = pd.DataFrame(dict(t0=self.t0, f=self.f, minv=self.minvals,\n",
    "                               maxv=self.maxvals, idx=self.idxvalues))\n",
    "            self._paramsTable = df.set_index('idx')\n",
    "            \n",
    "        return self._paramsTable\n",
    "    \n",
    "    @property\n",
    "    def idxvalues(self):\n",
    "        return list(x for x in (0, 1))\n",
    "    "
   ]
  },
  {
   "cell_type": "code",
   "execution_count": 29,
   "metadata": {
    "collapsed": false
   },
   "outputs": [],
   "source": [
    "sp = StupidPopulation()"
   ]
  },
  {
   "cell_type": "code",
   "execution_count": 30,
   "metadata": {
    "collapsed": false
   },
   "outputs": [
    {
     "data": {
      "text/plain": [
       "[0, 1]"
      ]
     },
     "execution_count": 30,
     "metadata": {},
     "output_type": "execute_result"
    }
   ],
   "source": [
    "sp.idxvalues"
   ]
  },
  {
   "cell_type": "code",
   "execution_count": 31,
   "metadata": {
    "collapsed": false
   },
   "outputs": [
    {
     "name": "stdout",
     "output_type": "stream",
     "text": [
      "None\n"
     ]
    }
   ],
   "source": [
    "print(sp.rng_model)"
   ]
  },
  {
   "cell_type": "code",
   "execution_count": 32,
   "metadata": {
    "collapsed": false
   },
   "outputs": [
    {
     "data": {
      "text/html": [
       "<div>\n",
       "<table border=\"1\" class=\"dataframe\">\n",
       "  <thead>\n",
       "    <tr style=\"text-align: right;\">\n",
       "      <th></th>\n",
       "      <th>f</th>\n",
       "      <th>maxv</th>\n",
       "      <th>minv</th>\n",
       "      <th>t0</th>\n",
       "    </tr>\n",
       "    <tr>\n",
       "      <th>idx</th>\n",
       "      <th></th>\n",
       "      <th></th>\n",
       "      <th></th>\n",
       "      <th></th>\n",
       "    </tr>\n",
       "  </thead>\n",
       "  <tbody>\n",
       "    <tr>\n",
       "      <th>0</th>\n",
       "      <td>0.002</td>\n",
       "      <td>0.5</td>\n",
       "      <td>-0.2</td>\n",
       "      <td>59580.03</td>\n",
       "    </tr>\n",
       "    <tr>\n",
       "      <th>1</th>\n",
       "      <td>0.004</td>\n",
       "      <td>1.0</td>\n",
       "      <td>-0.5</td>\n",
       "      <td>59580.05</td>\n",
       "    </tr>\n",
       "  </tbody>\n",
       "</table>\n",
       "</div>"
      ],
      "text/plain": [
       "         f  maxv  minv        t0\n",
       "idx                             \n",
       "0    0.002   0.5  -0.2  59580.03\n",
       "1    0.004   1.0  -0.5  59580.05"
      ]
     },
     "execution_count": 32,
     "metadata": {},
     "output_type": "execute_result"
    }
   ],
   "source": [
    "sp.paramsTable"
   ]
  },
  {
   "cell_type": "code",
   "execution_count": 17,
   "metadata": {
    "collapsed": false
   },
   "outputs": [
    {
     "data": {
      "text/plain": [
       "2"
      ]
     },
     "execution_count": 17,
     "metadata": {},
     "output_type": "execute_result"
    }
   ],
   "source": [
    "sp.numSources"
   ]
  },
  {
   "cell_type": "code",
   "execution_count": 18,
   "metadata": {
    "collapsed": false
   },
   "outputs": [
    {
     "name": "stdout",
     "output_type": "stream",
     "text": [
      "(0, OrderedDict([('f', 0.002), ('maxv', 0.5), ('minv', -0.20000000000000001), ('t0', 59580.029999999999)]))\n",
      "(1, OrderedDict([('f', 0.0040000000000000001), ('maxv', 1.0), ('minv', -0.5), ('t0', 59580.050000000003)]))\n"
     ]
    }
   ],
   "source": [
    "for idx in sp.idxvalues:\n",
    "    print(idx, sp.modelParams(idx))\n"
   ]
  },
  {
   "cell_type": "code",
   "execution_count": 19,
   "metadata": {
    "collapsed": false
   },
   "outputs": [],
   "source": [
    "class StatPopulation(BasePopulation):\n",
    "    def __init__(self, numObjs, rng=np.random.RandomState(0)):\n",
    "        self._numObjs = numObjs\n",
    "        self._rng = rng\n",
    "        self._paramsTable = None\n",
    "    \n",
    "    @property\n",
    "    def rng_model(self):\n",
    "        return self._rng\n",
    "    \n",
    "    @property\n",
    "    def idxvalues(self):\n",
    "        return list(str(x) for x in range(self._numObjs))\n",
    "    \n",
    "    @property\n",
    "    def paramsTable(self):\n",
    "        if self._paramsTable is None:\n",
    "            if self.rng_model is None:\n",
    "                return None\n",
    "            else:\n",
    "                t0 = self.rng_model.uniform(low=59580., high=59581., size=self.numSources)\n",
    "                f = self.rng_model.normal(loc=0.003, scale=0.001, size=self.numSources)\n",
    "                self._paramsTable = pd.DataFrame(dict(t0=t0, f=f, idx=self.idxvalues))\n",
    "                self._paramsTable.set_index('idx', inplace=True)\n",
    "        return self._paramsTable"
   ]
  },
  {
   "cell_type": "code",
   "execution_count": 11,
   "metadata": {
    "collapsed": false
   },
   "outputs": [],
   "source": [
    "stp = StatPopulation(10)"
   ]
  },
  {
   "cell_type": "code",
   "execution_count": 12,
   "metadata": {
    "collapsed": false
   },
   "outputs": [
    {
     "data": {
      "text/plain": [
       "['0', '1', '2', '3', '4', '5', '6', '7', '8', '9']"
      ]
     },
     "execution_count": 12,
     "metadata": {},
     "output_type": "execute_result"
    }
   ],
   "source": [
    "stp.idxvalues"
   ]
  },
  {
   "cell_type": "code",
   "execution_count": 13,
   "metadata": {
    "collapsed": false
   },
   "outputs": [
    {
     "data": {
      "text/plain": [
       "10"
      ]
     },
     "execution_count": 13,
     "metadata": {},
     "output_type": "execute_result"
    }
   ],
   "source": [
    "stp.numSources"
   ]
  },
  {
   "cell_type": "code",
   "execution_count": 14,
   "metadata": {
    "collapsed": false
   },
   "outputs": [
    {
     "data": {
      "text/html": [
       "<div>\n",
       "<table border=\"1\" class=\"dataframe\">\n",
       "  <thead>\n",
       "    <tr style=\"text-align: right;\">\n",
       "      <th></th>\n",
       "      <th>f</th>\n",
       "      <th>t0</th>\n",
       "    </tr>\n",
       "    <tr>\n",
       "      <th>idx</th>\n",
       "      <th></th>\n",
       "      <th></th>\n",
       "    </tr>\n",
       "  </thead>\n",
       "  <tbody>\n",
       "    <tr>\n",
       "      <th>0</th>\n",
       "      <td>0.003144</td>\n",
       "      <td>59580.548814</td>\n",
       "    </tr>\n",
       "    <tr>\n",
       "      <th>1</th>\n",
       "      <td>0.004454</td>\n",
       "      <td>59580.715189</td>\n",
       "    </tr>\n",
       "    <tr>\n",
       "      <th>2</th>\n",
       "      <td>0.003761</td>\n",
       "      <td>59580.602763</td>\n",
       "    </tr>\n",
       "    <tr>\n",
       "      <th>3</th>\n",
       "      <td>0.003122</td>\n",
       "      <td>59580.544883</td>\n",
       "    </tr>\n",
       "    <tr>\n",
       "      <th>4</th>\n",
       "      <td>0.003444</td>\n",
       "      <td>59580.423655</td>\n",
       "    </tr>\n",
       "    <tr>\n",
       "      <th>5</th>\n",
       "      <td>0.003334</td>\n",
       "      <td>59580.645894</td>\n",
       "    </tr>\n",
       "    <tr>\n",
       "      <th>6</th>\n",
       "      <td>0.004494</td>\n",
       "      <td>59580.437587</td>\n",
       "    </tr>\n",
       "    <tr>\n",
       "      <th>7</th>\n",
       "      <td>0.002795</td>\n",
       "      <td>59580.891773</td>\n",
       "    </tr>\n",
       "    <tr>\n",
       "      <th>8</th>\n",
       "      <td>0.003313</td>\n",
       "      <td>59580.963663</td>\n",
       "    </tr>\n",
       "    <tr>\n",
       "      <th>9</th>\n",
       "      <td>0.002146</td>\n",
       "      <td>59580.383442</td>\n",
       "    </tr>\n",
       "  </tbody>\n",
       "</table>\n",
       "</div>"
      ],
      "text/plain": [
       "            f            t0\n",
       "idx                        \n",
       "0    0.003144  59580.548814\n",
       "1    0.004454  59580.715189\n",
       "2    0.003761  59580.602763\n",
       "3    0.003122  59580.544883\n",
       "4    0.003444  59580.423655\n",
       "5    0.003334  59580.645894\n",
       "6    0.004494  59580.437587\n",
       "7    0.002795  59580.891773\n",
       "8    0.003313  59580.963663\n",
       "9    0.002146  59580.383442"
      ]
     },
     "execution_count": 14,
     "metadata": {},
     "output_type": "execute_result"
    }
   ],
   "source": [
    "stp.paramsTable"
   ]
  },
  {
   "cell_type": "code",
   "execution_count": 15,
   "metadata": {
    "collapsed": false
   },
   "outputs": [
    {
     "data": {
      "text/plain": [
       "OrderedDict([('f', 0.0037610377251469937), ('t0', 59580.602763376075)])"
      ]
     },
     "execution_count": 15,
     "metadata": {},
     "output_type": "execute_result"
    }
   ],
   "source": [
    "stp.modelParams('2')"
   ]
  },
  {
   "cell_type": "markdown",
   "metadata": {},
   "source": [
    "## How to not use"
   ]
  },
  {
   "cell_type": "code",
   "execution_count": 25,
   "metadata": {
    "collapsed": true
   },
   "outputs": [],
   "source": [
    "stp2 = StatPopulation(10)"
   ]
  },
  {
   "cell_type": "code",
   "execution_count": 26,
   "metadata": {
    "collapsed": false
   },
   "outputs": [
    {
     "data": {
      "text/plain": [
       "-1.4200179371789752"
      ]
     },
     "execution_count": 26,
     "metadata": {},
     "output_type": "execute_result"
    }
   ],
   "source": [
    "stp2.rng_model.normal()"
   ]
  },
  {
   "cell_type": "code",
   "execution_count": 27,
   "metadata": {
    "collapsed": false
   },
   "outputs": [
    {
     "data": {
      "text/html": [
       "<div>\n",
       "<table border=\"1\" class=\"dataframe\">\n",
       "  <thead>\n",
       "    <tr style=\"text-align: right;\">\n",
       "      <th></th>\n",
       "      <th>f</th>\n",
       "      <th>t0</th>\n",
       "    </tr>\n",
       "    <tr>\n",
       "      <th>idx</th>\n",
       "      <th></th>\n",
       "      <th></th>\n",
       "    </tr>\n",
       "  </thead>\n",
       "  <tbody>\n",
       "    <tr>\n",
       "      <th>0</th>\n",
       "      <td>0.002105</td>\n",
       "      <td>59580.570197</td>\n",
       "    </tr>\n",
       "    <tr>\n",
       "      <th>1</th>\n",
       "      <td>0.003387</td>\n",
       "      <td>59580.438602</td>\n",
       "    </tr>\n",
       "    <tr>\n",
       "      <th>2</th>\n",
       "      <td>0.002489</td>\n",
       "      <td>59580.988374</td>\n",
       "    </tr>\n",
       "    <tr>\n",
       "      <th>3</th>\n",
       "      <td>0.001819</td>\n",
       "      <td>59580.102045</td>\n",
       "    </tr>\n",
       "    <tr>\n",
       "      <th>4</th>\n",
       "      <td>0.002972</td>\n",
       "      <td>59580.208877</td>\n",
       "    </tr>\n",
       "    <tr>\n",
       "      <th>5</th>\n",
       "      <td>0.003428</td>\n",
       "      <td>59580.161310</td>\n",
       "    </tr>\n",
       "    <tr>\n",
       "      <th>6</th>\n",
       "      <td>0.003067</td>\n",
       "      <td>59580.653108</td>\n",
       "    </tr>\n",
       "    <tr>\n",
       "      <th>7</th>\n",
       "      <td>0.003302</td>\n",
       "      <td>59580.253292</td>\n",
       "    </tr>\n",
       "    <tr>\n",
       "      <th>8</th>\n",
       "      <td>0.002366</td>\n",
       "      <td>59580.466311</td>\n",
       "    </tr>\n",
       "    <tr>\n",
       "      <th>9</th>\n",
       "      <td>0.002637</td>\n",
       "      <td>59580.244426</td>\n",
       "    </tr>\n",
       "  </tbody>\n",
       "</table>\n",
       "</div>"
      ],
      "text/plain": [
       "            f            t0\n",
       "idx                        \n",
       "0    0.002105  59580.570197\n",
       "1    0.003387  59580.438602\n",
       "2    0.002489  59580.988374\n",
       "3    0.001819  59580.102045\n",
       "4    0.002972  59580.208877\n",
       "5    0.003428  59580.161310\n",
       "6    0.003067  59580.653108\n",
       "7    0.003302  59580.253292\n",
       "8    0.002366  59580.466311\n",
       "9    0.002637  59580.244426"
      ]
     },
     "execution_count": 27,
     "metadata": {},
     "output_type": "execute_result"
    }
   ],
   "source": [
    "stp2.paramsTable"
   ]
  }
 ],
 "metadata": {
  "anaconda-cloud": {},
  "kernelspec": {
   "display_name": "Python [default]",
   "language": "python",
   "name": "python2"
  },
  "language_info": {
   "codemirror_mode": {
    "name": "ipython",
    "version": 2
   },
   "file_extension": ".py",
   "mimetype": "text/x-python",
   "name": "python",
   "nbconvert_exporter": "python",
   "pygments_lexer": "ipython2",
   "version": "2.7.12"
  }
 },
 "nbformat": 4,
 "nbformat_minor": 1
}
