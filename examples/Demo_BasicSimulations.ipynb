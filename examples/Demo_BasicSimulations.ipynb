{
 "cells": [
  {
   "cell_type": "markdown",
   "metadata": {},
   "source": [
    "This notebook demonstrates the method to produce the most basic simulation under consideration using the package `varsim`. The inputs here are:\n",
    "   - a set of pointings (for simplicity, read in from a csv file)\n",
    "   - a (model, population) pair, where\n",
    "       - a population of astrophysical sources described by a subclass of `varsim.BasePopulation`. This class must implement the abstract methods of `varsim.BasePopulation`, and provide an index for each source and the model parameters. \n",
    "       - a model for the sources described by a subclass of `varsim.BaseModel`. Again this subclass must implement all of the abstract methods and properties of `varsim.BaseModel`. The essential functionality of this class is to represent an astrophysical source as a model with model parameters, given which, this class has methods of predicting the model flux as a function of time at the top of the earth's atmosphere (ie. no sky noise included).\n",
    "   - The simulation will be performed using the class `varsim.BasicSimulation` which is a subclass of the abstract base class `varsim.BaseSimulation` and implements concrete methods and properties necessary for the simulation. These methods and properties only use the abstract properties and methods of `BaseModel` and `BasePopulation`, and are therefore guaranteed to with any subclass."
   ]
  },
  {
   "cell_type": "markdown",
   "metadata": {},
   "source": [
    "##  Imports"
   ]
  },
  {
   "cell_type": "code",
   "execution_count": 1,
   "metadata": {
    "collapsed": true
   },
   "outputs": [],
   "source": [
    "import os"
   ]
  },
  {
   "cell_type": "code",
   "execution_count": 2,
   "metadata": {
    "collapsed": true
   },
   "outputs": [],
   "source": [
    "from opsimsummary import HealpixTiles, OpSimOutput"
   ]
  },
  {
   "cell_type": "code",
   "execution_count": 3,
   "metadata": {
    "collapsed": true
   },
   "outputs": [],
   "source": [
    "import numpy as np\n",
    "import pandas as pd"
   ]
  },
  {
   "cell_type": "code",
   "execution_count": 4,
   "metadata": {
    "collapsed": true
   },
   "outputs": [],
   "source": [
    "from lsst.sims.photUtils import BandpassDict"
   ]
  },
  {
   "cell_type": "code",
   "execution_count": 5,
   "metadata": {
    "collapsed": false
   },
   "outputs": [],
   "source": [
    "from varsim import BasePopulation, BasicSimulation, BaseModel"
   ]
  },
  {
   "cell_type": "code",
   "execution_count": 6,
   "metadata": {
    "collapsed": true
   },
   "outputs": [],
   "source": [
    "from lsst.sims.catUtils.supernovae import SNObject"
   ]
  },
  {
   "cell_type": "code",
   "execution_count": 7,
   "metadata": {
    "collapsed": true
   },
   "outputs": [],
   "source": [
    "import analyzeSN as ans"
   ]
  },
  {
   "cell_type": "code",
   "execution_count": 8,
   "metadata": {
    "collapsed": false
   },
   "outputs": [],
   "source": [
    "import varsim"
   ]
  },
  {
   "cell_type": "code",
   "execution_count": 9,
   "metadata": {
    "collapsed": true
   },
   "outputs": [],
   "source": [
    "%matplotlib inline\n",
    "import matplotlib.pyplot as plt\n",
    "import seaborn as sns\n",
    "sns.set_style('whitegrid')"
   ]
  },
  {
   "cell_type": "markdown",
   "metadata": {},
   "source": [
    "## The quantities of interest"
   ]
  },
  {
   "cell_type": "markdown",
   "metadata": {},
   "source": [
    "####  Pointings"
   ]
  },
  {
   "cell_type": "code",
   "execution_count": 10,
   "metadata": {
    "collapsed": false
   },
   "outputs": [],
   "source": [
    "# The set of pointings randomly kept for convenience.\n",
    "example_data = varsim.example_data\n",
    "pointings_File = os.path.join(example_data, 'example_pointings.csv')\n",
    "pointings = pd.read_csv(pointings_File, index_col='obsHistID')"
   ]
  },
  {
   "cell_type": "code",
   "execution_count": 11,
   "metadata": {
    "collapsed": false
   },
   "outputs": [
    {
     "name": "stdout",
     "output_type": "stream",
     "text": [
      "14\n"
     ]
    },
    {
     "data": {
      "text/html": [
       "<div>\n",
       "<table border=\"1\" class=\"dataframe\">\n",
       "  <thead>\n",
       "    <tr style=\"text-align: right;\">\n",
       "      <th></th>\n",
       "      <th>sessionID</th>\n",
       "      <th>propID</th>\n",
       "      <th>fieldID</th>\n",
       "      <th>fieldRA</th>\n",
       "      <th>fieldDec</th>\n",
       "      <th>filter</th>\n",
       "      <th>expDate</th>\n",
       "      <th>expMJD</th>\n",
       "      <th>night</th>\n",
       "      <th>visitTime</th>\n",
       "      <th>...</th>\n",
       "      <th>moonBright</th>\n",
       "      <th>darkBright</th>\n",
       "      <th>rawSeeing</th>\n",
       "      <th>wind</th>\n",
       "      <th>humidity</th>\n",
       "      <th>slewDist</th>\n",
       "      <th>slewTime</th>\n",
       "      <th>fiveSigmaDepth</th>\n",
       "      <th>ditheredRA</th>\n",
       "      <th>ditheredDec</th>\n",
       "    </tr>\n",
       "    <tr>\n",
       "      <th>obsHistID</th>\n",
       "      <th></th>\n",
       "      <th></th>\n",
       "      <th></th>\n",
       "      <th></th>\n",
       "      <th></th>\n",
       "      <th></th>\n",
       "      <th></th>\n",
       "      <th></th>\n",
       "      <th></th>\n",
       "      <th></th>\n",
       "      <th></th>\n",
       "      <th></th>\n",
       "      <th></th>\n",
       "      <th></th>\n",
       "      <th></th>\n",
       "      <th></th>\n",
       "      <th></th>\n",
       "      <th></th>\n",
       "      <th></th>\n",
       "      <th></th>\n",
       "      <th></th>\n",
       "    </tr>\n",
       "  </thead>\n",
       "  <tbody>\n",
       "    <tr>\n",
       "      <th>1</th>\n",
       "      <td>1016</td>\n",
       "      <td>54</td>\n",
       "      <td>316</td>\n",
       "      <td>1.676483</td>\n",
       "      <td>-1.082473</td>\n",
       "      <td>y</td>\n",
       "      <td>2922</td>\n",
       "      <td>59580.033829</td>\n",
       "      <td>0</td>\n",
       "      <td>34.0</td>\n",
       "      <td>...</td>\n",
       "      <td>0.0</td>\n",
       "      <td>105.610378</td>\n",
       "      <td>0.920473</td>\n",
       "      <td>0.0</td>\n",
       "      <td>0.0</td>\n",
       "      <td>1.620307</td>\n",
       "      <td>0.000000</td>\n",
       "      <td>21.021236</td>\n",
       "      <td>1.643930</td>\n",
       "      <td>-1.108924</td>\n",
       "    </tr>\n",
       "    <tr>\n",
       "      <th>14</th>\n",
       "      <td>1016</td>\n",
       "      <td>54</td>\n",
       "      <td>1118</td>\n",
       "      <td>1.709686</td>\n",
       "      <td>-0.607725</td>\n",
       "      <td>y</td>\n",
       "      <td>3424</td>\n",
       "      <td>59580.039637</td>\n",
       "      <td>0</td>\n",
       "      <td>34.0</td>\n",
       "      <td>...</td>\n",
       "      <td>0.0</td>\n",
       "      <td>103.104582</td>\n",
       "      <td>0.903960</td>\n",
       "      <td>0.0</td>\n",
       "      <td>0.0</td>\n",
       "      <td>0.055856</td>\n",
       "      <td>4.599568</td>\n",
       "      <td>21.067249</td>\n",
       "      <td>1.691083</td>\n",
       "      <td>-0.634176</td>\n",
       "    </tr>\n",
       "    <tr>\n",
       "      <th>13</th>\n",
       "      <td>1016</td>\n",
       "      <td>54</td>\n",
       "      <td>1220</td>\n",
       "      <td>1.664386</td>\n",
       "      <td>-0.566519</td>\n",
       "      <td>y</td>\n",
       "      <td>3386</td>\n",
       "      <td>59580.039190</td>\n",
       "      <td>0</td>\n",
       "      <td>34.0</td>\n",
       "      <td>...</td>\n",
       "      <td>0.0</td>\n",
       "      <td>101.147431</td>\n",
       "      <td>0.903960</td>\n",
       "      <td>0.0</td>\n",
       "      <td>0.0</td>\n",
       "      <td>0.048200</td>\n",
       "      <td>4.776511</td>\n",
       "      <td>21.091149</td>\n",
       "      <td>1.646286</td>\n",
       "      <td>-0.592970</td>\n",
       "    </tr>\n",
       "    <tr>\n",
       "      <th>12</th>\n",
       "      <td>1016</td>\n",
       "      <td>54</td>\n",
       "      <td>1212</td>\n",
       "      <td>1.608166</td>\n",
       "      <td>-0.575819</td>\n",
       "      <td>y</td>\n",
       "      <td>3347</td>\n",
       "      <td>59580.038741</td>\n",
       "      <td>0</td>\n",
       "      <td>34.0</td>\n",
       "      <td>...</td>\n",
       "      <td>0.0</td>\n",
       "      <td>98.109397</td>\n",
       "      <td>0.903960</td>\n",
       "      <td>0.0</td>\n",
       "      <td>0.0</td>\n",
       "      <td>0.055665</td>\n",
       "      <td>4.739998</td>\n",
       "      <td>21.128319</td>\n",
       "      <td>1.589958</td>\n",
       "      <td>-0.602270</td>\n",
       "    </tr>\n",
       "    <tr>\n",
       "      <th>11</th>\n",
       "      <td>1016</td>\n",
       "      <td>54</td>\n",
       "      <td>1110</td>\n",
       "      <td>1.651280</td>\n",
       "      <td>-0.618574</td>\n",
       "      <td>y</td>\n",
       "      <td>3308</td>\n",
       "      <td>59580.038293</td>\n",
       "      <td>0</td>\n",
       "      <td>34.0</td>\n",
       "      <td>...</td>\n",
       "      <td>0.0</td>\n",
       "      <td>100.125895</td>\n",
       "      <td>0.903960</td>\n",
       "      <td>0.0</td>\n",
       "      <td>0.0</td>\n",
       "      <td>0.056173</td>\n",
       "      <td>4.499824</td>\n",
       "      <td>21.103635</td>\n",
       "      <td>1.632535</td>\n",
       "      <td>-0.645025</td>\n",
       "    </tr>\n",
       "  </tbody>\n",
       "</table>\n",
       "<p>5 rows × 46 columns</p>\n",
       "</div>"
      ],
      "text/plain": [
       "           sessionID  propID  fieldID   fieldRA  fieldDec filter  expDate  \\\n",
       "obsHistID                                                                   \n",
       "1               1016      54      316  1.676483 -1.082473      y     2922   \n",
       "14              1016      54     1118  1.709686 -0.607725      y     3424   \n",
       "13              1016      54     1220  1.664386 -0.566519      y     3386   \n",
       "12              1016      54     1212  1.608166 -0.575819      y     3347   \n",
       "11              1016      54     1110  1.651280 -0.618574      y     3308   \n",
       "\n",
       "                 expMJD  night  visitTime     ...       moonBright  \\\n",
       "obsHistID                                     ...                    \n",
       "1          59580.033829      0       34.0     ...              0.0   \n",
       "14         59580.039637      0       34.0     ...              0.0   \n",
       "13         59580.039190      0       34.0     ...              0.0   \n",
       "12         59580.038741      0       34.0     ...              0.0   \n",
       "11         59580.038293      0       34.0     ...              0.0   \n",
       "\n",
       "           darkBright  rawSeeing  wind  humidity  slewDist  slewTime  \\\n",
       "obsHistID                                                              \n",
       "1          105.610378   0.920473   0.0       0.0  1.620307  0.000000   \n",
       "14         103.104582   0.903960   0.0       0.0  0.055856  4.599568   \n",
       "13         101.147431   0.903960   0.0       0.0  0.048200  4.776511   \n",
       "12          98.109397   0.903960   0.0       0.0  0.055665  4.739998   \n",
       "11         100.125895   0.903960   0.0       0.0  0.056173  4.499824   \n",
       "\n",
       "           fiveSigmaDepth  ditheredRA  ditheredDec  \n",
       "obsHistID                                           \n",
       "1               21.021236    1.643930    -1.108924  \n",
       "14              21.067249    1.691083    -0.634176  \n",
       "13              21.091149    1.646286    -0.592970  \n",
       "12              21.128319    1.589958    -0.602270  \n",
       "11              21.103635    1.632535    -0.645025  \n",
       "\n",
       "[5 rows x 46 columns]"
      ]
     },
     "execution_count": 11,
     "metadata": {},
     "output_type": "execute_result"
    }
   ],
   "source": [
    "# To show what this looks like\n",
    "print(len(pointings))\n",
    "pointings.head()"
   ]
  },
  {
   "cell_type": "code",
   "execution_count": 12,
   "metadata": {
    "collapsed": true
   },
   "outputs": [],
   "source": [
    "# We did not need to have all these columns. The essential columns are ra, dec, filter, \n",
    "# fivesigmadepth. It is also good to have fieldID, etc."
   ]
  },
  {
   "cell_type": "markdown",
   "metadata": {},
   "source": [
    "### Model of source\n",
    "- Model : Subclass of `varsim.BaseModel` with its methods implemented. Here I use `lsst.sims.catUtils.supernovae.SNObject` functionality to provide  functions\n",
    "- Provides `minMjd` and `maxMjd` to restrict the set of pointings over which we will build the light curve.\n",
    "- `modelFlux`: concrete implementation of abstract method `BaseModel.modelFlux` providing the flux, given the model parameters and `mjd`, `bandpass`."
   ]
  },
  {
   "cell_type": "markdown",
   "metadata": {},
   "source": [
    "We will write down an example of a model as a concrete implementation of `BaseModel`. This is the minimal model required for describing a variable object for these simulations. Such an implementation requires the following properties to be implemented."
   ]
  },
  {
   "cell_type": "markdown",
   "metadata": {},
   "source": [
    "#### A SALT model"
   ]
  },
  {
   "cell_type": "code",
   "execution_count": 34,
   "metadata": {
    "collapsed": false
   },
   "outputs": [],
   "source": [
    "class Model(SNObject, BaseModel):\n",
    "    def setModelParameters(self, params):\n",
    "        paramDict = params.copy()\n",
    "        # self.setCoords(ra=positions['ra'], dec=positions['dec'])\n",
    "        self.set(**params)\n",
    "        self.set_MWebv(0)\n",
    "        #self.mwEBVfromMaps()\n",
    "    \n",
    "    @property\n",
    "    def minMjd(self):\n",
    "        return self.mintime()\n",
    "    @property\n",
    "    def maxMjd(self):\n",
    "        return self.maxtime()\n",
    "    \n",
    "    def modelFlux(self, mjd, bandpassobj):\n",
    "        return self.catsimBandFlux(bandpassobject=bandpassobj,\n",
    "                                      time=mjd)\n",
    "\n"
   ]
  },
  {
   "cell_type": "markdown",
   "metadata": {},
   "source": [
    "#### A Stupid Model\n",
    "We will also work out the population for a stupid model to show every single step:\n",
    "- The model is stupid becaue there are no k corrections or band dependence"
   ]
  },
  {
   "cell_type": "code",
   "execution_count": 14,
   "metadata": {
    "collapsed": false
   },
   "outputs": [],
   "source": [
    "class StupidModel(BaseModel):\n",
    "    def __init__(self):\n",
    "        self.t0 = None\n",
    "        self.f = None\n",
    "        self._maxday = None\n",
    "        self._minday = None\n",
    "        self.z = NOne\n",
    "        \n",
    "    def setModelParameters(self, params):\n",
    "        self.f = params['f']\n",
    "        self.t0 = params['t0']\n",
    "        self._maxday = params['max'] \n",
    "        self._minday = params['min']\n",
    "        self.z = params['z']\n",
    "        return\n",
    "    @property\n",
    "    def minMjd(self):\n",
    "        return self._minMjd\n",
    "    \n",
    "    @property\n",
    "    def maxMjd(self):\n",
    "        return self._maxday + self.t0\n",
    "    \n",
    "    @property\n",
    "    def minMjd(self):\n",
    "        return self._minday + self.t0\n",
    "    \n",
    "    def modelFlux(self, mjd, bandpassobj):\n",
    "        #d = mjd[(mjd > self.minMjd) & (mjd < self.maxMjd)]\n",
    "        vals = np.sin((mjd - self.t0)/ self.f)\n",
    "        return max(vals, 0)"
   ]
  },
  {
   "cell_type": "markdown",
   "metadata": {},
   "source": [
    "### Population of astrophysical sources. \n",
    "Here I use supernovae with the SALT model.  I keep two supernovae in a completely random way without attempting to make sense. The important parts are  that no matter how the Population model is implemented, it has:\n",
    "- `modelparams` : the method which takes the unique index of a supernova in the population and provides its model parameters as a dictionary. An important requirement is that the dictionary as the keys `ra`, `dec`, while the other parameters are completely user dependent\n",
    "- `idxvalues` : a property which is a sequence of indices. Here the sequence is implemented as a tuple, which is perhaps how it should be for large simulations."
   ]
  },
  {
   "cell_type": "markdown",
   "metadata": {},
   "source": [
    "####  SALT model Population"
   ]
  },
  {
   "cell_type": "code",
   "execution_count": 13,
   "metadata": {
    "collapsed": false
   },
   "outputs": [],
   "source": [
    "class SALTPopulation(BasePopulation):\n",
    "    def __init__(self):\n",
    "        self.x0 = [5.0e-2, 3.e-5]\n",
    "        self.x1 = [0, .1]\n",
    "        self.c = [-0.2, 0.5]\n",
    "        self.t0 = [59581., 59580. ]\n",
    "        self.z = [0.5, 0.6]\n",
    "        self.ra = [30., 30.]\n",
    "        self.dec = [-45., -45.]\n",
    "        \n",
    "    def modelparams(self, idx):\n",
    "        return dict(x0=self.x0[idx], x1=self.x1[idx], c=self.c[idx], t0=self.t0[idx],\n",
    "                    z=self.z[idx])\n",
    "    @property\n",
    "    def idxvalues(self):\n",
    "        return (x for x in (0, 1))\n",
    "    @property\n",
    "    def numSources(self):\n",
    "        return sum(1 for i in self.idxvalues)\n",
    "    #@property\n",
    "    #def hasPositionArray(self):\n",
    "    #    return False\n",
    "    #@property\n",
    "    #def positionArray(self):\n",
    "    #    return None\n",
    "    \n",
    "    #def positions(self, idx):\n",
    "    #    return dict(ra=self.ra[idx], dec=self.dec[idx])"
   ]
  },
  {
   "cell_type": "markdown",
   "metadata": {},
   "source": [
    "####  Stupid model Population"
   ]
  },
  {
   "cell_type": "code",
   "execution_count": 20,
   "metadata": {
    "collapsed": true
   },
   "outputs": [],
   "source": [
    "class StupidPopulation(BasePopulation):\n",
    "    def __init__(self):\n",
    "        self.t0 = [59580.03, 59580.05]\n",
    "        self.f = [0.002, 0.004]\n",
    "        self.minvals = [-0.2, -0.5]\n",
    "        self.maxvals = [0.5, 1.0]\n",
    "        \n",
    "    def modelparams(self, idx):\n",
    "        return dict(t0=self.t0[idx], f=self.f[idx], min=self.minvals[idx], max=self.maxvals[idx])\n",
    "    @property\n",
    "    def idxvalues(self):\n",
    "        return (x for x in (0, 1))\n",
    "    @property\n",
    "    def numSources(self):\n",
    "        return sum(1 for i in self.idxvalues)\n",
    "    #@property\n",
    "    #def hasPositionArray(self):\n",
    "    #    return False\n",
    "    #@property\n",
    "    #def positionArray(self):\n",
    "    #    return None\n",
    "    \n",
    "    #def positions(self, idx):\n",
    "    #    return dict(ra=self.ra[idx], dec=self.dec[idx])   "
   ]
  },
  {
   "cell_type": "markdown",
   "metadata": {},
   "source": [
    "### Instantiate the populations and demonstrate the functionality"
   ]
  },
  {
   "cell_type": "markdown",
   "metadata": {},
   "source": [
    "This is the Supernova model with no extinction"
   ]
  },
  {
   "cell_type": "markdown",
   "metadata": {},
   "source": [
    "#### Population for SALT Model"
   ]
  },
  {
   "cell_type": "code",
   "execution_count": 15,
   "metadata": {
    "collapsed": false
   },
   "outputs": [],
   "source": [
    "sp = SALTPopulation()"
   ]
  },
  {
   "cell_type": "code",
   "execution_count": 16,
   "metadata": {
    "collapsed": false
   },
   "outputs": [
    {
     "name": "stdout",
     "output_type": "stream",
     "text": [
      "(0, 1)\n"
     ]
    }
   ],
   "source": [
    "# The indices\n",
    "idxs = tuple(sp.idxvalues)\n",
    "print(idxs)"
   ]
  },
  {
   "cell_type": "code",
   "execution_count": 17,
   "metadata": {
    "collapsed": false
   },
   "outputs": [
    {
     "data": {
      "text/plain": [
       "{'c': -0.2, 't0': 59581.0, 'x0': 0.05, 'x1': 0, 'z': 0.5}"
      ]
     },
     "execution_count": 17,
     "metadata": {},
     "output_type": "execute_result"
    }
   ],
   "source": [
    "# The model parameters\n",
    "sp.modelparams(0)"
   ]
  },
  {
   "cell_type": "markdown",
   "metadata": {},
   "source": [
    "and the other one"
   ]
  },
  {
   "cell_type": "code",
   "execution_count": 18,
   "metadata": {
    "collapsed": false
   },
   "outputs": [
    {
     "data": {
      "text/plain": [
       "2"
      ]
     },
     "execution_count": 18,
     "metadata": {},
     "output_type": "execute_result"
    }
   ],
   "source": [
    "sp.numSources"
   ]
  },
  {
   "cell_type": "code",
   "execution_count": 19,
   "metadata": {
    "collapsed": false
   },
   "outputs": [
    {
     "data": {
      "text/plain": [
       "{'c': -0.2, 't0': 59581.0, 'x0': 0.05, 'x1': 0, 'z': 0.5}"
      ]
     },
     "execution_count": 19,
     "metadata": {},
     "output_type": "execute_result"
    }
   ],
   "source": [
    "sp.modelparams(0)"
   ]
  },
  {
   "cell_type": "code",
   "execution_count": 35,
   "metadata": {
    "collapsed": false
   },
   "outputs": [],
   "source": [
    "model = Model()"
   ]
  },
  {
   "cell_type": "code",
   "execution_count": 36,
   "metadata": {
    "collapsed": false
   },
   "outputs": [],
   "source": [
    "# Let us set parameters (using the method `setModelParameters` in the abstract class\n",
    "# to the parameters of the first object in SALTParameters)\n",
    "model.setModelParameters(sp.modelparams(0))    "
   ]
  },
  {
   "cell_type": "code",
   "execution_count": 41,
   "metadata": {
    "collapsed": false
   },
   "outputs": [
    {
     "name": "stdout",
     "output_type": "stream",
     "text": [
      "((2.7530602560557015e-06, 2.7130332558429097e-06), array([ 13.90046071,  13.91636221]))\n"
     ]
    }
   ],
   "source": [
    "# Now, this should predict fluxes (in maggies) given a time, and a bandpassobject\n",
    "f = (model.modelFlux(mjd=59580, bandpassobj=bandpassdict['y']), \n",
    "     model.modelFlux(mjd=59580, bandpassobj=bandpassdict['g']))\n",
    "print(f, -2.5 * np.log10(f))"
   ]
  },
  {
   "cell_type": "markdown",
   "metadata": {},
   "source": [
    "#### Population for Stupid Model"
   ]
  },
  {
   "cell_type": "code",
   "execution_count": 37,
   "metadata": {
    "collapsed": true
   },
   "outputs": [],
   "source": [
    "stp = StupidPopulation()"
   ]
  },
  {
   "cell_type": "code",
   "execution_count": 38,
   "metadata": {
    "collapsed": false
   },
   "outputs": [
    {
     "data": {
      "text/plain": [
       "[59580.03, 59580.05]"
      ]
     },
     "execution_count": 38,
     "metadata": {},
     "output_type": "execute_result"
    }
   ],
   "source": [
    "stp.t0"
   ]
  },
  {
   "cell_type": "code",
   "execution_count": 39,
   "metadata": {
    "collapsed": false
   },
   "outputs": [
    {
     "data": {
      "text/plain": [
       "{'f': 0.002, 'max': 0.5, 'min': -0.2, 't0': 59580.03}"
      ]
     },
     "execution_count": 39,
     "metadata": {},
     "output_type": "execute_result"
    }
   ],
   "source": [
    "stp.modelparams(0)"
   ]
  },
  {
   "cell_type": "code",
   "execution_count": 42,
   "metadata": {
    "collapsed": true
   },
   "outputs": [],
   "source": [
    "# We will need the LSST bandpasses. Let us load them using the catsim method\n",
    "bandpassdict = BandpassDict.loadTotalBandpassesFromFiles()"
   ]
  },
  {
   "cell_type": "markdown",
   "metadata": {},
   "source": [
    "Similarly, we show the results for the `Stupid Model`"
   ]
  },
  {
   "cell_type": "markdown",
   "metadata": {},
   "source": [
    "The stupid model:"
   ]
  },
  {
   "cell_type": "code",
   "execution_count": 43,
   "metadata": {
    "collapsed": true
   },
   "outputs": [],
   "source": [
    "stupidParams = dict(t0=59580.03, f=0.001, min=-0.5, max=0.8)\n",
    "sm = StupidModel()\n",
    "sm.setModelParameters(stupidParams)"
   ]
  },
  {
   "cell_type": "markdown",
   "metadata": {},
   "source": [
    "## Simulation\n",
    "Now we are ready to do the simulation using the class `BasicSimulation`. This is a concrete implementation of `BaseSimulation`, "
   ]
  },
  {
   "cell_type": "code",
   "execution_count": 45,
   "metadata": {
    "collapsed": false
   },
   "outputs": [],
   "source": [
    "bsim = BasicSimulation(sp, model, pointings=pointings, rng=np.random.RandomState(0), \n",
    "                       maxObsHistID=1000000, pointingColumnDict=None,\n",
    "                       pruneWithRadius=False)"
   ]
  },
  {
   "cell_type": "code",
   "execution_count": 46,
   "metadata": {
    "collapsed": false
   },
   "outputs": [
    {
     "name": "stdout",
     "output_type": "stream",
     "text": [
      "[  7.81430948e-10   7.49143961e-10   7.32909366e-10   7.08365527e-10\n",
      "   7.24570058e-10   7.56388091e-10   7.84026506e-10   7.79226512e-10\n",
      "   7.75831183e-10   7.73730622e-10   7.72879527e-10   7.73244658e-10\n",
      "   7.74805018e-10   7.77562933e-10]\n"
     ]
    }
   ],
   "source": [
    "t_ = bsim.lc(1, maxObsHistID=2e6)"
   ]
  },
  {
   "cell_type": "code",
   "execution_count": 47,
   "metadata": {
    "collapsed": false
   },
   "outputs": [
    {
     "data": {
      "text/html": [
       "<div>\n",
       "<table border=\"1\" class=\"dataframe\">\n",
       "  <thead>\n",
       "    <tr style=\"text-align: right;\">\n",
       "      <th></th>\n",
       "      <th>obsHistID</th>\n",
       "      <th>objid</th>\n",
       "      <th>expMJD</th>\n",
       "      <th>filter</th>\n",
       "      <th>ModelFlux</th>\n",
       "      <th>fieldID</th>\n",
       "      <th>flux</th>\n",
       "      <th>fluxerr</th>\n",
       "      <th>deviations</th>\n",
       "      <th>zp</th>\n",
       "      <th>zpsys</th>\n",
       "    </tr>\n",
       "    <tr>\n",
       "      <th>pid</th>\n",
       "      <th></th>\n",
       "      <th></th>\n",
       "      <th></th>\n",
       "      <th></th>\n",
       "      <th></th>\n",
       "      <th></th>\n",
       "      <th></th>\n",
       "      <th></th>\n",
       "      <th></th>\n",
       "      <th></th>\n",
       "      <th></th>\n",
       "    </tr>\n",
       "  </thead>\n",
       "  <tbody>\n",
       "    <tr>\n",
       "      <th>1000001</th>\n",
       "      <td>1</td>\n",
       "      <td>1</td>\n",
       "      <td>59580.033829</td>\n",
       "      <td>y</td>\n",
       "      <td>5.195321e-09</td>\n",
       "      <td>316</td>\n",
       "      <td>6.573806e-09</td>\n",
       "      <td>7.814309e-10</td>\n",
       "      <td>1.764052</td>\n",
       "      <td>0.0</td>\n",
       "      <td>ab</td>\n",
       "    </tr>\n",
       "    <tr>\n",
       "      <th>14000001</th>\n",
       "      <td>14</td>\n",
       "      <td>1</td>\n",
       "      <td>59580.039637</td>\n",
       "      <td>y</td>\n",
       "      <td>5.195589e-09</td>\n",
       "      <td>1118</td>\n",
       "      <td>5.495365e-09</td>\n",
       "      <td>7.491440e-10</td>\n",
       "      <td>0.400157</td>\n",
       "      <td>0.0</td>\n",
       "      <td>ab</td>\n",
       "    </tr>\n",
       "    <tr>\n",
       "      <th>13000001</th>\n",
       "      <td>13</td>\n",
       "      <td>1</td>\n",
       "      <td>59580.039190</td>\n",
       "      <td>y</td>\n",
       "      <td>5.195569e-09</td>\n",
       "      <td>1220</td>\n",
       "      <td>5.912895e-09</td>\n",
       "      <td>7.329094e-10</td>\n",
       "      <td>0.978738</td>\n",
       "      <td>0.0</td>\n",
       "      <td>ab</td>\n",
       "    </tr>\n",
       "    <tr>\n",
       "      <th>12000001</th>\n",
       "      <td>12</td>\n",
       "      <td>1</td>\n",
       "      <td>59580.038741</td>\n",
       "      <td>y</td>\n",
       "      <td>5.195548e-09</td>\n",
       "      <td>1212</td>\n",
       "      <td>6.782920e-09</td>\n",
       "      <td>7.083655e-10</td>\n",
       "      <td>2.240893</td>\n",
       "      <td>0.0</td>\n",
       "      <td>ab</td>\n",
       "    </tr>\n",
       "    <tr>\n",
       "      <th>11000001</th>\n",
       "      <td>11</td>\n",
       "      <td>1</td>\n",
       "      <td>59580.038293</td>\n",
       "      <td>y</td>\n",
       "      <td>5.195527e-09</td>\n",
       "      <td>1110</td>\n",
       "      <td>6.548704e-09</td>\n",
       "      <td>7.245701e-10</td>\n",
       "      <td>1.867558</td>\n",
       "      <td>0.0</td>\n",
       "      <td>ab</td>\n",
       "    </tr>\n",
       "    <tr>\n",
       "      <th>10000001</th>\n",
       "      <td>10</td>\n",
       "      <td>1</td>\n",
       "      <td>59580.037847</td>\n",
       "      <td>y</td>\n",
       "      <td>5.195507e-09</td>\n",
       "      <td>1021</td>\n",
       "      <td>4.456305e-09</td>\n",
       "      <td>7.563881e-10</td>\n",
       "      <td>-0.977278</td>\n",
       "      <td>0.0</td>\n",
       "      <td>ab</td>\n",
       "    </tr>\n",
       "    <tr>\n",
       "      <th>9000001</th>\n",
       "      <td>9</td>\n",
       "      <td>1</td>\n",
       "      <td>59580.037401</td>\n",
       "      <td>y</td>\n",
       "      <td>5.195486e-09</td>\n",
       "      <td>957</td>\n",
       "      <td>5.940381e-09</td>\n",
       "      <td>7.840265e-10</td>\n",
       "      <td>0.950088</td>\n",
       "      <td>0.0</td>\n",
       "      <td>ab</td>\n",
       "    </tr>\n",
       "    <tr>\n",
       "      <th>8000001</th>\n",
       "      <td>8</td>\n",
       "      <td>1</td>\n",
       "      <td>59580.036955</td>\n",
       "      <td>y</td>\n",
       "      <td>5.195466e-09</td>\n",
       "      <td>857</td>\n",
       "      <td>5.077524e-09</td>\n",
       "      <td>7.792265e-10</td>\n",
       "      <td>-0.151357</td>\n",
       "      <td>0.0</td>\n",
       "      <td>ab</td>\n",
       "    </tr>\n",
       "    <tr>\n",
       "      <th>7000001</th>\n",
       "      <td>7</td>\n",
       "      <td>1</td>\n",
       "      <td>59580.036509</td>\n",
       "      <td>y</td>\n",
       "      <td>5.195445e-09</td>\n",
       "      <td>770</td>\n",
       "      <td>5.115365e-09</td>\n",
       "      <td>7.758312e-10</td>\n",
       "      <td>-0.103219</td>\n",
       "      <td>0.0</td>\n",
       "      <td>ab</td>\n",
       "    </tr>\n",
       "    <tr>\n",
       "      <th>6000001</th>\n",
       "      <td>6</td>\n",
       "      <td>1</td>\n",
       "      <td>59580.036062</td>\n",
       "      <td>y</td>\n",
       "      <td>5.195424e-09</td>\n",
       "      <td>680</td>\n",
       "      <td>5.513117e-09</td>\n",
       "      <td>7.737306e-10</td>\n",
       "      <td>0.410599</td>\n",
       "      <td>0.0</td>\n",
       "      <td>ab</td>\n",
       "    </tr>\n",
       "    <tr>\n",
       "      <th>5000001</th>\n",
       "      <td>5</td>\n",
       "      <td>1</td>\n",
       "      <td>59580.035616</td>\n",
       "      <td>y</td>\n",
       "      <td>5.195404e-09</td>\n",
       "      <td>587</td>\n",
       "      <td>5.306732e-09</td>\n",
       "      <td>7.728795e-10</td>\n",
       "      <td>0.144044</td>\n",
       "      <td>0.0</td>\n",
       "      <td>ab</td>\n",
       "    </tr>\n",
       "    <tr>\n",
       "      <th>4000001</th>\n",
       "      <td>4</td>\n",
       "      <td>1</td>\n",
       "      <td>59580.035169</td>\n",
       "      <td>y</td>\n",
       "      <td>5.195383e-09</td>\n",
       "      <td>505</td>\n",
       "      <td>6.319892e-09</td>\n",
       "      <td>7.732447e-10</td>\n",
       "      <td>1.454274</td>\n",
       "      <td>0.0</td>\n",
       "      <td>ab</td>\n",
       "    </tr>\n",
       "    <tr>\n",
       "      <th>3000001</th>\n",
       "      <td>3</td>\n",
       "      <td>1</td>\n",
       "      <td>59580.034722</td>\n",
       "      <td>y</td>\n",
       "      <td>5.195363e-09</td>\n",
       "      <td>441</td>\n",
       "      <td>5.785018e-09</td>\n",
       "      <td>7.748050e-10</td>\n",
       "      <td>0.761038</td>\n",
       "      <td>0.0</td>\n",
       "      <td>ab</td>\n",
       "    </tr>\n",
       "    <tr>\n",
       "      <th>2000001</th>\n",
       "      <td>2</td>\n",
       "      <td>1</td>\n",
       "      <td>59580.034275</td>\n",
       "      <td>y</td>\n",
       "      <td>5.195342e-09</td>\n",
       "      <td>372</td>\n",
       "      <td>5.289952e-09</td>\n",
       "      <td>7.775629e-10</td>\n",
       "      <td>0.121675</td>\n",
       "      <td>0.0</td>\n",
       "      <td>ab</td>\n",
       "    </tr>\n",
       "  </tbody>\n",
       "</table>\n",
       "</div>"
      ],
      "text/plain": [
       "          obsHistID  objid        expMJD filter     ModelFlux  fieldID  \\\n",
       "pid                                                                      \n",
       "1000001           1      1  59580.033829      y  5.195321e-09      316   \n",
       "14000001         14      1  59580.039637      y  5.195589e-09     1118   \n",
       "13000001         13      1  59580.039190      y  5.195569e-09     1220   \n",
       "12000001         12      1  59580.038741      y  5.195548e-09     1212   \n",
       "11000001         11      1  59580.038293      y  5.195527e-09     1110   \n",
       "10000001         10      1  59580.037847      y  5.195507e-09     1021   \n",
       "9000001           9      1  59580.037401      y  5.195486e-09      957   \n",
       "8000001           8      1  59580.036955      y  5.195466e-09      857   \n",
       "7000001           7      1  59580.036509      y  5.195445e-09      770   \n",
       "6000001           6      1  59580.036062      y  5.195424e-09      680   \n",
       "5000001           5      1  59580.035616      y  5.195404e-09      587   \n",
       "4000001           4      1  59580.035169      y  5.195383e-09      505   \n",
       "3000001           3      1  59580.034722      y  5.195363e-09      441   \n",
       "2000001           2      1  59580.034275      y  5.195342e-09      372   \n",
       "\n",
       "                  flux       fluxerr  deviations   zp zpsys  \n",
       "pid                                                          \n",
       "1000001   6.573806e-09  7.814309e-10    1.764052  0.0    ab  \n",
       "14000001  5.495365e-09  7.491440e-10    0.400157  0.0    ab  \n",
       "13000001  5.912895e-09  7.329094e-10    0.978738  0.0    ab  \n",
       "12000001  6.782920e-09  7.083655e-10    2.240893  0.0    ab  \n",
       "11000001  6.548704e-09  7.245701e-10    1.867558  0.0    ab  \n",
       "10000001  4.456305e-09  7.563881e-10   -0.977278  0.0    ab  \n",
       "9000001   5.940381e-09  7.840265e-10    0.950088  0.0    ab  \n",
       "8000001   5.077524e-09  7.792265e-10   -0.151357  0.0    ab  \n",
       "7000001   5.115365e-09  7.758312e-10   -0.103219  0.0    ab  \n",
       "6000001   5.513117e-09  7.737306e-10    0.410599  0.0    ab  \n",
       "5000001   5.306732e-09  7.728795e-10    0.144044  0.0    ab  \n",
       "4000001   6.319892e-09  7.732447e-10    1.454274  0.0    ab  \n",
       "3000001   5.785018e-09  7.748050e-10    0.761038  0.0    ab  \n",
       "2000001   5.289952e-09  7.775629e-10    0.121675  0.0    ab  "
      ]
     },
     "execution_count": 47,
     "metadata": {},
     "output_type": "execute_result"
    }
   ],
   "source": [
    "t_"
   ]
  },
  {
   "cell_type": "code",
   "execution_count": 48,
   "metadata": {
    "collapsed": false
   },
   "outputs": [
    {
     "data": {
      "text/plain": [
       "<Container object of 3 artists>"
      ]
     },
     "execution_count": 48,
     "metadata": {},
     "output_type": "execute_result"
    },
    {
     "data": {
      "image/png": "[encoded data removed]",
      "text/plain": [
       "<matplotlib.figure.Figure at 0x112e62b90>"
      ]
     },
     "metadata": {},
     "output_type": "display_data"
    }
   ],
   "source": [
    "fig, ax = plt.subplots()\n",
    "ax.errorbar(t_.expMJD, t_.flux, t_.fluxerr, fmt='o')"
   ]
  },
  {
   "cell_type": "code",
   "execution_count": 49,
   "metadata": {
    "collapsed": false
   },
   "outputs": [
    {
     "data": {
      "text/plain": [
       "{'c': -0.2, 't0': 59581.0, 'x0': 0.05, 'x1': 0, 'z': 0.5}"
      ]
     },
     "execution_count": 49,
     "metadata": {},
     "output_type": "execute_result"
    }
   ],
   "source": [
    "sp.modelparams(0)"
   ]
  },
  {
   "cell_type": "code",
   "execution_count": 50,
   "metadata": {
    "collapsed": false
   },
   "outputs": [],
   "source": [
    "!rm *.hdf"
   ]
  },
  {
   "cell_type": "code",
   "execution_count": 51,
   "metadata": {
    "collapsed": false
   },
   "outputs": [
    {
     "name": "stdout",
     "output_type": "stream",
     "text": [
      "writing 0, False, sim1\n",
      "[  1.65343321e-09   1.63845400e-09   1.63109248e-09   1.62020984e-09\n",
      "   1.62735727e-09   1.64176874e-09   1.65468152e-09   1.65241007e-09\n",
      "   1.65080915e-09   1.64982047e-09   1.64941899e-09   1.64958760e-09\n",
      "   1.65031708e-09   1.65161117e-09]\n",
      "writing 1, False, sim1\n",
      "[  7.81430948e-10   7.49143961e-10   7.32909366e-10   7.08365527e-10\n",
      "   7.24570058e-10   7.56388091e-10   7.84026506e-10   7.79226512e-10\n",
      "   7.75831183e-10   7.73730622e-10   7.72879527e-10   7.73244658e-10\n",
      "   7.74805018e-10   7.77562933e-10]\n"
     ]
    }
   ],
   "source": [
    "bsim.write_simulation(phot_output='sim_phot_all.hdf', pop_output='sim_pop.hdf', method='hdf', key='sim1')"
   ]
  },
  {
   "cell_type": "code",
   "execution_count": 52,
   "metadata": {
    "collapsed": false
   },
   "outputs": [],
   "source": [
    "phot_sim_df = pd.read_hdf('sim_phot_all.hdf', key='sim1')"
   ]
  },
  {
   "cell_type": "code",
   "execution_count": 53,
   "metadata": {
    "collapsed": false
   },
   "outputs": [],
   "source": [
    "pop_sim_df = pd.read_hdf('sim_pop.hdf')"
   ]
  },
  {
   "cell_type": "code",
   "execution_count": 54,
   "metadata": {
    "collapsed": false
   },
   "outputs": [
    {
     "data": {
      "text/html": [
       "<div>\n",
       "<table border=\"1\" class=\"dataframe\">\n",
       "  <thead>\n",
       "    <tr style=\"text-align: right;\">\n",
       "      <th></th>\n",
       "      <th>obsHistID</th>\n",
       "      <th>objid</th>\n",
       "      <th>expMJD</th>\n",
       "      <th>filter</th>\n",
       "      <th>ModelFlux</th>\n",
       "      <th>fieldID</th>\n",
       "      <th>flux</th>\n",
       "      <th>fluxerr</th>\n",
       "      <th>deviations</th>\n",
       "      <th>zp</th>\n",
       "      <th>zpsys</th>\n",
       "    </tr>\n",
       "    <tr>\n",
       "      <th>pid</th>\n",
       "      <th></th>\n",
       "      <th></th>\n",
       "      <th></th>\n",
       "      <th></th>\n",
       "      <th></th>\n",
       "      <th></th>\n",
       "      <th></th>\n",
       "      <th></th>\n",
       "      <th></th>\n",
       "      <th></th>\n",
       "      <th></th>\n",
       "    </tr>\n",
       "  </thead>\n",
       "  <tbody>\n",
       "    <tr>\n",
       "      <th>1000000</th>\n",
       "      <td>1</td>\n",
       "      <td>0</td>\n",
       "      <td>59580.033829</td>\n",
       "      <td>y</td>\n",
       "      <td>2.753879e-06</td>\n",
       "      <td>316</td>\n",
       "      <td>2.754613e-06</td>\n",
       "      <td>1.653433e-09</td>\n",
       "      <td>0.443863</td>\n",
       "      <td>0.0</td>\n",
       "      <td>ab</td>\n",
       "    </tr>\n",
       "    <tr>\n",
       "      <th>14000000</th>\n",
       "      <td>14</td>\n",
       "      <td>0</td>\n",
       "      <td>59580.039637</td>\n",
       "      <td>y</td>\n",
       "      <td>2.754019e-06</td>\n",
       "      <td>1118</td>\n",
       "      <td>2.754566e-06</td>\n",
       "      <td>1.638454e-09</td>\n",
       "      <td>0.333674</td>\n",
       "      <td>0.0</td>\n",
       "      <td>ab</td>\n",
       "    </tr>\n",
       "    <tr>\n",
       "      <th>13000000</th>\n",
       "      <td>13</td>\n",
       "      <td>0</td>\n",
       "      <td>59580.039190</td>\n",
       "      <td>y</td>\n",
       "      <td>2.754008e-06</td>\n",
       "      <td>1220</td>\n",
       "      <td>2.756445e-06</td>\n",
       "      <td>1.631092e-09</td>\n",
       "      <td>1.494079</td>\n",
       "      <td>0.0</td>\n",
       "      <td>ab</td>\n",
       "    </tr>\n",
       "    <tr>\n",
       "      <th>12000000</th>\n",
       "      <td>12</td>\n",
       "      <td>0</td>\n",
       "      <td>59580.038741</td>\n",
       "      <td>y</td>\n",
       "      <td>2.753997e-06</td>\n",
       "      <td>1212</td>\n",
       "      <td>2.753665e-06</td>\n",
       "      <td>1.620210e-09</td>\n",
       "      <td>-0.205158</td>\n",
       "      <td>0.0</td>\n",
       "      <td>ab</td>\n",
       "    </tr>\n",
       "    <tr>\n",
       "      <th>11000000</th>\n",
       "      <td>11</td>\n",
       "      <td>0</td>\n",
       "      <td>59580.038293</td>\n",
       "      <td>y</td>\n",
       "      <td>2.753987e-06</td>\n",
       "      <td>1110</td>\n",
       "      <td>2.754496e-06</td>\n",
       "      <td>1.627357e-09</td>\n",
       "      <td>0.313068</td>\n",
       "      <td>0.0</td>\n",
       "      <td>ab</td>\n",
       "    </tr>\n",
       "    <tr>\n",
       "      <th>10000000</th>\n",
       "      <td>10</td>\n",
       "      <td>0</td>\n",
       "      <td>59580.037847</td>\n",
       "      <td>y</td>\n",
       "      <td>2.753976e-06</td>\n",
       "      <td>1021</td>\n",
       "      <td>2.752574e-06</td>\n",
       "      <td>1.641769e-09</td>\n",
       "      <td>-0.854096</td>\n",
       "      <td>0.0</td>\n",
       "      <td>ab</td>\n",
       "    </tr>\n",
       "    <tr>\n",
       "      <th>9000000</th>\n",
       "      <td>9</td>\n",
       "      <td>0</td>\n",
       "      <td>59580.037401</td>\n",
       "      <td>y</td>\n",
       "      <td>2.753965e-06</td>\n",
       "      <td>957</td>\n",
       "      <td>2.749741e-06</td>\n",
       "      <td>1.654682e-09</td>\n",
       "      <td>-2.552990</td>\n",
       "      <td>0.0</td>\n",
       "      <td>ab</td>\n",
       "    </tr>\n",
       "    <tr>\n",
       "      <th>8000000</th>\n",
       "      <td>8</td>\n",
       "      <td>0</td>\n",
       "      <td>59580.036955</td>\n",
       "      <td>y</td>\n",
       "      <td>2.753954e-06</td>\n",
       "      <td>857</td>\n",
       "      <td>2.755034e-06</td>\n",
       "      <td>1.652410e-09</td>\n",
       "      <td>0.653619</td>\n",
       "      <td>0.0</td>\n",
       "      <td>ab</td>\n",
       "    </tr>\n",
       "    <tr>\n",
       "      <th>7000000</th>\n",
       "      <td>7</td>\n",
       "      <td>0</td>\n",
       "      <td>59580.036509</td>\n",
       "      <td>y</td>\n",
       "      <td>2.753944e-06</td>\n",
       "      <td>770</td>\n",
       "      <td>2.755371e-06</td>\n",
       "      <td>1.650809e-09</td>\n",
       "      <td>0.864436</td>\n",
       "      <td>0.0</td>\n",
       "      <td>ab</td>\n",
       "    </tr>\n",
       "    <tr>\n",
       "      <th>6000000</th>\n",
       "      <td>6</td>\n",
       "      <td>0</td>\n",
       "      <td>59580.036062</td>\n",
       "      <td>y</td>\n",
       "      <td>2.753933e-06</td>\n",
       "      <td>680</td>\n",
       "      <td>2.752709e-06</td>\n",
       "      <td>1.649820e-09</td>\n",
       "      <td>-0.742165</td>\n",
       "      <td>0.0</td>\n",
       "      <td>ab</td>\n",
       "    </tr>\n",
       "    <tr>\n",
       "      <th>5000000</th>\n",
       "      <td>5</td>\n",
       "      <td>0</td>\n",
       "      <td>59580.035616</td>\n",
       "      <td>y</td>\n",
       "      <td>2.753922e-06</td>\n",
       "      <td>587</td>\n",
       "      <td>2.757666e-06</td>\n",
       "      <td>1.649419e-09</td>\n",
       "      <td>2.269755</td>\n",
       "      <td>0.0</td>\n",
       "      <td>ab</td>\n",
       "    </tr>\n",
       "    <tr>\n",
       "      <th>4000000</th>\n",
       "      <td>4</td>\n",
       "      <td>0</td>\n",
       "      <td>59580.035169</td>\n",
       "      <td>y</td>\n",
       "      <td>2.753911e-06</td>\n",
       "      <td>505</td>\n",
       "      <td>2.751512e-06</td>\n",
       "      <td>1.649588e-09</td>\n",
       "      <td>-1.454366</td>\n",
       "      <td>0.0</td>\n",
       "      <td>ab</td>\n",
       "    </tr>\n",
       "    <tr>\n",
       "      <th>3000000</th>\n",
       "      <td>3</td>\n",
       "      <td>0</td>\n",
       "      <td>59580.034722</td>\n",
       "      <td>y</td>\n",
       "      <td>2.753901e-06</td>\n",
       "      <td>441</td>\n",
       "      <td>2.753976e-06</td>\n",
       "      <td>1.650317e-09</td>\n",
       "      <td>0.045759</td>\n",
       "      <td>0.0</td>\n",
       "      <td>ab</td>\n",
       "    </tr>\n",
       "    <tr>\n",
       "      <th>2000000</th>\n",
       "      <td>2</td>\n",
       "      <td>0</td>\n",
       "      <td>59580.034275</td>\n",
       "      <td>y</td>\n",
       "      <td>2.753890e-06</td>\n",
       "      <td>372</td>\n",
       "      <td>2.753581e-06</td>\n",
       "      <td>1.651611e-09</td>\n",
       "      <td>-0.187184</td>\n",
       "      <td>0.0</td>\n",
       "      <td>ab</td>\n",
       "    </tr>\n",
       "    <tr>\n",
       "      <th>1000001</th>\n",
       "      <td>1</td>\n",
       "      <td>1</td>\n",
       "      <td>59580.033829</td>\n",
       "      <td>y</td>\n",
       "      <td>5.195321e-09</td>\n",
       "      <td>316</td>\n",
       "      <td>6.393082e-09</td>\n",
       "      <td>7.814309e-10</td>\n",
       "      <td>1.532779</td>\n",
       "      <td>0.0</td>\n",
       "      <td>ab</td>\n",
       "    </tr>\n",
       "    <tr>\n",
       "      <th>14000001</th>\n",
       "      <td>14</td>\n",
       "      <td>1</td>\n",
       "      <td>59580.039637</td>\n",
       "      <td>y</td>\n",
       "      <td>5.195589e-09</td>\n",
       "      <td>1118</td>\n",
       "      <td>6.296351e-09</td>\n",
       "      <td>7.491440e-10</td>\n",
       "      <td>1.469359</td>\n",
       "      <td>0.0</td>\n",
       "      <td>ab</td>\n",
       "    </tr>\n",
       "    <tr>\n",
       "      <th>13000001</th>\n",
       "      <td>13</td>\n",
       "      <td>1</td>\n",
       "      <td>59580.039190</td>\n",
       "      <td>y</td>\n",
       "      <td>5.195569e-09</td>\n",
       "      <td>1220</td>\n",
       "      <td>5.309131e-09</td>\n",
       "      <td>7.329094e-10</td>\n",
       "      <td>0.154947</td>\n",
       "      <td>0.0</td>\n",
       "      <td>ab</td>\n",
       "    </tr>\n",
       "    <tr>\n",
       "      <th>12000001</th>\n",
       "      <td>12</td>\n",
       "      <td>1</td>\n",
       "      <td>59580.038741</td>\n",
       "      <td>y</td>\n",
       "      <td>5.195548e-09</td>\n",
       "      <td>1212</td>\n",
       "      <td>5.463425e-09</td>\n",
       "      <td>7.083655e-10</td>\n",
       "      <td>0.378163</td>\n",
       "      <td>0.0</td>\n",
       "      <td>ab</td>\n",
       "    </tr>\n",
       "    <tr>\n",
       "      <th>11000001</th>\n",
       "      <td>11</td>\n",
       "      <td>1</td>\n",
       "      <td>59580.038293</td>\n",
       "      <td>y</td>\n",
       "      <td>5.195527e-09</td>\n",
       "      <td>1110</td>\n",
       "      <td>4.552264e-09</td>\n",
       "      <td>7.245701e-10</td>\n",
       "      <td>-0.887786</td>\n",
       "      <td>0.0</td>\n",
       "      <td>ab</td>\n",
       "    </tr>\n",
       "    <tr>\n",
       "      <th>10000001</th>\n",
       "      <td>10</td>\n",
       "      <td>1</td>\n",
       "      <td>59580.037847</td>\n",
       "      <td>y</td>\n",
       "      <td>5.195507e-09</td>\n",
       "      <td>1021</td>\n",
       "      <td>3.697256e-09</td>\n",
       "      <td>7.563881e-10</td>\n",
       "      <td>-1.980796</td>\n",
       "      <td>0.0</td>\n",
       "      <td>ab</td>\n",
       "    </tr>\n",
       "    <tr>\n",
       "      <th>9000001</th>\n",
       "      <td>9</td>\n",
       "      <td>1</td>\n",
       "      <td>59580.037401</td>\n",
       "      <td>y</td>\n",
       "      <td>5.195486e-09</td>\n",
       "      <td>957</td>\n",
       "      <td>4.922714e-09</td>\n",
       "      <td>7.840265e-10</td>\n",
       "      <td>-0.347912</td>\n",
       "      <td>0.0</td>\n",
       "      <td>ab</td>\n",
       "    </tr>\n",
       "    <tr>\n",
       "      <th>8000001</th>\n",
       "      <td>8</td>\n",
       "      <td>1</td>\n",
       "      <td>59580.036955</td>\n",
       "      <td>y</td>\n",
       "      <td>5.195466e-09</td>\n",
       "      <td>857</td>\n",
       "      <td>5.317297e-09</td>\n",
       "      <td>7.792265e-10</td>\n",
       "      <td>0.156349</td>\n",
       "      <td>0.0</td>\n",
       "      <td>ab</td>\n",
       "    </tr>\n",
       "    <tr>\n",
       "      <th>7000001</th>\n",
       "      <td>7</td>\n",
       "      <td>1</td>\n",
       "      <td>59580.036509</td>\n",
       "      <td>y</td>\n",
       "      <td>5.195445e-09</td>\n",
       "      <td>770</td>\n",
       "      <td>6.149943e-09</td>\n",
       "      <td>7.758312e-10</td>\n",
       "      <td>1.230291</td>\n",
       "      <td>0.0</td>\n",
       "      <td>ab</td>\n",
       "    </tr>\n",
       "    <tr>\n",
       "      <th>6000001</th>\n",
       "      <td>6</td>\n",
       "      <td>1</td>\n",
       "      <td>59580.036062</td>\n",
       "      <td>y</td>\n",
       "      <td>5.195424e-09</td>\n",
       "      <td>680</td>\n",
       "      <td>6.125743e-09</td>\n",
       "      <td>7.737306e-10</td>\n",
       "      <td>1.202380</td>\n",
       "      <td>0.0</td>\n",
       "      <td>ab</td>\n",
       "    </tr>\n",
       "    <tr>\n",
       "      <th>5000001</th>\n",
       "      <td>5</td>\n",
       "      <td>1</td>\n",
       "      <td>59580.035616</td>\n",
       "      <td>y</td>\n",
       "      <td>5.195404e-09</td>\n",
       "      <td>587</td>\n",
       "      <td>4.896047e-09</td>\n",
       "      <td>7.728795e-10</td>\n",
       "      <td>-0.387327</td>\n",
       "      <td>0.0</td>\n",
       "      <td>ab</td>\n",
       "    </tr>\n",
       "    <tr>\n",
       "      <th>4000001</th>\n",
       "      <td>4</td>\n",
       "      <td>1</td>\n",
       "      <td>59580.035169</td>\n",
       "      <td>y</td>\n",
       "      <td>5.195383e-09</td>\n",
       "      <td>505</td>\n",
       "      <td>4.961629e-09</td>\n",
       "      <td>7.732447e-10</td>\n",
       "      <td>-0.302303</td>\n",
       "      <td>0.0</td>\n",
       "      <td>ab</td>\n",
       "    </tr>\n",
       "    <tr>\n",
       "      <th>3000001</th>\n",
       "      <td>3</td>\n",
       "      <td>1</td>\n",
       "      <td>59580.034722</td>\n",
       "      <td>y</td>\n",
       "      <td>5.195363e-09</td>\n",
       "      <td>441</td>\n",
       "      <td>4.382938e-09</td>\n",
       "      <td>7.748050e-10</td>\n",
       "      <td>-1.048553</td>\n",
       "      <td>0.0</td>\n",
       "      <td>ab</td>\n",
       "    </tr>\n",
       "    <tr>\n",
       "      <th>2000001</th>\n",
       "      <td>2</td>\n",
       "      <td>1</td>\n",
       "      <td>59580.034275</td>\n",
       "      <td>y</td>\n",
       "      <td>5.195342e-09</td>\n",
       "      <td>372</td>\n",
       "      <td>4.091189e-09</td>\n",
       "      <td>7.775629e-10</td>\n",
       "      <td>-1.420018</td>\n",
       "      <td>0.0</td>\n",
       "      <td>ab</td>\n",
       "    </tr>\n",
       "  </tbody>\n",
       "</table>\n",
       "</div>"
      ],
      "text/plain": [
       "          obsHistID  objid        expMJD filter     ModelFlux  fieldID  \\\n",
       "pid                                                                      \n",
       "1000000           1      0  59580.033829      y  2.753879e-06      316   \n",
       "14000000         14      0  59580.039637      y  2.754019e-06     1118   \n",
       "13000000         13      0  59580.039190      y  2.754008e-06     1220   \n",
       "12000000         12      0  59580.038741      y  2.753997e-06     1212   \n",
       "11000000         11      0  59580.038293      y  2.753987e-06     1110   \n",
       "10000000         10      0  59580.037847      y  2.753976e-06     1021   \n",
       "9000000           9      0  59580.037401      y  2.753965e-06      957   \n",
       "8000000           8      0  59580.036955      y  2.753954e-06      857   \n",
       "7000000           7      0  59580.036509      y  2.753944e-06      770   \n",
       "6000000           6      0  59580.036062      y  2.753933e-06      680   \n",
       "5000000           5      0  59580.035616      y  2.753922e-06      587   \n",
       "4000000           4      0  59580.035169      y  2.753911e-06      505   \n",
       "3000000           3      0  59580.034722      y  2.753901e-06      441   \n",
       "2000000           2      0  59580.034275      y  2.753890e-06      372   \n",
       "1000001           1      1  59580.033829      y  5.195321e-09      316   \n",
       "14000001         14      1  59580.039637      y  5.195589e-09     1118   \n",
       "13000001         13      1  59580.039190      y  5.195569e-09     1220   \n",
       "12000001         12      1  59580.038741      y  5.195548e-09     1212   \n",
       "11000001         11      1  59580.038293      y  5.195527e-09     1110   \n",
       "10000001         10      1  59580.037847      y  5.195507e-09     1021   \n",
       "9000001           9      1  59580.037401      y  5.195486e-09      957   \n",
       "8000001           8      1  59580.036955      y  5.195466e-09      857   \n",
       "7000001           7      1  59580.036509      y  5.195445e-09      770   \n",
       "6000001           6      1  59580.036062      y  5.195424e-09      680   \n",
       "5000001           5      1  59580.035616      y  5.195404e-09      587   \n",
       "4000001           4      1  59580.035169      y  5.195383e-09      505   \n",
       "3000001           3      1  59580.034722      y  5.195363e-09      441   \n",
       "2000001           2      1  59580.034275      y  5.195342e-09      372   \n",
       "\n",
       "                  flux       fluxerr  deviations   zp zpsys  \n",
       "pid                                                          \n",
       "1000000   2.754613e-06  1.653433e-09    0.443863  0.0    ab  \n",
       "14000000  2.754566e-06  1.638454e-09    0.333674  0.0    ab  \n",
       "13000000  2.756445e-06  1.631092e-09    1.494079  0.0    ab  \n",
       "12000000  2.753665e-06  1.620210e-09   -0.205158  0.0    ab  \n",
       "11000000  2.754496e-06  1.627357e-09    0.313068  0.0    ab  \n",
       "10000000  2.752574e-06  1.641769e-09   -0.854096  0.0    ab  \n",
       "9000000   2.749741e-06  1.654682e-09   -2.552990  0.0    ab  \n",
       "8000000   2.755034e-06  1.652410e-09    0.653619  0.0    ab  \n",
       "7000000   2.755371e-06  1.650809e-09    0.864436  0.0    ab  \n",
       "6000000   2.752709e-06  1.649820e-09   -0.742165  0.0    ab  \n",
       "5000000   2.757666e-06  1.649419e-09    2.269755  0.0    ab  \n",
       "4000000   2.751512e-06  1.649588e-09   -1.454366  0.0    ab  \n",
       "3000000   2.753976e-06  1.650317e-09    0.045759  0.0    ab  \n",
       "2000000   2.753581e-06  1.651611e-09   -0.187184  0.0    ab  \n",
       "1000001   6.393082e-09  7.814309e-10    1.532779  0.0    ab  \n",
       "14000001  6.296351e-09  7.491440e-10    1.469359  0.0    ab  \n",
       "13000001  5.309131e-09  7.329094e-10    0.154947  0.0    ab  \n",
       "12000001  5.463425e-09  7.083655e-10    0.378163  0.0    ab  \n",
       "11000001  4.552264e-09  7.245701e-10   -0.887786  0.0    ab  \n",
       "10000001  3.697256e-09  7.563881e-10   -1.980796  0.0    ab  \n",
       "9000001   4.922714e-09  7.840265e-10   -0.347912  0.0    ab  \n",
       "8000001   5.317297e-09  7.792265e-10    0.156349  0.0    ab  \n",
       "7000001   6.149943e-09  7.758312e-10    1.230291  0.0    ab  \n",
       "6000001   6.125743e-09  7.737306e-10    1.202380  0.0    ab  \n",
       "5000001   4.896047e-09  7.728795e-10   -0.387327  0.0    ab  \n",
       "4000001   4.961629e-09  7.732447e-10   -0.302303  0.0    ab  \n",
       "3000001   4.382938e-09  7.748050e-10   -1.048553  0.0    ab  \n",
       "2000001   4.091189e-09  7.775629e-10   -1.420018  0.0    ab  "
      ]
     },
     "execution_count": 54,
     "metadata": {},
     "output_type": "execute_result"
    }
   ],
   "source": [
    "phot_sim_df"
   ]
  },
  {
   "cell_type": "code",
   "execution_count": 55,
   "metadata": {
    "collapsed": false
   },
   "outputs": [
    {
     "data": {
      "text/html": [
       "<div>\n",
       "<table border=\"1\" class=\"dataframe\">\n",
       "  <thead>\n",
       "    <tr style=\"text-align: right;\">\n",
       "      <th></th>\n",
       "      <th>c</th>\n",
       "      <th>t0</th>\n",
       "      <th>x0</th>\n",
       "      <th>x1</th>\n",
       "      <th>z</th>\n",
       "    </tr>\n",
       "  </thead>\n",
       "  <tbody>\n",
       "    <tr>\n",
       "      <th>0</th>\n",
       "      <td>-0.2</td>\n",
       "      <td>59581.0</td>\n",
       "      <td>0.05000</td>\n",
       "      <td>0.0</td>\n",
       "      <td>0.5</td>\n",
       "    </tr>\n",
       "    <tr>\n",
       "      <th>1</th>\n",
       "      <td>0.5</td>\n",
       "      <td>59580.0</td>\n",
       "      <td>0.00003</td>\n",
       "      <td>0.1</td>\n",
       "      <td>0.6</td>\n",
       "    </tr>\n",
       "  </tbody>\n",
       "</table>\n",
       "</div>"
      ],
      "text/plain": [
       "     c       t0       x0   x1    z\n",
       "0 -0.2  59581.0  0.05000  0.0  0.5\n",
       "1  0.5  59580.0  0.00003  0.1  0.6"
      ]
     },
     "execution_count": 55,
     "metadata": {},
     "output_type": "execute_result"
    }
   ],
   "source": [
    "pop_sim_df"
   ]
  },
  {
   "cell_type": "code",
   "execution_count": 56,
   "metadata": {
    "collapsed": false
   },
   "outputs": [
    {
     "data": {
      "text/plain": [
       "{'f': 0.002, 'max': 0.5, 'min': -0.2, 't0': 59580.03}"
      ]
     },
     "execution_count": 56,
     "metadata": {},
     "output_type": "execute_result"
    }
   ],
   "source": [
    "stp.modelparams(0)"
   ]
  },
  {
   "cell_type": "code",
   "execution_count": 57,
   "metadata": {
    "collapsed": true
   },
   "outputs": [],
   "source": [
    "sm.setModelParameters(stp.modelparams(0))"
   ]
  },
  {
   "cell_type": "code",
   "execution_count": 58,
   "metadata": {
    "collapsed": false
   },
   "outputs": [
    {
     "data": {
      "text/plain": [
       "0.94151307621220526"
      ]
     },
     "execution_count": 58,
     "metadata": {},
     "output_type": "execute_result"
    }
   ],
   "source": [
    "sm.modelFlux(pointings.expMJD.iloc[0], bandpassobj=None)"
   ]
  },
  {
   "cell_type": "code",
   "execution_count": 59,
   "metadata": {
    "collapsed": false
   },
   "outputs": [
    {
     "name": "stdout",
     "output_type": "stream",
     "text": [
      "writing 0, False, sim1\n",
      "[  8.52799895e-07              nan              nan              nan\n",
      "              nan              nan              nan              nan\n",
      "              nan   2.91981683e-07   5.02921241e-07   6.39068259e-07\n",
      "   7.37272413e-07   8.07275219e-07]\n",
      "writing 1, False, sim1\n",
      "[  7.78224169e-07              nan              nan              nan\n",
      "              nan              nan   7.93828850e-08   3.03659210e-07\n",
      "   4.20679235e-07   5.09624510e-07   5.82279812e-07   6.43688302e-07\n",
      "   6.96024882e-07   7.40623452e-07]\n"
     ]
    },
    {
     "name": "stderr",
     "output_type": "stream",
     "text": [
      "/Users/rbiswas/soft/LSST/DarwinX86/sims_catUtils/2.3.3.2.sims+7/python/lsst/sims/catUtils/supernovae/snObject.py:735: RuntimeWarning: divide by zero encountered in log10\n",
      "  return -2.5 * np.log10(fluxinMaggies)\n",
      "/Users/rbiswas/soft/LSST/DarwinX86/sims_photUtils/2.3.3.sims/python/lsst/sims/photUtils/SignalToNoise.py:356: RuntimeWarning: divide by zero encountered in double_scalars\n",
      "  fluxRatio = m5Flux/sourceFlux\n",
      "/Users/rbiswas/soft/LSST/DarwinX86/sims_catUtils/2.3.3.2.sims+7/python/lsst/sims/catUtils/supernovae/snObject.py:779: RuntimeWarning: invalid value encountered in double_scalars\n",
      "  return fluxinMaggies / SNR\n"
     ]
    }
   ],
   "source": [
    "bstm = BasicSimulation(stp, sm, pointings=pointings, rng=np.random.RandomState(0), \n",
    "                       maxObsHistID=1000000, pointingColumnDict=None,\n",
    "                       pruneWithRadius=False)\n",
    "bstm.write_simulation(phot_output='stp_phot_all.hdf', pop_output='stm_pop.hdf', method='hdf', key='sim1')"
   ]
  },
  {
   "cell_type": "code",
   "execution_count": 60,
   "metadata": {
    "collapsed": true
   },
   "outputs": [],
   "source": [
    "phot_simt_df = pd.read_hdf('stp_phot_all.hdf', key='sim1')"
   ]
  },
  {
   "cell_type": "code",
   "execution_count": 61,
   "metadata": {
    "collapsed": false
   },
   "outputs": [],
   "source": [
    "pop_simt_df = pd.read_hdf('stm_pop.hdf')"
   ]
  },
  {
   "cell_type": "code",
   "execution_count": 62,
   "metadata": {
    "collapsed": false
   },
   "outputs": [
    {
     "data": {
      "text/html": [
       "<div>\n",
       "<table border=\"1\" class=\"dataframe\">\n",
       "  <thead>\n",
       "    <tr style=\"text-align: right;\">\n",
       "      <th></th>\n",
       "      <th>f</th>\n",
       "      <th>max</th>\n",
       "      <th>min</th>\n",
       "      <th>t0</th>\n",
       "    </tr>\n",
       "  </thead>\n",
       "  <tbody>\n",
       "    <tr>\n",
       "      <th>0</th>\n",
       "      <td>0.002</td>\n",
       "      <td>0.5</td>\n",
       "      <td>-0.2</td>\n",
       "      <td>59580.03</td>\n",
       "    </tr>\n",
       "    <tr>\n",
       "      <th>1</th>\n",
       "      <td>0.004</td>\n",
       "      <td>1.0</td>\n",
       "      <td>-0.5</td>\n",
       "      <td>59580.05</td>\n",
       "    </tr>\n",
       "  </tbody>\n",
       "</table>\n",
       "</div>"
      ],
      "text/plain": [
       "       f  max  min        t0\n",
       "0  0.002  0.5 -0.2  59580.03\n",
       "1  0.004  1.0 -0.5  59580.05"
      ]
     },
     "execution_count": 62,
     "metadata": {},
     "output_type": "execute_result"
    }
   ],
   "source": [
    "pop_simt_df"
   ]
  },
  {
   "cell_type": "code",
   "execution_count": 63,
   "metadata": {
    "collapsed": false
   },
   "outputs": [
    {
     "name": "stdout",
     "output_type": "stream",
     "text": [
      "[  1.65343321e-09   1.63845400e-09   1.63109248e-09   1.62020984e-09\n",
      "   1.62735727e-09   1.64176874e-09   1.65468152e-09   1.65241007e-09\n",
      "   1.65080915e-09   1.64982047e-09   1.64941899e-09   1.64958760e-09\n",
      "   1.65031708e-09   1.65161117e-09]\n"
     ]
    },
    {
     "data": {
      "text/html": [
       "<div>\n",
       "<table border=\"1\" class=\"dataframe\">\n",
       "  <thead>\n",
       "    <tr style=\"text-align: right;\">\n",
       "      <th></th>\n",
       "      <th>obsHistID</th>\n",
       "      <th>objid</th>\n",
       "      <th>expMJD</th>\n",
       "      <th>filter</th>\n",
       "      <th>ModelFlux</th>\n",
       "      <th>fieldID</th>\n",
       "      <th>flux</th>\n",
       "      <th>fluxerr</th>\n",
       "      <th>deviations</th>\n",
       "      <th>zp</th>\n",
       "      <th>zpsys</th>\n",
       "    </tr>\n",
       "    <tr>\n",
       "      <th>pid</th>\n",
       "      <th></th>\n",
       "      <th></th>\n",
       "      <th></th>\n",
       "      <th></th>\n",
       "      <th></th>\n",
       "      <th></th>\n",
       "      <th></th>\n",
       "      <th></th>\n",
       "      <th></th>\n",
       "      <th></th>\n",
       "      <th></th>\n",
       "    </tr>\n",
       "  </thead>\n",
       "  <tbody>\n",
       "    <tr>\n",
       "      <th>1000000</th>\n",
       "      <td>1</td>\n",
       "      <td>0</td>\n",
       "      <td>59580.033829</td>\n",
       "      <td>y</td>\n",
       "      <td>0.000003</td>\n",
       "      <td>316</td>\n",
       "      <td>0.000003</td>\n",
       "      <td>1.653433e-09</td>\n",
       "      <td>-1.706270</td>\n",
       "      <td>0.0</td>\n",
       "      <td>ab</td>\n",
       "    </tr>\n",
       "    <tr>\n",
       "      <th>14000000</th>\n",
       "      <td>14</td>\n",
       "      <td>0</td>\n",
       "      <td>59580.039637</td>\n",
       "      <td>y</td>\n",
       "      <td>0.000003</td>\n",
       "      <td>1118</td>\n",
       "      <td>0.000003</td>\n",
       "      <td>1.638454e-09</td>\n",
       "      <td>1.950775</td>\n",
       "      <td>0.0</td>\n",
       "      <td>ab</td>\n",
       "    </tr>\n",
       "    <tr>\n",
       "      <th>13000000</th>\n",
       "      <td>13</td>\n",
       "      <td>0</td>\n",
       "      <td>59580.039190</td>\n",
       "      <td>y</td>\n",
       "      <td>0.000003</td>\n",
       "      <td>1220</td>\n",
       "      <td>0.000003</td>\n",
       "      <td>1.631092e-09</td>\n",
       "      <td>-0.509652</td>\n",
       "      <td>0.0</td>\n",
       "      <td>ab</td>\n",
       "    </tr>\n",
       "    <tr>\n",
       "      <th>12000000</th>\n",
       "      <td>12</td>\n",
       "      <td>0</td>\n",
       "      <td>59580.038741</td>\n",
       "      <td>y</td>\n",
       "      <td>0.000003</td>\n",
       "      <td>1212</td>\n",
       "      <td>0.000003</td>\n",
       "      <td>1.620210e-09</td>\n",
       "      <td>-0.438074</td>\n",
       "      <td>0.0</td>\n",
       "      <td>ab</td>\n",
       "    </tr>\n",
       "    <tr>\n",
       "      <th>11000000</th>\n",
       "      <td>11</td>\n",
       "      <td>0</td>\n",
       "      <td>59580.038293</td>\n",
       "      <td>y</td>\n",
       "      <td>0.000003</td>\n",
       "      <td>1110</td>\n",
       "      <td>0.000003</td>\n",
       "      <td>1.627357e-09</td>\n",
       "      <td>-1.252795</td>\n",
       "      <td>0.0</td>\n",
       "      <td>ab</td>\n",
       "    </tr>\n",
       "    <tr>\n",
       "      <th>10000000</th>\n",
       "      <td>10</td>\n",
       "      <td>0</td>\n",
       "      <td>59580.037847</td>\n",
       "      <td>y</td>\n",
       "      <td>0.000003</td>\n",
       "      <td>1021</td>\n",
       "      <td>0.000003</td>\n",
       "      <td>1.641769e-09</td>\n",
       "      <td>0.777490</td>\n",
       "      <td>0.0</td>\n",
       "      <td>ab</td>\n",
       "    </tr>\n",
       "    <tr>\n",
       "      <th>9000000</th>\n",
       "      <td>9</td>\n",
       "      <td>0</td>\n",
       "      <td>59580.037401</td>\n",
       "      <td>y</td>\n",
       "      <td>0.000003</td>\n",
       "      <td>957</td>\n",
       "      <td>0.000003</td>\n",
       "      <td>1.654682e-09</td>\n",
       "      <td>-1.613898</td>\n",
       "      <td>0.0</td>\n",
       "      <td>ab</td>\n",
       "    </tr>\n",
       "    <tr>\n",
       "      <th>8000000</th>\n",
       "      <td>8</td>\n",
       "      <td>0</td>\n",
       "      <td>59580.036955</td>\n",
       "      <td>y</td>\n",
       "      <td>0.000003</td>\n",
       "      <td>857</td>\n",
       "      <td>0.000003</td>\n",
       "      <td>1.652410e-09</td>\n",
       "      <td>-0.212740</td>\n",
       "      <td>0.0</td>\n",
       "      <td>ab</td>\n",
       "    </tr>\n",
       "    <tr>\n",
       "      <th>7000000</th>\n",
       "      <td>7</td>\n",
       "      <td>0</td>\n",
       "      <td>59580.036509</td>\n",
       "      <td>y</td>\n",
       "      <td>0.000003</td>\n",
       "      <td>770</td>\n",
       "      <td>0.000003</td>\n",
       "      <td>1.650809e-09</td>\n",
       "      <td>-0.895467</td>\n",
       "      <td>0.0</td>\n",
       "      <td>ab</td>\n",
       "    </tr>\n",
       "    <tr>\n",
       "      <th>6000000</th>\n",
       "      <td>6</td>\n",
       "      <td>0</td>\n",
       "      <td>59580.036062</td>\n",
       "      <td>y</td>\n",
       "      <td>0.000003</td>\n",
       "      <td>680</td>\n",
       "      <td>0.000003</td>\n",
       "      <td>1.649820e-09</td>\n",
       "      <td>0.386902</td>\n",
       "      <td>0.0</td>\n",
       "      <td>ab</td>\n",
       "    </tr>\n",
       "    <tr>\n",
       "      <th>5000000</th>\n",
       "      <td>5</td>\n",
       "      <td>0</td>\n",
       "      <td>59580.035616</td>\n",
       "      <td>y</td>\n",
       "      <td>0.000003</td>\n",
       "      <td>587</td>\n",
       "      <td>0.000003</td>\n",
       "      <td>1.649419e-09</td>\n",
       "      <td>-0.510805</td>\n",
       "      <td>0.0</td>\n",
       "      <td>ab</td>\n",
       "    </tr>\n",
       "    <tr>\n",
       "      <th>4000000</th>\n",
       "      <td>4</td>\n",
       "      <td>0</td>\n",
       "      <td>59580.035169</td>\n",
       "      <td>y</td>\n",
       "      <td>0.000003</td>\n",
       "      <td>505</td>\n",
       "      <td>0.000003</td>\n",
       "      <td>1.649588e-09</td>\n",
       "      <td>-1.180632</td>\n",
       "      <td>0.0</td>\n",
       "      <td>ab</td>\n",
       "    </tr>\n",
       "    <tr>\n",
       "      <th>3000000</th>\n",
       "      <td>3</td>\n",
       "      <td>0</td>\n",
       "      <td>59580.034722</td>\n",
       "      <td>y</td>\n",
       "      <td>0.000003</td>\n",
       "      <td>441</td>\n",
       "      <td>0.000003</td>\n",
       "      <td>1.650317e-09</td>\n",
       "      <td>-0.028182</td>\n",
       "      <td>0.0</td>\n",
       "      <td>ab</td>\n",
       "    </tr>\n",
       "    <tr>\n",
       "      <th>2000000</th>\n",
       "      <td>2</td>\n",
       "      <td>0</td>\n",
       "      <td>59580.034275</td>\n",
       "      <td>y</td>\n",
       "      <td>0.000003</td>\n",
       "      <td>372</td>\n",
       "      <td>0.000003</td>\n",
       "      <td>1.651611e-09</td>\n",
       "      <td>0.428332</td>\n",
       "      <td>0.0</td>\n",
       "      <td>ab</td>\n",
       "    </tr>\n",
       "  </tbody>\n",
       "</table>\n",
       "</div>"
      ],
      "text/plain": [
       "          obsHistID  objid        expMJD filter  ModelFlux  fieldID      flux  \\\n",
       "pid                                                                             \n",
       "1000000           1      0  59580.033829      y   0.000003      316  0.000003   \n",
       "14000000         14      0  59580.039637      y   0.000003     1118  0.000003   \n",
       "13000000         13      0  59580.039190      y   0.000003     1220  0.000003   \n",
       "12000000         12      0  59580.038741      y   0.000003     1212  0.000003   \n",
       "11000000         11      0  59580.038293      y   0.000003     1110  0.000003   \n",
       "10000000         10      0  59580.037847      y   0.000003     1021  0.000003   \n",
       "9000000           9      0  59580.037401      y   0.000003      957  0.000003   \n",
       "8000000           8      0  59580.036955      y   0.000003      857  0.000003   \n",
       "7000000           7      0  59580.036509      y   0.000003      770  0.000003   \n",
       "6000000           6      0  59580.036062      y   0.000003      680  0.000003   \n",
       "5000000           5      0  59580.035616      y   0.000003      587  0.000003   \n",
       "4000000           4      0  59580.035169      y   0.000003      505  0.000003   \n",
       "3000000           3      0  59580.034722      y   0.000003      441  0.000003   \n",
       "2000000           2      0  59580.034275      y   0.000003      372  0.000003   \n",
       "\n",
       "               fluxerr  deviations   zp zpsys  \n",
       "pid                                            \n",
       "1000000   1.653433e-09   -1.706270  0.0    ab  \n",
       "14000000  1.638454e-09    1.950775  0.0    ab  \n",
       "13000000  1.631092e-09   -0.509652  0.0    ab  \n",
       "12000000  1.620210e-09   -0.438074  0.0    ab  \n",
       "11000000  1.627357e-09   -1.252795  0.0    ab  \n",
       "10000000  1.641769e-09    0.777490  0.0    ab  \n",
       "9000000   1.654682e-09   -1.613898  0.0    ab  \n",
       "8000000   1.652410e-09   -0.212740  0.0    ab  \n",
       "7000000   1.650809e-09   -0.895467  0.0    ab  \n",
       "6000000   1.649820e-09    0.386902  0.0    ab  \n",
       "5000000   1.649419e-09   -0.510805  0.0    ab  \n",
       "4000000   1.649588e-09   -1.180632  0.0    ab  \n",
       "3000000   1.650317e-09   -0.028182  0.0    ab  \n",
       "2000000   1.651611e-09    0.428332  0.0    ab  "
      ]
     },
     "execution_count": 63,
     "metadata": {},
     "output_type": "execute_result"
    }
   ],
   "source": [
    "bsim.lc(0)"
   ]
  },
  {
   "cell_type": "code",
   "execution_count": 64,
   "metadata": {
    "collapsed": false
   },
   "outputs": [
    {
     "name": "stdout",
     "output_type": "stream",
     "text": [
      "[  8.52799895e-07              nan              nan              nan\n",
      "              nan              nan              nan              nan\n",
      "              nan   2.91981683e-07   5.02921241e-07   6.39068259e-07\n",
      "   7.37272413e-07   8.07275219e-07]\n"
     ]
    },
    {
     "data": {
      "text/html": [
       "<div>\n",
       "<table border=\"1\" class=\"dataframe\">\n",
       "  <thead>\n",
       "    <tr style=\"text-align: right;\">\n",
       "      <th></th>\n",
       "      <th>obsHistID</th>\n",
       "      <th>objid</th>\n",
       "      <th>expMJD</th>\n",
       "      <th>filter</th>\n",
       "      <th>ModelFlux</th>\n",
       "      <th>fieldID</th>\n",
       "      <th>flux</th>\n",
       "      <th>fluxerr</th>\n",
       "      <th>deviations</th>\n",
       "      <th>zp</th>\n",
       "      <th>zpsys</th>\n",
       "    </tr>\n",
       "    <tr>\n",
       "      <th>pid</th>\n",
       "      <th></th>\n",
       "      <th></th>\n",
       "      <th></th>\n",
       "      <th></th>\n",
       "      <th></th>\n",
       "      <th></th>\n",
       "      <th></th>\n",
       "      <th></th>\n",
       "      <th></th>\n",
       "      <th></th>\n",
       "      <th></th>\n",
       "    </tr>\n",
       "  </thead>\n",
       "  <tbody>\n",
       "    <tr>\n",
       "      <th>1000000</th>\n",
       "      <td>1</td>\n",
       "      <td>0</td>\n",
       "      <td>59580.033829</td>\n",
       "      <td>y</td>\n",
       "      <td>0.941513</td>\n",
       "      <td>316</td>\n",
       "      <td>0.941514</td>\n",
       "      <td>8.527999e-07</td>\n",
       "      <td>1.532779</td>\n",
       "      <td>0.0</td>\n",
       "      <td>ab</td>\n",
       "    </tr>\n",
       "    <tr>\n",
       "      <th>14000000</th>\n",
       "      <td>14</td>\n",
       "      <td>0</td>\n",
       "      <td>59580.039637</td>\n",
       "      <td>y</td>\n",
       "      <td>0.000000</td>\n",
       "      <td>1118</td>\n",
       "      <td>NaN</td>\n",
       "      <td>NaN</td>\n",
       "      <td>1.469359</td>\n",
       "      <td>0.0</td>\n",
       "      <td>ab</td>\n",
       "    </tr>\n",
       "    <tr>\n",
       "      <th>13000000</th>\n",
       "      <td>13</td>\n",
       "      <td>0</td>\n",
       "      <td>59580.039190</td>\n",
       "      <td>y</td>\n",
       "      <td>0.000000</td>\n",
       "      <td>1220</td>\n",
       "      <td>NaN</td>\n",
       "      <td>NaN</td>\n",
       "      <td>0.154947</td>\n",
       "      <td>0.0</td>\n",
       "      <td>ab</td>\n",
       "    </tr>\n",
       "    <tr>\n",
       "      <th>12000000</th>\n",
       "      <td>12</td>\n",
       "      <td>0</td>\n",
       "      <td>59580.038741</td>\n",
       "      <td>y</td>\n",
       "      <td>0.000000</td>\n",
       "      <td>1212</td>\n",
       "      <td>NaN</td>\n",
       "      <td>NaN</td>\n",
       "      <td>0.378163</td>\n",
       "      <td>0.0</td>\n",
       "      <td>ab</td>\n",
       "    </tr>\n",
       "    <tr>\n",
       "      <th>11000000</th>\n",
       "      <td>11</td>\n",
       "      <td>0</td>\n",
       "      <td>59580.038293</td>\n",
       "      <td>y</td>\n",
       "      <td>0.000000</td>\n",
       "      <td>1110</td>\n",
       "      <td>NaN</td>\n",
       "      <td>NaN</td>\n",
       "      <td>-0.887786</td>\n",
       "      <td>0.0</td>\n",
       "      <td>ab</td>\n",
       "    </tr>\n",
       "    <tr>\n",
       "      <th>10000000</th>\n",
       "      <td>10</td>\n",
       "      <td>0</td>\n",
       "      <td>59580.037847</td>\n",
       "      <td>y</td>\n",
       "      <td>0.000000</td>\n",
       "      <td>1021</td>\n",
       "      <td>NaN</td>\n",
       "      <td>NaN</td>\n",
       "      <td>-1.980796</td>\n",
       "      <td>0.0</td>\n",
       "      <td>ab</td>\n",
       "    </tr>\n",
       "    <tr>\n",
       "      <th>9000000</th>\n",
       "      <td>9</td>\n",
       "      <td>0</td>\n",
       "      <td>59580.037401</td>\n",
       "      <td>y</td>\n",
       "      <td>0.000000</td>\n",
       "      <td>957</td>\n",
       "      <td>NaN</td>\n",
       "      <td>NaN</td>\n",
       "      <td>-0.347912</td>\n",
       "      <td>0.0</td>\n",
       "      <td>ab</td>\n",
       "    </tr>\n",
       "    <tr>\n",
       "      <th>8000000</th>\n",
       "      <td>8</td>\n",
       "      <td>0</td>\n",
       "      <td>59580.036955</td>\n",
       "      <td>y</td>\n",
       "      <td>0.000000</td>\n",
       "      <td>857</td>\n",
       "      <td>NaN</td>\n",
       "      <td>NaN</td>\n",
       "      <td>0.156349</td>\n",
       "      <td>0.0</td>\n",
       "      <td>ab</td>\n",
       "    </tr>\n",
       "    <tr>\n",
       "      <th>7000000</th>\n",
       "      <td>7</td>\n",
       "      <td>0</td>\n",
       "      <td>59580.036509</td>\n",
       "      <td>y</td>\n",
       "      <td>0.000000</td>\n",
       "      <td>770</td>\n",
       "      <td>NaN</td>\n",
       "      <td>NaN</td>\n",
       "      <td>1.230291</td>\n",
       "      <td>0.0</td>\n",
       "      <td>ab</td>\n",
       "    </tr>\n",
       "    <tr>\n",
       "      <th>6000000</th>\n",
       "      <td>6</td>\n",
       "      <td>0</td>\n",
       "      <td>59580.036062</td>\n",
       "      <td>y</td>\n",
       "      <td>0.110367</td>\n",
       "      <td>680</td>\n",
       "      <td>0.110368</td>\n",
       "      <td>2.919817e-07</td>\n",
       "      <td>1.202380</td>\n",
       "      <td>0.0</td>\n",
       "      <td>ab</td>\n",
       "    </tr>\n",
       "    <tr>\n",
       "      <th>5000000</th>\n",
       "      <td>5</td>\n",
       "      <td>0</td>\n",
       "      <td>59580.035616</td>\n",
       "      <td>y</td>\n",
       "      <td>0.327440</td>\n",
       "      <td>587</td>\n",
       "      <td>0.327440</td>\n",
       "      <td>5.029212e-07</td>\n",
       "      <td>-0.387327</td>\n",
       "      <td>0.0</td>\n",
       "      <td>ab</td>\n",
       "    </tr>\n",
       "    <tr>\n",
       "      <th>4000000</th>\n",
       "      <td>4</td>\n",
       "      <td>0</td>\n",
       "      <td>59580.035169</td>\n",
       "      <td>y</td>\n",
       "      <td>0.528721</td>\n",
       "      <td>505</td>\n",
       "      <td>0.528720</td>\n",
       "      <td>6.390683e-07</td>\n",
       "      <td>-0.302303</td>\n",
       "      <td>0.0</td>\n",
       "      <td>ab</td>\n",
       "    </tr>\n",
       "    <tr>\n",
       "      <th>3000000</th>\n",
       "      <td>3</td>\n",
       "      <td>0</td>\n",
       "      <td>59580.034722</td>\n",
       "      <td>y</td>\n",
       "      <td>0.703701</td>\n",
       "      <td>441</td>\n",
       "      <td>0.703700</td>\n",
       "      <td>7.372724e-07</td>\n",
       "      <td>-1.048553</td>\n",
       "      <td>0.0</td>\n",
       "      <td>ab</td>\n",
       "    </tr>\n",
       "    <tr>\n",
       "      <th>2000000</th>\n",
       "      <td>2</td>\n",
       "      <td>0</td>\n",
       "      <td>59580.034275</td>\n",
       "      <td>y</td>\n",
       "      <td>0.843675</td>\n",
       "      <td>372</td>\n",
       "      <td>0.843674</td>\n",
       "      <td>8.072752e-07</td>\n",
       "      <td>-1.420018</td>\n",
       "      <td>0.0</td>\n",
       "      <td>ab</td>\n",
       "    </tr>\n",
       "  </tbody>\n",
       "</table>\n",
       "</div>"
      ],
      "text/plain": [
       "          obsHistID  objid        expMJD filter  ModelFlux  fieldID      flux  \\\n",
       "pid                                                                             \n",
       "1000000           1      0  59580.033829      y   0.941513      316  0.941514   \n",
       "14000000         14      0  59580.039637      y   0.000000     1118       NaN   \n",
       "13000000         13      0  59580.039190      y   0.000000     1220       NaN   \n",
       "12000000         12      0  59580.038741      y   0.000000     1212       NaN   \n",
       "11000000         11      0  59580.038293      y   0.000000     1110       NaN   \n",
       "10000000         10      0  59580.037847      y   0.000000     1021       NaN   \n",
       "9000000           9      0  59580.037401      y   0.000000      957       NaN   \n",
       "8000000           8      0  59580.036955      y   0.000000      857       NaN   \n",
       "7000000           7      0  59580.036509      y   0.000000      770       NaN   \n",
       "6000000           6      0  59580.036062      y   0.110367      680  0.110368   \n",
       "5000000           5      0  59580.035616      y   0.327440      587  0.327440   \n",
       "4000000           4      0  59580.035169      y   0.528721      505  0.528720   \n",
       "3000000           3      0  59580.034722      y   0.703701      441  0.703700   \n",
       "2000000           2      0  59580.034275      y   0.843675      372  0.843674   \n",
       "\n",
       "               fluxerr  deviations   zp zpsys  \n",
       "pid                                            \n",
       "1000000   8.527999e-07    1.532779  0.0    ab  \n",
       "14000000           NaN    1.469359  0.0    ab  \n",
       "13000000           NaN    0.154947  0.0    ab  \n",
       "12000000           NaN    0.378163  0.0    ab  \n",
       "11000000           NaN   -0.887786  0.0    ab  \n",
       "10000000           NaN   -1.980796  0.0    ab  \n",
       "9000000            NaN   -0.347912  0.0    ab  \n",
       "8000000            NaN    0.156349  0.0    ab  \n",
       "7000000            NaN    1.230291  0.0    ab  \n",
       "6000000   2.919817e-07    1.202380  0.0    ab  \n",
       "5000000   5.029212e-07   -0.387327  0.0    ab  \n",
       "4000000   6.390683e-07   -0.302303  0.0    ab  \n",
       "3000000   7.372724e-07   -1.048553  0.0    ab  \n",
       "2000000   8.072752e-07   -1.420018  0.0    ab  "
      ]
     },
     "execution_count": 64,
     "metadata": {},
     "output_type": "execute_result"
    }
   ],
   "source": [
    "bstm.lc(0)"
   ]
  },
  {
   "cell_type": "code",
   "execution_count": 65,
   "metadata": {
    "collapsed": false
   },
   "outputs": [
    {
     "data": {
      "text/html": [
       "<div>\n",
       "<table border=\"1\" class=\"dataframe\">\n",
       "  <thead>\n",
       "    <tr style=\"text-align: right;\">\n",
       "      <th></th>\n",
       "      <th>obsHistID</th>\n",
       "      <th>objid</th>\n",
       "      <th>expMJD</th>\n",
       "      <th>filter</th>\n",
       "      <th>ModelFlux</th>\n",
       "      <th>fieldID</th>\n",
       "      <th>flux</th>\n",
       "      <th>fluxerr</th>\n",
       "      <th>deviations</th>\n",
       "      <th>zp</th>\n",
       "      <th>zpsys</th>\n",
       "    </tr>\n",
       "    <tr>\n",
       "      <th>pid</th>\n",
       "      <th></th>\n",
       "      <th></th>\n",
       "      <th></th>\n",
       "      <th></th>\n",
       "      <th></th>\n",
       "      <th></th>\n",
       "      <th></th>\n",
       "      <th></th>\n",
       "      <th></th>\n",
       "      <th></th>\n",
       "      <th></th>\n",
       "    </tr>\n",
       "  </thead>\n",
       "  <tbody>\n",
       "    <tr>\n",
       "      <th>1000000</th>\n",
       "      <td>1</td>\n",
       "      <td>0</td>\n",
       "      <td>59580.033829</td>\n",
       "      <td>y</td>\n",
       "      <td>0.941513</td>\n",
       "      <td>316</td>\n",
       "      <td>0.941515</td>\n",
       "      <td>8.527999e-07</td>\n",
       "      <td>1.764052</td>\n",
       "      <td>0.0</td>\n",
       "      <td>ab</td>\n",
       "    </tr>\n",
       "    <tr>\n",
       "      <th>14000000</th>\n",
       "      <td>14</td>\n",
       "      <td>0</td>\n",
       "      <td>59580.039637</td>\n",
       "      <td>y</td>\n",
       "      <td>0.000000</td>\n",
       "      <td>1118</td>\n",
       "      <td>NaN</td>\n",
       "      <td>NaN</td>\n",
       "      <td>0.400157</td>\n",
       "      <td>0.0</td>\n",
       "      <td>ab</td>\n",
       "    </tr>\n",
       "    <tr>\n",
       "      <th>13000000</th>\n",
       "      <td>13</td>\n",
       "      <td>0</td>\n",
       "      <td>59580.039190</td>\n",
       "      <td>y</td>\n",
       "      <td>0.000000</td>\n",
       "      <td>1220</td>\n",
       "      <td>NaN</td>\n",
       "      <td>NaN</td>\n",
       "      <td>0.978738</td>\n",
       "      <td>0.0</td>\n",
       "      <td>ab</td>\n",
       "    </tr>\n",
       "    <tr>\n",
       "      <th>12000000</th>\n",
       "      <td>12</td>\n",
       "      <td>0</td>\n",
       "      <td>59580.038741</td>\n",
       "      <td>y</td>\n",
       "      <td>0.000000</td>\n",
       "      <td>1212</td>\n",
       "      <td>NaN</td>\n",
       "      <td>NaN</td>\n",
       "      <td>2.240893</td>\n",
       "      <td>0.0</td>\n",
       "      <td>ab</td>\n",
       "    </tr>\n",
       "    <tr>\n",
       "      <th>11000000</th>\n",
       "      <td>11</td>\n",
       "      <td>0</td>\n",
       "      <td>59580.038293</td>\n",
       "      <td>y</td>\n",
       "      <td>0.000000</td>\n",
       "      <td>1110</td>\n",
       "      <td>NaN</td>\n",
       "      <td>NaN</td>\n",
       "      <td>1.867558</td>\n",
       "      <td>0.0</td>\n",
       "      <td>ab</td>\n",
       "    </tr>\n",
       "    <tr>\n",
       "      <th>10000000</th>\n",
       "      <td>10</td>\n",
       "      <td>0</td>\n",
       "      <td>59580.037847</td>\n",
       "      <td>y</td>\n",
       "      <td>0.000000</td>\n",
       "      <td>1021</td>\n",
       "      <td>NaN</td>\n",
       "      <td>NaN</td>\n",
       "      <td>-0.977278</td>\n",
       "      <td>0.0</td>\n",
       "      <td>ab</td>\n",
       "    </tr>\n",
       "    <tr>\n",
       "      <th>9000000</th>\n",
       "      <td>9</td>\n",
       "      <td>0</td>\n",
       "      <td>59580.037401</td>\n",
       "      <td>y</td>\n",
       "      <td>0.000000</td>\n",
       "      <td>957</td>\n",
       "      <td>NaN</td>\n",
       "      <td>NaN</td>\n",
       "      <td>0.950088</td>\n",
       "      <td>0.0</td>\n",
       "      <td>ab</td>\n",
       "    </tr>\n",
       "    <tr>\n",
       "      <th>8000000</th>\n",
       "      <td>8</td>\n",
       "      <td>0</td>\n",
       "      <td>59580.036955</td>\n",
       "      <td>y</td>\n",
       "      <td>0.000000</td>\n",
       "      <td>857</td>\n",
       "      <td>NaN</td>\n",
       "      <td>NaN</td>\n",
       "      <td>-0.151357</td>\n",
       "      <td>0.0</td>\n",
       "      <td>ab</td>\n",
       "    </tr>\n",
       "    <tr>\n",
       "      <th>7000000</th>\n",
       "      <td>7</td>\n",
       "      <td>0</td>\n",
       "      <td>59580.036509</td>\n",
       "      <td>y</td>\n",
       "      <td>0.000000</td>\n",
       "      <td>770</td>\n",
       "      <td>NaN</td>\n",
       "      <td>NaN</td>\n",
       "      <td>-0.103219</td>\n",
       "      <td>0.0</td>\n",
       "      <td>ab</td>\n",
       "    </tr>\n",
       "    <tr>\n",
       "      <th>6000000</th>\n",
       "      <td>6</td>\n",
       "      <td>0</td>\n",
       "      <td>59580.036062</td>\n",
       "      <td>y</td>\n",
       "      <td>0.110367</td>\n",
       "      <td>680</td>\n",
       "      <td>0.110367</td>\n",
       "      <td>2.919817e-07</td>\n",
       "      <td>0.410599</td>\n",
       "      <td>0.0</td>\n",
       "      <td>ab</td>\n",
       "    </tr>\n",
       "    <tr>\n",
       "      <th>5000000</th>\n",
       "      <td>5</td>\n",
       "      <td>0</td>\n",
       "      <td>59580.035616</td>\n",
       "      <td>y</td>\n",
       "      <td>0.327440</td>\n",
       "      <td>587</td>\n",
       "      <td>0.327440</td>\n",
       "      <td>5.029212e-07</td>\n",
       "      <td>0.144044</td>\n",
       "      <td>0.0</td>\n",
       "      <td>ab</td>\n",
       "    </tr>\n",
       "    <tr>\n",
       "      <th>4000000</th>\n",
       "      <td>4</td>\n",
       "      <td>0</td>\n",
       "      <td>59580.035169</td>\n",
       "      <td>y</td>\n",
       "      <td>0.528721</td>\n",
       "      <td>505</td>\n",
       "      <td>0.528722</td>\n",
       "      <td>6.390683e-07</td>\n",
       "      <td>1.454274</td>\n",
       "      <td>0.0</td>\n",
       "      <td>ab</td>\n",
       "    </tr>\n",
       "    <tr>\n",
       "      <th>3000000</th>\n",
       "      <td>3</td>\n",
       "      <td>0</td>\n",
       "      <td>59580.034722</td>\n",
       "      <td>y</td>\n",
       "      <td>0.703701</td>\n",
       "      <td>441</td>\n",
       "      <td>0.703701</td>\n",
       "      <td>7.372724e-07</td>\n",
       "      <td>0.761038</td>\n",
       "      <td>0.0</td>\n",
       "      <td>ab</td>\n",
       "    </tr>\n",
       "    <tr>\n",
       "      <th>2000000</th>\n",
       "      <td>2</td>\n",
       "      <td>0</td>\n",
       "      <td>59580.034275</td>\n",
       "      <td>y</td>\n",
       "      <td>0.843675</td>\n",
       "      <td>372</td>\n",
       "      <td>0.843675</td>\n",
       "      <td>8.072752e-07</td>\n",
       "      <td>0.121675</td>\n",
       "      <td>0.0</td>\n",
       "      <td>ab</td>\n",
       "    </tr>\n",
       "    <tr>\n",
       "      <th>1000001</th>\n",
       "      <td>1</td>\n",
       "      <td>1</td>\n",
       "      <td>59580.033829</td>\n",
       "      <td>y</td>\n",
       "      <td>0.784046</td>\n",
       "      <td>316</td>\n",
       "      <td>0.784046</td>\n",
       "      <td>7.782242e-07</td>\n",
       "      <td>0.443863</td>\n",
       "      <td>0.0</td>\n",
       "      <td>ab</td>\n",
       "    </tr>\n",
       "    <tr>\n",
       "      <th>14000001</th>\n",
       "      <td>14</td>\n",
       "      <td>1</td>\n",
       "      <td>59580.039637</td>\n",
       "      <td>y</td>\n",
       "      <td>0.000000</td>\n",
       "      <td>1118</td>\n",
       "      <td>NaN</td>\n",
       "      <td>NaN</td>\n",
       "      <td>0.333674</td>\n",
       "      <td>0.0</td>\n",
       "      <td>ab</td>\n",
       "    </tr>\n",
       "    <tr>\n",
       "      <th>13000001</th>\n",
       "      <td>13</td>\n",
       "      <td>1</td>\n",
       "      <td>59580.039190</td>\n",
       "      <td>y</td>\n",
       "      <td>0.000000</td>\n",
       "      <td>1220</td>\n",
       "      <td>NaN</td>\n",
       "      <td>NaN</td>\n",
       "      <td>1.494079</td>\n",
       "      <td>0.0</td>\n",
       "      <td>ab</td>\n",
       "    </tr>\n",
       "    <tr>\n",
       "      <th>12000001</th>\n",
       "      <td>12</td>\n",
       "      <td>1</td>\n",
       "      <td>59580.038741</td>\n",
       "      <td>y</td>\n",
       "      <td>0.000000</td>\n",
       "      <td>1212</td>\n",
       "      <td>NaN</td>\n",
       "      <td>NaN</td>\n",
       "      <td>-0.205158</td>\n",
       "      <td>0.0</td>\n",
       "      <td>ab</td>\n",
       "    </tr>\n",
       "    <tr>\n",
       "      <th>11000001</th>\n",
       "      <td>11</td>\n",
       "      <td>1</td>\n",
       "      <td>59580.038293</td>\n",
       "      <td>y</td>\n",
       "      <td>0.000000</td>\n",
       "      <td>1110</td>\n",
       "      <td>NaN</td>\n",
       "      <td>NaN</td>\n",
       "      <td>0.313068</td>\n",
       "      <td>0.0</td>\n",
       "      <td>ab</td>\n",
       "    </tr>\n",
       "    <tr>\n",
       "      <th>10000001</th>\n",
       "      <td>10</td>\n",
       "      <td>1</td>\n",
       "      <td>59580.037847</td>\n",
       "      <td>y</td>\n",
       "      <td>0.000000</td>\n",
       "      <td>1021</td>\n",
       "      <td>NaN</td>\n",
       "      <td>NaN</td>\n",
       "      <td>-0.854096</td>\n",
       "      <td>0.0</td>\n",
       "      <td>ab</td>\n",
       "    </tr>\n",
       "    <tr>\n",
       "      <th>9000001</th>\n",
       "      <td>9</td>\n",
       "      <td>1</td>\n",
       "      <td>59580.037401</td>\n",
       "      <td>y</td>\n",
       "      <td>0.008157</td>\n",
       "      <td>957</td>\n",
       "      <td>0.008157</td>\n",
       "      <td>7.938288e-08</td>\n",
       "      <td>-2.552990</td>\n",
       "      <td>0.0</td>\n",
       "      <td>ab</td>\n",
       "    </tr>\n",
       "    <tr>\n",
       "      <th>8000001</th>\n",
       "      <td>8</td>\n",
       "      <td>1</td>\n",
       "      <td>59580.036955</td>\n",
       "      <td>y</td>\n",
       "      <td>0.119372</td>\n",
       "      <td>857</td>\n",
       "      <td>0.119372</td>\n",
       "      <td>3.036592e-07</td>\n",
       "      <td>0.653619</td>\n",
       "      <td>0.0</td>\n",
       "      <td>ab</td>\n",
       "    </tr>\n",
       "    <tr>\n",
       "      <th>7000001</th>\n",
       "      <td>7</td>\n",
       "      <td>1</td>\n",
       "      <td>59580.036509</td>\n",
       "      <td>y</td>\n",
       "      <td>0.229104</td>\n",
       "      <td>770</td>\n",
       "      <td>0.229105</td>\n",
       "      <td>4.206792e-07</td>\n",
       "      <td>0.864436</td>\n",
       "      <td>0.0</td>\n",
       "      <td>ab</td>\n",
       "    </tr>\n",
       "    <tr>\n",
       "      <th>6000001</th>\n",
       "      <td>6</td>\n",
       "      <td>1</td>\n",
       "      <td>59580.036062</td>\n",
       "      <td>y</td>\n",
       "      <td>0.336227</td>\n",
       "      <td>680</td>\n",
       "      <td>0.336226</td>\n",
       "      <td>5.096245e-07</td>\n",
       "      <td>-0.742165</td>\n",
       "      <td>0.0</td>\n",
       "      <td>ab</td>\n",
       "    </tr>\n",
       "    <tr>\n",
       "      <th>5000001</th>\n",
       "      <td>5</td>\n",
       "      <td>1</td>\n",
       "      <td>59580.035616</td>\n",
       "      <td>y</td>\n",
       "      <td>0.438930</td>\n",
       "      <td>587</td>\n",
       "      <td>0.438931</td>\n",
       "      <td>5.822798e-07</td>\n",
       "      <td>2.269755</td>\n",
       "      <td>0.0</td>\n",
       "      <td>ab</td>\n",
       "    </tr>\n",
       "    <tr>\n",
       "      <th>4000001</th>\n",
       "      <td>4</td>\n",
       "      <td>1</td>\n",
       "      <td>59580.035169</td>\n",
       "      <td>y</td>\n",
       "      <td>0.536393</td>\n",
       "      <td>505</td>\n",
       "      <td>0.536392</td>\n",
       "      <td>6.436883e-07</td>\n",
       "      <td>-1.454366</td>\n",
       "      <td>0.0</td>\n",
       "      <td>ab</td>\n",
       "    </tr>\n",
       "    <tr>\n",
       "      <th>3000001</th>\n",
       "      <td>3</td>\n",
       "      <td>1</td>\n",
       "      <td>59580.034722</td>\n",
       "      <td>y</td>\n",
       "      <td>0.627164</td>\n",
       "      <td>441</td>\n",
       "      <td>0.627164</td>\n",
       "      <td>6.960249e-07</td>\n",
       "      <td>0.045759</td>\n",
       "      <td>0.0</td>\n",
       "      <td>ab</td>\n",
       "    </tr>\n",
       "    <tr>\n",
       "      <th>2000001</th>\n",
       "      <td>2</td>\n",
       "      <td>1</td>\n",
       "      <td>59580.034275</td>\n",
       "      <td>y</td>\n",
       "      <td>0.710112</td>\n",
       "      <td>372</td>\n",
       "      <td>0.710112</td>\n",
       "      <td>7.406235e-07</td>\n",
       "      <td>-0.187184</td>\n",
       "      <td>0.0</td>\n",
       "      <td>ab</td>\n",
       "    </tr>\n",
       "  </tbody>\n",
       "</table>\n",
       "</div>"
      ],
      "text/plain": [
       "          obsHistID  objid        expMJD filter  ModelFlux  fieldID      flux  \\\n",
       "pid                                                                             \n",
       "1000000           1      0  59580.033829      y   0.941513      316  0.941515   \n",
       "14000000         14      0  59580.039637      y   0.000000     1118       NaN   \n",
       "13000000         13      0  59580.039190      y   0.000000     1220       NaN   \n",
       "12000000         12      0  59580.038741      y   0.000000     1212       NaN   \n",
       "11000000         11      0  59580.038293      y   0.000000     1110       NaN   \n",
       "10000000         10      0  59580.037847      y   0.000000     1021       NaN   \n",
       "9000000           9      0  59580.037401      y   0.000000      957       NaN   \n",
       "8000000           8      0  59580.036955      y   0.000000      857       NaN   \n",
       "7000000           7      0  59580.036509      y   0.000000      770       NaN   \n",
       "6000000           6      0  59580.036062      y   0.110367      680  0.110367   \n",
       "5000000           5      0  59580.035616      y   0.327440      587  0.327440   \n",
       "4000000           4      0  59580.035169      y   0.528721      505  0.528722   \n",
       "3000000           3      0  59580.034722      y   0.703701      441  0.703701   \n",
       "2000000           2      0  59580.034275      y   0.843675      372  0.843675   \n",
       "1000001           1      1  59580.033829      y   0.784046      316  0.784046   \n",
       "14000001         14      1  59580.039637      y   0.000000     1118       NaN   \n",
       "13000001         13      1  59580.039190      y   0.000000     1220       NaN   \n",
       "12000001         12      1  59580.038741      y   0.000000     1212       NaN   \n",
       "11000001         11      1  59580.038293      y   0.000000     1110       NaN   \n",
       "10000001         10      1  59580.037847      y   0.000000     1021       NaN   \n",
       "9000001           9      1  59580.037401      y   0.008157      957  0.008157   \n",
       "8000001           8      1  59580.036955      y   0.119372      857  0.119372   \n",
       "7000001           7      1  59580.036509      y   0.229104      770  0.229105   \n",
       "6000001           6      1  59580.036062      y   0.336227      680  0.336226   \n",
       "5000001           5      1  59580.035616      y   0.438930      587  0.438931   \n",
       "4000001           4      1  59580.035169      y   0.536393      505  0.536392   \n",
       "3000001           3      1  59580.034722      y   0.627164      441  0.627164   \n",
       "2000001           2      1  59580.034275      y   0.710112      372  0.710112   \n",
       "\n",
       "               fluxerr  deviations   zp zpsys  \n",
       "pid                                            \n",
       "1000000   8.527999e-07    1.764052  0.0    ab  \n",
       "14000000           NaN    0.400157  0.0    ab  \n",
       "13000000           NaN    0.978738  0.0    ab  \n",
       "12000000           NaN    2.240893  0.0    ab  \n",
       "11000000           NaN    1.867558  0.0    ab  \n",
       "10000000           NaN   -0.977278  0.0    ab  \n",
       "9000000            NaN    0.950088  0.0    ab  \n",
       "8000000            NaN   -0.151357  0.0    ab  \n",
       "7000000            NaN   -0.103219  0.0    ab  \n",
       "6000000   2.919817e-07    0.410599  0.0    ab  \n",
       "5000000   5.029212e-07    0.144044  0.0    ab  \n",
       "4000000   6.390683e-07    1.454274  0.0    ab  \n",
       "3000000   7.372724e-07    0.761038  0.0    ab  \n",
       "2000000   8.072752e-07    0.121675  0.0    ab  \n",
       "1000001   7.782242e-07    0.443863  0.0    ab  \n",
       "14000001           NaN    0.333674  0.0    ab  \n",
       "13000001           NaN    1.494079  0.0    ab  \n",
       "12000001           NaN   -0.205158  0.0    ab  \n",
       "11000001           NaN    0.313068  0.0    ab  \n",
       "10000001           NaN   -0.854096  0.0    ab  \n",
       "9000001   7.938288e-08   -2.552990  0.0    ab  \n",
       "8000001   3.036592e-07    0.653619  0.0    ab  \n",
       "7000001   4.206792e-07    0.864436  0.0    ab  \n",
       "6000001   5.096245e-07   -0.742165  0.0    ab  \n",
       "5000001   5.822798e-07    2.269755  0.0    ab  \n",
       "4000001   6.436883e-07   -1.454366  0.0    ab  \n",
       "3000001   6.960249e-07    0.045759  0.0    ab  \n",
       "2000001   7.406235e-07   -0.187184  0.0    ab  "
      ]
     },
     "execution_count": 65,
     "metadata": {},
     "output_type": "execute_result"
    }
   ],
   "source": [
    "phot_simt_df"
   ]
  },
  {
   "cell_type": "markdown",
   "metadata": {},
   "source": [
    "# Scratch"
   ]
  },
  {
   "cell_type": "code",
   "execution_count": 40,
   "metadata": {
    "collapsed": true
   },
   "outputs": [],
   "source": [
    "from varsim import BaseSpatialPopulationFromStochasticModel, BaseSpatialPopulation"
   ]
  },
  {
   "cell_type": "code",
   "execution_count": 39,
   "metadata": {
    "collapsed": false
   },
   "outputs": [
    {
     "ename": "TypeError",
     "evalue": "Can't instantiate abstract class BaseSpatialPopulationFromStochasticModel with abstract methods hasPositionArray, idxvalues, modelparams, numSources, pop_rng, positionArray, positions, set_pop_rng",
     "output_type": "error",
     "traceback": [
      "\u001b[0;31m---------------------------------------------------------------------------\u001b[0m",
      "\u001b[0;31mTypeError\u001b[0m                                 Traceback (most recent call last)",
      "\u001b[0;32m<ipython-input-39-a3302a858259>\u001b[0m in \u001b[0;36m<module>\u001b[0;34m()\u001b[0m\n\u001b[0;32m----> 1\u001b[0;31m \u001b[0mb\u001b[0m \u001b[0;34m=\u001b[0m \u001b[0mBaseSpatialPopulationFromStochasticModel\u001b[0m\u001b[0;34m(\u001b[0m\u001b[0;34m)\u001b[0m\u001b[0;34m\u001b[0m\u001b[0m\n\u001b[0m",
      "\u001b[0;31mTypeError\u001b[0m: Can't instantiate abstract class BaseSpatialPopulationFromStochasticModel with abstract methods hasPositionArray, idxvalues, modelparams, numSources, pop_rng, positionArray, positions, set_pop_rng"
     ]
    }
   ],
   "source": [
    "class SpatialPopulation()"
   ]
  },
  {
   "cell_type": "code",
   "execution_count": 38,
   "metadata": {
    "collapsed": false
   },
   "outputs": [
    {
     "ename": "TypeError",
     "evalue": "Can't instantiate abstract class BaseModel with abstract methods maxMjd, minMjd, modelFlux, setModelParameters",
     "output_type": "error",
     "traceback": [
      "\u001b[0;31m---------------------------------------------------------------------------\u001b[0m",
      "\u001b[0;31mTypeError\u001b[0m                                 Traceback (most recent call last)",
      "\u001b[0;32m<ipython-input-38-08942f7ececf>\u001b[0m in \u001b[0;36m<module>\u001b[0;34m()\u001b[0m\n\u001b[0;32m----> 1\u001b[0;31m \u001b[0mb\u001b[0m \u001b[0;34m=\u001b[0m \u001b[0mBaseModel\u001b[0m\u001b[0;34m(\u001b[0m\u001b[0;34m)\u001b[0m\u001b[0;34m\u001b[0m\u001b[0m\n\u001b[0m",
      "\u001b[0;31mTypeError\u001b[0m: Can't instantiate abstract class BaseModel with abstract methods maxMjd, minMjd, modelFlux, setModelParameters"
     ]
    }
   ],
   "source": [
    "b = BaseModel()"
   ]
  },
  {
   "cell_type": "code",
   "execution_count": 35,
   "metadata": {
    "collapsed": true
   },
   "outputs": [],
   "source": [
    "from varsim import BasePopulationFromStochasticModel"
   ]
  },
  {
   "cell_type": "code",
   "execution_count": 38,
   "metadata": {
    "collapsed": false
   },
   "outputs": [],
   "source": [
    "class SALTStatPopulation(BasePopulationFromStochasticModel):\n",
    "    def __init__(self, ):\n",
    "        self.x0 = [5.0e-2, 3.e-5]\n",
    "        self.x1 = [0, .1]\n",
    "        self.c = [-0.2, 0.5]\n",
    "        self.t0 = [59581., 59580. ]\n",
    "        self.z = [0.5, 0.6]\n",
    "        self.ra = [30., 30.]\n",
    "        self.dec = [-45., -45.]\n",
    "    \n",
    "    @property\n",
    "    def pop_rng(self):\n",
    "        return 0\n",
    "    \n",
    "    @property\n",
    "    def numSources(self):\n",
    "        return sum(1 for elem in self.idxvalues)\n",
    "    #def get_pop_rng(self):\n",
    "    #    return self.pop_rng\n",
    "    def set_pop_rng(self, value):\n",
    "        self._pop_rng = value\n",
    "        \n",
    "    def modelparams(self, idx):\n",
    "            return dict(x0=self.x0[idx], x1=self.x1[idx], c=self.c[idx], t0=self.t0[idx],\n",
    "                        z=self.z[idx])\n",
    "        \n",
    "    @property\n",
    "    def idxvalues(self):\n",
    "        return (x for x in (0, 1))\n",
    "    @property\n",
    "    def hasPositionArray(self):\n",
    "        return False\n",
    "    @property\n",
    "    def positionArray(self):\n",
    "        return None\n",
    "    def positions(self, idx):\n",
    "        return dict(ra=self.ra[idx], dec=self.dec[idx])\n",
    "    "
   ]
  },
  {
   "cell_type": "code",
   "execution_count": 39,
   "metadata": {
    "collapsed": false
   },
   "outputs": [],
   "source": [
    "snsims = SALTPopulation()"
   ]
  },
  {
   "cell_type": "code",
   "execution_count": 40,
   "metadata": {
    "collapsed": false
   },
   "outputs": [
    {
     "data": {
      "text/plain": [
       "14"
      ]
     },
     "execution_count": 40,
     "metadata": {},
     "output_type": "execute_result"
    }
   ],
   "source": [
    "bsim.lc(1).index.values.size"
   ]
  },
  {
   "cell_type": "code",
   "execution_count": 41,
   "metadata": {
    "collapsed": false
   },
   "outputs": [
    {
     "data": {
      "text/plain": [
       "14"
      ]
     },
     "execution_count": 41,
     "metadata": {},
     "output_type": "execute_result"
    }
   ],
   "source": [
    "np.unique(bsim.lc(0).index.values).size"
   ]
  },
  {
   "cell_type": "code",
   "execution_count": 42,
   "metadata": {
    "collapsed": false
   },
   "outputs": [
    {
     "data": {
      "text/plain": [
       "Index([u'obsHistID', u'objid', u'expMJD', u'filter', u'ModelFlux', u'fieldID',\n",
       "       u'flux', u'fluxerr', u'deviations', u'zp', u'zpsys'],\n",
       "      dtype='object')"
      ]
     },
     "execution_count": 42,
     "metadata": {},
     "output_type": "execute_result"
    }
   ],
   "source": [
    "bsim.lc(0).columns"
   ]
  },
  {
   "cell_type": "code",
   "execution_count": 43,
   "metadata": {
    "collapsed": false
   },
   "outputs": [
    {
     "name": "stderr",
     "output_type": "stream",
     "text": [
      "/usr/local/miniconda/lib/python2.7/site-packages/tables/path.py:100: NaturalNameWarning: object name is not a valid Python identifier: '0'; it does not match the pattern ``^[a-zA-Z_][a-zA-Z0-9_]*$``; you will not be able to use natural naming to access this object; using ``getattr()`` will still work, though\n",
      "  NaturalNameWarning)\n"
     ]
    }
   ],
   "source": [
    "bsim.write_lc(0, 'test_0.hdf', 'hdf')"
   ]
  },
  {
   "cell_type": "code",
   "execution_count": 44,
   "metadata": {
    "collapsed": true
   },
   "outputs": [],
   "source": [
    "lc_0 = pd.read_hdf('test_0.hdf')"
   ]
  },
  {
   "cell_type": "code",
   "execution_count": 45,
   "metadata": {
    "collapsed": false
   },
   "outputs": [
    {
     "data": {
      "text/html": [
       "<div>\n",
       "<table border=\"1\" class=\"dataframe\">\n",
       "  <thead>\n",
       "    <tr style=\"text-align: right;\">\n",
       "      <th></th>\n",
       "      <th>obsHistID</th>\n",
       "      <th>objid</th>\n",
       "      <th>expMJD</th>\n",
       "      <th>filter</th>\n",
       "      <th>ModelFlux</th>\n",
       "      <th>fieldID</th>\n",
       "      <th>flux</th>\n",
       "      <th>fluxerr</th>\n",
       "      <th>deviations</th>\n",
       "      <th>zp</th>\n",
       "      <th>zpsys</th>\n",
       "    </tr>\n",
       "    <tr>\n",
       "      <th>pid</th>\n",
       "      <th></th>\n",
       "      <th></th>\n",
       "      <th></th>\n",
       "      <th></th>\n",
       "      <th></th>\n",
       "      <th></th>\n",
       "      <th></th>\n",
       "      <th></th>\n",
       "      <th></th>\n",
       "      <th></th>\n",
       "      <th></th>\n",
       "    </tr>\n",
       "  </thead>\n",
       "  <tbody>\n",
       "    <tr>\n",
       "      <th>1000000</th>\n",
       "      <td>1</td>\n",
       "      <td>0</td>\n",
       "      <td>59580.033829</td>\n",
       "      <td>y</td>\n",
       "      <td>0.000003</td>\n",
       "      <td>316</td>\n",
       "      <td>0.000003</td>\n",
       "      <td>1.640065e-09</td>\n",
       "      <td>0.729091</td>\n",
       "      <td>0.0</td>\n",
       "      <td>ab</td>\n",
       "    </tr>\n",
       "    <tr>\n",
       "      <th>14000000</th>\n",
       "      <td>14</td>\n",
       "      <td>0</td>\n",
       "      <td>59580.039637</td>\n",
       "      <td>y</td>\n",
       "      <td>0.000003</td>\n",
       "      <td>1118</td>\n",
       "      <td>0.000003</td>\n",
       "      <td>1.624962e-09</td>\n",
       "      <td>0.128983</td>\n",
       "      <td>0.0</td>\n",
       "      <td>ab</td>\n",
       "    </tr>\n",
       "    <tr>\n",
       "      <th>13000000</th>\n",
       "      <td>13</td>\n",
       "      <td>0</td>\n",
       "      <td>59580.039190</td>\n",
       "      <td>y</td>\n",
       "      <td>0.000003</td>\n",
       "      <td>1220</td>\n",
       "      <td>0.000003</td>\n",
       "      <td>1.617539e-09</td>\n",
       "      <td>1.139401</td>\n",
       "      <td>0.0</td>\n",
       "      <td>ab</td>\n",
       "    </tr>\n",
       "    <tr>\n",
       "      <th>12000000</th>\n",
       "      <td>12</td>\n",
       "      <td>0</td>\n",
       "      <td>59580.038741</td>\n",
       "      <td>y</td>\n",
       "      <td>0.000003</td>\n",
       "      <td>1212</td>\n",
       "      <td>0.000003</td>\n",
       "      <td>1.606565e-09</td>\n",
       "      <td>-1.234826</td>\n",
       "      <td>0.0</td>\n",
       "      <td>ab</td>\n",
       "    </tr>\n",
       "    <tr>\n",
       "      <th>11000000</th>\n",
       "      <td>11</td>\n",
       "      <td>0</td>\n",
       "      <td>59580.038293</td>\n",
       "      <td>y</td>\n",
       "      <td>0.000003</td>\n",
       "      <td>1110</td>\n",
       "      <td>0.000003</td>\n",
       "      <td>1.613773e-09</td>\n",
       "      <td>0.402342</td>\n",
       "      <td>0.0</td>\n",
       "      <td>ab</td>\n",
       "    </tr>\n",
       "    <tr>\n",
       "      <th>10000000</th>\n",
       "      <td>10</td>\n",
       "      <td>0</td>\n",
       "      <td>59580.037847</td>\n",
       "      <td>y</td>\n",
       "      <td>0.000003</td>\n",
       "      <td>1021</td>\n",
       "      <td>0.000003</td>\n",
       "      <td>1.628304e-09</td>\n",
       "      <td>-0.684810</td>\n",
       "      <td>0.0</td>\n",
       "      <td>ab</td>\n",
       "    </tr>\n",
       "    <tr>\n",
       "      <th>9000000</th>\n",
       "      <td>9</td>\n",
       "      <td>0</td>\n",
       "      <td>59580.037401</td>\n",
       "      <td>y</td>\n",
       "      <td>0.000003</td>\n",
       "      <td>957</td>\n",
       "      <td>0.000003</td>\n",
       "      <td>1.641323e-09</td>\n",
       "      <td>-0.870797</td>\n",
       "      <td>0.0</td>\n",
       "      <td>ab</td>\n",
       "    </tr>\n",
       "    <tr>\n",
       "      <th>8000000</th>\n",
       "      <td>8</td>\n",
       "      <td>0</td>\n",
       "      <td>59580.036955</td>\n",
       "      <td>y</td>\n",
       "      <td>0.000003</td>\n",
       "      <td>857</td>\n",
       "      <td>0.000003</td>\n",
       "      <td>1.639033e-09</td>\n",
       "      <td>-0.578850</td>\n",
       "      <td>0.0</td>\n",
       "      <td>ab</td>\n",
       "    </tr>\n",
       "    <tr>\n",
       "      <th>7000000</th>\n",
       "      <td>7</td>\n",
       "      <td>0</td>\n",
       "      <td>59580.036509</td>\n",
       "      <td>y</td>\n",
       "      <td>0.000003</td>\n",
       "      <td>770</td>\n",
       "      <td>0.000003</td>\n",
       "      <td>1.637419e-09</td>\n",
       "      <td>-0.311553</td>\n",
       "      <td>0.0</td>\n",
       "      <td>ab</td>\n",
       "    </tr>\n",
       "    <tr>\n",
       "      <th>6000000</th>\n",
       "      <td>6</td>\n",
       "      <td>0</td>\n",
       "      <td>59580.036062</td>\n",
       "      <td>y</td>\n",
       "      <td>0.000003</td>\n",
       "      <td>680</td>\n",
       "      <td>0.000003</td>\n",
       "      <td>1.636423e-09</td>\n",
       "      <td>0.056165</td>\n",
       "      <td>0.0</td>\n",
       "      <td>ab</td>\n",
       "    </tr>\n",
       "    <tr>\n",
       "      <th>5000000</th>\n",
       "      <td>5</td>\n",
       "      <td>0</td>\n",
       "      <td>59580.035616</td>\n",
       "      <td>y</td>\n",
       "      <td>0.000003</td>\n",
       "      <td>587</td>\n",
       "      <td>0.000003</td>\n",
       "      <td>1.636018e-09</td>\n",
       "      <td>-1.165150</td>\n",
       "      <td>0.0</td>\n",
       "      <td>ab</td>\n",
       "    </tr>\n",
       "    <tr>\n",
       "      <th>4000000</th>\n",
       "      <td>4</td>\n",
       "      <td>0</td>\n",
       "      <td>59580.035169</td>\n",
       "      <td>y</td>\n",
       "      <td>0.000003</td>\n",
       "      <td>505</td>\n",
       "      <td>0.000003</td>\n",
       "      <td>1.636188e-09</td>\n",
       "      <td>0.900826</td>\n",
       "      <td>0.0</td>\n",
       "      <td>ab</td>\n",
       "    </tr>\n",
       "    <tr>\n",
       "      <th>3000000</th>\n",
       "      <td>3</td>\n",
       "      <td>0</td>\n",
       "      <td>59580.034722</td>\n",
       "      <td>y</td>\n",
       "      <td>0.000003</td>\n",
       "      <td>441</td>\n",
       "      <td>0.000003</td>\n",
       "      <td>1.636923e-09</td>\n",
       "      <td>0.465662</td>\n",
       "      <td>0.0</td>\n",
       "      <td>ab</td>\n",
       "    </tr>\n",
       "    <tr>\n",
       "      <th>2000000</th>\n",
       "      <td>2</td>\n",
       "      <td>0</td>\n",
       "      <td>59580.034275</td>\n",
       "      <td>y</td>\n",
       "      <td>0.000003</td>\n",
       "      <td>372</td>\n",
       "      <td>0.000003</td>\n",
       "      <td>1.638228e-09</td>\n",
       "      <td>-1.536244</td>\n",
       "      <td>0.0</td>\n",
       "      <td>ab</td>\n",
       "    </tr>\n",
       "  </tbody>\n",
       "</table>\n",
       "</div>"
      ],
      "text/plain": [
       "          obsHistID  objid        expMJD filter  ModelFlux  fieldID      flux  \\\n",
       "pid                                                                             \n",
       "1000000           1      0  59580.033829      y   0.000003      316  0.000003   \n",
       "14000000         14      0  59580.039637      y   0.000003     1118  0.000003   \n",
       "13000000         13      0  59580.039190      y   0.000003     1220  0.000003   \n",
       "12000000         12      0  59580.038741      y   0.000003     1212  0.000003   \n",
       "11000000         11      0  59580.038293      y   0.000003     1110  0.000003   \n",
       "10000000         10      0  59580.037847      y   0.000003     1021  0.000003   \n",
       "9000000           9      0  59580.037401      y   0.000003      957  0.000003   \n",
       "8000000           8      0  59580.036955      y   0.000003      857  0.000003   \n",
       "7000000           7      0  59580.036509      y   0.000003      770  0.000003   \n",
       "6000000           6      0  59580.036062      y   0.000003      680  0.000003   \n",
       "5000000           5      0  59580.035616      y   0.000003      587  0.000003   \n",
       "4000000           4      0  59580.035169      y   0.000003      505  0.000003   \n",
       "3000000           3      0  59580.034722      y   0.000003      441  0.000003   \n",
       "2000000           2      0  59580.034275      y   0.000003      372  0.000003   \n",
       "\n",
       "               fluxerr  deviations   zp zpsys  \n",
       "pid                                            \n",
       "1000000   1.640065e-09    0.729091  0.0    ab  \n",
       "14000000  1.624962e-09    0.128983  0.0    ab  \n",
       "13000000  1.617539e-09    1.139401  0.0    ab  \n",
       "12000000  1.606565e-09   -1.234826  0.0    ab  \n",
       "11000000  1.613773e-09    0.402342  0.0    ab  \n",
       "10000000  1.628304e-09   -0.684810  0.0    ab  \n",
       "9000000   1.641323e-09   -0.870797  0.0    ab  \n",
       "8000000   1.639033e-09   -0.578850  0.0    ab  \n",
       "7000000   1.637419e-09   -0.311553  0.0    ab  \n",
       "6000000   1.636423e-09    0.056165  0.0    ab  \n",
       "5000000   1.636018e-09   -1.165150  0.0    ab  \n",
       "4000000   1.636188e-09    0.900826  0.0    ab  \n",
       "3000000   1.636923e-09    0.465662  0.0    ab  \n",
       "2000000   1.638228e-09   -1.536244  0.0    ab  "
      ]
     },
     "execution_count": 45,
     "metadata": {},
     "output_type": "execute_result"
    }
   ],
   "source": [
    "lc_0"
   ]
  },
  {
   "cell_type": "code",
   "execution_count": 46,
   "metadata": {
    "collapsed": true
   },
   "outputs": [],
   "source": [
    "from snsims import PowerLawRates"
   ]
  },
  {
   "cell_type": "code",
   "execution_count": 47,
   "metadata": {
    "collapsed": false
   },
   "outputs": [],
   "source": [
    "pr = PowerLawRates(np.random.RandomState(0), numBins=28, fieldArea=1.0)"
   ]
  },
  {
   "cell_type": "code",
   "execution_count": 48,
   "metadata": {
    "collapsed": false
   },
   "outputs": [
    {
     "data": {
      "text/plain": [
       "(2480,)"
      ]
     },
     "execution_count": 48,
     "metadata": {},
     "output_type": "execute_result"
    }
   ],
   "source": [
    "np.shape(pr.zSamples)"
   ]
  },
  {
   "cell_type": "code",
   "execution_count": 144,
   "metadata": {
    "collapsed": false
   },
   "outputs": [
    {
     "data": {
      "text/plain": [
       "750"
      ]
     },
     "execution_count": 144,
     "metadata": {},
     "output_type": "execute_result"
    }
   ],
   "source": [
    "30 * 25000 / 1000"
   ]
  },
  {
   "cell_type": "code",
   "execution_count": null,
   "metadata": {
    "collapsed": true
   },
   "outputs": [],
   "source": [
    "class SaltPopulation(BasePopulationFromStochasticModel):\n",
    "    def __init__(self, saltdist, tiling):\n",
    "        "
   ]
  },
  {
   "cell_type": "code",
   "execution_count": 45,
   "metadata": {
    "collapsed": true
   },
   "outputs": [],
   "source": [
    "from astropy.cosmology import Planck15"
   ]
  },
  {
   "cell_type": "code",
   "execution_count": 48,
   "metadata": {
    "collapsed": true
   },
   "outputs": [],
   "source": [
    "from opsimsummary import Tiling"
   ]
  },
  {
   "cell_type": "code",
   "execution_count": 49,
   "metadata": {
    "collapsed": false
   },
   "outputs": [
    {
     "data": {
      "text/plain": [
       "['__abstractmethods__',\n",
       " '__class__',\n",
       " '__delattr__',\n",
       " '__dict__',\n",
       " '__doc__',\n",
       " '__format__',\n",
       " '__getattribute__',\n",
       " '__hash__',\n",
       " '__init__',\n",
       " '__module__',\n",
       " '__new__',\n",
       " '__reduce__',\n",
       " '__reduce_ex__',\n",
       " '__repr__',\n",
       " '__setattr__',\n",
       " '__sizeof__',\n",
       " '__str__',\n",
       " '__subclasshook__',\n",
       " '__weakref__',\n",
       " '_abc_cache',\n",
       " '_abc_negative_cache',\n",
       " '_abc_negative_cache_version',\n",
       " '_abc_registry',\n",
       " 'area',\n",
       " 'pointingSequenceForTile',\n",
       " 'positions',\n",
       " 'samplePatchOnSphere',\n",
       " 'tileIDSequence',\n",
       " 'tileIDsForSN']"
      ]
     },
     "execution_count": 49,
     "metadata": {},
     "output_type": "execute_result"
    }
   ],
   "source": [
    "dir(Tiling)"
   ]
  },
  {
   "cell_type": "code",
   "execution_count": 24,
   "metadata": {
    "collapsed": false
   },
   "outputs": [],
   "source": [
    "from opsimsummary import HealpixTiles, Tiling"
   ]
  },
  {
   "cell_type": "code",
   "execution_count": 25,
   "metadata": {
    "collapsed": true
   },
   "outputs": [],
   "source": [
    "hpTiles = HealpixTiles(nside=256,\n",
    "                       preComputedMap='/Users/rbiswas/data/LSST/OpSimData/healpixelized_MINION_1016_256.db')"
   ]
  },
  {
   "cell_type": "code",
   "execution_count": 27,
   "metadata": {
    "collapsed": false
   },
   "outputs": [],
   "source": [
    "r = hpTiles.positions(0, 1000)"
   ]
  },
  {
   "cell_type": "code",
   "execution_count": 29,
   "metadata": {
    "collapsed": false
   },
   "outputs": [
    {
     "data": {
      "text/plain": [
       "array([ 45.02523028,  45.05311539,  45.02319881,  44.96774065,\n",
       "        45.03517025,  44.98008981,  44.87830566,  45.06080236,\n",
       "        45.09397761,  44.96745365,  45.08819774,  44.9046003 ,\n",
       "        44.98258702,  44.86790104,  44.84317227,  44.90592081,\n",
       "        45.04757379,  44.85686897,  45.11642737,  44.9606429 ,\n",
       "        44.89743981,  44.89149724,  45.03616282,  44.93154659,\n",
       "        45.10538406,  45.11477406,  44.92762674,  45.01087321,\n",
       "        44.84493695,  44.92006679,  45.03991721,  45.05890568,\n",
       "        45.01841756,  45.04647184,  44.99506844,  44.96610187,\n",
       "        45.09272289,  45.13354839,  45.09690722,  45.11932263,\n",
       "        44.96107212,  44.93496213,  44.9811732 ,  44.94627629,\n",
       "        45.03381437,  44.83629658,  44.99382664,  45.02697677,\n",
       "        45.0446629 ,  44.99257132,  44.89301822,  44.98882024,\n",
       "        45.07208928,  44.91375759,  44.95205567,  45.10182213,\n",
       "        44.93477769,  44.97925068,  45.04007969,  44.96402705,\n",
       "        45.01869909,  45.02264202,  44.97772877,  44.97860359,\n",
       "        45.10317882,  45.03915357,  45.16579517,  44.94750363,\n",
       "        44.96073449,  44.92524438,  44.94896392,  44.96319659,\n",
       "        45.06123899,  44.99498912,  45.14639562,  45.00894627,\n",
       "        44.96076381,  45.02826653,  44.955992  ,  44.92792007,\n",
       "        45.09808568,  44.93502736,  44.97379033,  45.0692595 ,\n",
       "        45.12961304,  45.10315453,  44.9394269 ,  45.02423344,\n",
       "        45.04767121,  45.00303216,  44.90199138,  45.12952526,\n",
       "        44.97215902,  45.09330267,  45.10881599,  45.02257591,\n",
       "        44.84997821,  45.00506905,  45.0103128 ,  44.95363749,\n",
       "        45.06141778,  45.00140628,  44.94269695,  44.97229284,\n",
       "        44.96912408,  45.08920276,  44.92876954,  44.9848293 ,\n",
       "        44.91109201,  45.00750121,  44.9775264 ,  44.9159968 ,\n",
       "        45.07111248,  45.04636059,  44.94821042,  44.99885095,\n",
       "        44.96056604,  44.88176687,  44.95027327,  44.94821582,\n",
       "        45.08858312,  44.95091568,  44.95109036,  45.05494757,\n",
       "        45.00938111,  44.87855587,  45.0308481 ,  44.92998707,\n",
       "        44.93610916,  44.93017687,  44.99791716,  44.88491368,\n",
       "        45.00394659,  44.89683448,  45.0255854 ,  45.01073098,\n",
       "        45.15086404,  45.0908086 ,  44.86814081,  44.85344503,\n",
       "        44.97575578,  44.99687698,  44.962219  ,  44.86673963,\n",
       "        44.9914166 ,  45.06288532,  44.83616915,  45.05463943,\n",
       "        44.98934447,  44.95767304,  44.98611839,  45.12058035,\n",
       "        44.95334011,  45.00808301,  45.10035453,  44.991481  ,\n",
       "        44.8877547 ,  44.91710996,  44.99580933,  45.01688544,\n",
       "        44.9051762 ,  44.97254225,  44.99297596,  45.03506762,\n",
       "        44.99905907,  44.8508594 ,  44.9144443 ,  45.03437507,\n",
       "        44.9317304 ,  45.00895535,  44.9137198 ,  44.91226998,\n",
       "        44.94584912,  45.11772833,  44.89189176,  44.98969405,\n",
       "        44.90816939,  44.90515459,  45.0305852 ,  44.99605183,\n",
       "        45.00354726,  45.12242249,  45.00771285,  45.09155909,\n",
       "        44.98763851,  45.01196866,  44.89812724,  44.95711509,\n",
       "        44.96217514,  44.88014244,  44.98028316,  44.94634083,\n",
       "        44.86496173,  45.01671357,  45.03523108,  45.08682245,\n",
       "        44.99856899,  44.99307708,  45.09952587,  44.99402625,\n",
       "        45.03876031,  45.10578519,  44.91937341,  44.96210893,\n",
       "        44.95577551,  45.13169036,  44.94457023,  44.96638025,\n",
       "        44.91329436,  45.11581655,  45.02043532,  45.03744741,\n",
       "        45.04666306,  44.90613777,  45.03576538,  44.95588205,\n",
       "        44.95930851,  45.05798302,  45.06866611,  45.00305366,\n",
       "        44.98243763,  44.91712029,  44.94098781,  45.01631644,\n",
       "        45.07501788,  45.15571945,  45.01560917,  45.04375977,\n",
       "        44.89846013,  44.99575341,  44.98089872,  45.09649463,\n",
       "        44.93090697,  45.02212542,  45.11063816,  45.03737856,\n",
       "        44.83267942,  44.9763967 ,  45.01779691,  44.9940214 ,\n",
       "        44.95807786,  45.06245948,  45.0002778 ,  45.03695495,\n",
       "        45.06482471,  44.99023216,  44.87156935,  44.97408489,\n",
       "        44.8923183 ,  44.88285107,  45.03882275,  44.87744536,\n",
       "        45.00865175,  44.9816461 ,  44.92856909,  44.99740098,\n",
       "        44.96683819,  45.12332136,  45.01374063,  45.01607663,\n",
       "        44.92371354,  44.95311739,  45.08111717,  44.99219798,\n",
       "        44.9620469 ,  44.9549788 ,  45.04605234,  45.09372437,\n",
       "        44.97963361,  45.03024888,  45.00579058,  44.96048513,\n",
       "        45.12508755,  44.93799337,  44.93664724,  45.11595014,\n",
       "        44.87607845,  44.87489595,  45.07720641,  45.00035773,\n",
       "        44.93138613,  45.02767428,  45.083828  ,  45.04186438,\n",
       "        45.00947827,  45.01360487,  44.9848723 ,  45.00034993,\n",
       "        44.95922445,  44.87658104,  44.95143342,  45.01765425,\n",
       "        44.90846585,  44.94857676,  45.00987168,  44.9124509 ,\n",
       "        44.97696637,  44.97669133,  44.97326855,  45.06059688,\n",
       "        45.04714911,  45.02041739,  45.04356782,  44.89879704,\n",
       "        45.02121527,  44.90586379,  45.00427523,  44.97305971,\n",
       "        45.10006193,  45.08965563,  44.89216086,  45.15470236,\n",
       "        45.13079023,  44.96621346,  45.12322327,  45.04558893,\n",
       "        45.04673622,  45.02370041,  44.99443097,  44.98536897,\n",
       "        44.98357462,  44.96516117,  44.89986614,  45.07555671,\n",
       "        44.98023363,  45.04849804,  44.94114825,  45.02113752,\n",
       "        44.93237324,  45.09831466,  44.96605704,  44.83785944,\n",
       "        45.10579417,  44.96809937,  44.92014826,  45.02785724,\n",
       "        44.98915683,  44.96021748,  44.90120745,  45.00268336,\n",
       "        44.99457141,  45.07578797,  44.93513007,  44.97967522,\n",
       "        44.95959807,  45.03995242,  44.91469281,  45.0685019 ,\n",
       "        45.0542905 ,  45.07294305,  45.06224216,  44.98720142,\n",
       "        44.94344559,  44.91867288,  45.048379  ,  45.10001914,\n",
       "        44.9150718 ,  45.0928898 ,  45.04911545,  44.90934085,\n",
       "        44.85973074,  45.03807969,  44.89360284,  45.01440618,\n",
       "        45.01854946,  44.88417634,  45.01811868,  44.91632007,\n",
       "        45.0672021 ,  44.9782236 ,  45.01012366,  44.91573006,\n",
       "        44.97293682,  44.94373122,  44.88537427,  45.07933523,\n",
       "        45.01300433,  44.95677266,  44.98815037,  44.89499917,\n",
       "        44.86303624,  45.01348844,  44.99600002,  44.95637026,\n",
       "        44.99809138,  44.96439189,  44.90163671,  45.13348491,\n",
       "        45.04302429,  44.85924002,  44.91294334,  45.06810776,\n",
       "        44.94750231,  44.99815479,  44.97397395,  45.05003414,\n",
       "        44.8864502 ,  45.03221465,  44.91153923,  45.05216921,\n",
       "        45.08745099,  44.96871561,  45.06815998,  45.12789658,\n",
       "        44.99605397,  45.00838915,  44.99962287,  44.93662767,\n",
       "        44.96183026,  44.9358886 ,  45.06632744,  44.99444469,\n",
       "        45.10688151,  45.02061829,  44.88337755,  45.00967987,\n",
       "        45.00573886,  44.89282272,  45.03438136,  44.92232061,\n",
       "        45.03194929,  45.00432792,  45.03089058,  44.97286927,\n",
       "        45.05566948,  45.00294288,  44.87938489,  44.96206599,\n",
       "        44.99590102,  45.07735554,  44.98700974,  44.9615605 ,\n",
       "        45.03127684,  44.98556755,  45.06424707,  45.05159642,\n",
       "        44.95698691,  45.00023015,  44.99768171,  44.86404489,\n",
       "        44.92094487,  45.06856164,  44.95555706,  45.01168947,\n",
       "        45.00065376,  44.99361785,  44.99980422,  44.91320413,\n",
       "        44.94919184,  45.03372181,  44.88844483,  44.9552313 ,\n",
       "        44.94759249,  45.14025941,  45.04708278,  45.00167848,\n",
       "        44.90993755,  45.04266023,  44.86331696,  45.12193049,\n",
       "        44.99845132,  45.13224009,  44.97511103,  45.04293677,\n",
       "        44.99815991,  45.15273564,  45.07033036,  45.06016516,\n",
       "        45.018167  ,  44.90972964,  45.0677738 ,  44.92727693,\n",
       "        44.99104257,  44.93445869,  45.10050212,  44.99294658,\n",
       "        44.92377578,  44.89043725,  45.04766494,  44.94009366,\n",
       "        45.00494233,  45.07742253,  45.01837483,  45.06365176,\n",
       "        45.09988496,  45.05855401,  44.99284759,  45.07061735,\n",
       "        45.03367276,  45.05069847,  44.94610412,  45.00885894,\n",
       "        45.02152369,  45.00783513,  45.10105385,  44.89001116,\n",
       "        44.95773655,  44.98747772,  44.89104803,  45.09418201,\n",
       "        45.02483689,  45.03554878,  44.93804266,  45.03454023,\n",
       "        45.02474473,  44.90072785,  44.96383303,  44.97504894,\n",
       "        45.15439452,  44.99114483,  44.98472923,  44.91456087,\n",
       "        44.871661  ,  44.89644302,  44.92540222,  44.98968503,\n",
       "        44.99009133,  44.93209184,  44.89099634,  44.99194647,\n",
       "        45.07551872,  45.01689865,  44.95725711,  45.05685635,\n",
       "        44.98426481,  45.0399567 ,  44.96126824,  44.93881626,\n",
       "        44.99732009,  44.87970712,  44.84173113,  45.01102623,\n",
       "        45.01241839,  44.87932433,  44.95885975,  45.15474496,\n",
       "        45.06075059,  45.13237665,  45.09524536,  45.1450542 ,\n",
       "        45.11179714,  44.95077204,  45.04969369,  44.95266874,\n",
       "        45.04660479,  45.0816123 ,  45.00315637,  44.87385943,\n",
       "        44.98470059,  44.92141625,  44.99612662,  44.91233986,\n",
       "        44.88090138,  45.00982445,  44.95972004,  45.00448037,\n",
       "        44.93559232,  44.92074656,  45.06570908,  45.00104642,\n",
       "        44.97440651,  45.10437668,  44.86165315,  45.14786936,\n",
       "        45.10671875,  44.94361779,  44.9473071 ,  44.97201391,\n",
       "        44.97886646,  44.89629338,  45.05062543,  45.10748625,\n",
       "        44.96857527,  45.01042673,  44.98715752,  44.98869099,\n",
       "        44.91704814,  44.96918227,  45.01328343,  44.91482414,\n",
       "        45.0828233 ,  45.01191629,  45.04104691,  45.0465698 ,\n",
       "        45.05689349,  45.06263405,  44.97366228,  45.06496991,\n",
       "        45.09766342,  45.09629999,  45.0508053 ,  44.98650439,\n",
       "        45.02792577,  44.92233151,  45.06584781,  44.91548842,\n",
       "        45.01251432,  44.98753104,  45.01383793,  45.0973711 ,\n",
       "        44.93214232,  44.9373218 ,  44.93748677,  45.07588776,\n",
       "        44.95289654,  45.08621655,  44.96195671,  45.06652803,\n",
       "        45.04244303,  44.94148273,  44.98378795,  45.03611687,\n",
       "        45.02051753,  45.03910062,  45.16084791,  44.99515534,\n",
       "        45.00025517,  44.96415576,  44.88198875,  44.99262466,\n",
       "        45.15018701,  45.01196749,  45.02039061,  45.0345155 ,\n",
       "        45.03203129,  45.0119163 ,  44.85265539,  44.87928317,\n",
       "        44.93827253,  44.98172343,  45.01002262,  44.88063548,\n",
       "        44.93453608,  45.05824522,  44.91673181,  44.99060735,\n",
       "        44.89775787,  45.00484799,  44.84481132,  44.95916961,\n",
       "        45.07058763,  44.97638042,  45.04520492,  44.91140236,\n",
       "        44.94743595,  45.07844877,  45.15842268,  44.87830735,\n",
       "        45.09728382,  45.09289857,  45.01023264,  44.89739984,\n",
       "        45.0500283 ,  45.01278139,  44.99224012,  44.99696932,\n",
       "        45.08018238,  45.15269009,  44.94392845,  44.98049679,\n",
       "        45.11022593,  45.11561836,  44.88760714,  44.97292593,\n",
       "        45.06636292,  45.0388295 ,  45.0853425 ,  45.09133188,\n",
       "        44.90923412,  45.01146686,  45.13086017,  45.14865868,\n",
       "        44.94509618,  44.95060218,  44.99257682,  44.87662015,\n",
       "        44.92781051,  44.98034234,  45.03872533,  44.94896408,\n",
       "        45.07024709,  45.02162255,  45.01573965,  45.02617842,\n",
       "        45.0524934 ,  45.12239121,  45.02533064,  44.99065648,\n",
       "        45.02034343,  44.96140151,  44.87028716,  45.07804895,\n",
       "        44.9831152 ,  44.99948967,  44.96102317,  45.10751248,\n",
       "        45.09141956,  44.96195885,  45.02162683,  45.07084757,\n",
       "        44.85660841,  45.09686496,  45.00220653,  45.01497469,\n",
       "        45.08534771,  44.95203899,  45.00474796,  45.0826861 ,\n",
       "        44.98276652,  44.89264157,  45.1037623 ,  45.02378112,\n",
       "        45.06235163,  45.09327515,  45.03900889,  45.05808689,\n",
       "        45.00140202,  45.07773282,  44.97818665,  45.00172555,\n",
       "        44.99162038,  44.86786656,  44.87979923,  45.06413349,\n",
       "        45.16681079,  45.02914518,  44.99567269,  45.01939891,\n",
       "        45.00955722,  44.91861765,  45.01897136,  45.03705621,\n",
       "        44.98338118,  44.98819953,  45.06574147,  44.99621903,\n",
       "        44.92724663,  45.06722499,  44.97000571,  44.95400304,\n",
       "        45.02556301,  44.96475622,  44.88953261,  44.98813452,\n",
       "        45.03792732,  45.12884678,  45.04769616,  45.1341093 ,\n",
       "        45.09301479,  44.9744467 ,  44.9790852 ,  45.06157667,\n",
       "        45.06186357,  45.0457499 ,  44.96551528,  44.98876555,\n",
       "        45.02742172,  44.97239644,  44.94780596,  45.00277173,\n",
       "        45.13446885,  44.86260323,  44.97654605,  44.9744534 ,\n",
       "        45.1337473 ,  44.94662817,  44.87791327,  44.98124818,\n",
       "        44.94911024,  44.99469249,  44.89431903,  45.06481705,\n",
       "        45.00618949,  45.09361826,  45.07518222,  45.05112834,\n",
       "        44.9144807 ,  45.04539379,  45.01563979,  45.10251996,\n",
       "        45.02671064,  44.9120917 ,  44.8987045 ,  45.00922219,\n",
       "        44.99468558,  44.85194112,  45.13556429,  45.13540186,\n",
       "        45.1310678 ,  45.07763475,  45.07413834,  44.99660813,\n",
       "        45.00959895,  45.01418861,  45.03660779,  44.87624149,\n",
       "        44.96582329,  45.07946283,  44.89986953,  44.9706249 ,\n",
       "        44.98875739,  44.92724872,  45.03414668,  44.99863061,\n",
       "        44.93566691,  45.16490127,  45.04290695,  45.0642165 ,\n",
       "        45.05117734,  44.98134998,  44.91440128,  45.0905935 ,\n",
       "        45.04520875,  44.9557802 ,  45.03467704,  45.09377768,\n",
       "        44.98459949,  44.92950689,  44.8722477 ,  44.93360074,\n",
       "        44.9166336 ,  45.00040405,  44.98717227,  44.99154677,\n",
       "        45.08777891,  44.93189688,  45.02934073,  44.98204403,\n",
       "        45.06623993,  44.95888792,  44.941911  ,  44.93420374,\n",
       "        44.93388401,  44.92827684,  45.13182304,  45.15007126,\n",
       "        45.16543365,  45.01561765,  44.98255488,  45.01502066,\n",
       "        44.9939964 ,  45.09798767,  44.99201287,  44.93287961,\n",
       "        44.96310775,  45.07387536,  45.00891387,  45.09821464,\n",
       "        44.93997002,  45.11743362,  44.99633938,  44.92108839,\n",
       "        44.98672414,  44.99267072,  45.14681333,  44.89697963,\n",
       "        45.12514545,  45.00890133,  45.0571649 ,  45.05767715,\n",
       "        44.91419878,  44.98044265,  44.99365948,  45.00971892,\n",
       "        44.97830522,  45.03886759,  45.06172142,  45.05056776,\n",
       "        44.96717834,  45.07118558,  44.87052711,  44.83246051,\n",
       "        44.87824279,  44.96868409,  45.08709195,  45.01915783,\n",
       "        45.04076786,  45.02508414,  44.93729305,  44.91109206,\n",
       "        44.87731846,  45.01283278,  44.94734707,  44.97539227,\n",
       "        44.93017874,  45.06600733,  44.9447807 ,  44.95420962,\n",
       "        45.00803638,  44.83763965,  44.95955809,  45.07409317,\n",
       "        45.06435411,  44.905142  ,  44.98811412,  45.02233023,\n",
       "        45.04849192,  45.02440986,  45.0191414 ,  45.14941385,\n",
       "        45.00063783,  45.03110218,  45.01785131,  45.00239475,\n",
       "        44.95668689,  45.01944173,  44.97890178,  45.11219713,\n",
       "        44.93621542,  45.00419025,  45.11612837,  44.89955232,\n",
       "        44.87543239,  45.00404439,  45.10701796,  45.03677676,\n",
       "        45.0222509 ,  45.09847696,  44.98182608,  44.95879534,\n",
       "        45.02182375,  45.00746264,  45.03431523,  45.07913538,\n",
       "        44.99441933,  45.04353667,  45.00769552,  45.04291259,\n",
       "        44.89398624,  44.94943852,  45.13929015,  45.0338249 ,\n",
       "        44.9785671 ,  45.04012173,  44.86003276,  45.08835414,\n",
       "        44.98813554,  45.06044028,  45.04937251,  45.0554315 ,\n",
       "        44.95272455,  44.91305759,  45.08743274,  45.00698365,\n",
       "        44.90693335,  44.87342962,  45.01597297,  44.94263111,\n",
       "        45.02275684,  44.99256613,  44.88270561,  44.92984208,\n",
       "        45.06579693,  45.01995582,  45.03057682,  45.01712097,\n",
       "        44.99964245,  44.9084174 ,  45.05976135,  44.92224699,\n",
       "        44.8407768 ,  45.10187705,  45.1234518 ,  45.00598854,\n",
       "        45.05140623,  45.03750054,  44.98013601,  45.12172424,\n",
       "        44.97472645,  45.02917574,  45.0001235 ,  45.05460595,\n",
       "        45.08996784,  45.02314482,  44.88250489,  45.02460879,\n",
       "        44.93554613,  44.98590422,  44.86304078,  45.00251134,\n",
       "        45.03177809,  44.98708515,  45.02789757,  44.95629783,\n",
       "        45.0549006 ,  44.99871775,  45.05521017,  44.91860368,\n",
       "        44.86855159,  45.01520154,  44.98672693,  45.08391928,\n",
       "        45.12051179,  44.9494188 ,  44.94553868,  44.93354089,\n",
       "        44.99234326,  45.10475328,  45.03664412,  45.00472516])"
      ]
     },
     "execution_count": 29,
     "metadata": {},
     "output_type": "execute_result"
    }
   ],
   "source": [
    "r[0]"
   ]
  },
  {
   "cell_type": "code",
   "execution_count": 56,
   "metadata": {
    "collapsed": false
   },
   "outputs": [],
   "source": [
    "class TiledPopulation(BasePopulationFromStochasticModel, Tiling):\n",
    "    def __init__(self):\n",
    "        return super(self.__class__).__init()"
   ]
  },
  {
   "cell_type": "code",
   "execution_count": 57,
   "metadata": {
    "collapsed": false
   },
   "outputs": [
    {
     "ename": "TypeError",
     "evalue": "Can't instantiate abstract class TiledPopulation with abstract methods area, hasPositions, idxvalues, modelparams, numSources, pointingSequenceForTile, pop_rng, positions, set_pop_rng, tileIDSequence, tileIDsForSN",
     "output_type": "error",
     "traceback": [
      "\u001b[0;31m---------------------------------------------------------------------------\u001b[0m",
      "\u001b[0;31mTypeError\u001b[0m                                 Traceback (most recent call last)",
      "\u001b[0;32m<ipython-input-57-51c30396c5e9>\u001b[0m in \u001b[0;36m<module>\u001b[0;34m()\u001b[0m\n\u001b[0;32m----> 1\u001b[0;31m \u001b[0mtp\u001b[0m \u001b[0;34m=\u001b[0m \u001b[0mTiledPopulation\u001b[0m\u001b[0;34m(\u001b[0m\u001b[0;34m)\u001b[0m\u001b[0;34m\u001b[0m\u001b[0m\n\u001b[0m",
      "\u001b[0;31mTypeError\u001b[0m: Can't instantiate abstract class TiledPopulation with abstract methods area, hasPositions, idxvalues, modelparams, numSources, pointingSequenceForTile, pop_rng, positions, set_pop_rng, tileIDSequence, tileIDsForSN"
     ]
    }
   ],
   "source": [
    "tp = TiledPopulation()"
   ]
  },
  {
   "cell_type": "code",
   "execution_count": 68,
   "metadata": {
    "collapsed": false
   },
   "outputs": [],
   "source": [
    "class HPTP(SALTPopulation):\n",
    "    def __init__(self):\n",
    "        return super(self.__class__, self).__init__()"
   ]
  },
  {
   "cell_type": "code",
   "execution_count": 64,
   "metadata": {
    "collapsed": false
   },
   "outputs": [],
   "source": [
    "hptp = HPTP()"
   ]
  },
  {
   "cell_type": "code",
   "execution_count": 67,
   "metadata": {
    "collapsed": false
   },
   "outputs": [
    {
     "ename": "AttributeError",
     "evalue": "'HPTP' object has no attribute 'npix'",
     "output_type": "error",
     "traceback": [
      "\u001b[0;31m---------------------------------------------------------------------------\u001b[0m",
      "\u001b[0;31mAttributeError\u001b[0m                            Traceback (most recent call last)",
      "\u001b[0;32m<ipython-input-67-33e27adc8060>\u001b[0m in \u001b[0;36m<module>\u001b[0;34m()\u001b[0m\n\u001b[0;32m----> 1\u001b[0;31m \u001b[0mhptp\u001b[0m\u001b[0;34m.\u001b[0m\u001b[0marea\u001b[0m\u001b[0;34m(\u001b[0m\u001b[0;36m0\u001b[0m\u001b[0;34m)\u001b[0m\u001b[0;34m\u001b[0m\u001b[0m\n\u001b[0m",
      "\u001b[0;32m/Users/rbiswas/.local/lib/python2.7/site-packages/opsimsummary/healpixTiles.pyc\u001b[0m in \u001b[0;36marea\u001b[0;34m(self, tileID)\u001b[0m\n\u001b[1;32m     64\u001b[0m \u001b[0;34m\u001b[0m\u001b[0m\n\u001b[1;32m     65\u001b[0m     \u001b[0;32mdef\u001b[0m \u001b[0marea\u001b[0m\u001b[0;34m(\u001b[0m\u001b[0mself\u001b[0m\u001b[0;34m,\u001b[0m \u001b[0mtileID\u001b[0m\u001b[0;34m)\u001b[0m\u001b[0;34m:\u001b[0m\u001b[0;34m\u001b[0m\u001b[0m\n\u001b[0;32m---> 66\u001b[0;31m         \u001b[0;32mif\u001b[0m \u001b[0mtileID\u001b[0m \u001b[0;32mnot\u001b[0m \u001b[0;32min\u001b[0m \u001b[0mself\u001b[0m\u001b[0;34m.\u001b[0m\u001b[0mtileIDSequence\u001b[0m\u001b[0;34m:\u001b[0m\u001b[0;34m\u001b[0m\u001b[0m\n\u001b[0m\u001b[1;32m     67\u001b[0m             \u001b[0;32mraise\u001b[0m \u001b[0mValueError\u001b[0m\u001b[0;34m(\u001b[0m\u001b[0;34m'parameter tileID not in set of healpixIDs'\u001b[0m\u001b[0;34m)\u001b[0m\u001b[0;34m\u001b[0m\u001b[0m\n\u001b[1;32m     68\u001b[0m         \u001b[0;32mreturn\u001b[0m \u001b[0mself\u001b[0m\u001b[0;34m.\u001b[0m\u001b[0m_tileArea\u001b[0m \u001b[0;34m*\u001b[0m \u001b[0mnp\u001b[0m\u001b[0;34m.\u001b[0m\u001b[0mdegrees\u001b[0m\u001b[0;34m(\u001b[0m\u001b[0;36m1.\u001b[0m\u001b[0;34m)\u001b[0m \u001b[0;34m*\u001b[0m \u001b[0mnp\u001b[0m\u001b[0;34m.\u001b[0m\u001b[0mdegrees\u001b[0m\u001b[0;34m(\u001b[0m\u001b[0;36m1.\u001b[0m\u001b[0;34m)\u001b[0m\u001b[0;34m\u001b[0m\u001b[0m\n",
      "\u001b[0;32m/Users/rbiswas/.local/lib/python2.7/site-packages/opsimsummary/healpixTiles.pyc\u001b[0m in \u001b[0;36mtileIDSequence\u001b[0;34m(self)\u001b[0m\n\u001b[1;32m     61\u001b[0m     \u001b[0;34m@\u001b[0m\u001b[0mproperty\u001b[0m\u001b[0;34m\u001b[0m\u001b[0m\n\u001b[1;32m     62\u001b[0m     \u001b[0;32mdef\u001b[0m \u001b[0mtileIDSequence\u001b[0m\u001b[0;34m(\u001b[0m\u001b[0mself\u001b[0m\u001b[0;34m)\u001b[0m\u001b[0;34m:\u001b[0m\u001b[0;34m\u001b[0m\u001b[0m\n\u001b[0;32m---> 63\u001b[0;31m         \u001b[0;32mreturn\u001b[0m \u001b[0mxrange\u001b[0m\u001b[0;34m(\u001b[0m\u001b[0mself\u001b[0m\u001b[0;34m.\u001b[0m\u001b[0mnpix\u001b[0m\u001b[0;34m)\u001b[0m\u001b[0;34m\u001b[0m\u001b[0m\n\u001b[0m\u001b[1;32m     64\u001b[0m \u001b[0;34m\u001b[0m\u001b[0m\n\u001b[1;32m     65\u001b[0m     \u001b[0;32mdef\u001b[0m \u001b[0marea\u001b[0m\u001b[0;34m(\u001b[0m\u001b[0mself\u001b[0m\u001b[0;34m,\u001b[0m \u001b[0mtileID\u001b[0m\u001b[0;34m)\u001b[0m\u001b[0;34m:\u001b[0m\u001b[0;34m\u001b[0m\u001b[0m\n",
      "\u001b[0;31mAttributeError\u001b[0m: 'HPTP' object has no attribute 'npix'"
     ]
    }
   ],
   "source": [
    "hptp.area(0)"
   ]
  },
  {
   "cell_type": "code",
   "execution_count": 50,
   "metadata": {
    "collapsed": true
   },
   "outputs": [],
   "source": [
    "from snsims import SALT2_MMDist"
   ]
  },
  {
   "cell_type": "code",
   "execution_count": 52,
   "metadata": {
    "collapsed": false
   },
   "outputs": [],
   "source": [
    "mB, x1, c, z = SALT2_MMDist(10000)"
   ]
  },
  {
   "cell_type": "code",
   "execution_count": 56,
   "metadata": {
    "collapsed": false
   },
   "outputs": [
    {
     "data": {
      "text/plain": [
       "(array([   32.,   392.,  1909.,  2785.,  2305.,  1495.,   715.,   259.,\n",
       "           91.,    17.]),\n",
       " array([-0.21080679, -0.16057906, -0.11035133, -0.06012359, -0.00989586,\n",
       "         0.04033187,  0.09055961,  0.14078734,  0.19101507,  0.24124281,\n",
       "         0.29147054]),\n",
       " <a list of 10 Patch objects>)"
      ]
     },
     "execution_count": 56,
     "metadata": {},
     "output_type": "execute_result"
    },
    {
     "data": {
      "image/png": "[encoded data removed]",
      "text/plain": [
       "<matplotlib.figure.Figure at 0x11941ff50>"
      ]
     },
     "metadata": {},
     "output_type": "display_data"
    }
   ],
   "source": [
    "fig, ax = plt.subplots()\n",
    "ax.hist(c)"
   ]
  },
  {
   "cell_type": "code",
   "execution_count": 59,
   "metadata": {
    "collapsed": true
   },
   "outputs": [],
   "source": [
    "from astropy.cosmology import Planck15"
   ]
  },
  {
   "cell_type": "code",
   "execution_count": 66,
   "metadata": {
    "collapsed": false
   },
   "outputs": [
    {
     "data": {
      "text/plain": [
       "10.0"
      ]
     },
     "execution_count": 66,
     "metadata": {},
     "output_type": "execute_result"
    }
   ],
   "source": [
    "pr.DeltaT"
   ]
  },
  {
   "cell_type": "code",
   "execution_count": 64,
   "metadata": {
    "collapsed": false
   },
   "outputs": [],
   "source": [
    "class SALT2Params(BasePopulationFromStochasticModel):\n",
    "    def __init__(self, zSamples, mjdmin=0., snids=None,\n",
    "                 Mdisp=0.15, alpha=0.11, beta=-3.14, positions=None,\n",
    "                 rng=None, cosmo=Planck15):\n",
    "        self.zSamples = zSamples\n",
    "        self._snids = snids\n",
    "        self.alpha = alpha\n",
    "        self.beta = beta\n",
    "        self._numSN = len(self.zSamples)\n",
    "        self._rng = rng\n",
    "        self.Mdisp = Mdisp\n",
    "        self.cosmo = cosmo\n",
    "        self.mjdmin = mjdmin\n",
    "        self.surveyDuration = self.zSamples.DeltaT * 365.0 \n",
    "        self._positions = positions\n",
    "    \n",
    "    @property\n",
    "    def mjdmax(self):\n",
    "        return self.mjdmin + self.surveyDuration\n",
    "    \n",
    "    @property\n",
    "    def numSources(self):\n",
    "        return self._numSN\n",
    "   \n",
    "    @property\n",
    "    def pop_rng(self):\n",
    "        return self._rng\n",
    "    \n",
    "    def set_pop_rng(self, value):\n",
    "        self._rng = value\n",
    "    \n",
    "    @property\n",
    "    def idxvalues(self):\n",
    "        if self._snids is None:\n",
    "            self._snids = np.arange(self.numSN)\n",
    "        return self._snids\n",
    "    \n",
    "    @property\n",
    "    def positionArray(self):\n",
    "        return None\n",
    "    @property\n",
    "    def hasPositionArray(self):\n",
    "        return False\n",
    "    \n",
    "    def positions(self, idx):\n",
    "        return dict(ra=self._positions[0][idx], dec=self._positions[1][idx])\n",
    "    \n",
    "    def snparamTable(self):\n",
    "        if self._paramSamples is not None:\n",
    "            return self._paramSamples\n",
    "        timescale = self.mjdmax - self.mjdmin\n",
    "        T0Vals = self.randomState.uniform(size=self.numSN) * timescale \\\n",
    "            + self.mjdmin\n",
    "        mB, x1, c, m = SALT2_MMDist(self.numSN)\n",
    "        x0 = np.zeros(len(mB))\n",
    "        mB += self.randomState.normal(loc=0., scale=self.Mdisp,\n",
    "                                      size=self.numSN)\n",
    "        model = sncosmo.Model(source='SALT2')\n",
    "        for i, z in enumerate(self.zSamples):\n",
    "            model.set(z=z, x1=x1[i], c=c[i])\n",
    "            model.source.set_peakmag(mB[i], 'bessellB', 'ab')\n",
    "            x0[i] = model.get('x0')\n",
    "        df = pd.DataFrame(dict(x0=x0, x1=x1, c=c, mB=mB, z=self.zSamples))\n",
    "        return df\n",
    "    def modelparams(self, idx):\n",
    "        return self.snparamTable.ix(idx)\n",
    "        \n",
    "        \n",
    "        \n",
    "    \n",
    "        \n",
    "        \n",
    "        \n",
    "    "
   ]
  },
  {
   "cell_type": "code",
   "execution_count": 65,
   "metadata": {
    "collapsed": false
   },
   "outputs": [
    {
     "ename": "AttributeError",
     "evalue": "'numpy.ndarray' object has no attribute 'DeltaT'",
     "output_type": "error",
     "traceback": [
      "\u001b[0;31m---------------------------------------------------------------------------\u001b[0m",
      "\u001b[0;31mAttributeError\u001b[0m                            Traceback (most recent call last)",
      "\u001b[0;32m<ipython-input-65-d5aeef680f18>\u001b[0m in \u001b[0;36m<module>\u001b[0;34m()\u001b[0m\n\u001b[0;32m----> 1\u001b[0;31m \u001b[0msp\u001b[0m \u001b[0;34m=\u001b[0m \u001b[0mSALT2Params\u001b[0m\u001b[0;34m(\u001b[0m\u001b[0mpr\u001b[0m\u001b[0;34m.\u001b[0m\u001b[0mzSamples\u001b[0m\u001b[0;34m,\u001b[0m \u001b[0;36m59580\u001b[0m\u001b[0;34m)\u001b[0m\u001b[0;34m\u001b[0m\u001b[0m\n\u001b[0m",
      "\u001b[0;32m<ipython-input-64-cea317bf9e6a>\u001b[0m in \u001b[0;36m__init__\u001b[0;34m(self, zSamples, mjdmin, snids, Mdisp, alpha, beta, positions, rng, cosmo)\u001b[0m\n\u001b[1;32m     12\u001b[0m         \u001b[0mself\u001b[0m\u001b[0;34m.\u001b[0m\u001b[0mcosmo\u001b[0m \u001b[0;34m=\u001b[0m \u001b[0mcosmo\u001b[0m\u001b[0;34m\u001b[0m\u001b[0m\n\u001b[1;32m     13\u001b[0m         \u001b[0mself\u001b[0m\u001b[0;34m.\u001b[0m\u001b[0mmjdmin\u001b[0m \u001b[0;34m=\u001b[0m \u001b[0mmjdmin\u001b[0m\u001b[0;34m\u001b[0m\u001b[0m\n\u001b[0;32m---> 14\u001b[0;31m         \u001b[0mself\u001b[0m\u001b[0;34m.\u001b[0m\u001b[0msurveyDuration\u001b[0m \u001b[0;34m=\u001b[0m \u001b[0mself\u001b[0m\u001b[0;34m.\u001b[0m\u001b[0mzSamples\u001b[0m\u001b[0;34m.\u001b[0m\u001b[0mDeltaT\u001b[0m \u001b[0;34m*\u001b[0m \u001b[0;36m365.0\u001b[0m\u001b[0;34m\u001b[0m\u001b[0m\n\u001b[0m\u001b[1;32m     15\u001b[0m         \u001b[0mself\u001b[0m\u001b[0;34m.\u001b[0m\u001b[0m_positions\u001b[0m \u001b[0;34m=\u001b[0m \u001b[0mpositions\u001b[0m\u001b[0;34m\u001b[0m\u001b[0m\n\u001b[1;32m     16\u001b[0m \u001b[0;34m\u001b[0m\u001b[0m\n",
      "\u001b[0;31mAttributeError\u001b[0m: 'numpy.ndarray' object has no attribute 'DeltaT'"
     ]
    }
   ],
   "source": [
    "sp = SALT2Params(pr.zSamples, 59580)"
   ]
  },
  {
   "cell_type": "code",
   "execution_count": 39,
   "metadata": {
    "collapsed": false
   },
   "outputs": [
    {
     "ename": "TypeError",
     "evalue": "write_simulation() takes at least 4 arguments (5 given)",
     "output_type": "error",
     "traceback": [
      "\u001b[0;31m---------------------------------------------------------------------------\u001b[0m",
      "\u001b[0;31mTypeError\u001b[0m                                 Traceback (most recent call last)",
      "\u001b[0;32m<ipython-input-39-d166a677d9f2>\u001b[0m in \u001b[0;36m<module>\u001b[0;34m()\u001b[0m\n\u001b[0;32m----> 1\u001b[0;31m \u001b[0mbsim\u001b[0m\u001b[0;34m.\u001b[0m\u001b[0mwrite_simulation\u001b[0m\u001b[0;34m(\u001b[0m\u001b[0;34m'test_sim.hdf'\u001b[0m\u001b[0;34m,\u001b[0m \u001b[0;34m'hdf'\u001b[0m\u001b[0;34m,\u001b[0m \u001b[0mkey\u001b[0m\u001b[0;34m=\u001b[0m\u001b[0;34m'test'\u001b[0m\u001b[0;34m,\u001b[0m \u001b[0mclobber\u001b[0m\u001b[0;34m=\u001b[0m\u001b[0mFalse\u001b[0m\u001b[0;34m)\u001b[0m\u001b[0;34m\u001b[0m\u001b[0m\n\u001b[0m",
      "\u001b[0;31mTypeError\u001b[0m: write_simulation() takes at least 4 arguments (5 given)"
     ]
    }
   ],
   "source": [
    "bsim.write_simulation('test_sim.hdf', 'hdf', key='test', clobber=False)"
   ]
  },
  {
   "cell_type": "code",
   "execution_count": null,
   "metadata": {
    "collapsed": false
   },
   "outputs": [],
   "source": [
    "simdf = pd.read_hdf('test_sim.hdf')"
   ]
  },
  {
   "cell_type": "code",
   "execution_count": 40,
   "metadata": {
    "collapsed": false
   },
   "outputs": [
    {
     "ename": "NameError",
     "evalue": "name 'simdf' is not defined",
     "output_type": "error",
     "traceback": [
      "\u001b[0;31m---------------------------------------------------------------------------\u001b[0m",
      "\u001b[0;31mNameError\u001b[0m                                 Traceback (most recent call last)",
      "\u001b[0;32m<ipython-input-40-2b56052937b6>\u001b[0m in \u001b[0;36m<module>\u001b[0;34m()\u001b[0m\n\u001b[0;32m----> 1\u001b[0;31m \u001b[0msimdf\u001b[0m\u001b[0;34m\u001b[0m\u001b[0m\n\u001b[0m",
      "\u001b[0;31mNameError\u001b[0m: name 'simdf' is not defined"
     ]
    }
   ],
   "source": [
    "simdf"
   ]
  },
  {
   "cell_type": "code",
   "execution_count": null,
   "metadata": {
    "collapsed": false
   },
   "outputs": [],
   "source": [
    "bsim.write_population()"
   ]
  },
  {
   "cell_type": "code",
   "execution_count": null,
   "metadata": {
    "collapsed": false
   },
   "outputs": [],
   "source": [
    "df = pd.read_hdf('test.hdf', key='test')"
   ]
  },
  {
   "cell_type": "code",
   "execution_count": null,
   "metadata": {
    "collapsed": false
   },
   "outputs": [],
   "source": [
    "bsim.lc(1).to_hdf('test.hdf', key='test', mode='w', append=True, format='t')"
   ]
  },
  {
   "cell_type": "code",
   "execution_count": null,
   "metadata": {
    "collapsed": true
   },
   "outputs": [],
   "source": [
    "bsim.lc(0).to_hdf('test.hdf', key='test', mode='a', append=True, format='t')"
   ]
  },
  {
   "cell_type": "code",
   "execution_count": null,
   "metadata": {
    "collapsed": true
   },
   "outputs": [],
   "source": [
    "df = pd.read_hdf('test.hdf', key='test')"
   ]
  },
  {
   "cell_type": "code",
   "execution_count": null,
   "metadata": {
    "collapsed": false
   },
   "outputs": [],
   "source": [
    "df"
   ]
  },
  {
   "cell_type": "code",
   "execution_count": null,
   "metadata": {
    "collapsed": false
   },
   "outputs": [],
   "source": [
    "bsim.write_lc(0, 'test_0.csv', 'csv', key=None)"
   ]
  },
  {
   "cell_type": "code",
   "execution_count": null,
   "metadata": {
    "collapsed": false
   },
   "outputs": [],
   "source": [
    "dfcsv = pd.read_csv('test_0.csv')"
   ]
  },
  {
   "cell_type": "code",
   "execution_count": null,
   "metadata": {
    "collapsed": false
   },
   "outputs": [],
   "source": [
    "bsim.write_simulation('test.hdf', 'hdf', key=None)"
   ]
  },
  {
   "cell_type": "code",
   "execution_count": null,
   "metadata": {
    "collapsed": false
   },
   "outputs": [],
   "source": [
    "df = pd.read_hdf('test.hdf', key='0')"
   ]
  },
  {
   "cell_type": "code",
   "execution_count": null,
   "metadata": {
    "collapsed": false
   },
   "outputs": [],
   "source": [
    "df.to_sql('')"
   ]
  },
  {
   "cell_type": "code",
   "execution_count": null,
   "metadata": {
    "collapsed": false
   },
   "outputs": [],
   "source": [
    "bsim.write_population('pop.hdf', method='hdf')"
   ]
  },
  {
   "cell_type": "code",
   "execution_count": null,
   "metadata": {
    "collapsed": true
   },
   "outputs": [],
   "source": [
    "sp.idxvalues"
   ]
  },
  {
   "cell_type": "code",
   "execution_count": null,
   "metadata": {
    "collapsed": false
   },
   "outputs": [],
   "source": [
    "dfcsv.equals(df, )"
   ]
  },
  {
   "cell_type": "code",
   "execution_count": null,
   "metadata": {
    "collapsed": false
   },
   "outputs": [],
   "source": [
    "bsim = BasicSimulation(population=sp, model=Model, pointings=)"
   ]
  },
  {
   "cell_type": "code",
   "execution_count": null,
   "metadata": {
    "collapsed": false
   },
   "outputs": [],
   "source": [
    "bsim.write_lc(0, 'lc_0.hdf', 'hdf')"
   ]
  },
  {
   "cell_type": "code",
   "execution_count": null,
   "metadata": {
    "collapsed": true
   },
   "outputs": [],
   "source": [
    "pd.DataFrame.to_hdf()"
   ]
  },
  {
   "cell_type": "code",
   "execution_count": null,
   "metadata": {
    "collapsed": false
   },
   "outputs": [],
   "source": [
    "bsim.write_simulation('test.hdf', 'hdf', key='test')"
   ]
  },
  {
   "cell_type": "code",
   "execution_count": null,
   "metadata": {
    "collapsed": false
   },
   "outputs": [],
   "source": [
    "simdf = pd.read_hdf('test.hdf', key='test')"
   ]
  },
  {
   "cell_type": "code",
   "execution_count": null,
   "metadata": {
    "collapsed": false
   },
   "outputs": [],
   "source": [
    "simdf"
   ]
  },
  {
   "cell_type": "code",
   "execution_count": null,
   "metadata": {
    "collapsed": false
   },
   "outputs": [],
   "source": [
    "sp.positions"
   ]
  },
  {
   "cell_type": "code",
   "execution_count": null,
   "metadata": {
    "collapsed": true
   },
   "outputs": [],
   "source": [
    "model = Model()"
   ]
  },
  {
   "cell_type": "code",
   "execution_count": null,
   "metadata": {
    "collapsed": false
   },
   "outputs": [],
   "source": [
    "sp.modelparams(0)"
   ]
  },
  {
   "cell_type": "code",
   "execution_count": null,
   "metadata": {
    "collapsed": false
   },
   "outputs": [],
   "source": [
    "sp.modelparams(0)"
   ]
  },
  {
   "cell_type": "code",
   "execution_count": null,
   "metadata": {
    "collapsed": false
   },
   "outputs": [],
   "source": [
    "model.setModelParameters(**sp.modelparams(0))"
   ]
  },
  {
   "cell_type": "code",
   "execution_count": null,
   "metadata": {
    "collapsed": false
   },
   "outputs": [],
   "source": [
    "model.sn.SNstate"
   ]
  },
  {
   "cell_type": "code",
   "execution_count": null,
   "metadata": {
    "collapsed": true
   },
   "outputs": [],
   "source": [
    "sn = SNObject()"
   ]
  },
  {
   "cell_type": "code",
   "execution_count": null,
   "metadata": {
    "collapsed": false
   },
   "outputs": [],
   "source": [
    "params"
   ]
  },
  {
   "cell_type": "code",
   "execution_count": null,
   "metadata": {
    "collapsed": false
   },
   "outputs": [],
   "source": [
    "sn.setCoords(params['ra'], params['dec'])"
   ]
  },
  {
   "cell_type": "code",
   "execution_count": null,
   "metadata": {
    "collapsed": true
   },
   "outputs": [],
   "source": [
    "sn.set(**params)"
   ]
  },
  {
   "cell_type": "code",
   "execution_count": null,
   "metadata": {
    "collapsed": true
   },
   "outputs": [],
   "source": [
    "sn.mwEBVfromMaps()"
   ]
  },
  {
   "cell_type": "code",
   "execution_count": null,
   "metadata": {
    "collapsed": false
   },
   "outputs": [],
   "source": [
    "sn.SNstate"
   ]
  },
  {
   "cell_type": "code",
   "execution_count": null,
   "metadata": {
    "collapsed": false
   },
   "outputs": [],
   "source": [
    "model = Model()"
   ]
  },
  {
   "cell_type": "code",
   "execution_count": null,
   "metadata": {
    "collapsed": false
   },
   "outputs": [],
   "source": [
    "params = sp.modelparams(0).copy()"
   ]
  },
  {
   "cell_type": "code",
   "execution_count": null,
   "metadata": {
    "collapsed": true
   },
   "outputs": [],
   "source": [
    "for key in ('ra', 'dec'):\n",
    "    params.pop(key)"
   ]
  },
  {
   "cell_type": "code",
   "execution_count": null,
   "metadata": {
    "collapsed": false
   },
   "outputs": [],
   "source": [
    "params"
   ]
  },
  {
   "cell_type": "code",
   "execution_count": null,
   "metadata": {
    "collapsed": true
   },
   "outputs": [],
   "source": [
    "sn.set(**params)"
   ]
  },
  {
   "cell_type": "code",
   "execution_count": null,
   "metadata": {
    "collapsed": false
   },
   "outputs": [],
   "source": [
    "sn.SNstate"
   ]
  },
  {
   "cell_type": "code",
   "execution_count": null,
   "metadata": {
    "collapsed": false
   },
   "outputs": [],
   "source": [
    "model.setModelParameters(**sp.modelparams(0))"
   ]
  },
  {
   "cell_type": "code",
   "execution_count": null,
   "metadata": {
    "collapsed": false
   },
   "outputs": [],
   "source": [
    "model.sn.SNstate"
   ]
  },
  {
   "cell_type": "code",
   "execution_count": null,
   "metadata": {
    "collapsed": false
   },
   "outputs": [],
   "source": [
    "bandpassobj = bandpassdict['y']"
   ]
  },
  {
   "cell_type": "code",
   "execution_count": null,
   "metadata": {
    "collapsed": false
   },
   "outputs": [],
   "source": [
    "model.setModelParameters(**sp.modelparams(0))"
   ]
  },
  {
   "cell_type": "code",
   "execution_count": null,
   "metadata": {
    "collapsed": false
   },
   "outputs": [],
   "source": [
    "model.modelFlux(59580., bandpassobj=bandpassobj)"
   ]
  },
  {
   "cell_type": "code",
   "execution_count": null,
   "metadata": {
    "collapsed": false
   },
   "outputs": [],
   "source": [
    "bsim = BasicSimulation(sp, model, pointings, rng=np.random.RandomState(0), \n",
    "                       maxObsHistID=1000000, pointingColumnDict=None,\n",
    "                       timeRange=\n",
    "                      pruneWithRadius=False)"
   ]
  },
  {
   "cell_type": "code",
   "execution_count": null,
   "metadata": {
    "collapsed": false
   },
   "outputs": [],
   "source": [
    "bsim.model.maxMjd"
   ]
  },
  {
   "cell_type": "code",
   "execution_count": null,
   "metadata": {
    "collapsed": false
   },
   "outputs": [],
   "source": [
    "bsim.model.r"
   ]
  },
  {
   "cell_type": "code",
   "execution_count": null,
   "metadata": {
    "collapsed": true
   },
   "outputs": [],
   "source": [
    "scrtch__"
   ]
  },
  {
   "cell_type": "code",
   "execution_count": null,
   "metadata": {
    "collapsed": false
   },
   "outputs": [],
   "source": [
    "opsout = _OpSimOutput.fromOpSimDB('/Users/rbiswas/data/LSST/OpSimData/minion_1016_sqlite.db',\n",
    "                                 )"
   ]
  },
  {
   "cell_type": "code",
   "execution_count": null,
   "metadata": {
    "collapsed": false
   },
   "outputs": [],
   "source": [
    "pointings = opsout.summary.query('expMJD < 59580.04')"
   ]
  },
  {
   "cell_type": "code",
   "execution_count": null,
   "metadata": {
    "collapsed": false
   },
   "outputs": [],
   "source": [
    "pointings.expMJD.min()"
   ]
  },
  {
   "cell_type": "code",
   "execution_count": null,
   "metadata": {
    "collapsed": false
   },
   "outputs": [],
   "source": [
    "len(pointings)"
   ]
  },
  {
   "cell_type": "code",
   "execution_count": null,
   "metadata": {
    "collapsed": false
   },
   "outputs": [],
   "source": [
    "pointings.to_csv('check_poinx``tings.csv')"
   ]
  },
  {
   "cell_type": "code",
   "execution_count": null,
   "metadata": {
    "collapsed": false
   },
   "outputs": [],
   "source": [
    "!head check_pointings.csv"
   ]
  },
  {
   "cell_type": "code",
   "execution_count": null,
   "metadata": {
    "collapsed": true
   },
   "outputs": [],
   "source": [
    "from var"
   ]
  },
  {
   "cell_type": "code",
   "execution_count": null,
   "metadata": {
    "collapsed": true
   },
   "outputs": [],
   "source": [
    "from varsim import BaseExcep"
   ]
  },
  {
   "cell_type": "code",
   "execution_count": null,
   "metadata": {
    "collapsed": true
   },
   "outputs": [],
   "source": [
    "import pandas as pd"
   ]
  },
  {
   "cell_type": "code",
   "execution_count": null,
   "metadata": {
    "collapsed": true
   },
   "outputs": [],
   "source": [
    "import numpy as np"
   ]
  },
  {
   "cell_type": "code",
   "execution_count": null,
   "metadata": {
    "collapsed": false
   },
   "outputs": [],
   "source": [
    "df = pd.DataFrame()"
   ]
  },
  {
   "cell_type": "code",
   "execution_count": null,
   "metadata": {
    "collapsed": false
   },
   "outputs": [],
   "source": [
    "df['objid'] = np.arange(10)"
   ]
  },
  {
   "cell_type": "code",
   "execution_count": null,
   "metadata": {
    "collapsed": false
   },
   "outputs": [],
   "source": [
    "df"
   ]
  },
  {
   "cell_type": "code",
   "execution_count": null,
   "metadata": {
    "collapsed": false
   },
   "outputs": [],
   "source": [
    "280 *2 /4 + 20"
   ]
  },
  {
   "cell_type": "code",
   "execution_count": null,
   "metadata": {
    "collapsed": false
   },
   "outputs": [],
   "source": [
    "from collections import namedtuple, OrderedDict as odict"
   ]
  },
  {
   "cell_type": "code",
   "execution_count": null,
   "metadata": {
    "collapsed": false
   },
   "outputs": [],
   "source": [
    "keys = 'abcde'\n",
    "vals = np.arange(5)\n",
    "idx = 'pq'\n",
    "s1 = (dict( (k, v) for (i, k,v) in zip(idx, keys, vals)))\n",
    "s2 = (dict( (k, v) for (i, k,v) in zip(idx, keys, vals)))\n",
    "\n"
   ]
  },
  {
   "cell_type": "code",
   "execution_count": null,
   "metadata": {
    "collapsed": false
   },
   "outputs": [],
   "source": [
    "s = namedtuple(idx, s1)"
   ]
  },
  {
   "cell_type": "code",
   "execution_count": null,
   "metadata": {
    "collapsed": false
   },
   "outputs": [],
   "source": [
    "s = list()\n",
    "_ = list(s.append(x) for x in (s1, s2))"
   ]
  },
  {
   "cell_type": "code",
   "execution_count": null,
   "metadata": {
    "collapsed": false
   },
   "outputs": [],
   "source": [
    "s1"
   ]
  },
  {
   "cell_type": "code",
   "execution_count": null,
   "metadata": {
    "collapsed": true
   },
   "outputs": [],
   "source": [
    "xx = list()"
   ]
  },
  {
   "cell_type": "code",
   "execution_count": null,
   "metadata": {
    "collapsed": false
   },
   "outputs": [],
   "source": [
    "xx = tuple(s)"
   ]
  },
  {
   "cell_type": "code",
   "execution_count": null,
   "metadata": {
    "collapsed": false
   },
   "outputs": [],
   "source": [
    "xx.append(s)"
   ]
  },
  {
   "cell_type": "code",
   "execution_count": null,
   "metadata": {
    "collapsed": false
   },
   "outputs": [],
   "source": [
    "idx = (l for l in idx)"
   ]
  },
  {
   "cell_type": "code",
   "execution_count": null,
   "metadata": {
    "collapsed": false
   },
   "outputs": [],
   "source": [
    "df = pd.DataFrame(s, index=idx)"
   ]
  },
  {
   "cell_type": "code",
   "execution_count": null,
   "metadata": {
    "collapsed": false
   },
   "outputs": [],
   "source": [
    "df"
   ]
  },
  {
   "cell_type": "code",
   "execution_count": null,
   "metadata": {
    "collapsed": false
   },
   "outputs": [],
   "source": [
    "df = pd.DataFrame()"
   ]
  },
  {
   "cell_type": "code",
   "execution_count": null,
   "metadata": {
    "collapsed": false
   },
   "outputs": [],
   "source": [
    "type(s)"
   ]
  },
  {
   "cell_type": "code",
   "execution_count": null,
   "metadata": {
    "collapsed": false
   },
   "outputs": [],
   "source": [
    "df.append(s)"
   ]
  },
  {
   "cell_type": "code",
   "execution_count": 83,
   "metadata": {
    "collapsed": false
   },
   "outputs": [
    {
     "data": {
      "text/plain": [
       "2190"
      ]
     },
     "execution_count": 83,
     "metadata": {},
     "output_type": "execute_result"
    }
   ],
   "source": [
    "365*3 *2"
   ]
  },
  {
   "cell_type": "code",
   "execution_count": 21,
   "metadata": {
    "collapsed": true
   },
   "outputs": [],
   "source": [
    "from sqlalchemy import create_engine"
   ]
  },
  {
   "cell_type": "code",
   "execution_count": 22,
   "metadata": {
    "collapsed": true
   },
   "outputs": [],
   "source": [
    "conn = create_engine('sqlite:////Users/rbiswas/data/LSST/OpSimData/minion_1016_sqlite.db')"
   ]
  },
  {
   "cell_type": "code",
   "execution_count": 24,
   "metadata": {
    "collapsed": true
   },
   "outputs": [],
   "source": [
    "from opsimsummary import HealPixelizedOpSim"
   ]
  },
  {
   "cell_type": "code",
   "execution_count": null,
   "metadata": {
    "collapsed": true
   },
   "outputs": [],
   "source": [
    "HealPixelizedOpSim()"
   ]
  },
  {
   "cell_type": "code",
   "execution_count": null,
   "metadata": {
    "collapsed": true
   },
   "outputs": [],
   "source": [
    "pd.read_sql_table()"
   ]
  },
  {
   "cell_type": "code",
   "execution_count": 23,
   "metadata": {
    "collapsed": false
   },
   "outputs": [
    {
     "data": {
      "text/html": [
       "<div>\n",
       "<table border=\"1\" class=\"dataframe\">\n",
       "  <thead>\n",
       "    <tr style=\"text-align: right;\">\n",
       "      <th></th>\n",
       "      <th>obsHistID</th>\n",
       "      <th>sessionID</th>\n",
       "      <th>propID</th>\n",
       "      <th>fieldID</th>\n",
       "      <th>fieldRA</th>\n",
       "      <th>fieldDec</th>\n",
       "      <th>filter</th>\n",
       "      <th>expDate</th>\n",
       "      <th>expMJD</th>\n",
       "      <th>night</th>\n",
       "      <th>...</th>\n",
       "      <th>moonBright</th>\n",
       "      <th>darkBright</th>\n",
       "      <th>rawSeeing</th>\n",
       "      <th>wind</th>\n",
       "      <th>humidity</th>\n",
       "      <th>slewDist</th>\n",
       "      <th>slewTime</th>\n",
       "      <th>fiveSigmaDepth</th>\n",
       "      <th>ditheredRA</th>\n",
       "      <th>ditheredDec</th>\n",
       "    </tr>\n",
       "  </thead>\n",
       "  <tbody>\n",
       "    <tr>\n",
       "      <th>0</th>\n",
       "      <td>230</td>\n",
       "      <td>1016</td>\n",
       "      <td>56</td>\n",
       "      <td>1427</td>\n",
       "      <td>0.925184</td>\n",
       "      <td>-0.4789</td>\n",
       "      <td>r</td>\n",
       "      <td>12057</td>\n",
       "      <td>59580.139555</td>\n",
       "      <td>0</td>\n",
       "      <td>...</td>\n",
       "      <td>0.000000</td>\n",
       "      <td>84.646287</td>\n",
       "      <td>0.866285</td>\n",
       "      <td>0.0</td>\n",
       "      <td>0.0</td>\n",
       "      <td>0.755889</td>\n",
       "      <td>140.0</td>\n",
       "      <td>24.070428</td>\n",
       "      <td>0.907976</td>\n",
       "      <td>-0.505351</td>\n",
       "    </tr>\n",
       "    <tr>\n",
       "      <th>1</th>\n",
       "      <td>231</td>\n",
       "      <td>1016</td>\n",
       "      <td>56</td>\n",
       "      <td>1427</td>\n",
       "      <td>0.925184</td>\n",
       "      <td>-0.4789</td>\n",
       "      <td>r</td>\n",
       "      <td>12093</td>\n",
       "      <td>59580.139972</td>\n",
       "      <td>0</td>\n",
       "      <td>...</td>\n",
       "      <td>0.000000</td>\n",
       "      <td>84.969264</td>\n",
       "      <td>0.791241</td>\n",
       "      <td>0.0</td>\n",
       "      <td>0.0</td>\n",
       "      <td>0.000000</td>\n",
       "      <td>2.0</td>\n",
       "      <td>24.143180</td>\n",
       "      <td>0.907976</td>\n",
       "      <td>-0.505351</td>\n",
       "    </tr>\n",
       "    <tr>\n",
       "      <th>2</th>\n",
       "      <td>232</td>\n",
       "      <td>1016</td>\n",
       "      <td>56</td>\n",
       "      <td>1427</td>\n",
       "      <td>0.925184</td>\n",
       "      <td>-0.4789</td>\n",
       "      <td>r</td>\n",
       "      <td>12129</td>\n",
       "      <td>59580.140389</td>\n",
       "      <td>0</td>\n",
       "      <td>...</td>\n",
       "      <td>0.000000</td>\n",
       "      <td>85.037385</td>\n",
       "      <td>0.791241</td>\n",
       "      <td>0.0</td>\n",
       "      <td>0.0</td>\n",
       "      <td>0.000000</td>\n",
       "      <td>2.0</td>\n",
       "      <td>24.141983</td>\n",
       "      <td>0.907976</td>\n",
       "      <td>-0.505351</td>\n",
       "    </tr>\n",
       "    <tr>\n",
       "      <th>3</th>\n",
       "      <td>233</td>\n",
       "      <td>1016</td>\n",
       "      <td>56</td>\n",
       "      <td>1427</td>\n",
       "      <td>0.925184</td>\n",
       "      <td>-0.4789</td>\n",
       "      <td>r</td>\n",
       "      <td>12165</td>\n",
       "      <td>59580.140805</td>\n",
       "      <td>0</td>\n",
       "      <td>...</td>\n",
       "      <td>0.000000</td>\n",
       "      <td>85.105955</td>\n",
       "      <td>0.859965</td>\n",
       "      <td>0.0</td>\n",
       "      <td>0.0</td>\n",
       "      <td>0.000000</td>\n",
       "      <td>2.0</td>\n",
       "      <td>24.068792</td>\n",
       "      <td>0.907976</td>\n",
       "      <td>-0.505351</td>\n",
       "    </tr>\n",
       "    <tr>\n",
       "      <th>4</th>\n",
       "      <td>234</td>\n",
       "      <td>1016</td>\n",
       "      <td>56</td>\n",
       "      <td>1427</td>\n",
       "      <td>0.925184</td>\n",
       "      <td>-0.4789</td>\n",
       "      <td>r</td>\n",
       "      <td>12201</td>\n",
       "      <td>59580.141222</td>\n",
       "      <td>0</td>\n",
       "      <td>...</td>\n",
       "      <td>0.000000</td>\n",
       "      <td>85.174974</td>\n",
       "      <td>0.859965</td>\n",
       "      <td>0.0</td>\n",
       "      <td>0.0</td>\n",
       "      <td>0.000000</td>\n",
       "      <td>2.0</td>\n",
       "      <td>24.067582</td>\n",
       "      <td>0.907976</td>\n",
       "      <td>-0.505351</td>\n",
       "    </tr>\n",
       "    <tr>\n",
       "      <th>5</th>\n",
       "      <td>235</td>\n",
       "      <td>1016</td>\n",
       "      <td>56</td>\n",
       "      <td>1427</td>\n",
       "      <td>0.925184</td>\n",
       "      <td>-0.4789</td>\n",
       "      <td>r</td>\n",
       "      <td>12237</td>\n",
       "      <td>59580.141639</td>\n",
       "      <td>0</td>\n",
       "      <td>...</td>\n",
       "      <td>0.000000</td>\n",
       "      <td>85.244444</td>\n",
       "      <td>0.859965</td>\n",
       "      <td>0.0</td>\n",
       "      <td>0.0</td>\n",
       "      <td>0.000000</td>\n",
       "      <td>2.0</td>\n",
       "      <td>24.066363</td>\n",
       "      <td>0.907976</td>\n",
       "      <td>-0.505351</td>\n",
       "    </tr>\n",
       "    <tr>\n",
       "      <th>6</th>\n",
       "      <td>236</td>\n",
       "      <td>1016</td>\n",
       "      <td>56</td>\n",
       "      <td>1427</td>\n",
       "      <td>0.925184</td>\n",
       "      <td>-0.4789</td>\n",
       "      <td>r</td>\n",
       "      <td>12273</td>\n",
       "      <td>59580.142055</td>\n",
       "      <td>0</td>\n",
       "      <td>...</td>\n",
       "      <td>0.000000</td>\n",
       "      <td>85.314366</td>\n",
       "      <td>0.859965</td>\n",
       "      <td>0.0</td>\n",
       "      <td>0.0</td>\n",
       "      <td>0.000000</td>\n",
       "      <td>2.0</td>\n",
       "      <td>24.065138</td>\n",
       "      <td>0.907976</td>\n",
       "      <td>-0.505351</td>\n",
       "    </tr>\n",
       "    <tr>\n",
       "      <th>7</th>\n",
       "      <td>237</td>\n",
       "      <td>1016</td>\n",
       "      <td>56</td>\n",
       "      <td>1427</td>\n",
       "      <td>0.925184</td>\n",
       "      <td>-0.4789</td>\n",
       "      <td>r</td>\n",
       "      <td>12309</td>\n",
       "      <td>59580.142472</td>\n",
       "      <td>0</td>\n",
       "      <td>...</td>\n",
       "      <td>0.000000</td>\n",
       "      <td>85.384741</td>\n",
       "      <td>0.859965</td>\n",
       "      <td>0.0</td>\n",
       "      <td>0.0</td>\n",
       "      <td>0.000000</td>\n",
       "      <td>2.0</td>\n",
       "      <td>24.063905</td>\n",
       "      <td>0.907976</td>\n",
       "      <td>-0.505351</td>\n",
       "    </tr>\n",
       "    <tr>\n",
       "      <th>8</th>\n",
       "      <td>238</td>\n",
       "      <td>1016</td>\n",
       "      <td>56</td>\n",
       "      <td>1427</td>\n",
       "      <td>0.925184</td>\n",
       "      <td>-0.4789</td>\n",
       "      <td>r</td>\n",
       "      <td>12345</td>\n",
       "      <td>59580.142889</td>\n",
       "      <td>0</td>\n",
       "      <td>...</td>\n",
       "      <td>0.000000</td>\n",
       "      <td>85.455572</td>\n",
       "      <td>0.859965</td>\n",
       "      <td>0.0</td>\n",
       "      <td>0.0</td>\n",
       "      <td>0.000000</td>\n",
       "      <td>2.0</td>\n",
       "      <td>24.062664</td>\n",
       "      <td>0.907976</td>\n",
       "      <td>-0.505351</td>\n",
       "    </tr>\n",
       "    <tr>\n",
       "      <th>9</th>\n",
       "      <td>239</td>\n",
       "      <td>1016</td>\n",
       "      <td>56</td>\n",
       "      <td>1427</td>\n",
       "      <td>0.925184</td>\n",
       "      <td>-0.4789</td>\n",
       "      <td>r</td>\n",
       "      <td>12381</td>\n",
       "      <td>59580.143305</td>\n",
       "      <td>0</td>\n",
       "      <td>...</td>\n",
       "      <td>0.000000</td>\n",
       "      <td>85.526859</td>\n",
       "      <td>0.859965</td>\n",
       "      <td>0.0</td>\n",
       "      <td>0.0</td>\n",
       "      <td>0.000000</td>\n",
       "      <td>2.0</td>\n",
       "      <td>24.061416</td>\n",
       "      <td>0.907976</td>\n",
       "      <td>-0.505351</td>\n",
       "    </tr>\n",
       "    <tr>\n",
       "      <th>10</th>\n",
       "      <td>240</td>\n",
       "      <td>1016</td>\n",
       "      <td>56</td>\n",
       "      <td>1427</td>\n",
       "      <td>0.925184</td>\n",
       "      <td>-0.4789</td>\n",
       "      <td>r</td>\n",
       "      <td>12417</td>\n",
       "      <td>59580.143722</td>\n",
       "      <td>0</td>\n",
       "      <td>...</td>\n",
       "      <td>0.000000</td>\n",
       "      <td>85.598603</td>\n",
       "      <td>0.859965</td>\n",
       "      <td>0.0</td>\n",
       "      <td>0.0</td>\n",
       "      <td>0.000000</td>\n",
       "      <td>2.0</td>\n",
       "      <td>24.060160</td>\n",
       "      <td>0.907976</td>\n",
       "      <td>-0.505351</td>\n",
       "    </tr>\n",
       "    <tr>\n",
       "      <th>11</th>\n",
       "      <td>241</td>\n",
       "      <td>1016</td>\n",
       "      <td>56</td>\n",
       "      <td>1427</td>\n",
       "      <td>0.925184</td>\n",
       "      <td>-0.4789</td>\n",
       "      <td>r</td>\n",
       "      <td>12453</td>\n",
       "      <td>59580.144139</td>\n",
       "      <td>0</td>\n",
       "      <td>...</td>\n",
       "      <td>0.000000</td>\n",
       "      <td>85.670807</td>\n",
       "      <td>0.853067</td>\n",
       "      <td>0.0</td>\n",
       "      <td>0.0</td>\n",
       "      <td>0.000000</td>\n",
       "      <td>2.0</td>\n",
       "      <td>24.065964</td>\n",
       "      <td>0.907976</td>\n",
       "      <td>-0.505351</td>\n",
       "    </tr>\n",
       "    <tr>\n",
       "      <th>12</th>\n",
       "      <td>242</td>\n",
       "      <td>1016</td>\n",
       "      <td>56</td>\n",
       "      <td>1427</td>\n",
       "      <td>0.925184</td>\n",
       "      <td>-0.4789</td>\n",
       "      <td>r</td>\n",
       "      <td>12489</td>\n",
       "      <td>59580.144555</td>\n",
       "      <td>0</td>\n",
       "      <td>...</td>\n",
       "      <td>0.000000</td>\n",
       "      <td>85.743471</td>\n",
       "      <td>0.853067</td>\n",
       "      <td>0.0</td>\n",
       "      <td>0.0</td>\n",
       "      <td>0.000000</td>\n",
       "      <td>2.0</td>\n",
       "      <td>24.064694</td>\n",
       "      <td>0.907976</td>\n",
       "      <td>-0.505351</td>\n",
       "    </tr>\n",
       "    <tr>\n",
       "      <th>13</th>\n",
       "      <td>243</td>\n",
       "      <td>1016</td>\n",
       "      <td>56</td>\n",
       "      <td>1427</td>\n",
       "      <td>0.925184</td>\n",
       "      <td>-0.4789</td>\n",
       "      <td>r</td>\n",
       "      <td>12525</td>\n",
       "      <td>59580.144972</td>\n",
       "      <td>0</td>\n",
       "      <td>...</td>\n",
       "      <td>0.000000</td>\n",
       "      <td>85.816596</td>\n",
       "      <td>0.853067</td>\n",
       "      <td>0.0</td>\n",
       "      <td>0.0</td>\n",
       "      <td>0.000000</td>\n",
       "      <td>2.0</td>\n",
       "      <td>24.063416</td>\n",
       "      <td>0.907976</td>\n",
       "      <td>-0.505351</td>\n",
       "    </tr>\n",
       "    <tr>\n",
       "      <th>14</th>\n",
       "      <td>244</td>\n",
       "      <td>1016</td>\n",
       "      <td>56</td>\n",
       "      <td>1427</td>\n",
       "      <td>0.925184</td>\n",
       "      <td>-0.4789</td>\n",
       "      <td>r</td>\n",
       "      <td>12561</td>\n",
       "      <td>59580.145389</td>\n",
       "      <td>0</td>\n",
       "      <td>...</td>\n",
       "      <td>0.000000</td>\n",
       "      <td>85.890186</td>\n",
       "      <td>0.853067</td>\n",
       "      <td>0.0</td>\n",
       "      <td>0.0</td>\n",
       "      <td>0.000000</td>\n",
       "      <td>2.0</td>\n",
       "      <td>24.062131</td>\n",
       "      <td>0.907976</td>\n",
       "      <td>-0.505351</td>\n",
       "    </tr>\n",
       "    <tr>\n",
       "      <th>15</th>\n",
       "      <td>245</td>\n",
       "      <td>1016</td>\n",
       "      <td>56</td>\n",
       "      <td>1427</td>\n",
       "      <td>0.925184</td>\n",
       "      <td>-0.4789</td>\n",
       "      <td>r</td>\n",
       "      <td>12597</td>\n",
       "      <td>59580.145805</td>\n",
       "      <td>0</td>\n",
       "      <td>...</td>\n",
       "      <td>0.000000</td>\n",
       "      <td>85.964240</td>\n",
       "      <td>0.853067</td>\n",
       "      <td>0.0</td>\n",
       "      <td>0.0</td>\n",
       "      <td>0.000000</td>\n",
       "      <td>2.0</td>\n",
       "      <td>24.060838</td>\n",
       "      <td>0.907976</td>\n",
       "      <td>-0.505351</td>\n",
       "    </tr>\n",
       "    <tr>\n",
       "      <th>16</th>\n",
       "      <td>246</td>\n",
       "      <td>1016</td>\n",
       "      <td>56</td>\n",
       "      <td>1427</td>\n",
       "      <td>0.925184</td>\n",
       "      <td>-0.4789</td>\n",
       "      <td>r</td>\n",
       "      <td>12633</td>\n",
       "      <td>59580.146222</td>\n",
       "      <td>0</td>\n",
       "      <td>...</td>\n",
       "      <td>0.000000</td>\n",
       "      <td>86.038760</td>\n",
       "      <td>0.853067</td>\n",
       "      <td>0.0</td>\n",
       "      <td>0.0</td>\n",
       "      <td>0.000000</td>\n",
       "      <td>2.0</td>\n",
       "      <td>24.059539</td>\n",
       "      <td>0.907976</td>\n",
       "      <td>-0.505351</td>\n",
       "    </tr>\n",
       "    <tr>\n",
       "      <th>17</th>\n",
       "      <td>247</td>\n",
       "      <td>1016</td>\n",
       "      <td>56</td>\n",
       "      <td>1427</td>\n",
       "      <td>0.925184</td>\n",
       "      <td>-0.4789</td>\n",
       "      <td>r</td>\n",
       "      <td>12669</td>\n",
       "      <td>59580.146639</td>\n",
       "      <td>0</td>\n",
       "      <td>...</td>\n",
       "      <td>0.000000</td>\n",
       "      <td>86.113748</td>\n",
       "      <td>0.853067</td>\n",
       "      <td>0.0</td>\n",
       "      <td>0.0</td>\n",
       "      <td>0.000000</td>\n",
       "      <td>2.0</td>\n",
       "      <td>24.058230</td>\n",
       "      <td>0.907976</td>\n",
       "      <td>-0.505351</td>\n",
       "    </tr>\n",
       "    <tr>\n",
       "      <th>18</th>\n",
       "      <td>248</td>\n",
       "      <td>1016</td>\n",
       "      <td>56</td>\n",
       "      <td>1427</td>\n",
       "      <td>0.925184</td>\n",
       "      <td>-0.4789</td>\n",
       "      <td>r</td>\n",
       "      <td>12705</td>\n",
       "      <td>59580.147055</td>\n",
       "      <td>0</td>\n",
       "      <td>...</td>\n",
       "      <td>0.000000</td>\n",
       "      <td>86.189205</td>\n",
       "      <td>0.853067</td>\n",
       "      <td>0.0</td>\n",
       "      <td>0.0</td>\n",
       "      <td>0.000000</td>\n",
       "      <td>2.0</td>\n",
       "      <td>24.056915</td>\n",
       "      <td>0.907976</td>\n",
       "      <td>-0.505351</td>\n",
       "    </tr>\n",
       "    <tr>\n",
       "      <th>19</th>\n",
       "      <td>249</td>\n",
       "      <td>1016</td>\n",
       "      <td>56</td>\n",
       "      <td>1427</td>\n",
       "      <td>0.925184</td>\n",
       "      <td>-0.4789</td>\n",
       "      <td>r</td>\n",
       "      <td>12741</td>\n",
       "      <td>59580.147472</td>\n",
       "      <td>0</td>\n",
       "      <td>...</td>\n",
       "      <td>0.000000</td>\n",
       "      <td>86.265132</td>\n",
       "      <td>0.853067</td>\n",
       "      <td>0.0</td>\n",
       "      <td>0.0</td>\n",
       "      <td>0.000000</td>\n",
       "      <td>2.0</td>\n",
       "      <td>24.055592</td>\n",
       "      <td>0.907976</td>\n",
       "      <td>-0.505351</td>\n",
       "    </tr>\n",
       "    <tr>\n",
       "      <th>20</th>\n",
       "      <td>250</td>\n",
       "      <td>1016</td>\n",
       "      <td>56</td>\n",
       "      <td>1427</td>\n",
       "      <td>0.925184</td>\n",
       "      <td>-0.4789</td>\n",
       "      <td>g</td>\n",
       "      <td>12895</td>\n",
       "      <td>59580.149254</td>\n",
       "      <td>0</td>\n",
       "      <td>...</td>\n",
       "      <td>0.000000</td>\n",
       "      <td>86.341532</td>\n",
       "      <td>0.928894</td>\n",
       "      <td>0.0</td>\n",
       "      <td>0.0</td>\n",
       "      <td>0.000000</td>\n",
       "      <td>120.0</td>\n",
       "      <td>24.254527</td>\n",
       "      <td>0.907976</td>\n",
       "      <td>-0.505351</td>\n",
       "    </tr>\n",
       "    <tr>\n",
       "      <th>21</th>\n",
       "      <td>251</td>\n",
       "      <td>1016</td>\n",
       "      <td>56</td>\n",
       "      <td>1427</td>\n",
       "      <td>0.925184</td>\n",
       "      <td>-0.4789</td>\n",
       "      <td>g</td>\n",
       "      <td>12931</td>\n",
       "      <td>59580.149671</td>\n",
       "      <td>0</td>\n",
       "      <td>...</td>\n",
       "      <td>0.000000</td>\n",
       "      <td>86.673719</td>\n",
       "      <td>0.928894</td>\n",
       "      <td>0.0</td>\n",
       "      <td>0.0</td>\n",
       "      <td>0.000000</td>\n",
       "      <td>2.0</td>\n",
       "      <td>24.248408</td>\n",
       "      <td>0.907976</td>\n",
       "      <td>-0.505351</td>\n",
       "    </tr>\n",
       "    <tr>\n",
       "      <th>22</th>\n",
       "      <td>252</td>\n",
       "      <td>1016</td>\n",
       "      <td>56</td>\n",
       "      <td>1427</td>\n",
       "      <td>0.925184</td>\n",
       "      <td>-0.4789</td>\n",
       "      <td>g</td>\n",
       "      <td>12967</td>\n",
       "      <td>59580.150088</td>\n",
       "      <td>0</td>\n",
       "      <td>...</td>\n",
       "      <td>0.000000</td>\n",
       "      <td>86.752635</td>\n",
       "      <td>0.928894</td>\n",
       "      <td>0.0</td>\n",
       "      <td>0.0</td>\n",
       "      <td>0.000000</td>\n",
       "      <td>2.0</td>\n",
       "      <td>24.246956</td>\n",
       "      <td>0.907976</td>\n",
       "      <td>-0.505351</td>\n",
       "    </tr>\n",
       "    <tr>\n",
       "      <th>23</th>\n",
       "      <td>253</td>\n",
       "      <td>1016</td>\n",
       "      <td>56</td>\n",
       "      <td>1427</td>\n",
       "      <td>0.925184</td>\n",
       "      <td>-0.4789</td>\n",
       "      <td>g</td>\n",
       "      <td>13003</td>\n",
       "      <td>59580.150504</td>\n",
       "      <td>0</td>\n",
       "      <td>...</td>\n",
       "      <td>0.000000</td>\n",
       "      <td>86.832034</td>\n",
       "      <td>0.928894</td>\n",
       "      <td>0.0</td>\n",
       "      <td>0.0</td>\n",
       "      <td>0.000000</td>\n",
       "      <td>2.0</td>\n",
       "      <td>24.245496</td>\n",
       "      <td>0.907976</td>\n",
       "      <td>-0.505351</td>\n",
       "    </tr>\n",
       "    <tr>\n",
       "      <th>24</th>\n",
       "      <td>254</td>\n",
       "      <td>1016</td>\n",
       "      <td>56</td>\n",
       "      <td>1427</td>\n",
       "      <td>0.925184</td>\n",
       "      <td>-0.4789</td>\n",
       "      <td>g</td>\n",
       "      <td>13039</td>\n",
       "      <td>59580.150921</td>\n",
       "      <td>0</td>\n",
       "      <td>...</td>\n",
       "      <td>0.000000</td>\n",
       "      <td>86.911915</td>\n",
       "      <td>0.928894</td>\n",
       "      <td>0.0</td>\n",
       "      <td>0.0</td>\n",
       "      <td>0.000000</td>\n",
       "      <td>2.0</td>\n",
       "      <td>24.244027</td>\n",
       "      <td>0.907976</td>\n",
       "      <td>-0.505351</td>\n",
       "    </tr>\n",
       "    <tr>\n",
       "      <th>25</th>\n",
       "      <td>255</td>\n",
       "      <td>1016</td>\n",
       "      <td>56</td>\n",
       "      <td>1427</td>\n",
       "      <td>0.925184</td>\n",
       "      <td>-0.4789</td>\n",
       "      <td>g</td>\n",
       "      <td>13075</td>\n",
       "      <td>59580.151338</td>\n",
       "      <td>0</td>\n",
       "      <td>...</td>\n",
       "      <td>0.000000</td>\n",
       "      <td>86.992282</td>\n",
       "      <td>1.064493</td>\n",
       "      <td>0.0</td>\n",
       "      <td>0.0</td>\n",
       "      <td>0.000000</td>\n",
       "      <td>2.0</td>\n",
       "      <td>24.114083</td>\n",
       "      <td>0.907976</td>\n",
       "      <td>-0.505351</td>\n",
       "    </tr>\n",
       "    <tr>\n",
       "      <th>26</th>\n",
       "      <td>256</td>\n",
       "      <td>1016</td>\n",
       "      <td>56</td>\n",
       "      <td>1427</td>\n",
       "      <td>0.925184</td>\n",
       "      <td>-0.4789</td>\n",
       "      <td>g</td>\n",
       "      <td>13111</td>\n",
       "      <td>59580.151754</td>\n",
       "      <td>0</td>\n",
       "      <td>...</td>\n",
       "      <td>0.000000</td>\n",
       "      <td>87.073135</td>\n",
       "      <td>1.064493</td>\n",
       "      <td>0.0</td>\n",
       "      <td>0.0</td>\n",
       "      <td>0.000000</td>\n",
       "      <td>2.0</td>\n",
       "      <td>24.112599</td>\n",
       "      <td>0.907976</td>\n",
       "      <td>-0.505351</td>\n",
       "    </tr>\n",
       "    <tr>\n",
       "      <th>27</th>\n",
       "      <td>257</td>\n",
       "      <td>1016</td>\n",
       "      <td>56</td>\n",
       "      <td>1427</td>\n",
       "      <td>0.925184</td>\n",
       "      <td>-0.4789</td>\n",
       "      <td>g</td>\n",
       "      <td>13147</td>\n",
       "      <td>59580.152171</td>\n",
       "      <td>0</td>\n",
       "      <td>...</td>\n",
       "      <td>0.000000</td>\n",
       "      <td>87.154476</td>\n",
       "      <td>1.064493</td>\n",
       "      <td>0.0</td>\n",
       "      <td>0.0</td>\n",
       "      <td>0.000000</td>\n",
       "      <td>2.0</td>\n",
       "      <td>24.111105</td>\n",
       "      <td>0.907976</td>\n",
       "      <td>-0.505351</td>\n",
       "    </tr>\n",
       "    <tr>\n",
       "      <th>28</th>\n",
       "      <td>258</td>\n",
       "      <td>1016</td>\n",
       "      <td>56</td>\n",
       "      <td>1427</td>\n",
       "      <td>0.925184</td>\n",
       "      <td>-0.4789</td>\n",
       "      <td>g</td>\n",
       "      <td>13183</td>\n",
       "      <td>59580.152588</td>\n",
       "      <td>0</td>\n",
       "      <td>...</td>\n",
       "      <td>0.000000</td>\n",
       "      <td>87.236307</td>\n",
       "      <td>1.064493</td>\n",
       "      <td>0.0</td>\n",
       "      <td>0.0</td>\n",
       "      <td>0.000000</td>\n",
       "      <td>2.0</td>\n",
       "      <td>24.109603</td>\n",
       "      <td>0.907976</td>\n",
       "      <td>-0.505351</td>\n",
       "    </tr>\n",
       "    <tr>\n",
       "      <th>29</th>\n",
       "      <td>259</td>\n",
       "      <td>1016</td>\n",
       "      <td>56</td>\n",
       "      <td>1427</td>\n",
       "      <td>0.925184</td>\n",
       "      <td>-0.4789</td>\n",
       "      <td>g</td>\n",
       "      <td>13219</td>\n",
       "      <td>59580.153004</td>\n",
       "      <td>0</td>\n",
       "      <td>...</td>\n",
       "      <td>0.000000</td>\n",
       "      <td>87.318629</td>\n",
       "      <td>1.064493</td>\n",
       "      <td>0.0</td>\n",
       "      <td>0.0</td>\n",
       "      <td>0.000000</td>\n",
       "      <td>2.0</td>\n",
       "      <td>24.108093</td>\n",
       "      <td>0.907976</td>\n",
       "      <td>-0.505351</td>\n",
       "    </tr>\n",
       "    <tr>\n",
       "      <th>...</th>\n",
       "      <td>...</td>\n",
       "      <td>...</td>\n",
       "      <td>...</td>\n",
       "      <td>...</td>\n",
       "      <td>...</td>\n",
       "      <td>...</td>\n",
       "      <td>...</td>\n",
       "      <td>...</td>\n",
       "      <td>...</td>\n",
       "      <td>...</td>\n",
       "      <td>...</td>\n",
       "      <td>...</td>\n",
       "      <td>...</td>\n",
       "      <td>...</td>\n",
       "      <td>...</td>\n",
       "      <td>...</td>\n",
       "      <td>...</td>\n",
       "      <td>...</td>\n",
       "      <td>...</td>\n",
       "      <td>...</td>\n",
       "      <td>...</td>\n",
       "    </tr>\n",
       "    <tr>\n",
       "      <th>111442</th>\n",
       "      <td>2443881</td>\n",
       "      <td>1016</td>\n",
       "      <td>56</td>\n",
       "      <td>1427</td>\n",
       "      <td>0.925184</td>\n",
       "      <td>-0.4789</td>\n",
       "      <td>z</td>\n",
       "      <td>314764382</td>\n",
       "      <td>63223.106277</td>\n",
       "      <td>3643</td>\n",
       "      <td>...</td>\n",
       "      <td>289.471233</td>\n",
       "      <td>79.346482</td>\n",
       "      <td>0.651028</td>\n",
       "      <td>0.0</td>\n",
       "      <td>0.0</td>\n",
       "      <td>0.000000</td>\n",
       "      <td>2.0</td>\n",
       "      <td>22.709358</td>\n",
       "      <td>0.938090</td>\n",
       "      <td>-0.465674</td>\n",
       "    </tr>\n",
       "    <tr>\n",
       "      <th>111443</th>\n",
       "      <td>2443882</td>\n",
       "      <td>1016</td>\n",
       "      <td>56</td>\n",
       "      <td>1427</td>\n",
       "      <td>0.925184</td>\n",
       "      <td>-0.4789</td>\n",
       "      <td>z</td>\n",
       "      <td>314764418</td>\n",
       "      <td>63223.106694</td>\n",
       "      <td>3643</td>\n",
       "      <td>...</td>\n",
       "      <td>289.422838</td>\n",
       "      <td>79.360061</td>\n",
       "      <td>0.651028</td>\n",
       "      <td>0.0</td>\n",
       "      <td>0.0</td>\n",
       "      <td>0.000000</td>\n",
       "      <td>2.0</td>\n",
       "      <td>22.709271</td>\n",
       "      <td>0.938090</td>\n",
       "      <td>-0.465674</td>\n",
       "    </tr>\n",
       "    <tr>\n",
       "      <th>111444</th>\n",
       "      <td>2443883</td>\n",
       "      <td>1016</td>\n",
       "      <td>56</td>\n",
       "      <td>1427</td>\n",
       "      <td>0.925184</td>\n",
       "      <td>-0.4789</td>\n",
       "      <td>z</td>\n",
       "      <td>314764454</td>\n",
       "      <td>63223.107111</td>\n",
       "      <td>3643</td>\n",
       "      <td>...</td>\n",
       "      <td>289.374759</td>\n",
       "      <td>79.373982</td>\n",
       "      <td>0.651028</td>\n",
       "      <td>0.0</td>\n",
       "      <td>0.0</td>\n",
       "      <td>0.000000</td>\n",
       "      <td>2.0</td>\n",
       "      <td>22.709178</td>\n",
       "      <td>0.938090</td>\n",
       "      <td>-0.465674</td>\n",
       "    </tr>\n",
       "    <tr>\n",
       "      <th>111445</th>\n",
       "      <td>2443884</td>\n",
       "      <td>1016</td>\n",
       "      <td>56</td>\n",
       "      <td>1427</td>\n",
       "      <td>0.925184</td>\n",
       "      <td>-0.4789</td>\n",
       "      <td>z</td>\n",
       "      <td>314764490</td>\n",
       "      <td>63223.107527</td>\n",
       "      <td>3643</td>\n",
       "      <td>...</td>\n",
       "      <td>289.326987</td>\n",
       "      <td>79.388247</td>\n",
       "      <td>0.651028</td>\n",
       "      <td>0.0</td>\n",
       "      <td>0.0</td>\n",
       "      <td>0.000000</td>\n",
       "      <td>2.0</td>\n",
       "      <td>22.709081</td>\n",
       "      <td>0.938090</td>\n",
       "      <td>-0.465674</td>\n",
       "    </tr>\n",
       "    <tr>\n",
       "      <th>111446</th>\n",
       "      <td>2443885</td>\n",
       "      <td>1016</td>\n",
       "      <td>56</td>\n",
       "      <td>1427</td>\n",
       "      <td>0.925184</td>\n",
       "      <td>-0.4789</td>\n",
       "      <td>z</td>\n",
       "      <td>314764526</td>\n",
       "      <td>63223.107944</td>\n",
       "      <td>3643</td>\n",
       "      <td>...</td>\n",
       "      <td>289.279516</td>\n",
       "      <td>79.402855</td>\n",
       "      <td>0.651028</td>\n",
       "      <td>0.0</td>\n",
       "      <td>0.0</td>\n",
       "      <td>0.000000</td>\n",
       "      <td>2.0</td>\n",
       "      <td>22.708979</td>\n",
       "      <td>0.938090</td>\n",
       "      <td>-0.465674</td>\n",
       "    </tr>\n",
       "    <tr>\n",
       "      <th>111447</th>\n",
       "      <td>2443886</td>\n",
       "      <td>1016</td>\n",
       "      <td>56</td>\n",
       "      <td>1427</td>\n",
       "      <td>0.925184</td>\n",
       "      <td>-0.4789</td>\n",
       "      <td>z</td>\n",
       "      <td>314764562</td>\n",
       "      <td>63223.108361</td>\n",
       "      <td>3643</td>\n",
       "      <td>...</td>\n",
       "      <td>289.232339</td>\n",
       "      <td>79.417807</td>\n",
       "      <td>0.651028</td>\n",
       "      <td>0.0</td>\n",
       "      <td>0.0</td>\n",
       "      <td>0.000000</td>\n",
       "      <td>2.0</td>\n",
       "      <td>22.708872</td>\n",
       "      <td>0.938090</td>\n",
       "      <td>-0.465674</td>\n",
       "    </tr>\n",
       "    <tr>\n",
       "      <th>111448</th>\n",
       "      <td>2443887</td>\n",
       "      <td>1016</td>\n",
       "      <td>56</td>\n",
       "      <td>1427</td>\n",
       "      <td>0.925184</td>\n",
       "      <td>-0.4789</td>\n",
       "      <td>z</td>\n",
       "      <td>314764598</td>\n",
       "      <td>63223.108777</td>\n",
       "      <td>3643</td>\n",
       "      <td>...</td>\n",
       "      <td>289.185448</td>\n",
       "      <td>79.433102</td>\n",
       "      <td>0.651028</td>\n",
       "      <td>0.0</td>\n",
       "      <td>0.0</td>\n",
       "      <td>0.000000</td>\n",
       "      <td>2.0</td>\n",
       "      <td>22.708761</td>\n",
       "      <td>0.938090</td>\n",
       "      <td>-0.465674</td>\n",
       "    </tr>\n",
       "    <tr>\n",
       "      <th>111449</th>\n",
       "      <td>2443888</td>\n",
       "      <td>1016</td>\n",
       "      <td>56</td>\n",
       "      <td>1427</td>\n",
       "      <td>0.925184</td>\n",
       "      <td>-0.4789</td>\n",
       "      <td>z</td>\n",
       "      <td>314764634</td>\n",
       "      <td>63223.109194</td>\n",
       "      <td>3643</td>\n",
       "      <td>...</td>\n",
       "      <td>289.138834</td>\n",
       "      <td>79.448742</td>\n",
       "      <td>0.651028</td>\n",
       "      <td>0.0</td>\n",
       "      <td>0.0</td>\n",
       "      <td>0.000000</td>\n",
       "      <td>2.0</td>\n",
       "      <td>22.708646</td>\n",
       "      <td>0.938090</td>\n",
       "      <td>-0.465674</td>\n",
       "    </tr>\n",
       "    <tr>\n",
       "      <th>111450</th>\n",
       "      <td>2443889</td>\n",
       "      <td>1016</td>\n",
       "      <td>56</td>\n",
       "      <td>1427</td>\n",
       "      <td>0.925184</td>\n",
       "      <td>-0.4789</td>\n",
       "      <td>z</td>\n",
       "      <td>314764670</td>\n",
       "      <td>63223.109611</td>\n",
       "      <td>3643</td>\n",
       "      <td>...</td>\n",
       "      <td>289.092492</td>\n",
       "      <td>79.464726</td>\n",
       "      <td>0.651028</td>\n",
       "      <td>0.0</td>\n",
       "      <td>0.0</td>\n",
       "      <td>0.000000</td>\n",
       "      <td>2.0</td>\n",
       "      <td>22.708525</td>\n",
       "      <td>0.938090</td>\n",
       "      <td>-0.465674</td>\n",
       "    </tr>\n",
       "    <tr>\n",
       "      <th>111451</th>\n",
       "      <td>2443890</td>\n",
       "      <td>1016</td>\n",
       "      <td>56</td>\n",
       "      <td>1427</td>\n",
       "      <td>0.925184</td>\n",
       "      <td>-0.4789</td>\n",
       "      <td>z</td>\n",
       "      <td>314764706</td>\n",
       "      <td>63223.110027</td>\n",
       "      <td>3643</td>\n",
       "      <td>...</td>\n",
       "      <td>289.046413</td>\n",
       "      <td>79.481055</td>\n",
       "      <td>0.651028</td>\n",
       "      <td>0.0</td>\n",
       "      <td>0.0</td>\n",
       "      <td>0.000000</td>\n",
       "      <td>2.0</td>\n",
       "      <td>22.708399</td>\n",
       "      <td>0.938090</td>\n",
       "      <td>-0.465674</td>\n",
       "    </tr>\n",
       "    <tr>\n",
       "      <th>111452</th>\n",
       "      <td>2443891</td>\n",
       "      <td>1016</td>\n",
       "      <td>56</td>\n",
       "      <td>1427</td>\n",
       "      <td>0.925184</td>\n",
       "      <td>-0.4789</td>\n",
       "      <td>y</td>\n",
       "      <td>314764860</td>\n",
       "      <td>63223.111810</td>\n",
       "      <td>3643</td>\n",
       "      <td>...</td>\n",
       "      <td>288.624650</td>\n",
       "      <td>79.497728</td>\n",
       "      <td>0.651028</td>\n",
       "      <td>0.0</td>\n",
       "      <td>0.0</td>\n",
       "      <td>0.000000</td>\n",
       "      <td>120.0</td>\n",
       "      <td>21.766859</td>\n",
       "      <td>0.938090</td>\n",
       "      <td>-0.465674</td>\n",
       "    </tr>\n",
       "    <tr>\n",
       "      <th>111453</th>\n",
       "      <td>2443892</td>\n",
       "      <td>1016</td>\n",
       "      <td>56</td>\n",
       "      <td>1427</td>\n",
       "      <td>0.925184</td>\n",
       "      <td>-0.4789</td>\n",
       "      <td>y</td>\n",
       "      <td>314764896</td>\n",
       "      <td>63223.112226</td>\n",
       "      <td>3643</td>\n",
       "      <td>...</td>\n",
       "      <td>288.807260</td>\n",
       "      <td>79.572955</td>\n",
       "      <td>0.651028</td>\n",
       "      <td>0.0</td>\n",
       "      <td>0.0</td>\n",
       "      <td>0.000000</td>\n",
       "      <td>2.0</td>\n",
       "      <td>21.765881</td>\n",
       "      <td>0.938090</td>\n",
       "      <td>-0.465674</td>\n",
       "    </tr>\n",
       "    <tr>\n",
       "      <th>111454</th>\n",
       "      <td>2443893</td>\n",
       "      <td>1016</td>\n",
       "      <td>56</td>\n",
       "      <td>1427</td>\n",
       "      <td>0.925184</td>\n",
       "      <td>-0.4789</td>\n",
       "      <td>y</td>\n",
       "      <td>314764932</td>\n",
       "      <td>63223.112643</td>\n",
       "      <td>3643</td>\n",
       "      <td>...</td>\n",
       "      <td>288.762653</td>\n",
       "      <td>79.591455</td>\n",
       "      <td>0.651028</td>\n",
       "      <td>0.0</td>\n",
       "      <td>0.0</td>\n",
       "      <td>0.000000</td>\n",
       "      <td>2.0</td>\n",
       "      <td>21.765641</td>\n",
       "      <td>0.938090</td>\n",
       "      <td>-0.465674</td>\n",
       "    </tr>\n",
       "    <tr>\n",
       "      <th>111455</th>\n",
       "      <td>2443894</td>\n",
       "      <td>1016</td>\n",
       "      <td>56</td>\n",
       "      <td>1427</td>\n",
       "      <td>0.925184</td>\n",
       "      <td>-0.4789</td>\n",
       "      <td>y</td>\n",
       "      <td>314764968</td>\n",
       "      <td>63223.113060</td>\n",
       "      <td>3643</td>\n",
       "      <td>...</td>\n",
       "      <td>288.718250</td>\n",
       "      <td>79.610301</td>\n",
       "      <td>0.651028</td>\n",
       "      <td>0.0</td>\n",
       "      <td>0.0</td>\n",
       "      <td>0.000000</td>\n",
       "      <td>2.0</td>\n",
       "      <td>21.765397</td>\n",
       "      <td>0.938090</td>\n",
       "      <td>-0.465674</td>\n",
       "    </tr>\n",
       "    <tr>\n",
       "      <th>111456</th>\n",
       "      <td>2443895</td>\n",
       "      <td>1016</td>\n",
       "      <td>56</td>\n",
       "      <td>1427</td>\n",
       "      <td>0.925184</td>\n",
       "      <td>-0.4789</td>\n",
       "      <td>y</td>\n",
       "      <td>314765004</td>\n",
       "      <td>63223.113476</td>\n",
       "      <td>3643</td>\n",
       "      <td>...</td>\n",
       "      <td>288.674045</td>\n",
       "      <td>79.629494</td>\n",
       "      <td>0.651028</td>\n",
       "      <td>0.0</td>\n",
       "      <td>0.0</td>\n",
       "      <td>0.000000</td>\n",
       "      <td>2.0</td>\n",
       "      <td>21.765147</td>\n",
       "      <td>0.938090</td>\n",
       "      <td>-0.465674</td>\n",
       "    </tr>\n",
       "    <tr>\n",
       "      <th>111457</th>\n",
       "      <td>2443896</td>\n",
       "      <td>1016</td>\n",
       "      <td>56</td>\n",
       "      <td>1427</td>\n",
       "      <td>0.925184</td>\n",
       "      <td>-0.4789</td>\n",
       "      <td>y</td>\n",
       "      <td>314765040</td>\n",
       "      <td>63223.113893</td>\n",
       "      <td>3643</td>\n",
       "      <td>...</td>\n",
       "      <td>288.630027</td>\n",
       "      <td>79.649035</td>\n",
       "      <td>0.651028</td>\n",
       "      <td>0.0</td>\n",
       "      <td>0.0</td>\n",
       "      <td>0.000000</td>\n",
       "      <td>2.0</td>\n",
       "      <td>21.764894</td>\n",
       "      <td>0.938090</td>\n",
       "      <td>-0.465674</td>\n",
       "    </tr>\n",
       "    <tr>\n",
       "      <th>111458</th>\n",
       "      <td>2443897</td>\n",
       "      <td>1016</td>\n",
       "      <td>56</td>\n",
       "      <td>1427</td>\n",
       "      <td>0.925184</td>\n",
       "      <td>-0.4789</td>\n",
       "      <td>y</td>\n",
       "      <td>314765076</td>\n",
       "      <td>63223.114310</td>\n",
       "      <td>3643</td>\n",
       "      <td>...</td>\n",
       "      <td>288.586190</td>\n",
       "      <td>79.668924</td>\n",
       "      <td>0.651028</td>\n",
       "      <td>0.0</td>\n",
       "      <td>0.0</td>\n",
       "      <td>0.000000</td>\n",
       "      <td>2.0</td>\n",
       "      <td>21.764635</td>\n",
       "      <td>0.938090</td>\n",
       "      <td>-0.465674</td>\n",
       "    </tr>\n",
       "    <tr>\n",
       "      <th>111459</th>\n",
       "      <td>2443898</td>\n",
       "      <td>1016</td>\n",
       "      <td>56</td>\n",
       "      <td>1427</td>\n",
       "      <td>0.925184</td>\n",
       "      <td>-0.4789</td>\n",
       "      <td>y</td>\n",
       "      <td>314765112</td>\n",
       "      <td>63223.114726</td>\n",
       "      <td>3643</td>\n",
       "      <td>...</td>\n",
       "      <td>288.542524</td>\n",
       "      <td>79.689161</td>\n",
       "      <td>0.651028</td>\n",
       "      <td>0.0</td>\n",
       "      <td>0.0</td>\n",
       "      <td>0.000000</td>\n",
       "      <td>2.0</td>\n",
       "      <td>21.764372</td>\n",
       "      <td>0.938090</td>\n",
       "      <td>-0.465674</td>\n",
       "    </tr>\n",
       "    <tr>\n",
       "      <th>111460</th>\n",
       "      <td>2443899</td>\n",
       "      <td>1016</td>\n",
       "      <td>56</td>\n",
       "      <td>1427</td>\n",
       "      <td>0.925184</td>\n",
       "      <td>-0.4789</td>\n",
       "      <td>y</td>\n",
       "      <td>314765148</td>\n",
       "      <td>63223.115143</td>\n",
       "      <td>3643</td>\n",
       "      <td>...</td>\n",
       "      <td>288.499021</td>\n",
       "      <td>79.709747</td>\n",
       "      <td>0.651028</td>\n",
       "      <td>0.0</td>\n",
       "      <td>0.0</td>\n",
       "      <td>0.000000</td>\n",
       "      <td>2.0</td>\n",
       "      <td>21.764106</td>\n",
       "      <td>0.938090</td>\n",
       "      <td>-0.465674</td>\n",
       "    </tr>\n",
       "    <tr>\n",
       "      <th>111461</th>\n",
       "      <td>2443900</td>\n",
       "      <td>1016</td>\n",
       "      <td>56</td>\n",
       "      <td>1427</td>\n",
       "      <td>0.925184</td>\n",
       "      <td>-0.4789</td>\n",
       "      <td>y</td>\n",
       "      <td>314765184</td>\n",
       "      <td>63223.115560</td>\n",
       "      <td>3643</td>\n",
       "      <td>...</td>\n",
       "      <td>288.455673</td>\n",
       "      <td>79.730682</td>\n",
       "      <td>0.651028</td>\n",
       "      <td>0.0</td>\n",
       "      <td>0.0</td>\n",
       "      <td>0.000000</td>\n",
       "      <td>2.0</td>\n",
       "      <td>21.763834</td>\n",
       "      <td>0.938090</td>\n",
       "      <td>-0.465674</td>\n",
       "    </tr>\n",
       "    <tr>\n",
       "      <th>111462</th>\n",
       "      <td>2443901</td>\n",
       "      <td>1016</td>\n",
       "      <td>56</td>\n",
       "      <td>1427</td>\n",
       "      <td>0.925184</td>\n",
       "      <td>-0.4789</td>\n",
       "      <td>y</td>\n",
       "      <td>314765220</td>\n",
       "      <td>63223.115976</td>\n",
       "      <td>3643</td>\n",
       "      <td>...</td>\n",
       "      <td>288.412470</td>\n",
       "      <td>79.751966</td>\n",
       "      <td>0.651028</td>\n",
       "      <td>0.0</td>\n",
       "      <td>0.0</td>\n",
       "      <td>0.000000</td>\n",
       "      <td>2.0</td>\n",
       "      <td>21.763557</td>\n",
       "      <td>0.938090</td>\n",
       "      <td>-0.465674</td>\n",
       "    </tr>\n",
       "    <tr>\n",
       "      <th>111463</th>\n",
       "      <td>2443902</td>\n",
       "      <td>1016</td>\n",
       "      <td>56</td>\n",
       "      <td>1427</td>\n",
       "      <td>0.925184</td>\n",
       "      <td>-0.4789</td>\n",
       "      <td>y</td>\n",
       "      <td>314765256</td>\n",
       "      <td>63223.116393</td>\n",
       "      <td>3643</td>\n",
       "      <td>...</td>\n",
       "      <td>288.369404</td>\n",
       "      <td>79.773600</td>\n",
       "      <td>0.651028</td>\n",
       "      <td>0.0</td>\n",
       "      <td>0.0</td>\n",
       "      <td>0.000000</td>\n",
       "      <td>2.0</td>\n",
       "      <td>21.763277</td>\n",
       "      <td>0.938090</td>\n",
       "      <td>-0.465674</td>\n",
       "    </tr>\n",
       "    <tr>\n",
       "      <th>111464</th>\n",
       "      <td>2443903</td>\n",
       "      <td>1016</td>\n",
       "      <td>56</td>\n",
       "      <td>1427</td>\n",
       "      <td>0.925184</td>\n",
       "      <td>-0.4789</td>\n",
       "      <td>y</td>\n",
       "      <td>314765292</td>\n",
       "      <td>63223.116810</td>\n",
       "      <td>3643</td>\n",
       "      <td>...</td>\n",
       "      <td>288.326465</td>\n",
       "      <td>79.795584</td>\n",
       "      <td>0.651028</td>\n",
       "      <td>0.0</td>\n",
       "      <td>0.0</td>\n",
       "      <td>0.000000</td>\n",
       "      <td>2.0</td>\n",
       "      <td>21.762992</td>\n",
       "      <td>0.938090</td>\n",
       "      <td>-0.465674</td>\n",
       "    </tr>\n",
       "    <tr>\n",
       "      <th>111465</th>\n",
       "      <td>2443904</td>\n",
       "      <td>1016</td>\n",
       "      <td>56</td>\n",
       "      <td>1427</td>\n",
       "      <td>0.925184</td>\n",
       "      <td>-0.4789</td>\n",
       "      <td>y</td>\n",
       "      <td>314765328</td>\n",
       "      <td>63223.117226</td>\n",
       "      <td>3643</td>\n",
       "      <td>...</td>\n",
       "      <td>288.283645</td>\n",
       "      <td>79.817919</td>\n",
       "      <td>0.651028</td>\n",
       "      <td>0.0</td>\n",
       "      <td>0.0</td>\n",
       "      <td>0.000000</td>\n",
       "      <td>2.0</td>\n",
       "      <td>21.762702</td>\n",
       "      <td>0.938090</td>\n",
       "      <td>-0.465674</td>\n",
       "    </tr>\n",
       "    <tr>\n",
       "      <th>111466</th>\n",
       "      <td>2443905</td>\n",
       "      <td>1016</td>\n",
       "      <td>56</td>\n",
       "      <td>1427</td>\n",
       "      <td>0.925184</td>\n",
       "      <td>-0.4789</td>\n",
       "      <td>y</td>\n",
       "      <td>314765364</td>\n",
       "      <td>63223.117643</td>\n",
       "      <td>3643</td>\n",
       "      <td>...</td>\n",
       "      <td>288.240936</td>\n",
       "      <td>79.840605</td>\n",
       "      <td>0.651028</td>\n",
       "      <td>0.0</td>\n",
       "      <td>0.0</td>\n",
       "      <td>0.000000</td>\n",
       "      <td>2.0</td>\n",
       "      <td>21.762408</td>\n",
       "      <td>0.938090</td>\n",
       "      <td>-0.465674</td>\n",
       "    </tr>\n",
       "    <tr>\n",
       "      <th>111467</th>\n",
       "      <td>2443906</td>\n",
       "      <td>1016</td>\n",
       "      <td>56</td>\n",
       "      <td>1427</td>\n",
       "      <td>0.925184</td>\n",
       "      <td>-0.4789</td>\n",
       "      <td>y</td>\n",
       "      <td>314765400</td>\n",
       "      <td>63223.118060</td>\n",
       "      <td>3643</td>\n",
       "      <td>...</td>\n",
       "      <td>288.198326</td>\n",
       "      <td>79.863642</td>\n",
       "      <td>0.651028</td>\n",
       "      <td>0.0</td>\n",
       "      <td>0.0</td>\n",
       "      <td>0.000000</td>\n",
       "      <td>2.0</td>\n",
       "      <td>21.762109</td>\n",
       "      <td>0.938090</td>\n",
       "      <td>-0.465674</td>\n",
       "    </tr>\n",
       "    <tr>\n",
       "      <th>111468</th>\n",
       "      <td>2443907</td>\n",
       "      <td>1016</td>\n",
       "      <td>56</td>\n",
       "      <td>1427</td>\n",
       "      <td>0.925184</td>\n",
       "      <td>-0.4789</td>\n",
       "      <td>y</td>\n",
       "      <td>314765436</td>\n",
       "      <td>63223.118476</td>\n",
       "      <td>3643</td>\n",
       "      <td>...</td>\n",
       "      <td>288.155808</td>\n",
       "      <td>79.887031</td>\n",
       "      <td>0.651028</td>\n",
       "      <td>0.0</td>\n",
       "      <td>0.0</td>\n",
       "      <td>0.000000</td>\n",
       "      <td>2.0</td>\n",
       "      <td>21.761805</td>\n",
       "      <td>0.938090</td>\n",
       "      <td>-0.465674</td>\n",
       "    </tr>\n",
       "    <tr>\n",
       "      <th>111469</th>\n",
       "      <td>2443908</td>\n",
       "      <td>1016</td>\n",
       "      <td>56</td>\n",
       "      <td>1427</td>\n",
       "      <td>0.925184</td>\n",
       "      <td>-0.4789</td>\n",
       "      <td>y</td>\n",
       "      <td>314765472</td>\n",
       "      <td>63223.118893</td>\n",
       "      <td>3643</td>\n",
       "      <td>...</td>\n",
       "      <td>288.113372</td>\n",
       "      <td>79.910772</td>\n",
       "      <td>0.651028</td>\n",
       "      <td>0.0</td>\n",
       "      <td>0.0</td>\n",
       "      <td>0.000000</td>\n",
       "      <td>2.0</td>\n",
       "      <td>21.761497</td>\n",
       "      <td>0.938090</td>\n",
       "      <td>-0.465674</td>\n",
       "    </tr>\n",
       "    <tr>\n",
       "      <th>111470</th>\n",
       "      <td>2443909</td>\n",
       "      <td>1016</td>\n",
       "      <td>56</td>\n",
       "      <td>1427</td>\n",
       "      <td>0.925184</td>\n",
       "      <td>-0.4789</td>\n",
       "      <td>y</td>\n",
       "      <td>314765508</td>\n",
       "      <td>63223.119310</td>\n",
       "      <td>3643</td>\n",
       "      <td>...</td>\n",
       "      <td>288.071008</td>\n",
       "      <td>79.934866</td>\n",
       "      <td>0.651028</td>\n",
       "      <td>0.0</td>\n",
       "      <td>0.0</td>\n",
       "      <td>0.000000</td>\n",
       "      <td>2.0</td>\n",
       "      <td>21.761185</td>\n",
       "      <td>0.938090</td>\n",
       "      <td>-0.465674</td>\n",
       "    </tr>\n",
       "    <tr>\n",
       "      <th>111471</th>\n",
       "      <td>2443910</td>\n",
       "      <td>1016</td>\n",
       "      <td>56</td>\n",
       "      <td>1427</td>\n",
       "      <td>0.925184</td>\n",
       "      <td>-0.4789</td>\n",
       "      <td>y</td>\n",
       "      <td>314765544</td>\n",
       "      <td>63223.119726</td>\n",
       "      <td>3643</td>\n",
       "      <td>...</td>\n",
       "      <td>288.028708</td>\n",
       "      <td>79.959312</td>\n",
       "      <td>0.651028</td>\n",
       "      <td>0.0</td>\n",
       "      <td>0.0</td>\n",
       "      <td>0.000000</td>\n",
       "      <td>2.0</td>\n",
       "      <td>21.760868</td>\n",
       "      <td>0.938090</td>\n",
       "      <td>-0.465674</td>\n",
       "    </tr>\n",
       "  </tbody>\n",
       "</table>\n",
       "<p>111472 rows × 47 columns</p>\n",
       "</div>"
      ],
      "text/plain": [
       "        obsHistID  sessionID  propID  fieldID   fieldRA  fieldDec filter  \\\n",
       "0             230       1016      56     1427  0.925184   -0.4789      r   \n",
       "1             231       1016      56     1427  0.925184   -0.4789      r   \n",
       "2             232       1016      56     1427  0.925184   -0.4789      r   \n",
       "3             233       1016      56     1427  0.925184   -0.4789      r   \n",
       "4             234       1016      56     1427  0.925184   -0.4789      r   \n",
       "5             235       1016      56     1427  0.925184   -0.4789      r   \n",
       "6             236       1016      56     1427  0.925184   -0.4789      r   \n",
       "7             237       1016      56     1427  0.925184   -0.4789      r   \n",
       "8             238       1016      56     1427  0.925184   -0.4789      r   \n",
       "9             239       1016      56     1427  0.925184   -0.4789      r   \n",
       "10            240       1016      56     1427  0.925184   -0.4789      r   \n",
       "11            241       1016      56     1427  0.925184   -0.4789      r   \n",
       "12            242       1016      56     1427  0.925184   -0.4789      r   \n",
       "13            243       1016      56     1427  0.925184   -0.4789      r   \n",
       "14            244       1016      56     1427  0.925184   -0.4789      r   \n",
       "15            245       1016      56     1427  0.925184   -0.4789      r   \n",
       "16            246       1016      56     1427  0.925184   -0.4789      r   \n",
       "17            247       1016      56     1427  0.925184   -0.4789      r   \n",
       "18            248       1016      56     1427  0.925184   -0.4789      r   \n",
       "19            249       1016      56     1427  0.925184   -0.4789      r   \n",
       "20            250       1016      56     1427  0.925184   -0.4789      g   \n",
       "21            251       1016      56     1427  0.925184   -0.4789      g   \n",
       "22            252       1016      56     1427  0.925184   -0.4789      g   \n",
       "23            253       1016      56     1427  0.925184   -0.4789      g   \n",
       "24            254       1016      56     1427  0.925184   -0.4789      g   \n",
       "25            255       1016      56     1427  0.925184   -0.4789      g   \n",
       "26            256       1016      56     1427  0.925184   -0.4789      g   \n",
       "27            257       1016      56     1427  0.925184   -0.4789      g   \n",
       "28            258       1016      56     1427  0.925184   -0.4789      g   \n",
       "29            259       1016      56     1427  0.925184   -0.4789      g   \n",
       "...           ...        ...     ...      ...       ...       ...    ...   \n",
       "111442    2443881       1016      56     1427  0.925184   -0.4789      z   \n",
       "111443    2443882       1016      56     1427  0.925184   -0.4789      z   \n",
       "111444    2443883       1016      56     1427  0.925184   -0.4789      z   \n",
       "111445    2443884       1016      56     1427  0.925184   -0.4789      z   \n",
       "111446    2443885       1016      56     1427  0.925184   -0.4789      z   \n",
       "111447    2443886       1016      56     1427  0.925184   -0.4789      z   \n",
       "111448    2443887       1016      56     1427  0.925184   -0.4789      z   \n",
       "111449    2443888       1016      56     1427  0.925184   -0.4789      z   \n",
       "111450    2443889       1016      56     1427  0.925184   -0.4789      z   \n",
       "111451    2443890       1016      56     1427  0.925184   -0.4789      z   \n",
       "111452    2443891       1016      56     1427  0.925184   -0.4789      y   \n",
       "111453    2443892       1016      56     1427  0.925184   -0.4789      y   \n",
       "111454    2443893       1016      56     1427  0.925184   -0.4789      y   \n",
       "111455    2443894       1016      56     1427  0.925184   -0.4789      y   \n",
       "111456    2443895       1016      56     1427  0.925184   -0.4789      y   \n",
       "111457    2443896       1016      56     1427  0.925184   -0.4789      y   \n",
       "111458    2443897       1016      56     1427  0.925184   -0.4789      y   \n",
       "111459    2443898       1016      56     1427  0.925184   -0.4789      y   \n",
       "111460    2443899       1016      56     1427  0.925184   -0.4789      y   \n",
       "111461    2443900       1016      56     1427  0.925184   -0.4789      y   \n",
       "111462    2443901       1016      56     1427  0.925184   -0.4789      y   \n",
       "111463    2443902       1016      56     1427  0.925184   -0.4789      y   \n",
       "111464    2443903       1016      56     1427  0.925184   -0.4789      y   \n",
       "111465    2443904       1016      56     1427  0.925184   -0.4789      y   \n",
       "111466    2443905       1016      56     1427  0.925184   -0.4789      y   \n",
       "111467    2443906       1016      56     1427  0.925184   -0.4789      y   \n",
       "111468    2443907       1016      56     1427  0.925184   -0.4789      y   \n",
       "111469    2443908       1016      56     1427  0.925184   -0.4789      y   \n",
       "111470    2443909       1016      56     1427  0.925184   -0.4789      y   \n",
       "111471    2443910       1016      56     1427  0.925184   -0.4789      y   \n",
       "\n",
       "          expDate        expMJD  night     ...       moonBright  darkBright  \\\n",
       "0           12057  59580.139555      0     ...         0.000000   84.646287   \n",
       "1           12093  59580.139972      0     ...         0.000000   84.969264   \n",
       "2           12129  59580.140389      0     ...         0.000000   85.037385   \n",
       "3           12165  59580.140805      0     ...         0.000000   85.105955   \n",
       "4           12201  59580.141222      0     ...         0.000000   85.174974   \n",
       "5           12237  59580.141639      0     ...         0.000000   85.244444   \n",
       "6           12273  59580.142055      0     ...         0.000000   85.314366   \n",
       "7           12309  59580.142472      0     ...         0.000000   85.384741   \n",
       "8           12345  59580.142889      0     ...         0.000000   85.455572   \n",
       "9           12381  59580.143305      0     ...         0.000000   85.526859   \n",
       "10          12417  59580.143722      0     ...         0.000000   85.598603   \n",
       "11          12453  59580.144139      0     ...         0.000000   85.670807   \n",
       "12          12489  59580.144555      0     ...         0.000000   85.743471   \n",
       "13          12525  59580.144972      0     ...         0.000000   85.816596   \n",
       "14          12561  59580.145389      0     ...         0.000000   85.890186   \n",
       "15          12597  59580.145805      0     ...         0.000000   85.964240   \n",
       "16          12633  59580.146222      0     ...         0.000000   86.038760   \n",
       "17          12669  59580.146639      0     ...         0.000000   86.113748   \n",
       "18          12705  59580.147055      0     ...         0.000000   86.189205   \n",
       "19          12741  59580.147472      0     ...         0.000000   86.265132   \n",
       "20          12895  59580.149254      0     ...         0.000000   86.341532   \n",
       "21          12931  59580.149671      0     ...         0.000000   86.673719   \n",
       "22          12967  59580.150088      0     ...         0.000000   86.752635   \n",
       "23          13003  59580.150504      0     ...         0.000000   86.832034   \n",
       "24          13039  59580.150921      0     ...         0.000000   86.911915   \n",
       "25          13075  59580.151338      0     ...         0.000000   86.992282   \n",
       "26          13111  59580.151754      0     ...         0.000000   87.073135   \n",
       "27          13147  59580.152171      0     ...         0.000000   87.154476   \n",
       "28          13183  59580.152588      0     ...         0.000000   87.236307   \n",
       "29          13219  59580.153004      0     ...         0.000000   87.318629   \n",
       "...           ...           ...    ...     ...              ...         ...   \n",
       "111442  314764382  63223.106277   3643     ...       289.471233   79.346482   \n",
       "111443  314764418  63223.106694   3643     ...       289.422838   79.360061   \n",
       "111444  314764454  63223.107111   3643     ...       289.374759   79.373982   \n",
       "111445  314764490  63223.107527   3643     ...       289.326987   79.388247   \n",
       "111446  314764526  63223.107944   3643     ...       289.279516   79.402855   \n",
       "111447  314764562  63223.108361   3643     ...       289.232339   79.417807   \n",
       "111448  314764598  63223.108777   3643     ...       289.185448   79.433102   \n",
       "111449  314764634  63223.109194   3643     ...       289.138834   79.448742   \n",
       "111450  314764670  63223.109611   3643     ...       289.092492   79.464726   \n",
       "111451  314764706  63223.110027   3643     ...       289.046413   79.481055   \n",
       "111452  314764860  63223.111810   3643     ...       288.624650   79.497728   \n",
       "111453  314764896  63223.112226   3643     ...       288.807260   79.572955   \n",
       "111454  314764932  63223.112643   3643     ...       288.762653   79.591455   \n",
       "111455  314764968  63223.113060   3643     ...       288.718250   79.610301   \n",
       "111456  314765004  63223.113476   3643     ...       288.674045   79.629494   \n",
       "111457  314765040  63223.113893   3643     ...       288.630027   79.649035   \n",
       "111458  314765076  63223.114310   3643     ...       288.586190   79.668924   \n",
       "111459  314765112  63223.114726   3643     ...       288.542524   79.689161   \n",
       "111460  314765148  63223.115143   3643     ...       288.499021   79.709747   \n",
       "111461  314765184  63223.115560   3643     ...       288.455673   79.730682   \n",
       "111462  314765220  63223.115976   3643     ...       288.412470   79.751966   \n",
       "111463  314765256  63223.116393   3643     ...       288.369404   79.773600   \n",
       "111464  314765292  63223.116810   3643     ...       288.326465   79.795584   \n",
       "111465  314765328  63223.117226   3643     ...       288.283645   79.817919   \n",
       "111466  314765364  63223.117643   3643     ...       288.240936   79.840605   \n",
       "111467  314765400  63223.118060   3643     ...       288.198326   79.863642   \n",
       "111468  314765436  63223.118476   3643     ...       288.155808   79.887031   \n",
       "111469  314765472  63223.118893   3643     ...       288.113372   79.910772   \n",
       "111470  314765508  63223.119310   3643     ...       288.071008   79.934866   \n",
       "111471  314765544  63223.119726   3643     ...       288.028708   79.959312   \n",
       "\n",
       "        rawSeeing  wind  humidity  slewDist  slewTime  fiveSigmaDepth  \\\n",
       "0        0.866285   0.0       0.0  0.755889     140.0       24.070428   \n",
       "1        0.791241   0.0       0.0  0.000000       2.0       24.143180   \n",
       "2        0.791241   0.0       0.0  0.000000       2.0       24.141983   \n",
       "3        0.859965   0.0       0.0  0.000000       2.0       24.068792   \n",
       "4        0.859965   0.0       0.0  0.000000       2.0       24.067582   \n",
       "5        0.859965   0.0       0.0  0.000000       2.0       24.066363   \n",
       "6        0.859965   0.0       0.0  0.000000       2.0       24.065138   \n",
       "7        0.859965   0.0       0.0  0.000000       2.0       24.063905   \n",
       "8        0.859965   0.0       0.0  0.000000       2.0       24.062664   \n",
       "9        0.859965   0.0       0.0  0.000000       2.0       24.061416   \n",
       "10       0.859965   0.0       0.0  0.000000       2.0       24.060160   \n",
       "11       0.853067   0.0       0.0  0.000000       2.0       24.065964   \n",
       "12       0.853067   0.0       0.0  0.000000       2.0       24.064694   \n",
       "13       0.853067   0.0       0.0  0.000000       2.0       24.063416   \n",
       "14       0.853067   0.0       0.0  0.000000       2.0       24.062131   \n",
       "15       0.853067   0.0       0.0  0.000000       2.0       24.060838   \n",
       "16       0.853067   0.0       0.0  0.000000       2.0       24.059539   \n",
       "17       0.853067   0.0       0.0  0.000000       2.0       24.058230   \n",
       "18       0.853067   0.0       0.0  0.000000       2.0       24.056915   \n",
       "19       0.853067   0.0       0.0  0.000000       2.0       24.055592   \n",
       "20       0.928894   0.0       0.0  0.000000     120.0       24.254527   \n",
       "21       0.928894   0.0       0.0  0.000000       2.0       24.248408   \n",
       "22       0.928894   0.0       0.0  0.000000       2.0       24.246956   \n",
       "23       0.928894   0.0       0.0  0.000000       2.0       24.245496   \n",
       "24       0.928894   0.0       0.0  0.000000       2.0       24.244027   \n",
       "25       1.064493   0.0       0.0  0.000000       2.0       24.114083   \n",
       "26       1.064493   0.0       0.0  0.000000       2.0       24.112599   \n",
       "27       1.064493   0.0       0.0  0.000000       2.0       24.111105   \n",
       "28       1.064493   0.0       0.0  0.000000       2.0       24.109603   \n",
       "29       1.064493   0.0       0.0  0.000000       2.0       24.108093   \n",
       "...           ...   ...       ...       ...       ...             ...   \n",
       "111442   0.651028   0.0       0.0  0.000000       2.0       22.709358   \n",
       "111443   0.651028   0.0       0.0  0.000000       2.0       22.709271   \n",
       "111444   0.651028   0.0       0.0  0.000000       2.0       22.709178   \n",
       "111445   0.651028   0.0       0.0  0.000000       2.0       22.709081   \n",
       "111446   0.651028   0.0       0.0  0.000000       2.0       22.708979   \n",
       "111447   0.651028   0.0       0.0  0.000000       2.0       22.708872   \n",
       "111448   0.651028   0.0       0.0  0.000000       2.0       22.708761   \n",
       "111449   0.651028   0.0       0.0  0.000000       2.0       22.708646   \n",
       "111450   0.651028   0.0       0.0  0.000000       2.0       22.708525   \n",
       "111451   0.651028   0.0       0.0  0.000000       2.0       22.708399   \n",
       "111452   0.651028   0.0       0.0  0.000000     120.0       21.766859   \n",
       "111453   0.651028   0.0       0.0  0.000000       2.0       21.765881   \n",
       "111454   0.651028   0.0       0.0  0.000000       2.0       21.765641   \n",
       "111455   0.651028   0.0       0.0  0.000000       2.0       21.765397   \n",
       "111456   0.651028   0.0       0.0  0.000000       2.0       21.765147   \n",
       "111457   0.651028   0.0       0.0  0.000000       2.0       21.764894   \n",
       "111458   0.651028   0.0       0.0  0.000000       2.0       21.764635   \n",
       "111459   0.651028   0.0       0.0  0.000000       2.0       21.764372   \n",
       "111460   0.651028   0.0       0.0  0.000000       2.0       21.764106   \n",
       "111461   0.651028   0.0       0.0  0.000000       2.0       21.763834   \n",
       "111462   0.651028   0.0       0.0  0.000000       2.0       21.763557   \n",
       "111463   0.651028   0.0       0.0  0.000000       2.0       21.763277   \n",
       "111464   0.651028   0.0       0.0  0.000000       2.0       21.762992   \n",
       "111465   0.651028   0.0       0.0  0.000000       2.0       21.762702   \n",
       "111466   0.651028   0.0       0.0  0.000000       2.0       21.762408   \n",
       "111467   0.651028   0.0       0.0  0.000000       2.0       21.762109   \n",
       "111468   0.651028   0.0       0.0  0.000000       2.0       21.761805   \n",
       "111469   0.651028   0.0       0.0  0.000000       2.0       21.761497   \n",
       "111470   0.651028   0.0       0.0  0.000000       2.0       21.761185   \n",
       "111471   0.651028   0.0       0.0  0.000000       2.0       21.760868   \n",
       "\n",
       "        ditheredRA  ditheredDec  \n",
       "0         0.907976    -0.505351  \n",
       "1         0.907976    -0.505351  \n",
       "2         0.907976    -0.505351  \n",
       "3         0.907976    -0.505351  \n",
       "4         0.907976    -0.505351  \n",
       "5         0.907976    -0.505351  \n",
       "6         0.907976    -0.505351  \n",
       "7         0.907976    -0.505351  \n",
       "8         0.907976    -0.505351  \n",
       "9         0.907976    -0.505351  \n",
       "10        0.907976    -0.505351  \n",
       "11        0.907976    -0.505351  \n",
       "12        0.907976    -0.505351  \n",
       "13        0.907976    -0.505351  \n",
       "14        0.907976    -0.505351  \n",
       "15        0.907976    -0.505351  \n",
       "16        0.907976    -0.505351  \n",
       "17        0.907976    -0.505351  \n",
       "18        0.907976    -0.505351  \n",
       "19        0.907976    -0.505351  \n",
       "20        0.907976    -0.505351  \n",
       "21        0.907976    -0.505351  \n",
       "22        0.907976    -0.505351  \n",
       "23        0.907976    -0.505351  \n",
       "24        0.907976    -0.505351  \n",
       "25        0.907976    -0.505351  \n",
       "26        0.907976    -0.505351  \n",
       "27        0.907976    -0.505351  \n",
       "28        0.907976    -0.505351  \n",
       "29        0.907976    -0.505351  \n",
       "...            ...          ...  \n",
       "111442    0.938090    -0.465674  \n",
       "111443    0.938090    -0.465674  \n",
       "111444    0.938090    -0.465674  \n",
       "111445    0.938090    -0.465674  \n",
       "111446    0.938090    -0.465674  \n",
       "111447    0.938090    -0.465674  \n",
       "111448    0.938090    -0.465674  \n",
       "111449    0.938090    -0.465674  \n",
       "111450    0.938090    -0.465674  \n",
       "111451    0.938090    -0.465674  \n",
       "111452    0.938090    -0.465674  \n",
       "111453    0.938090    -0.465674  \n",
       "111454    0.938090    -0.465674  \n",
       "111455    0.938090    -0.465674  \n",
       "111456    0.938090    -0.465674  \n",
       "111457    0.938090    -0.465674  \n",
       "111458    0.938090    -0.465674  \n",
       "111459    0.938090    -0.465674  \n",
       "111460    0.938090    -0.465674  \n",
       "111461    0.938090    -0.465674  \n",
       "111462    0.938090    -0.465674  \n",
       "111463    0.938090    -0.465674  \n",
       "111464    0.938090    -0.465674  \n",
       "111465    0.938090    -0.465674  \n",
       "111466    0.938090    -0.465674  \n",
       "111467    0.938090    -0.465674  \n",
       "111468    0.938090    -0.465674  \n",
       "111469    0.938090    -0.465674  \n",
       "111470    0.938090    -0.465674  \n",
       "111471    0.938090    -0.465674  \n",
       "\n",
       "[111472 rows x 47 columns]"
      ]
     },
     "execution_count": 23,
     "metadata": {},
     "output_type": "execute_result"
    }
   ],
   "source": [
    "pd.read_sql_query('SELECT * FROM Summary WHERE PROPID == 56', conn)"
   ]
  },
  {
   "cell_type": "code",
   "execution_count": null,
   "metadata": {
    "collapsed": true
   },
   "outputs": [],
   "source": []
  }
 ],
 "metadata": {
  "anaconda-cloud": {},
  "kernelspec": {
   "display_name": "Python [default]",
   "language": "python",
   "name": "python2"
  },
  "language_info": {
   "codemirror_mode": {
    "name": "ipython",
    "version": 2
   },
   "file_extension": ".py",
   "mimetype": "text/x-python",
   "name": "python",
   "nbconvert_exporter": "python",
   "pygments_lexer": "ipython2",
   "version": "2.7.12"
  }
 },
 "nbformat": 4,
 "nbformat_minor": 1
}
