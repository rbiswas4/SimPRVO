{
 "cells": [
  {
   "cell_type": "markdown",
   "metadata": {},
   "source": [
    "This notebook demonstrates the method to produce the most basic simulation under consideration using the package `varsim`. The inputs here are:\n",
    "   - a set of pointings (for simplicity, read in from a csv file)\n",
    "   - a (model, population) pair, where\n",
    "       - a population of astrophysical sources described by a subclass of `varsim.BasePopulation`. This class must implement the abstract methods of `varsim.BasePopulation`, and provide an index for each source and the model parameters. \n",
    "       - a model for the sources described by a subclass of `varsim.BaseModel`. Again this subclass must implement all of the abstract methods and properties of `varsim.BaseModel`. The essential functionality of this class is to represent an astrophysical source as a model with model parameters, given which, this class has methods of predicting the model flux as a function of time at the top of the earth's atmosphere (ie. no sky noise included).\n",
    "   - The simulation will be performed using the class `varsim.BasicSimulation` which is a subclass of the abstract base class `varsim.BaseSimulation` and implements concrete methods and properties necessary for the simulation. These methods and properties only use the abstract properties and methods of `BaseModel` and `BasePopulation`, and are therefore guaranteed to with any subclass."
   ]
  },
  {
   "cell_type": "markdown",
   "metadata": {},
   "source": [
    "##  Imports"
   ]
  },
  {
   "cell_type": "code",
   "execution_count": 1,
   "metadata": {
    "collapsed": true
   },
   "outputs": [],
   "source": [
    "import os"
   ]
  },
  {
   "cell_type": "code",
   "execution_count": 2,
   "metadata": {
    "collapsed": true
   },
   "outputs": [],
   "source": [
    "from opsimsummary import HealpixTiles, OpSimOutput"
   ]
  },
  {
   "cell_type": "code",
   "execution_count": 3,
   "metadata": {
    "collapsed": true
   },
   "outputs": [],
   "source": [
    "import numpy as np\n",
    "import pandas as pd"
   ]
  },
  {
   "cell_type": "code",
   "execution_count": 4,
   "metadata": {
    "collapsed": true
   },
   "outputs": [],
   "source": [
    "from lsst.sims.photUtils import BandpassDict"
   ]
  },
  {
   "cell_type": "code",
   "execution_count": 5,
   "metadata": {
    "collapsed": false
   },
   "outputs": [],
   "source": [
    "from varsim import BasePopulation, BasicSimulation, BaseModel"
   ]
  },
  {
   "cell_type": "code",
   "execution_count": 6,
   "metadata": {
    "collapsed": true
   },
   "outputs": [],
   "source": [
    "from lsst.sims.catUtils.supernovae import SNObject"
   ]
  },
  {
   "cell_type": "code",
   "execution_count": 7,
   "metadata": {
    "collapsed": true
   },
   "outputs": [],
   "source": [
    "import analyzeSN as ans"
   ]
  },
  {
   "cell_type": "code",
   "execution_count": 8,
   "metadata": {
    "collapsed": false
   },
   "outputs": [],
   "source": [
    "import varsim"
   ]
  },
  {
   "cell_type": "code",
   "execution_count": 9,
   "metadata": {
    "collapsed": true
   },
   "outputs": [],
   "source": [
    "%matplotlib inline\n",
    "import matplotlib.pyplot as plt\n",
    "import seaborn as sns\n",
    "sns.set_style('whitegrid')"
   ]
  },
  {
   "cell_type": "markdown",
   "metadata": {},
   "source": [
    "## The quantities of interest"
   ]
  },
  {
   "cell_type": "markdown",
   "metadata": {},
   "source": [
    "####  Pointings"
   ]
  },
  {
   "cell_type": "code",
   "execution_count": 10,
   "metadata": {
    "collapsed": false
   },
   "outputs": [],
   "source": [
    "# The set of pointings randomly kept for convenience.\n",
    "example_data = varsim.example_data\n",
    "pointings_File = os.path.join(example_data, 'example_pointings.csv')\n",
    "pointings = pd.read_csv(pointings_File, index_col='obsHistID')"
   ]
  },
  {
   "cell_type": "code",
   "execution_count": 11,
   "metadata": {
    "collapsed": false
   },
   "outputs": [
    {
     "name": "stdout",
     "output_type": "stream",
     "text": [
      "14\n"
     ]
    },
    {
     "data": {
      "text/html": [
       "<div>\n",
       "<table border=\"1\" class=\"dataframe\">\n",
       "  <thead>\n",
       "    <tr style=\"text-align: right;\">\n",
       "      <th></th>\n",
       "      <th>sessionID</th>\n",
       "      <th>propID</th>\n",
       "      <th>fieldID</th>\n",
       "      <th>fieldRA</th>\n",
       "      <th>fieldDec</th>\n",
       "      <th>filter</th>\n",
       "      <th>expDate</th>\n",
       "      <th>expMJD</th>\n",
       "      <th>night</th>\n",
       "      <th>visitTime</th>\n",
       "      <th>...</th>\n",
       "      <th>moonBright</th>\n",
       "      <th>darkBright</th>\n",
       "      <th>rawSeeing</th>\n",
       "      <th>wind</th>\n",
       "      <th>humidity</th>\n",
       "      <th>slewDist</th>\n",
       "      <th>slewTime</th>\n",
       "      <th>fiveSigmaDepth</th>\n",
       "      <th>ditheredRA</th>\n",
       "      <th>ditheredDec</th>\n",
       "    </tr>\n",
       "    <tr>\n",
       "      <th>obsHistID</th>\n",
       "      <th></th>\n",
       "      <th></th>\n",
       "      <th></th>\n",
       "      <th></th>\n",
       "      <th></th>\n",
       "      <th></th>\n",
       "      <th></th>\n",
       "      <th></th>\n",
       "      <th></th>\n",
       "      <th></th>\n",
       "      <th></th>\n",
       "      <th></th>\n",
       "      <th></th>\n",
       "      <th></th>\n",
       "      <th></th>\n",
       "      <th></th>\n",
       "      <th></th>\n",
       "      <th></th>\n",
       "      <th></th>\n",
       "      <th></th>\n",
       "      <th></th>\n",
       "    </tr>\n",
       "  </thead>\n",
       "  <tbody>\n",
       "    <tr>\n",
       "      <th>1</th>\n",
       "      <td>1016</td>\n",
       "      <td>54</td>\n",
       "      <td>316</td>\n",
       "      <td>1.676483</td>\n",
       "      <td>-1.082473</td>\n",
       "      <td>y</td>\n",
       "      <td>2922</td>\n",
       "      <td>59580.033829</td>\n",
       "      <td>0</td>\n",
       "      <td>34.0</td>\n",
       "      <td>...</td>\n",
       "      <td>0.0</td>\n",
       "      <td>105.610378</td>\n",
       "      <td>0.920473</td>\n",
       "      <td>0.0</td>\n",
       "      <td>0.0</td>\n",
       "      <td>1.620307</td>\n",
       "      <td>0.000000</td>\n",
       "      <td>21.021236</td>\n",
       "      <td>1.643930</td>\n",
       "      <td>-1.108924</td>\n",
       "    </tr>\n",
       "    <tr>\n",
       "      <th>14</th>\n",
       "      <td>1016</td>\n",
       "      <td>54</td>\n",
       "      <td>1118</td>\n",
       "      <td>1.709686</td>\n",
       "      <td>-0.607725</td>\n",
       "      <td>y</td>\n",
       "      <td>3424</td>\n",
       "      <td>59580.039637</td>\n",
       "      <td>0</td>\n",
       "      <td>34.0</td>\n",
       "      <td>...</td>\n",
       "      <td>0.0</td>\n",
       "      <td>103.104582</td>\n",
       "      <td>0.903960</td>\n",
       "      <td>0.0</td>\n",
       "      <td>0.0</td>\n",
       "      <td>0.055856</td>\n",
       "      <td>4.599568</td>\n",
       "      <td>21.067249</td>\n",
       "      <td>1.691083</td>\n",
       "      <td>-0.634176</td>\n",
       "    </tr>\n",
       "    <tr>\n",
       "      <th>13</th>\n",
       "      <td>1016</td>\n",
       "      <td>54</td>\n",
       "      <td>1220</td>\n",
       "      <td>1.664386</td>\n",
       "      <td>-0.566519</td>\n",
       "      <td>y</td>\n",
       "      <td>3386</td>\n",
       "      <td>59580.039190</td>\n",
       "      <td>0</td>\n",
       "      <td>34.0</td>\n",
       "      <td>...</td>\n",
       "      <td>0.0</td>\n",
       "      <td>101.147431</td>\n",
       "      <td>0.903960</td>\n",
       "      <td>0.0</td>\n",
       "      <td>0.0</td>\n",
       "      <td>0.048200</td>\n",
       "      <td>4.776511</td>\n",
       "      <td>21.091149</td>\n",
       "      <td>1.646286</td>\n",
       "      <td>-0.592970</td>\n",
       "    </tr>\n",
       "    <tr>\n",
       "      <th>12</th>\n",
       "      <td>1016</td>\n",
       "      <td>54</td>\n",
       "      <td>1212</td>\n",
       "      <td>1.608166</td>\n",
       "      <td>-0.575819</td>\n",
       "      <td>y</td>\n",
       "      <td>3347</td>\n",
       "      <td>59580.038741</td>\n",
       "      <td>0</td>\n",
       "      <td>34.0</td>\n",
       "      <td>...</td>\n",
       "      <td>0.0</td>\n",
       "      <td>98.109397</td>\n",
       "      <td>0.903960</td>\n",
       "      <td>0.0</td>\n",
       "      <td>0.0</td>\n",
       "      <td>0.055665</td>\n",
       "      <td>4.739998</td>\n",
       "      <td>21.128319</td>\n",
       "      <td>1.589958</td>\n",
       "      <td>-0.602270</td>\n",
       "    </tr>\n",
       "    <tr>\n",
       "      <th>11</th>\n",
       "      <td>1016</td>\n",
       "      <td>54</td>\n",
       "      <td>1110</td>\n",
       "      <td>1.651280</td>\n",
       "      <td>-0.618574</td>\n",
       "      <td>y</td>\n",
       "      <td>3308</td>\n",
       "      <td>59580.038293</td>\n",
       "      <td>0</td>\n",
       "      <td>34.0</td>\n",
       "      <td>...</td>\n",
       "      <td>0.0</td>\n",
       "      <td>100.125895</td>\n",
       "      <td>0.903960</td>\n",
       "      <td>0.0</td>\n",
       "      <td>0.0</td>\n",
       "      <td>0.056173</td>\n",
       "      <td>4.499824</td>\n",
       "      <td>21.103635</td>\n",
       "      <td>1.632535</td>\n",
       "      <td>-0.645025</td>\n",
       "    </tr>\n",
       "  </tbody>\n",
       "</table>\n",
       "<p>5 rows × 46 columns</p>\n",
       "</div>"
      ],
      "text/plain": [
       "           sessionID  propID  fieldID   fieldRA  fieldDec filter  expDate  \\\n",
       "obsHistID                                                                   \n",
       "1               1016      54      316  1.676483 -1.082473      y     2922   \n",
       "14              1016      54     1118  1.709686 -0.607725      y     3424   \n",
       "13              1016      54     1220  1.664386 -0.566519      y     3386   \n",
       "12              1016      54     1212  1.608166 -0.575819      y     3347   \n",
       "11              1016      54     1110  1.651280 -0.618574      y     3308   \n",
       "\n",
       "                 expMJD  night  visitTime     ...       moonBright  \\\n",
       "obsHistID                                     ...                    \n",
       "1          59580.033829      0       34.0     ...              0.0   \n",
       "14         59580.039637      0       34.0     ...              0.0   \n",
       "13         59580.039190      0       34.0     ...              0.0   \n",
       "12         59580.038741      0       34.0     ...              0.0   \n",
       "11         59580.038293      0       34.0     ...              0.0   \n",
       "\n",
       "           darkBright  rawSeeing  wind  humidity  slewDist  slewTime  \\\n",
       "obsHistID                                                              \n",
       "1          105.610378   0.920473   0.0       0.0  1.620307  0.000000   \n",
       "14         103.104582   0.903960   0.0       0.0  0.055856  4.599568   \n",
       "13         101.147431   0.903960   0.0       0.0  0.048200  4.776511   \n",
       "12          98.109397   0.903960   0.0       0.0  0.055665  4.739998   \n",
       "11         100.125895   0.903960   0.0       0.0  0.056173  4.499824   \n",
       "\n",
       "           fiveSigmaDepth  ditheredRA  ditheredDec  \n",
       "obsHistID                                           \n",
       "1               21.021236    1.643930    -1.108924  \n",
       "14              21.067249    1.691083    -0.634176  \n",
       "13              21.091149    1.646286    -0.592970  \n",
       "12              21.128319    1.589958    -0.602270  \n",
       "11              21.103635    1.632535    -0.645025  \n",
       "\n",
       "[5 rows x 46 columns]"
      ]
     },
     "execution_count": 11,
     "metadata": {},
     "output_type": "execute_result"
    }
   ],
   "source": [
    "# To show what this looks like\n",
    "print(len(pointings))\n",
    "pointings.head()"
   ]
  },
  {
   "cell_type": "code",
   "execution_count": 12,
   "metadata": {
    "collapsed": true
   },
   "outputs": [],
   "source": [
    "# We did not need to have all these columns. The essential columns are ra, dec, filter, \n",
    "# fivesigmadepth. It is also good to have fieldID, etc."
   ]
  },
  {
   "cell_type": "markdown",
   "metadata": {},
   "source": [
    "### Model of source\n",
    "- Model : Subclass of `varsim.BaseModel` with its methods implemented. Here I use `lsst.sims.catUtils.supernovae.SNObject` functionality to provide  functions\n",
    "- Provides `minMjd` and `maxMjd` to restrict the set of pointings over which we will build the light curve.\n",
    "- `modelFlux`: concrete implementation of abstract method `BaseModel.modelFlux` providing the flux, given the model parameters and `mjd`, `bandpass`."
   ]
  },
  {
   "cell_type": "markdown",
   "metadata": {},
   "source": [
    "We will write down an example of a model as a concrete implementation of `BaseModel`. This is the minimal model required for describing a variable object for these simulations. Such an implementation requires the following properties to be implemented."
   ]
  },
  {
   "cell_type": "markdown",
   "metadata": {},
   "source": [
    "#### A SALT model"
   ]
  },
  {
   "cell_type": "code",
   "execution_count": 13,
   "metadata": {
    "collapsed": false
   },
   "outputs": [],
   "source": [
    "class Model(SNObject, BaseModel):\n",
    "    def setModelParameters(self, params):\n",
    "        paramDict = params.copy()\n",
    "        # self.setCoords(ra=positions['ra'], dec=positions['dec'])\n",
    "        self.set(**params)\n",
    "        self.set_MWebv(0)\n",
    "        #self.mwEBVfromMaps()\n",
    "    \n",
    "    @property\n",
    "    def minMjd(self):\n",
    "        return self.mintime()\n",
    "    @property\n",
    "    def maxMjd(self):\n",
    "        return self.maxtime()\n",
    "    \n",
    "    def modelFlux(self, mjd, bandpassobj):\n",
    "        return self.catsimBandFlux(bandpassobject=bandpassobj,\n",
    "                                      time=mjd)\n",
    "\n"
   ]
  },
  {
   "cell_type": "markdown",
   "metadata": {},
   "source": [
    "#### A Stupid Model\n",
    "We will also work out the population for a stupid model to show every single step:\n",
    "- The model is stupid becaue there are no k corrections or band dependence"
   ]
  },
  {
   "cell_type": "code",
   "execution_count": 15,
   "metadata": {
    "collapsed": false
   },
   "outputs": [],
   "source": [
    "from varsim import BaseModel"
   ]
  },
  {
   "cell_type": "code",
   "execution_count": 16,
   "metadata": {
    "collapsed": false
   },
   "outputs": [],
   "source": [
    "class StupidModel(BaseModel):\n",
    "    def __init__(self):\n",
    "        self.t0 = None\n",
    "        self.f = None\n",
    "        self._maxday = None\n",
    "        self._minday = None\n",
    "        self.z = NOne\n",
    "        \n",
    "    def setModelParameters(self, params):\n",
    "        self.f = params['f']\n",
    "        self.t0 = params['t0']\n",
    "        self._maxday = params['max'] \n",
    "        self._minday = params['min']\n",
    "        self.z = params['z']\n",
    "        return\n",
    "    @property\n",
    "    def minMjd(self):\n",
    "        return self._minMjd\n",
    "    \n",
    "    @property\n",
    "    def maxMjd(self):\n",
    "        return self._maxday + self.t0\n",
    "    \n",
    "    @property\n",
    "    def minMjd(self):\n",
    "        return self._minday + self.t0\n",
    "    \n",
    "    def modelFlux(self, mjd, bandpassobj):\n",
    "        #d = mjd[(mjd > self.minMjd) & (mjd < self.maxMjd)]\n",
    "        vals = np.sin((mjd - self.t0)/ self.f)\n",
    "        return max(vals, 0)"
   ]
  },
  {
   "cell_type": "markdown",
   "metadata": {},
   "source": [
    "### Population of astrophysical sources. \n",
    "Here I use supernovae with the SALT model.  I keep two supernovae in a completely random way without attempting to make sense. The important parts are  that no matter how the Population model is implemented, it has:\n",
    "- `modelparams` : the method which takes the unique index of a supernova in the population and provides its model parameters as a dictionary. An important requirement is that the dictionary as the keys `ra`, `dec`, while the other parameters are completely user dependent\n",
    "- `idxvalues` : a property which is a sequence of indices. Here the sequence is implemented as a tuple, which is perhaps how it should be for large simulations."
   ]
  },
  {
   "cell_type": "markdown",
   "metadata": {},
   "source": [
    "####  SALT model Population"
   ]
  },
  {
   "cell_type": "code",
   "execution_count": 17,
   "metadata": {
    "collapsed": false
   },
   "outputs": [],
   "source": [
    "class SALTPopulation(BasePopulation):\n",
    "    def __init__(self):\n",
    "        self.x0 = [5.0e-2, 3.e-5]\n",
    "        self.x1 = [0, .1]\n",
    "        self.c = [-0.2, 0.5]\n",
    "        self.t0 = [59581., 59580. ]\n",
    "        self.z = [0.5, 0.6]\n",
    "        self.ra = [30., 30.]\n",
    "        self.dec = [-45., -45.]\n",
    "        \n",
    "    def modelparams(self, idx):\n",
    "        return dict(x0=self.x0[idx], x1=self.x1[idx], c=self.c[idx], t0=self.t0[idx],\n",
    "                    z=self.z[idx])\n",
    "    @property\n",
    "    def idxvalues(self):\n",
    "        return (x for x in (0, 1))\n",
    "    @property\n",
    "    def numSources(self):\n",
    "        return sum(1 for i in self.idxvalues)\n",
    "    #@property\n",
    "    #def hasPositionArray(self):\n",
    "    #    return False\n",
    "    #@property\n",
    "    #def positionArray(self):\n",
    "    #    return None\n",
    "    \n",
    "    #def positions(self, idx):\n",
    "    #    return dict(ra=self.ra[idx], dec=self.dec[idx])"
   ]
  },
  {
   "cell_type": "markdown",
   "metadata": {},
   "source": [
    "####  Stupid model Population"
   ]
  },
  {
   "cell_type": "code",
   "execution_count": 18,
   "metadata": {
    "collapsed": true
   },
   "outputs": [],
   "source": [
    "class StupidPopulation(BasePopulation):\n",
    "    def __init__(self):\n",
    "        self.t0 = [59580.03, 59580.05]\n",
    "        self.f = [0.002, 0.004]\n",
    "        self.minvals = [-0.2, -0.5]\n",
    "        self.maxvals = [0.5, 1.0]\n",
    "        \n",
    "    def modelparams(self, idx):\n",
    "        return dict(t0=self.t0[idx], f=self.f[idx], min=self.minvals[idx], max=self.maxvals[idx])\n",
    "    @property\n",
    "    def idxvalues(self):\n",
    "        return (x for x in (0, 1))\n",
    "    @property\n",
    "    def numSources(self):\n",
    "        return sum(1 for i in self.idxvalues)\n",
    "    #@property\n",
    "    #def hasPositionArray(self):\n",
    "    #    return False\n",
    "    #@property\n",
    "    #def positionArray(self):\n",
    "    #    return None\n",
    "    \n",
    "    #def positions(self, idx):\n",
    "    #    return dict(ra=self.ra[idx], dec=self.dec[idx])   "
   ]
  },
  {
   "cell_type": "markdown",
   "metadata": {},
   "source": [
    "### Instantiate the populations and demonstrate the functionality"
   ]
  },
  {
   "cell_type": "markdown",
   "metadata": {},
   "source": [
    "This is the Supernova model with no extinction"
   ]
  },
  {
   "cell_type": "markdown",
   "metadata": {},
   "source": [
    "#### Population for SALT Model"
   ]
  },
  {
   "cell_type": "code",
   "execution_count": 19,
   "metadata": {
    "collapsed": false
   },
   "outputs": [],
   "source": [
    "sp = SALTPopulation()"
   ]
  },
  {
   "cell_type": "code",
   "execution_count": null,
   "metadata": {
    "collapsed": false
   },
   "outputs": [],
   "source": [
    "# The indices\n",
    "idxs = tuple(sp.idxvalues)\n",
    "print(idxs)"
   ]
  },
  {
   "cell_type": "code",
   "execution_count": null,
   "metadata": {
    "collapsed": false
   },
   "outputs": [],
   "source": [
    "# The model parameters\n",
    "sp.modelparams(0)"
   ]
  },
  {
   "cell_type": "markdown",
   "metadata": {},
   "source": [
    "and the other one"
   ]
  },
  {
   "cell_type": "code",
   "execution_count": null,
   "metadata": {
    "collapsed": false
   },
   "outputs": [],
   "source": [
    "sp.numSources"
   ]
  },
  {
   "cell_type": "code",
   "execution_count": null,
   "metadata": {
    "collapsed": false
   },
   "outputs": [],
   "source": [
    "sp.modelparams(0)"
   ]
  },
  {
   "cell_type": "code",
   "execution_count": null,
   "metadata": {
    "collapsed": false
   },
   "outputs": [],
   "source": [
    "model = Model()"
   ]
  },
  {
   "cell_type": "code",
   "execution_count": null,
   "metadata": {
    "collapsed": false
   },
   "outputs": [],
   "source": [
    "# Let us set parameters (using the method `setModelParameters` in the abstract class\n",
    "# to the parameters of the first object in SALTParameters)\n",
    "model.setModelParameters(sp.modelparams(0))    "
   ]
  },
  {
   "cell_type": "code",
   "execution_count": null,
   "metadata": {
    "collapsed": false
   },
   "outputs": [],
   "source": [
    "# Now, this should predict fluxes (in maggies) given a time, and a bandpassobject\n",
    "f = (model.modelFlux(mjd=59580, bandpassobj=bandpassdict['y']), \n",
    "     model.modelFlux(mjd=59580, bandpassobj=bandpassdict['g']))\n",
    "print(f, -2.5 * np.log10(f))"
   ]
  },
  {
   "cell_type": "markdown",
   "metadata": {},
   "source": [
    "#### Population for Stupid Model"
   ]
  },
  {
   "cell_type": "code",
   "execution_count": null,
   "metadata": {
    "collapsed": true
   },
   "outputs": [],
   "source": [
    "stp = StupidPopulation()"
   ]
  },
  {
   "cell_type": "code",
   "execution_count": null,
   "metadata": {
    "collapsed": false
   },
   "outputs": [],
   "source": [
    "stp.t0"
   ]
  },
  {
   "cell_type": "code",
   "execution_count": null,
   "metadata": {
    "collapsed": false
   },
   "outputs": [],
   "source": [
    "stp.modelparams(0)"
   ]
  },
  {
   "cell_type": "code",
   "execution_count": null,
   "metadata": {
    "collapsed": true
   },
   "outputs": [],
   "source": [
    "# We will need the LSST bandpasses. Let us load them using the catsim method\n",
    "bandpassdict = BandpassDict.loadTotalBandpassesFromFiles()"
   ]
  },
  {
   "cell_type": "markdown",
   "metadata": {},
   "source": [
    "Similarly, we show the results for the `Stupid Model`"
   ]
  },
  {
   "cell_type": "markdown",
   "metadata": {},
   "source": [
    "The stupid model:"
   ]
  },
  {
   "cell_type": "code",
   "execution_count": null,
   "metadata": {
    "collapsed": true
   },
   "outputs": [],
   "source": [
    "stupidParams = dict(t0=59580.03, f=0.001, min=-0.5, max=0.8)\n",
    "sm = StupidModel()\n",
    "sm.setModelParameters(stupidParams)"
   ]
  },
  {
   "cell_type": "markdown",
   "metadata": {},
   "source": [
    "## Simulation\n",
    "Now we are ready to do the simulation using the class `BasicSimulation`. This is a concrete implementation of `BaseSimulation`, "
   ]
  },
  {
   "cell_type": "code",
   "execution_count": null,
   "metadata": {
    "collapsed": false
   },
   "outputs": [],
   "source": [
    "bsim = BasicSimulation(sp, model, pointings=pointings, rng=np.random.RandomState(0), \n",
    "                       maxObsHistID=1000000, pointingColumnDict=None,\n",
    "                       pruneWithRadius=False)"
   ]
  },
  {
   "cell_type": "code",
   "execution_count": null,
   "metadata": {
    "collapsed": false
   },
   "outputs": [],
   "source": [
    "t_ = bsim.lc(1, maxObsHistID=2e6)"
   ]
  },
  {
   "cell_type": "code",
   "execution_count": null,
   "metadata": {
    "collapsed": false
   },
   "outputs": [],
   "source": [
    "t_"
   ]
  },
  {
   "cell_type": "code",
   "execution_count": null,
   "metadata": {
    "collapsed": false
   },
   "outputs": [],
   "source": [
    "fig, ax = plt.subplots()\n",
    "ax.errorbar(t_.expMJD, t_.flux, t_.fluxerr, fmt='o')"
   ]
  },
  {
   "cell_type": "code",
   "execution_count": null,
   "metadata": {
    "collapsed": false
   },
   "outputs": [],
   "source": [
    "sp.modelparams(0)"
   ]
  },
  {
   "cell_type": "code",
   "execution_count": null,
   "metadata": {
    "collapsed": false
   },
   "outputs": [],
   "source": [
    "!rm *.hdf"
   ]
  },
  {
   "cell_type": "code",
   "execution_count": null,
   "metadata": {
    "collapsed": false
   },
   "outputs": [],
   "source": [
    "bsim.write_simulation(phot_output='sim_phot_all.hdf', pop_output='sim_pop.hdf', method='hdf', key='sim1')"
   ]
  },
  {
   "cell_type": "code",
   "execution_count": null,
   "metadata": {
    "collapsed": false
   },
   "outputs": [],
   "source": [
    "phot_sim_df = pd.read_hdf('sim_phot_all.hdf', key='sim1')"
   ]
  },
  {
   "cell_type": "code",
   "execution_count": null,
   "metadata": {
    "collapsed": false
   },
   "outputs": [],
   "source": [
    "pop_sim_df = pd.read_hdf('sim_pop.hdf')"
   ]
  },
  {
   "cell_type": "code",
   "execution_count": null,
   "metadata": {
    "collapsed": false
   },
   "outputs": [],
   "source": [
    "phot_sim_df"
   ]
  },
  {
   "cell_type": "code",
   "execution_count": null,
   "metadata": {
    "collapsed": false
   },
   "outputs": [],
   "source": [
    "pop_sim_df"
   ]
  },
  {
   "cell_type": "code",
   "execution_count": null,
   "metadata": {
    "collapsed": false
   },
   "outputs": [],
   "source": [
    "stp.modelparams(0)"
   ]
  },
  {
   "cell_type": "code",
   "execution_count": null,
   "metadata": {
    "collapsed": true
   },
   "outputs": [],
   "source": [
    "sm.setModelParameters(stp.modelparams(0))"
   ]
  },
  {
   "cell_type": "code",
   "execution_count": null,
   "metadata": {
    "collapsed": false
   },
   "outputs": [],
   "source": [
    "sm.modelFlux(pointings.expMJD.iloc[0], bandpassobj=None)"
   ]
  },
  {
   "cell_type": "code",
   "execution_count": null,
   "metadata": {
    "collapsed": false
   },
   "outputs": [],
   "source": [
    "bstm = BasicSimulation(stp, sm, pointings=pointings, rng=np.random.RandomState(0), \n",
    "                       maxObsHistID=1000000, pointingColumnDict=None,\n",
    "                       pruneWithRadius=False)\n",
    "bstm.write_simulation(phot_output='stp_phot_all.hdf', pop_output='stm_pop.hdf', method='hdf', key='sim1')"
   ]
  },
  {
   "cell_type": "code",
   "execution_count": null,
   "metadata": {
    "collapsed": true
   },
   "outputs": [],
   "source": [
    "phot_simt_df = pd.read_hdf('stp_phot_all.hdf', key='sim1')"
   ]
  },
  {
   "cell_type": "code",
   "execution_count": null,
   "metadata": {
    "collapsed": false
   },
   "outputs": [],
   "source": [
    "pop_simt_df = pd.read_hdf('stm_pop.hdf')"
   ]
  },
  {
   "cell_type": "code",
   "execution_count": null,
   "metadata": {
    "collapsed": false
   },
   "outputs": [],
   "source": [
    "pop_simt_df"
   ]
  },
  {
   "cell_type": "code",
   "execution_count": null,
   "metadata": {
    "collapsed": false
   },
   "outputs": [],
   "source": [
    "bsim.lc(0)"
   ]
  },
  {
   "cell_type": "code",
   "execution_count": null,
   "metadata": {
    "collapsed": false
   },
   "outputs": [],
   "source": [
    "bstm.lc(0)"
   ]
  },
  {
   "cell_type": "code",
   "execution_count": null,
   "metadata": {
    "collapsed": false
   },
   "outputs": [],
   "source": [
    "phot_simt_df"
   ]
  },
  {
   "cell_type": "markdown",
   "metadata": {},
   "source": [
    "# Scratch"
   ]
  },
  {
   "cell_type": "code",
   "execution_count": null,
   "metadata": {
    "collapsed": true
   },
   "outputs": [],
   "source": [
    "from varsim import BaseSpatialPopulationFromStochasticModel, BaseSpatialPopulation"
   ]
  },
  {
   "cell_type": "code",
   "execution_count": null,
   "metadata": {
    "collapsed": false
   },
   "outputs": [],
   "source": [
    "class SpatialPopulation()"
   ]
  },
  {
   "cell_type": "code",
   "execution_count": null,
   "metadata": {
    "collapsed": false
   },
   "outputs": [],
   "source": [
    "b = BaseModel()"
   ]
  },
  {
   "cell_type": "code",
   "execution_count": null,
   "metadata": {
    "collapsed": true
   },
   "outputs": [],
   "source": [
    "from varsim import BasePopulationFromStochasticModel"
   ]
  },
  {
   "cell_type": "code",
   "execution_count": null,
   "metadata": {
    "collapsed": false
   },
   "outputs": [],
   "source": [
    "class SALTStatPopulation(BasePopulationFromStochasticModel):\n",
    "    def __init__(self, ):\n",
    "        self.x0 = [5.0e-2, 3.e-5]\n",
    "        self.x1 = [0, .1]\n",
    "        self.c = [-0.2, 0.5]\n",
    "        self.t0 = [59581., 59580. ]\n",
    "        self.z = [0.5, 0.6]\n",
    "        self.ra = [30., 30.]\n",
    "        self.dec = [-45., -45.]\n",
    "    \n",
    "    @property\n",
    "    def pop_rng(self):\n",
    "        return 0\n",
    "    \n",
    "    @property\n",
    "    def numSources(self):\n",
    "        return sum(1 for elem in self.idxvalues)\n",
    "    #def get_pop_rng(self):\n",
    "    #    return self.pop_rng\n",
    "    def set_pop_rng(self, value):\n",
    "        self._pop_rng = value\n",
    "        \n",
    "    def modelparams(self, idx):\n",
    "            return dict(x0=self.x0[idx], x1=self.x1[idx], c=self.c[idx], t0=self.t0[idx],\n",
    "                        z=self.z[idx])\n",
    "        \n",
    "    @property\n",
    "    def idxvalues(self):\n",
    "        return (x for x in (0, 1))\n",
    "    @property\n",
    "    def hasPositionArray(self):\n",
    "        return False\n",
    "    @property\n",
    "    def positionArray(self):\n",
    "        return None\n",
    "    def positions(self, idx):\n",
    "        return dict(ra=self.ra[idx], dec=self.dec[idx])\n",
    "    "
   ]
  },
  {
   "cell_type": "code",
   "execution_count": null,
   "metadata": {
    "collapsed": false
   },
   "outputs": [],
   "source": [
    "snsims = SALTPopulation()"
   ]
  },
  {
   "cell_type": "code",
   "execution_count": null,
   "metadata": {
    "collapsed": false
   },
   "outputs": [],
   "source": [
    "bsim.lc(1).index.values.size"
   ]
  },
  {
   "cell_type": "code",
   "execution_count": null,
   "metadata": {
    "collapsed": false
   },
   "outputs": [],
   "source": [
    "np.unique(bsim.lc(0).index.values).size"
   ]
  },
  {
   "cell_type": "code",
   "execution_count": null,
   "metadata": {
    "collapsed": false
   },
   "outputs": [],
   "source": [
    "bsim.lc(0).columns"
   ]
  },
  {
   "cell_type": "code",
   "execution_count": null,
   "metadata": {
    "collapsed": false
   },
   "outputs": [],
   "source": [
    "bsim.write_lc(0, 'test_0.hdf', 'hdf')"
   ]
  },
  {
   "cell_type": "code",
   "execution_count": null,
   "metadata": {
    "collapsed": true
   },
   "outputs": [],
   "source": [
    "lc_0 = pd.read_hdf('test_0.hdf')"
   ]
  },
  {
   "cell_type": "code",
   "execution_count": null,
   "metadata": {
    "collapsed": false
   },
   "outputs": [],
   "source": [
    "lc_0"
   ]
  },
  {
   "cell_type": "code",
   "execution_count": null,
   "metadata": {
    "collapsed": true
   },
   "outputs": [],
   "source": [
    "from snsims import PowerLawRates"
   ]
  },
  {
   "cell_type": "code",
   "execution_count": null,
   "metadata": {
    "collapsed": false
   },
   "outputs": [],
   "source": [
    "pr = PowerLawRates(np.random.RandomState(0), numBins=28, fieldArea=1.0)"
   ]
  },
  {
   "cell_type": "code",
   "execution_count": null,
   "metadata": {
    "collapsed": false
   },
   "outputs": [],
   "source": [
    "np.shape(pr.zSamples)"
   ]
  },
  {
   "cell_type": "code",
   "execution_count": null,
   "metadata": {
    "collapsed": false
   },
   "outputs": [],
   "source": [
    "30 * 25000 / 1000"
   ]
  },
  {
   "cell_type": "code",
   "execution_count": null,
   "metadata": {
    "collapsed": true
   },
   "outputs": [],
   "source": [
    "class SaltPopulation(BasePopulationFromStochasticModel):\n",
    "    def __init__(self, saltdist, tiling):\n",
    "        "
   ]
  },
  {
   "cell_type": "code",
   "execution_count": null,
   "metadata": {
    "collapsed": true
   },
   "outputs": [],
   "source": [
    "from astropy.cosmology import Planck15"
   ]
  },
  {
   "cell_type": "code",
   "execution_count": null,
   "metadata": {
    "collapsed": true
   },
   "outputs": [],
   "source": [
    "from opsimsummary import Tiling"
   ]
  },
  {
   "cell_type": "code",
   "execution_count": null,
   "metadata": {
    "collapsed": false
   },
   "outputs": [],
   "source": [
    "dir(Tiling)"
   ]
  },
  {
   "cell_type": "code",
   "execution_count": null,
   "metadata": {
    "collapsed": false
   },
   "outputs": [],
   "source": [
    "from opsimsummary import HealpixTiles, Tiling"
   ]
  },
  {
   "cell_type": "code",
   "execution_count": null,
   "metadata": {
    "collapsed": true
   },
   "outputs": [],
   "source": [
    "hpTiles = HealpixTiles(nside=256,\n",
    "                       preComputedMap='/Users/rbiswas/data/LSST/OpSimData/healpixelized_MINION_1016_256.db')"
   ]
  },
  {
   "cell_type": "code",
   "execution_count": null,
   "metadata": {
    "collapsed": false
   },
   "outputs": [],
   "source": [
    "r = hpTiles.positions(0, 1000)"
   ]
  },
  {
   "cell_type": "code",
   "execution_count": null,
   "metadata": {
    "collapsed": false
   },
   "outputs": [],
   "source": [
    "r[0]"
   ]
  },
  {
   "cell_type": "code",
   "execution_count": null,
   "metadata": {
    "collapsed": false
   },
   "outputs": [],
   "source": [
    "class TiledPopulation(BasePopulationFromStochasticModel, Tiling):\n",
    "    def __init__(self):\n",
    "        return super(self.__class__).__init()"
   ]
  },
  {
   "cell_type": "code",
   "execution_count": null,
   "metadata": {
    "collapsed": false
   },
   "outputs": [],
   "source": [
    "tp = TiledPopulation()"
   ]
  },
  {
   "cell_type": "code",
   "execution_count": null,
   "metadata": {
    "collapsed": false
   },
   "outputs": [],
   "source": [
    "class HPTP(SALTPopulation):\n",
    "    def __init__(self):\n",
    "        return super(self.__class__, self).__init__()"
   ]
  },
  {
   "cell_type": "code",
   "execution_count": null,
   "metadata": {
    "collapsed": false
   },
   "outputs": [],
   "source": [
    "hptp = HPTP()"
   ]
  },
  {
   "cell_type": "code",
   "execution_count": null,
   "metadata": {
    "collapsed": false
   },
   "outputs": [],
   "source": [
    "hptp.area(0)"
   ]
  },
  {
   "cell_type": "code",
   "execution_count": null,
   "metadata": {
    "collapsed": true
   },
   "outputs": [],
   "source": [
    "from snsims import SALT2_MMDist"
   ]
  },
  {
   "cell_type": "code",
   "execution_count": null,
   "metadata": {
    "collapsed": false
   },
   "outputs": [],
   "source": [
    "mB, x1, c, z = SALT2_MMDist(10000)"
   ]
  },
  {
   "cell_type": "code",
   "execution_count": null,
   "metadata": {
    "collapsed": false
   },
   "outputs": [],
   "source": [
    "fig, ax = plt.subplots()\n",
    "ax.hist(c)"
   ]
  },
  {
   "cell_type": "code",
   "execution_count": null,
   "metadata": {
    "collapsed": true
   },
   "outputs": [],
   "source": [
    "from astropy.cosmology import Planck15"
   ]
  },
  {
   "cell_type": "code",
   "execution_count": null,
   "metadata": {
    "collapsed": false
   },
   "outputs": [],
   "source": [
    "pr.DeltaT"
   ]
  },
  {
   "cell_type": "code",
   "execution_count": null,
   "metadata": {
    "collapsed": false
   },
   "outputs": [],
   "source": [
    "class SALT2Params(BasePopulationFromStochasticModel):\n",
    "    def __init__(self, zSamples, mjdmin=0., snids=None,\n",
    "                 Mdisp=0.15, alpha=0.11, beta=-3.14, positions=None,\n",
    "                 rng=None, cosmo=Planck15):\n",
    "        self.zSamples = zSamples\n",
    "        self._snids = snids\n",
    "        self.alpha = alpha\n",
    "        self.beta = beta\n",
    "        self._numSN = len(self.zSamples)\n",
    "        self._rng = rng\n",
    "        self.Mdisp = Mdisp\n",
    "        self.cosmo = cosmo\n",
    "        self.mjdmin = mjdmin\n",
    "        self.surveyDuration = self.zSamples.DeltaT * 365.0 \n",
    "        self._positions = positions\n",
    "    \n",
    "    @property\n",
    "    def mjdmax(self):\n",
    "        return self.mjdmin + self.surveyDuration\n",
    "    \n",
    "    @property\n",
    "    def numSources(self):\n",
    "        return self._numSN\n",
    "   \n",
    "    @property\n",
    "    def pop_rng(self):\n",
    "        return self._rng\n",
    "    \n",
    "    def set_pop_rng(self, value):\n",
    "        self._rng = value\n",
    "    \n",
    "    @property\n",
    "    def idxvalues(self):\n",
    "        if self._snids is None:\n",
    "            self._snids = np.arange(self.numSN)\n",
    "        return self._snids\n",
    "    \n",
    "    @property\n",
    "    def positionArray(self):\n",
    "        return None\n",
    "    @property\n",
    "    def hasPositionArray(self):\n",
    "        return False\n",
    "    \n",
    "    def positions(self, idx):\n",
    "        return dict(ra=self._positions[0][idx], dec=self._positions[1][idx])\n",
    "    \n",
    "    def snparamTable(self):\n",
    "        if self._paramSamples is not None:\n",
    "            return self._paramSamples\n",
    "        timescale = self.mjdmax - self.mjdmin\n",
    "        T0Vals = self.randomState.uniform(size=self.numSN) * timescale \\\n",
    "            + self.mjdmin\n",
    "        mB, x1, c, m = SALT2_MMDist(self.numSN)\n",
    "        x0 = np.zeros(len(mB))\n",
    "        mB += self.randomState.normal(loc=0., scale=self.Mdisp,\n",
    "                                      size=self.numSN)\n",
    "        model = sncosmo.Model(source='SALT2')\n",
    "        for i, z in enumerate(self.zSamples):\n",
    "            model.set(z=z, x1=x1[i], c=c[i])\n",
    "            model.source.set_peakmag(mB[i], 'bessellB', 'ab')\n",
    "            x0[i] = model.get('x0')\n",
    "        df = pd.DataFrame(dict(x0=x0, x1=x1, c=c, mB=mB, z=self.zSamples))\n",
    "        return df\n",
    "    def modelparams(self, idx):\n",
    "        return self.snparamTable.ix(idx)\n",
    "        \n",
    "        \n",
    "        \n",
    "    \n",
    "        \n",
    "        \n",
    "        \n",
    "    "
   ]
  },
  {
   "cell_type": "code",
   "execution_count": null,
   "metadata": {
    "collapsed": false
   },
   "outputs": [],
   "source": [
    "sp = SALT2Params(pr.zSamples, 59580)"
   ]
  },
  {
   "cell_type": "code",
   "execution_count": null,
   "metadata": {
    "collapsed": false
   },
   "outputs": [],
   "source": [
    "bsim.write_simulation('test_sim.hdf', 'hdf', key='test', clobber=False)"
   ]
  },
  {
   "cell_type": "code",
   "execution_count": null,
   "metadata": {
    "collapsed": false
   },
   "outputs": [],
   "source": [
    "simdf = pd.read_hdf('test_sim.hdf')"
   ]
  },
  {
   "cell_type": "code",
   "execution_count": null,
   "metadata": {
    "collapsed": false
   },
   "outputs": [],
   "source": [
    "simdf"
   ]
  },
  {
   "cell_type": "code",
   "execution_count": null,
   "metadata": {
    "collapsed": false
   },
   "outputs": [],
   "source": [
    "bsim.write_population()"
   ]
  },
  {
   "cell_type": "code",
   "execution_count": null,
   "metadata": {
    "collapsed": false
   },
   "outputs": [],
   "source": [
    "df = pd.read_hdf('test.hdf', key='test')"
   ]
  },
  {
   "cell_type": "code",
   "execution_count": null,
   "metadata": {
    "collapsed": false
   },
   "outputs": [],
   "source": [
    "bsim.lc(1).to_hdf('test.hdf', key='test', mode='w', append=True, format='t')"
   ]
  },
  {
   "cell_type": "code",
   "execution_count": null,
   "metadata": {
    "collapsed": true
   },
   "outputs": [],
   "source": [
    "bsim.lc(0).to_hdf('test.hdf', key='test', mode='a', append=True, format='t')"
   ]
  },
  {
   "cell_type": "code",
   "execution_count": null,
   "metadata": {
    "collapsed": true
   },
   "outputs": [],
   "source": [
    "df = pd.read_hdf('test.hdf', key='test')"
   ]
  },
  {
   "cell_type": "code",
   "execution_count": null,
   "metadata": {
    "collapsed": false
   },
   "outputs": [],
   "source": [
    "df"
   ]
  },
  {
   "cell_type": "code",
   "execution_count": null,
   "metadata": {
    "collapsed": false
   },
   "outputs": [],
   "source": [
    "bsim.write_lc(0, 'test_0.csv', 'csv', key=None)"
   ]
  },
  {
   "cell_type": "code",
   "execution_count": null,
   "metadata": {
    "collapsed": false
   },
   "outputs": [],
   "source": [
    "dfcsv = pd.read_csv('test_0.csv')"
   ]
  },
  {
   "cell_type": "code",
   "execution_count": null,
   "metadata": {
    "collapsed": false
   },
   "outputs": [],
   "source": [
    "bsim.write_simulation('test.hdf', 'hdf', key=None)"
   ]
  },
  {
   "cell_type": "code",
   "execution_count": null,
   "metadata": {
    "collapsed": false
   },
   "outputs": [],
   "source": [
    "df = pd.read_hdf('test.hdf', key='0')"
   ]
  },
  {
   "cell_type": "code",
   "execution_count": null,
   "metadata": {
    "collapsed": false
   },
   "outputs": [],
   "source": [
    "df.to_sql('')"
   ]
  },
  {
   "cell_type": "code",
   "execution_count": null,
   "metadata": {
    "collapsed": false
   },
   "outputs": [],
   "source": [
    "bsim.write_population('pop.hdf', method='hdf')"
   ]
  },
  {
   "cell_type": "code",
   "execution_count": null,
   "metadata": {
    "collapsed": true
   },
   "outputs": [],
   "source": [
    "sp.idxvalues"
   ]
  },
  {
   "cell_type": "code",
   "execution_count": null,
   "metadata": {
    "collapsed": false
   },
   "outputs": [],
   "source": [
    "dfcsv.equals(df, )"
   ]
  },
  {
   "cell_type": "code",
   "execution_count": null,
   "metadata": {
    "collapsed": false
   },
   "outputs": [],
   "source": [
    "bsim = BasicSimulation(population=sp, model=Model, pointings=)"
   ]
  },
  {
   "cell_type": "code",
   "execution_count": null,
   "metadata": {
    "collapsed": false
   },
   "outputs": [],
   "source": [
    "bsim.write_lc(0, 'lc_0.hdf', 'hdf')"
   ]
  },
  {
   "cell_type": "code",
   "execution_count": null,
   "metadata": {
    "collapsed": true
   },
   "outputs": [],
   "source": [
    "pd.DataFrame.to_hdf()"
   ]
  },
  {
   "cell_type": "code",
   "execution_count": null,
   "metadata": {
    "collapsed": false
   },
   "outputs": [],
   "source": [
    "bsim.write_simulation('test.hdf', 'hdf', key='test')"
   ]
  },
  {
   "cell_type": "code",
   "execution_count": null,
   "metadata": {
    "collapsed": false
   },
   "outputs": [],
   "source": [
    "simdf = pd.read_hdf('test.hdf', key='test')"
   ]
  },
  {
   "cell_type": "code",
   "execution_count": null,
   "metadata": {
    "collapsed": false
   },
   "outputs": [],
   "source": [
    "simdf"
   ]
  },
  {
   "cell_type": "code",
   "execution_count": null,
   "metadata": {
    "collapsed": false
   },
   "outputs": [],
   "source": [
    "sp.positions"
   ]
  },
  {
   "cell_type": "code",
   "execution_count": null,
   "metadata": {
    "collapsed": true
   },
   "outputs": [],
   "source": [
    "model = Model()"
   ]
  },
  {
   "cell_type": "code",
   "execution_count": null,
   "metadata": {
    "collapsed": false
   },
   "outputs": [],
   "source": [
    "sp.modelparams(0)"
   ]
  },
  {
   "cell_type": "code",
   "execution_count": null,
   "metadata": {
    "collapsed": false
   },
   "outputs": [],
   "source": [
    "sp.modelparams(0)"
   ]
  },
  {
   "cell_type": "code",
   "execution_count": null,
   "metadata": {
    "collapsed": false
   },
   "outputs": [],
   "source": [
    "model.setModelParameters(**sp.modelparams(0))"
   ]
  },
  {
   "cell_type": "code",
   "execution_count": null,
   "metadata": {
    "collapsed": false
   },
   "outputs": [],
   "source": [
    "model.sn.SNstate"
   ]
  },
  {
   "cell_type": "code",
   "execution_count": null,
   "metadata": {
    "collapsed": true
   },
   "outputs": [],
   "source": [
    "sn = SNObject()"
   ]
  },
  {
   "cell_type": "code",
   "execution_count": null,
   "metadata": {
    "collapsed": false
   },
   "outputs": [],
   "source": [
    "params"
   ]
  },
  {
   "cell_type": "code",
   "execution_count": null,
   "metadata": {
    "collapsed": false
   },
   "outputs": [],
   "source": [
    "sn.setCoords(params['ra'], params['dec'])"
   ]
  },
  {
   "cell_type": "code",
   "execution_count": null,
   "metadata": {
    "collapsed": true
   },
   "outputs": [],
   "source": [
    "sn.set(**params)"
   ]
  },
  {
   "cell_type": "code",
   "execution_count": null,
   "metadata": {
    "collapsed": true
   },
   "outputs": [],
   "source": [
    "sn.mwEBVfromMaps()"
   ]
  },
  {
   "cell_type": "code",
   "execution_count": null,
   "metadata": {
    "collapsed": false
   },
   "outputs": [],
   "source": [
    "sn.SNstate"
   ]
  },
  {
   "cell_type": "code",
   "execution_count": null,
   "metadata": {
    "collapsed": false
   },
   "outputs": [],
   "source": [
    "model = Model()"
   ]
  },
  {
   "cell_type": "code",
   "execution_count": null,
   "metadata": {
    "collapsed": false
   },
   "outputs": [],
   "source": [
    "params = sp.modelparams(0).copy()"
   ]
  },
  {
   "cell_type": "code",
   "execution_count": null,
   "metadata": {
    "collapsed": true
   },
   "outputs": [],
   "source": [
    "for key in ('ra', 'dec'):\n",
    "    params.pop(key)"
   ]
  },
  {
   "cell_type": "code",
   "execution_count": null,
   "metadata": {
    "collapsed": false
   },
   "outputs": [],
   "source": [
    "params"
   ]
  },
  {
   "cell_type": "code",
   "execution_count": null,
   "metadata": {
    "collapsed": true
   },
   "outputs": [],
   "source": [
    "sn.set(**params)"
   ]
  },
  {
   "cell_type": "code",
   "execution_count": null,
   "metadata": {
    "collapsed": false
   },
   "outputs": [],
   "source": [
    "sn.SNstate"
   ]
  },
  {
   "cell_type": "code",
   "execution_count": null,
   "metadata": {
    "collapsed": false
   },
   "outputs": [],
   "source": [
    "model.setModelParameters(**sp.modelparams(0))"
   ]
  },
  {
   "cell_type": "code",
   "execution_count": null,
   "metadata": {
    "collapsed": false
   },
   "outputs": [],
   "source": [
    "model.sn.SNstate"
   ]
  },
  {
   "cell_type": "code",
   "execution_count": null,
   "metadata": {
    "collapsed": false
   },
   "outputs": [],
   "source": [
    "bandpassobj = bandpassdict['y']"
   ]
  },
  {
   "cell_type": "code",
   "execution_count": null,
   "metadata": {
    "collapsed": false
   },
   "outputs": [],
   "source": [
    "model.setModelParameters(**sp.modelparams(0))"
   ]
  },
  {
   "cell_type": "code",
   "execution_count": null,
   "metadata": {
    "collapsed": false
   },
   "outputs": [],
   "source": [
    "model.modelFlux(59580., bandpassobj=bandpassobj)"
   ]
  },
  {
   "cell_type": "code",
   "execution_count": null,
   "metadata": {
    "collapsed": false
   },
   "outputs": [],
   "source": [
    "bsim = BasicSimulation(sp, model, pointings, rng=np.random.RandomState(0), \n",
    "                       maxObsHistID=1000000, pointingColumnDict=None,\n",
    "                       timeRange=\n",
    "                      pruneWithRadius=False)"
   ]
  },
  {
   "cell_type": "code",
   "execution_count": null,
   "metadata": {
    "collapsed": false
   },
   "outputs": [],
   "source": [
    "bsim.model.maxMjd"
   ]
  },
  {
   "cell_type": "code",
   "execution_count": null,
   "metadata": {
    "collapsed": false
   },
   "outputs": [],
   "source": [
    "bsim.model.r"
   ]
  },
  {
   "cell_type": "code",
   "execution_count": null,
   "metadata": {
    "collapsed": true
   },
   "outputs": [],
   "source": [
    "scrtch__"
   ]
  },
  {
   "cell_type": "code",
   "execution_count": null,
   "metadata": {
    "collapsed": false
   },
   "outputs": [],
   "source": [
    "opsout = _OpSimOutput.fromOpSimDB('/Users/rbiswas/data/LSST/OpSimData/minion_1016_sqlite.db',\n",
    "                                 )"
   ]
  },
  {
   "cell_type": "code",
   "execution_count": null,
   "metadata": {
    "collapsed": false
   },
   "outputs": [],
   "source": [
    "pointings = opsout.summary.query('expMJD < 59580.04')"
   ]
  },
  {
   "cell_type": "code",
   "execution_count": null,
   "metadata": {
    "collapsed": false
   },
   "outputs": [],
   "source": [
    "pointings.expMJD.min()"
   ]
  },
  {
   "cell_type": "code",
   "execution_count": null,
   "metadata": {
    "collapsed": false
   },
   "outputs": [],
   "source": [
    "len(pointings)"
   ]
  },
  {
   "cell_type": "code",
   "execution_count": null,
   "metadata": {
    "collapsed": false
   },
   "outputs": [],
   "source": [
    "pointings.to_csv('check_poinx``tings.csv')"
   ]
  },
  {
   "cell_type": "code",
   "execution_count": null,
   "metadata": {
    "collapsed": false
   },
   "outputs": [],
   "source": [
    "!head check_pointings.csv"
   ]
  },
  {
   "cell_type": "code",
   "execution_count": null,
   "metadata": {
    "collapsed": true
   },
   "outputs": [],
   "source": [
    "from var"
   ]
  },
  {
   "cell_type": "code",
   "execution_count": null,
   "metadata": {
    "collapsed": true
   },
   "outputs": [],
   "source": [
    "from varsim import BaseExcep"
   ]
  },
  {
   "cell_type": "code",
   "execution_count": null,
   "metadata": {
    "collapsed": true
   },
   "outputs": [],
   "source": [
    "import pandas as pd"
   ]
  },
  {
   "cell_type": "code",
   "execution_count": null,
   "metadata": {
    "collapsed": true
   },
   "outputs": [],
   "source": [
    "import numpy as np"
   ]
  },
  {
   "cell_type": "code",
   "execution_count": null,
   "metadata": {
    "collapsed": false
   },
   "outputs": [],
   "source": [
    "df = pd.DataFrame()"
   ]
  },
  {
   "cell_type": "code",
   "execution_count": null,
   "metadata": {
    "collapsed": false
   },
   "outputs": [],
   "source": [
    "df['objid'] = np.arange(10)"
   ]
  },
  {
   "cell_type": "code",
   "execution_count": null,
   "metadata": {
    "collapsed": false
   },
   "outputs": [],
   "source": [
    "df"
   ]
  },
  {
   "cell_type": "code",
   "execution_count": null,
   "metadata": {
    "collapsed": false
   },
   "outputs": [],
   "source": [
    "280 *2 /4 + 20"
   ]
  },
  {
   "cell_type": "code",
   "execution_count": null,
   "metadata": {
    "collapsed": false
   },
   "outputs": [],
   "source": [
    "from collections import namedtuple, OrderedDict as odict"
   ]
  },
  {
   "cell_type": "code",
   "execution_count": null,
   "metadata": {
    "collapsed": false
   },
   "outputs": [],
   "source": [
    "keys = 'abcde'\n",
    "vals = np.arange(5)\n",
    "idx = 'pq'\n",
    "s1 = (dict( (k, v) for (i, k,v) in zip(idx, keys, vals)))\n",
    "s2 = (dict( (k, v) for (i, k,v) in zip(idx, keys, vals)))\n",
    "\n"
   ]
  },
  {
   "cell_type": "code",
   "execution_count": null,
   "metadata": {
    "collapsed": false
   },
   "outputs": [],
   "source": [
    "s = namedtuple(idx, s1)"
   ]
  },
  {
   "cell_type": "code",
   "execution_count": null,
   "metadata": {
    "collapsed": false
   },
   "outputs": [],
   "source": [
    "s = list()\n",
    "_ = list(s.append(x) for x in (s1, s2))"
   ]
  },
  {
   "cell_type": "code",
   "execution_count": null,
   "metadata": {
    "collapsed": false
   },
   "outputs": [],
   "source": [
    "s1"
   ]
  },
  {
   "cell_type": "code",
   "execution_count": null,
   "metadata": {
    "collapsed": true
   },
   "outputs": [],
   "source": [
    "xx = list()"
   ]
  },
  {
   "cell_type": "code",
   "execution_count": null,
   "metadata": {
    "collapsed": false
   },
   "outputs": [],
   "source": [
    "xx = tuple(s)"
   ]
  },
  {
   "cell_type": "code",
   "execution_count": null,
   "metadata": {
    "collapsed": false
   },
   "outputs": [],
   "source": [
    "xx.append(s)"
   ]
  },
  {
   "cell_type": "code",
   "execution_count": null,
   "metadata": {
    "collapsed": false
   },
   "outputs": [],
   "source": [
    "idx = (l for l in idx)"
   ]
  },
  {
   "cell_type": "code",
   "execution_count": null,
   "metadata": {
    "collapsed": false
   },
   "outputs": [],
   "source": [
    "df = pd.DataFrame(s, index=idx)"
   ]
  },
  {
   "cell_type": "code",
   "execution_count": null,
   "metadata": {
    "collapsed": false
   },
   "outputs": [],
   "source": [
    "df"
   ]
  },
  {
   "cell_type": "code",
   "execution_count": null,
   "metadata": {
    "collapsed": false
   },
   "outputs": [],
   "source": [
    "df = pd.DataFrame()"
   ]
  },
  {
   "cell_type": "code",
   "execution_count": null,
   "metadata": {
    "collapsed": false
   },
   "outputs": [],
   "source": [
    "type(s)"
   ]
  },
  {
   "cell_type": "code",
   "execution_count": null,
   "metadata": {
    "collapsed": false
   },
   "outputs": [],
   "source": [
    "df.append(s)"
   ]
  },
  {
   "cell_type": "code",
   "execution_count": null,
   "metadata": {
    "collapsed": false
   },
   "outputs": [],
   "source": [
    "365*3 *2"
   ]
  },
  {
   "cell_type": "code",
   "execution_count": null,
   "metadata": {
    "collapsed": true
   },
   "outputs": [],
   "source": [
    "from sqlalchemy import create_engine"
   ]
  },
  {
   "cell_type": "code",
   "execution_count": null,
   "metadata": {
    "collapsed": true
   },
   "outputs": [],
   "source": [
    "conn = create_engine('sqlite:////Users/rbiswas/data/LSST/OpSimData/minion_1016_sqlite.db')"
   ]
  },
  {
   "cell_type": "code",
   "execution_count": null,
   "metadata": {
    "collapsed": true
   },
   "outputs": [],
   "source": [
    "from opsimsummary import HealPixelizedOpSim"
   ]
  },
  {
   "cell_type": "code",
   "execution_count": null,
   "metadata": {
    "collapsed": true
   },
   "outputs": [],
   "source": [
    "HealPixelizedOpSim()"
   ]
  },
  {
   "cell_type": "code",
   "execution_count": null,
   "metadata": {
    "collapsed": true
   },
   "outputs": [],
   "source": [
    "pd.read_sql_table()"
   ]
  },
  {
   "cell_type": "code",
   "execution_count": null,
   "metadata": {
    "collapsed": false
   },
   "outputs": [],
   "source": [
    "pd.read_sql_query('SELECT * FROM Summary WHERE PROPID == 56', conn)"
   ]
  },
  {
   "cell_type": "code",
   "execution_count": null,
   "metadata": {
    "collapsed": true
   },
   "outputs": [],
   "source": []
  }
 ],
 "metadata": {
  "anaconda-cloud": {},
  "kernelspec": {
   "display_name": "Python [default]",
   "language": "python",
   "name": "python2"
  },
  "language_info": {
   "codemirror_mode": {
    "name": "ipython",
    "version": 2
   },
   "file_extension": ".py",
   "mimetype": "text/x-python",
   "name": "python",
   "nbconvert_exporter": "python",
   "pygments_lexer": "ipython2",
   "version": "2.7.12"
  }
 },
 "nbformat": 4,
 "nbformat_minor": 1
}
