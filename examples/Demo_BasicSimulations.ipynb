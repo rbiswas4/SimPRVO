{
 "cells": [
  {
   "cell_type": "markdown",
   "metadata": {},
   "source": [
    "This notebook demonstrates the method to produce the most basic simulation under consideration using the package `varsim`. The inputs here are:\n",
    "   - a set of pointings (for simplicity, read in from a csv file)\n",
    "   - a population of astrophysical sources described by a subclass of `varsim.BasePopulation`. This class must implement the abstract methods of `varsim.BasePopulation`, and provide an index for each source and the model parameters\n",
    "   - a model for the sources described by a subclass of `varsim.BaseModel`. Again this subclass must implement all of the abstract methods and properties of `varsim.BaseModel`. The essential functionality of this class is to represent an astrophysical source as a model with model parameters, given which, this class has methods of predicting the model flux as a function of time at the top of the earth's atmosphere (ie. no sky noise included).\n",
    "   - The simulation will be performed using the class `varsim.BasicSimulation` which is a subclass of the abstract base class `varsim.BaseSimulation` and implements concrete methods and properties necessary for the simulation. These methods and properties only use the abstract properties and methods of `BaseModel` and `BasePopulation`, and are therefore guaranteed to with any subclass."
   ]
  },
  {
   "cell_type": "markdown",
   "metadata": {},
   "source": [
    "##  Imports"
   ]
  },
  {
   "cell_type": "code",
   "execution_count": 1,
   "metadata": {
    "collapsed": true
   },
   "outputs": [],
   "source": [
    "import os"
   ]
  },
  {
   "cell_type": "code",
   "execution_count": 2,
   "metadata": {
    "collapsed": true
   },
   "outputs": [],
   "source": [
    "from opsimsummary import HealpixTiles, OpSimOutput"
   ]
  },
  {
   "cell_type": "code",
   "execution_count": 3,
   "metadata": {
    "collapsed": true
   },
   "outputs": [],
   "source": [
    "import numpy as np\n",
    "import pandas as pd"
   ]
  },
  {
   "cell_type": "code",
   "execution_count": 4,
   "metadata": {
    "collapsed": true
   },
   "outputs": [],
   "source": [
    "from lsst.sims.photUtils import BandpassDict"
   ]
  },
  {
   "cell_type": "code",
   "execution_count": 5,
   "metadata": {
    "collapsed": false
   },
   "outputs": [],
   "source": [
    "from varsim import BasePopulation, BasicSimulation, BaseModel"
   ]
  },
  {
   "cell_type": "code",
   "execution_count": 6,
   "metadata": {
    "collapsed": true
   },
   "outputs": [],
   "source": [
    "#hptiles = HealpixTiles(nside=256, \n",
    "#                       preComputedMap='/Users/rbiswas/data/LSST/OpSimData/healpixelized_MINION_1016_256_64_indexed.db')"
   ]
  },
  {
   "cell_type": "code",
   "execution_count": 7,
   "metadata": {
    "collapsed": true
   },
   "outputs": [],
   "source": [
    "from lsst.sims.catUtils.supernovae import SNObject"
   ]
  },
  {
   "cell_type": "code",
   "execution_count": 8,
   "metadata": {
    "collapsed": true
   },
   "outputs": [],
   "source": [
    "import analyzeSN as ans"
   ]
  },
  {
   "cell_type": "code",
   "execution_count": 9,
   "metadata": {
    "collapsed": false
   },
   "outputs": [],
   "source": [
    "import varsim"
   ]
  },
  {
   "cell_type": "markdown",
   "metadata": {},
   "source": [
    "## The quantities of interest"
   ]
  },
  {
   "cell_type": "markdown",
   "metadata": {},
   "source": [
    "####  Pointings"
   ]
  },
  {
   "cell_type": "code",
   "execution_count": 10,
   "metadata": {
    "collapsed": false
   },
   "outputs": [],
   "source": [
    "# The set of pointings randomly kept for convenience.\n",
    "example_data = varsim.example_data\n",
    "pointings_File = os.path.join(example_data, 'example_pointings.csv')\n",
    "pointings = pd.read_csv(pointings_File, index_col='obsHistID')"
   ]
  },
  {
   "cell_type": "code",
   "execution_count": 11,
   "metadata": {
    "collapsed": false
   },
   "outputs": [
    {
     "name": "stdout",
     "output_type": "stream",
     "text": [
      "14\n"
     ]
    },
    {
     "data": {
      "text/html": [
       "<div>\n",
       "<table border=\"1\" class=\"dataframe\">\n",
       "  <thead>\n",
       "    <tr style=\"text-align: right;\">\n",
       "      <th></th>\n",
       "      <th>sessionID</th>\n",
       "      <th>propID</th>\n",
       "      <th>fieldID</th>\n",
       "      <th>fieldRA</th>\n",
       "      <th>fieldDec</th>\n",
       "      <th>filter</th>\n",
       "      <th>expDate</th>\n",
       "      <th>expMJD</th>\n",
       "      <th>night</th>\n",
       "      <th>visitTime</th>\n",
       "      <th>...</th>\n",
       "      <th>moonBright</th>\n",
       "      <th>darkBright</th>\n",
       "      <th>rawSeeing</th>\n",
       "      <th>wind</th>\n",
       "      <th>humidity</th>\n",
       "      <th>slewDist</th>\n",
       "      <th>slewTime</th>\n",
       "      <th>fiveSigmaDepth</th>\n",
       "      <th>ditheredRA</th>\n",
       "      <th>ditheredDec</th>\n",
       "    </tr>\n",
       "    <tr>\n",
       "      <th>obsHistID</th>\n",
       "      <th></th>\n",
       "      <th></th>\n",
       "      <th></th>\n",
       "      <th></th>\n",
       "      <th></th>\n",
       "      <th></th>\n",
       "      <th></th>\n",
       "      <th></th>\n",
       "      <th></th>\n",
       "      <th></th>\n",
       "      <th></th>\n",
       "      <th></th>\n",
       "      <th></th>\n",
       "      <th></th>\n",
       "      <th></th>\n",
       "      <th></th>\n",
       "      <th></th>\n",
       "      <th></th>\n",
       "      <th></th>\n",
       "      <th></th>\n",
       "      <th></th>\n",
       "    </tr>\n",
       "  </thead>\n",
       "  <tbody>\n",
       "    <tr>\n",
       "      <th>1</th>\n",
       "      <td>1016</td>\n",
       "      <td>54</td>\n",
       "      <td>316</td>\n",
       "      <td>1.676483</td>\n",
       "      <td>-1.082473</td>\n",
       "      <td>y</td>\n",
       "      <td>2922</td>\n",
       "      <td>59580.033829</td>\n",
       "      <td>0</td>\n",
       "      <td>34.0</td>\n",
       "      <td>...</td>\n",
       "      <td>0.0</td>\n",
       "      <td>105.610378</td>\n",
       "      <td>0.920473</td>\n",
       "      <td>0.0</td>\n",
       "      <td>0.0</td>\n",
       "      <td>1.620307</td>\n",
       "      <td>0.000000</td>\n",
       "      <td>21.021236</td>\n",
       "      <td>1.643930</td>\n",
       "      <td>-1.108924</td>\n",
       "    </tr>\n",
       "    <tr>\n",
       "      <th>14</th>\n",
       "      <td>1016</td>\n",
       "      <td>54</td>\n",
       "      <td>1118</td>\n",
       "      <td>1.709686</td>\n",
       "      <td>-0.607725</td>\n",
       "      <td>y</td>\n",
       "      <td>3424</td>\n",
       "      <td>59580.039637</td>\n",
       "      <td>0</td>\n",
       "      <td>34.0</td>\n",
       "      <td>...</td>\n",
       "      <td>0.0</td>\n",
       "      <td>103.104582</td>\n",
       "      <td>0.903960</td>\n",
       "      <td>0.0</td>\n",
       "      <td>0.0</td>\n",
       "      <td>0.055856</td>\n",
       "      <td>4.599568</td>\n",
       "      <td>21.067249</td>\n",
       "      <td>1.691083</td>\n",
       "      <td>-0.634176</td>\n",
       "    </tr>\n",
       "    <tr>\n",
       "      <th>13</th>\n",
       "      <td>1016</td>\n",
       "      <td>54</td>\n",
       "      <td>1220</td>\n",
       "      <td>1.664386</td>\n",
       "      <td>-0.566519</td>\n",
       "      <td>y</td>\n",
       "      <td>3386</td>\n",
       "      <td>59580.039190</td>\n",
       "      <td>0</td>\n",
       "      <td>34.0</td>\n",
       "      <td>...</td>\n",
       "      <td>0.0</td>\n",
       "      <td>101.147431</td>\n",
       "      <td>0.903960</td>\n",
       "      <td>0.0</td>\n",
       "      <td>0.0</td>\n",
       "      <td>0.048200</td>\n",
       "      <td>4.776511</td>\n",
       "      <td>21.091149</td>\n",
       "      <td>1.646286</td>\n",
       "      <td>-0.592970</td>\n",
       "    </tr>\n",
       "    <tr>\n",
       "      <th>12</th>\n",
       "      <td>1016</td>\n",
       "      <td>54</td>\n",
       "      <td>1212</td>\n",
       "      <td>1.608166</td>\n",
       "      <td>-0.575819</td>\n",
       "      <td>y</td>\n",
       "      <td>3347</td>\n",
       "      <td>59580.038741</td>\n",
       "      <td>0</td>\n",
       "      <td>34.0</td>\n",
       "      <td>...</td>\n",
       "      <td>0.0</td>\n",
       "      <td>98.109397</td>\n",
       "      <td>0.903960</td>\n",
       "      <td>0.0</td>\n",
       "      <td>0.0</td>\n",
       "      <td>0.055665</td>\n",
       "      <td>4.739998</td>\n",
       "      <td>21.128319</td>\n",
       "      <td>1.589958</td>\n",
       "      <td>-0.602270</td>\n",
       "    </tr>\n",
       "    <tr>\n",
       "      <th>11</th>\n",
       "      <td>1016</td>\n",
       "      <td>54</td>\n",
       "      <td>1110</td>\n",
       "      <td>1.651280</td>\n",
       "      <td>-0.618574</td>\n",
       "      <td>y</td>\n",
       "      <td>3308</td>\n",
       "      <td>59580.038293</td>\n",
       "      <td>0</td>\n",
       "      <td>34.0</td>\n",
       "      <td>...</td>\n",
       "      <td>0.0</td>\n",
       "      <td>100.125895</td>\n",
       "      <td>0.903960</td>\n",
       "      <td>0.0</td>\n",
       "      <td>0.0</td>\n",
       "      <td>0.056173</td>\n",
       "      <td>4.499824</td>\n",
       "      <td>21.103635</td>\n",
       "      <td>1.632535</td>\n",
       "      <td>-0.645025</td>\n",
       "    </tr>\n",
       "  </tbody>\n",
       "</table>\n",
       "<p>5 rows × 46 columns</p>\n",
       "</div>"
      ],
      "text/plain": [
       "           sessionID  propID  fieldID   fieldRA  fieldDec filter  expDate  \\\n",
       "obsHistID                                                                   \n",
       "1               1016      54      316  1.676483 -1.082473      y     2922   \n",
       "14              1016      54     1118  1.709686 -0.607725      y     3424   \n",
       "13              1016      54     1220  1.664386 -0.566519      y     3386   \n",
       "12              1016      54     1212  1.608166 -0.575819      y     3347   \n",
       "11              1016      54     1110  1.651280 -0.618574      y     3308   \n",
       "\n",
       "                 expMJD  night  visitTime     ...       moonBright  \\\n",
       "obsHistID                                     ...                    \n",
       "1          59580.033829      0       34.0     ...              0.0   \n",
       "14         59580.039637      0       34.0     ...              0.0   \n",
       "13         59580.039190      0       34.0     ...              0.0   \n",
       "12         59580.038741      0       34.0     ...              0.0   \n",
       "11         59580.038293      0       34.0     ...              0.0   \n",
       "\n",
       "           darkBright  rawSeeing  wind  humidity  slewDist  slewTime  \\\n",
       "obsHistID                                                              \n",
       "1          105.610378   0.920473   0.0       0.0  1.620307  0.000000   \n",
       "14         103.104582   0.903960   0.0       0.0  0.055856  4.599568   \n",
       "13         101.147431   0.903960   0.0       0.0  0.048200  4.776511   \n",
       "12          98.109397   0.903960   0.0       0.0  0.055665  4.739998   \n",
       "11         100.125895   0.903960   0.0       0.0  0.056173  4.499824   \n",
       "\n",
       "           fiveSigmaDepth  ditheredRA  ditheredDec  \n",
       "obsHistID                                           \n",
       "1               21.021236    1.643930    -1.108924  \n",
       "14              21.067249    1.691083    -0.634176  \n",
       "13              21.091149    1.646286    -0.592970  \n",
       "12              21.128319    1.589958    -0.602270  \n",
       "11              21.103635    1.632535    -0.645025  \n",
       "\n",
       "[5 rows x 46 columns]"
      ]
     },
     "execution_count": 11,
     "metadata": {},
     "output_type": "execute_result"
    }
   ],
   "source": [
    "# To show what this looks like\n",
    "print(len(pointings))\n",
    "pointings.head()"
   ]
  },
  {
   "cell_type": "code",
   "execution_count": 12,
   "metadata": {
    "collapsed": true
   },
   "outputs": [],
   "source": [
    "# We did not need to have all these columns. The essential columns are ra, dec, filter, \n",
    "# fivesigmadepth. It is also good to have fieldID, etc."
   ]
  },
  {
   "cell_type": "markdown",
   "metadata": {},
   "source": [
    "### Population of astrophysical sources. \n",
    "Here I use supernovae with the SALT model.  I keep two supernovae in a completely random way without attempting to make sense. The important parts are  that no matter how the Population model is implemented, it has:\n",
    "- `modelparams` : the method which takes the unique index of a supernova in the population and provides its model parameters as a dictionary. An important requirement is that the dictionary as the keys `ra`, `dec`, while the other parameters are completely user dependent\n",
    "- `idxvalues` : a property which is a sequence of indices. Here the sequence is implemented as a tuple, which is perhaps how it should be for large simulations."
   ]
  },
  {
   "cell_type": "code",
   "execution_count": 13,
   "metadata": {
    "collapsed": false
   },
   "outputs": [],
   "source": [
    "class SALTPopulation(BasePopulation):\n",
    "    def __init__(self):\n",
    "        self.x0 = [5.0e-2, 3.e-5]\n",
    "        self.x1 = [0, .1]\n",
    "        self.c = [-0.2, 0.5]\n",
    "        self.t0 = [59581., 59580. ]\n",
    "        self.z = [0.5, 0.6]\n",
    "        self.ra = [30., 30.]\n",
    "        self.dec = [-45., -45.]\n",
    "        \n",
    "    def modelparams(self, idx):\n",
    "        return dict(x0=self.x0[idx], x1=self.x1[idx], c=self.c[idx], t0=self.t0[idx],\n",
    "                    z=self.z[idx])\n",
    "    @property\n",
    "    def idxvalues(self):\n",
    "        return (x for x in (0, 1))\n",
    "    @property\n",
    "    def numSources(self):\n",
    "        return sum(1 for i in self.idxvalues)\n",
    "    #@property\n",
    "    #def hasPositionArray(self):\n",
    "    #    return False\n",
    "    #@property\n",
    "    #def positionArray(self):\n",
    "    #    return None\n",
    "    \n",
    "    #def positions(self, idx):\n",
    "    #    return dict(ra=self.ra[idx], dec=self.dec[idx])"
   ]
  },
  {
   "cell_type": "markdown",
   "metadata": {},
   "source": [
    "#### Instantiate the population and demonstrate"
   ]
  },
  {
   "cell_type": "code",
   "execution_count": 14,
   "metadata": {
    "collapsed": false
   },
   "outputs": [],
   "source": [
    "sp = SALTPopulation()"
   ]
  },
  {
   "cell_type": "code",
   "execution_count": 15,
   "metadata": {
    "collapsed": false
   },
   "outputs": [
    {
     "name": "stdout",
     "output_type": "stream",
     "text": [
      "(0, 1)\n"
     ]
    }
   ],
   "source": [
    "# The indices\n",
    "idxs = tuple(sp.idxvalues)\n",
    "print(idxs)"
   ]
  },
  {
   "cell_type": "code",
   "execution_count": 16,
   "metadata": {
    "collapsed": false
   },
   "outputs": [
    {
     "data": {
      "text/plain": [
       "{'c': -0.2, 't0': 59581.0, 'x0': 0.05, 'x1': 0, 'z': 0.5}"
      ]
     },
     "execution_count": 16,
     "metadata": {},
     "output_type": "execute_result"
    }
   ],
   "source": [
    "# The model parameters\n",
    "sp.modelparams(0)"
   ]
  },
  {
   "cell_type": "markdown",
   "metadata": {},
   "source": [
    "and the other one"
   ]
  },
  {
   "cell_type": "code",
   "execution_count": 17,
   "metadata": {
    "collapsed": false
   },
   "outputs": [
    {
     "data": {
      "text/plain": [
       "2"
      ]
     },
     "execution_count": 17,
     "metadata": {},
     "output_type": "execute_result"
    }
   ],
   "source": [
    "sp.numSources"
   ]
  },
  {
   "cell_type": "code",
   "execution_count": 18,
   "metadata": {
    "collapsed": false
   },
   "outputs": [
    {
     "data": {
      "text/plain": [
       "{'c': -0.2, 't0': 59581.0, 'x0': 0.05, 'x1': 0, 'z': 0.5}"
      ]
     },
     "execution_count": 18,
     "metadata": {},
     "output_type": "execute_result"
    }
   ],
   "source": [
    "sp.modelparams(0)"
   ]
  },
  {
   "cell_type": "markdown",
   "metadata": {},
   "source": [
    "### Model of source\n",
    "- Model : Subclass of `varsim.BaseModel` with its methods implemented. Here I use `lsst.sims.catUtils.supernovae.SNObject` functionality to provide  functions\n",
    "- Provides `minMjd` and `maxMjd` to restrict the set of pointings over which we will build the light curve.\n",
    "- `modelFlux`: concrete implementation of abstract method `BaseModel.modelFlux` providing the flux, given the model parameters and `mjd`, `bandpass`."
   ]
  },
  {
   "cell_type": "code",
   "execution_count": 19,
   "metadata": {
    "collapsed": true
   },
   "outputs": [],
   "source": [
    "# We will need the LSST bandpasses. Let us load them using the catsim method\n",
    "bandpassdict = BandpassDict.loadTotalBandpassesFromFiles()"
   ]
  },
  {
   "cell_type": "code",
   "execution_count": 20,
   "metadata": {
    "collapsed": false
   },
   "outputs": [],
   "source": [
    "class Model(SNObject, BaseModel):\n",
    "    def setModelParameters(self, params):\n",
    "        paramDict = params.copy()\n",
    "        # self.setCoords(ra=positions['ra'], dec=positions['dec'])\n",
    "        self.set(**params)\n",
    "        self.set_MWebv(0)\n",
    "        #self.mwEBVfromMaps()\n",
    "    \n",
    "    @property\n",
    "    def minMjd(self):\n",
    "        return self.mintime()\n",
    "    @property\n",
    "    def maxMjd(self):\n",
    "        return self.maxtime()\n",
    "    \n",
    "    def modelFlux(self, mjd, bandpassobj):\n",
    "        return self.catsimBandFlux(bandpassobject=bandpassobj,\n",
    "                                      time=mjd)\n",
    "\n"
   ]
  },
  {
   "cell_type": "markdown",
   "metadata": {},
   "source": [
    "#### Instantiate the model and demonstrate the functionality"
   ]
  },
  {
   "cell_type": "code",
   "execution_count": 21,
   "metadata": {
    "collapsed": false
   },
   "outputs": [],
   "source": [
    "model = Model()"
   ]
  },
  {
   "cell_type": "code",
   "execution_count": 22,
   "metadata": {
    "collapsed": false
   },
   "outputs": [],
   "source": [
    "# Let us set parameters (using the method `setModelParameters` in the abstract class\n",
    "# to the parameters of the first object in SALTParameters)\n",
    "model.setModelParameters(sp.modelparams(0))    "
   ]
  },
  {
   "cell_type": "code",
   "execution_count": 23,
   "metadata": {
    "collapsed": false
   },
   "outputs": [
    {
     "name": "stdout",
     "output_type": "stream",
     "text": [
      "((2.7530602560557015e-06, 2.7130332558429097e-06), array([ 13.90046071,  13.91636221]))\n"
     ]
    }
   ],
   "source": [
    "# Now, this should predict fluxes (in maggies) given a time, and a bandpassobject\n",
    "f = (model.modelFlux(mjd=59580, bandpassobj=bandpassdict['y']), \n",
    "     model.modelFlux(mjd=59580, bandpassobj=bandpassdict['g']))\n",
    "print(f, -2.5 * np.log10(f))"
   ]
  },
  {
   "cell_type": "markdown",
   "metadata": {},
   "source": [
    "## Simulation\n",
    "Now we are ready to do the simulation using the class `BasicSimulation`"
   ]
  },
  {
   "cell_type": "code",
   "execution_count": 24,
   "metadata": {
    "collapsed": false
   },
   "outputs": [],
   "source": [
    "bsim = BasicSimulation(sp, model, pointings=pointings, rng=np.random.RandomState(0), \n",
    "                       maxObsHistID=1000000, pointingColumnDict=None,\n",
    "                       pruneWithRadius=False)"
   ]
  },
  {
   "cell_type": "code",
   "execution_count": 31,
   "metadata": {
    "collapsed": false
   },
   "outputs": [
    {
     "data": {
      "text/html": [
       "<div>\n",
       "<table border=\"1\" class=\"dataframe\">\n",
       "  <thead>\n",
       "    <tr style=\"text-align: right;\">\n",
       "      <th></th>\n",
       "      <th>obsHistID</th>\n",
       "      <th>objid</th>\n",
       "      <th>expMJD</th>\n",
       "      <th>filter</th>\n",
       "      <th>ModelFlux</th>\n",
       "      <th>fieldID</th>\n",
       "      <th>flux</th>\n",
       "      <th>fluxerr</th>\n",
       "      <th>deviations</th>\n",
       "      <th>zp</th>\n",
       "      <th>zpsys</th>\n",
       "    </tr>\n",
       "    <tr>\n",
       "      <th>pid</th>\n",
       "      <th></th>\n",
       "      <th></th>\n",
       "      <th></th>\n",
       "      <th></th>\n",
       "      <th></th>\n",
       "      <th></th>\n",
       "      <th></th>\n",
       "      <th></th>\n",
       "      <th></th>\n",
       "      <th></th>\n",
       "      <th></th>\n",
       "    </tr>\n",
       "  </thead>\n",
       "  <tbody>\n",
       "    <tr>\n",
       "      <th>1000001</th>\n",
       "      <td>1</td>\n",
       "      <td>1</td>\n",
       "      <td>59580.033829</td>\n",
       "      <td>y</td>\n",
       "      <td>5.195321e-09</td>\n",
       "      <td>316</td>\n",
       "      <td>6.393082e-09</td>\n",
       "      <td>7.814309e-10</td>\n",
       "      <td>1.532779</td>\n",
       "      <td>0.0</td>\n",
       "      <td>ab</td>\n",
       "    </tr>\n",
       "    <tr>\n",
       "      <th>14000001</th>\n",
       "      <td>14</td>\n",
       "      <td>1</td>\n",
       "      <td>59580.039637</td>\n",
       "      <td>y</td>\n",
       "      <td>5.195589e-09</td>\n",
       "      <td>1118</td>\n",
       "      <td>6.296351e-09</td>\n",
       "      <td>7.491440e-10</td>\n",
       "      <td>1.469359</td>\n",
       "      <td>0.0</td>\n",
       "      <td>ab</td>\n",
       "    </tr>\n",
       "    <tr>\n",
       "      <th>13000001</th>\n",
       "      <td>13</td>\n",
       "      <td>1</td>\n",
       "      <td>59580.039190</td>\n",
       "      <td>y</td>\n",
       "      <td>5.195569e-09</td>\n",
       "      <td>1220</td>\n",
       "      <td>5.309131e-09</td>\n",
       "      <td>7.329094e-10</td>\n",
       "      <td>0.154947</td>\n",
       "      <td>0.0</td>\n",
       "      <td>ab</td>\n",
       "    </tr>\n",
       "    <tr>\n",
       "      <th>12000001</th>\n",
       "      <td>12</td>\n",
       "      <td>1</td>\n",
       "      <td>59580.038741</td>\n",
       "      <td>y</td>\n",
       "      <td>5.195548e-09</td>\n",
       "      <td>1212</td>\n",
       "      <td>5.463425e-09</td>\n",
       "      <td>7.083655e-10</td>\n",
       "      <td>0.378163</td>\n",
       "      <td>0.0</td>\n",
       "      <td>ab</td>\n",
       "    </tr>\n",
       "    <tr>\n",
       "      <th>11000001</th>\n",
       "      <td>11</td>\n",
       "      <td>1</td>\n",
       "      <td>59580.038293</td>\n",
       "      <td>y</td>\n",
       "      <td>5.195527e-09</td>\n",
       "      <td>1110</td>\n",
       "      <td>4.552264e-09</td>\n",
       "      <td>7.245701e-10</td>\n",
       "      <td>-0.887786</td>\n",
       "      <td>0.0</td>\n",
       "      <td>ab</td>\n",
       "    </tr>\n",
       "    <tr>\n",
       "      <th>10000001</th>\n",
       "      <td>10</td>\n",
       "      <td>1</td>\n",
       "      <td>59580.037847</td>\n",
       "      <td>y</td>\n",
       "      <td>5.195507e-09</td>\n",
       "      <td>1021</td>\n",
       "      <td>3.697256e-09</td>\n",
       "      <td>7.563881e-10</td>\n",
       "      <td>-1.980796</td>\n",
       "      <td>0.0</td>\n",
       "      <td>ab</td>\n",
       "    </tr>\n",
       "    <tr>\n",
       "      <th>9000001</th>\n",
       "      <td>9</td>\n",
       "      <td>1</td>\n",
       "      <td>59580.037401</td>\n",
       "      <td>y</td>\n",
       "      <td>5.195486e-09</td>\n",
       "      <td>957</td>\n",
       "      <td>4.922714e-09</td>\n",
       "      <td>7.840265e-10</td>\n",
       "      <td>-0.347912</td>\n",
       "      <td>0.0</td>\n",
       "      <td>ab</td>\n",
       "    </tr>\n",
       "    <tr>\n",
       "      <th>8000001</th>\n",
       "      <td>8</td>\n",
       "      <td>1</td>\n",
       "      <td>59580.036955</td>\n",
       "      <td>y</td>\n",
       "      <td>5.195466e-09</td>\n",
       "      <td>857</td>\n",
       "      <td>5.317297e-09</td>\n",
       "      <td>7.792265e-10</td>\n",
       "      <td>0.156349</td>\n",
       "      <td>0.0</td>\n",
       "      <td>ab</td>\n",
       "    </tr>\n",
       "    <tr>\n",
       "      <th>7000001</th>\n",
       "      <td>7</td>\n",
       "      <td>1</td>\n",
       "      <td>59580.036509</td>\n",
       "      <td>y</td>\n",
       "      <td>5.195445e-09</td>\n",
       "      <td>770</td>\n",
       "      <td>6.149943e-09</td>\n",
       "      <td>7.758312e-10</td>\n",
       "      <td>1.230291</td>\n",
       "      <td>0.0</td>\n",
       "      <td>ab</td>\n",
       "    </tr>\n",
       "    <tr>\n",
       "      <th>6000001</th>\n",
       "      <td>6</td>\n",
       "      <td>1</td>\n",
       "      <td>59580.036062</td>\n",
       "      <td>y</td>\n",
       "      <td>5.195424e-09</td>\n",
       "      <td>680</td>\n",
       "      <td>6.125743e-09</td>\n",
       "      <td>7.737306e-10</td>\n",
       "      <td>1.202380</td>\n",
       "      <td>0.0</td>\n",
       "      <td>ab</td>\n",
       "    </tr>\n",
       "    <tr>\n",
       "      <th>5000001</th>\n",
       "      <td>5</td>\n",
       "      <td>1</td>\n",
       "      <td>59580.035616</td>\n",
       "      <td>y</td>\n",
       "      <td>5.195404e-09</td>\n",
       "      <td>587</td>\n",
       "      <td>4.896047e-09</td>\n",
       "      <td>7.728795e-10</td>\n",
       "      <td>-0.387327</td>\n",
       "      <td>0.0</td>\n",
       "      <td>ab</td>\n",
       "    </tr>\n",
       "    <tr>\n",
       "      <th>4000001</th>\n",
       "      <td>4</td>\n",
       "      <td>1</td>\n",
       "      <td>59580.035169</td>\n",
       "      <td>y</td>\n",
       "      <td>5.195383e-09</td>\n",
       "      <td>505</td>\n",
       "      <td>4.961629e-09</td>\n",
       "      <td>7.732447e-10</td>\n",
       "      <td>-0.302303</td>\n",
       "      <td>0.0</td>\n",
       "      <td>ab</td>\n",
       "    </tr>\n",
       "    <tr>\n",
       "      <th>3000001</th>\n",
       "      <td>3</td>\n",
       "      <td>1</td>\n",
       "      <td>59580.034722</td>\n",
       "      <td>y</td>\n",
       "      <td>5.195363e-09</td>\n",
       "      <td>441</td>\n",
       "      <td>4.382938e-09</td>\n",
       "      <td>7.748050e-10</td>\n",
       "      <td>-1.048553</td>\n",
       "      <td>0.0</td>\n",
       "      <td>ab</td>\n",
       "    </tr>\n",
       "    <tr>\n",
       "      <th>2000001</th>\n",
       "      <td>2</td>\n",
       "      <td>1</td>\n",
       "      <td>59580.034275</td>\n",
       "      <td>y</td>\n",
       "      <td>5.195342e-09</td>\n",
       "      <td>372</td>\n",
       "      <td>4.091189e-09</td>\n",
       "      <td>7.775629e-10</td>\n",
       "      <td>-1.420018</td>\n",
       "      <td>0.0</td>\n",
       "      <td>ab</td>\n",
       "    </tr>\n",
       "  </tbody>\n",
       "</table>\n",
       "</div>"
      ],
      "text/plain": [
       "          obsHistID  objid        expMJD filter     ModelFlux  fieldID  \\\n",
       "pid                                                                      \n",
       "1000001           1      1  59580.033829      y  5.195321e-09      316   \n",
       "14000001         14      1  59580.039637      y  5.195589e-09     1118   \n",
       "13000001         13      1  59580.039190      y  5.195569e-09     1220   \n",
       "12000001         12      1  59580.038741      y  5.195548e-09     1212   \n",
       "11000001         11      1  59580.038293      y  5.195527e-09     1110   \n",
       "10000001         10      1  59580.037847      y  5.195507e-09     1021   \n",
       "9000001           9      1  59580.037401      y  5.195486e-09      957   \n",
       "8000001           8      1  59580.036955      y  5.195466e-09      857   \n",
       "7000001           7      1  59580.036509      y  5.195445e-09      770   \n",
       "6000001           6      1  59580.036062      y  5.195424e-09      680   \n",
       "5000001           5      1  59580.035616      y  5.195404e-09      587   \n",
       "4000001           4      1  59580.035169      y  5.195383e-09      505   \n",
       "3000001           3      1  59580.034722      y  5.195363e-09      441   \n",
       "2000001           2      1  59580.034275      y  5.195342e-09      372   \n",
       "\n",
       "                  flux       fluxerr  deviations   zp zpsys  \n",
       "pid                                                          \n",
       "1000001   6.393082e-09  7.814309e-10    1.532779  0.0    ab  \n",
       "14000001  6.296351e-09  7.491440e-10    1.469359  0.0    ab  \n",
       "13000001  5.309131e-09  7.329094e-10    0.154947  0.0    ab  \n",
       "12000001  5.463425e-09  7.083655e-10    0.378163  0.0    ab  \n",
       "11000001  4.552264e-09  7.245701e-10   -0.887786  0.0    ab  \n",
       "10000001  3.697256e-09  7.563881e-10   -1.980796  0.0    ab  \n",
       "9000001   4.922714e-09  7.840265e-10   -0.347912  0.0    ab  \n",
       "8000001   5.317297e-09  7.792265e-10    0.156349  0.0    ab  \n",
       "7000001   6.149943e-09  7.758312e-10    1.230291  0.0    ab  \n",
       "6000001   6.125743e-09  7.737306e-10    1.202380  0.0    ab  \n",
       "5000001   4.896047e-09  7.728795e-10   -0.387327  0.0    ab  \n",
       "4000001   4.961629e-09  7.732447e-10   -0.302303  0.0    ab  \n",
       "3000001   4.382938e-09  7.748050e-10   -1.048553  0.0    ab  \n",
       "2000001   4.091189e-09  7.775629e-10   -1.420018  0.0    ab  "
      ]
     },
     "execution_count": 31,
     "metadata": {},
     "output_type": "execute_result"
    }
   ],
   "source": [
    "bsim.lc(1, maxObsHistID=2e6)"
   ]
  },
  {
   "cell_type": "code",
   "execution_count": 30,
   "metadata": {
    "collapsed": false
   },
   "outputs": [
    {
     "data": {
      "text/plain": [
       "{'c': -0.2, 't0': 59581.0, 'x0': 0.05, 'x1': 0, 'z': 0.5}"
      ]
     },
     "execution_count": 30,
     "metadata": {},
     "output_type": "execute_result"
    }
   ],
   "source": [
    "sp.modelparams(0)"
   ]
  },
  {
   "cell_type": "code",
   "execution_count": 32,
   "metadata": {
    "collapsed": false
   },
   "outputs": [],
   "source": [
    "!rm *.hdf"
   ]
  },
  {
   "cell_type": "code",
   "execution_count": 33,
   "metadata": {
    "collapsed": false
   },
   "outputs": [
    {
     "name": "stdout",
     "output_type": "stream",
     "text": [
      "writing 0, False, sim1\n",
      "writing 1, False, sim1\n"
     ]
    }
   ],
   "source": [
    "bsim.write_simulation(phot_output='sim_phot_all.hdf', pop_output='sim_pop.hdf', method='hdf', key='sim1')"
   ]
  },
  {
   "cell_type": "code",
   "execution_count": 34,
   "metadata": {
    "collapsed": false
   },
   "outputs": [],
   "source": [
    "phot_sim_df = pd.read_hdf('sim_phot_all.hdf', key='sim1')"
   ]
  },
  {
   "cell_type": "code",
   "execution_count": 35,
   "metadata": {
    "collapsed": false
   },
   "outputs": [],
   "source": [
    "pop_sim_df = pd.read_hdf('sim_pop.hdf')"
   ]
  },
  {
   "cell_type": "code",
   "execution_count": 36,
   "metadata": {
    "collapsed": false
   },
   "outputs": [
    {
     "data": {
      "text/html": [
       "<div>\n",
       "<table border=\"1\" class=\"dataframe\">\n",
       "  <thead>\n",
       "    <tr style=\"text-align: right;\">\n",
       "      <th></th>\n",
       "      <th>obsHistID</th>\n",
       "      <th>objid</th>\n",
       "      <th>expMJD</th>\n",
       "      <th>filter</th>\n",
       "      <th>ModelFlux</th>\n",
       "      <th>fieldID</th>\n",
       "      <th>flux</th>\n",
       "      <th>fluxerr</th>\n",
       "      <th>deviations</th>\n",
       "      <th>zp</th>\n",
       "      <th>zpsys</th>\n",
       "    </tr>\n",
       "    <tr>\n",
       "      <th>pid</th>\n",
       "      <th></th>\n",
       "      <th></th>\n",
       "      <th></th>\n",
       "      <th></th>\n",
       "      <th></th>\n",
       "      <th></th>\n",
       "      <th></th>\n",
       "      <th></th>\n",
       "      <th></th>\n",
       "      <th></th>\n",
       "      <th></th>\n",
       "    </tr>\n",
       "  </thead>\n",
       "  <tbody>\n",
       "    <tr>\n",
       "      <th>1000000</th>\n",
       "      <td>1</td>\n",
       "      <td>0</td>\n",
       "      <td>59580.033829</td>\n",
       "      <td>y</td>\n",
       "      <td>2.753879e-06</td>\n",
       "      <td>316</td>\n",
       "      <td>2.751058e-06</td>\n",
       "      <td>1.653433e-09</td>\n",
       "      <td>-1.706270</td>\n",
       "      <td>0.0</td>\n",
       "      <td>ab</td>\n",
       "    </tr>\n",
       "    <tr>\n",
       "      <th>14000000</th>\n",
       "      <td>14</td>\n",
       "      <td>0</td>\n",
       "      <td>59580.039637</td>\n",
       "      <td>y</td>\n",
       "      <td>2.754019e-06</td>\n",
       "      <td>1118</td>\n",
       "      <td>2.757215e-06</td>\n",
       "      <td>1.638454e-09</td>\n",
       "      <td>1.950775</td>\n",
       "      <td>0.0</td>\n",
       "      <td>ab</td>\n",
       "    </tr>\n",
       "    <tr>\n",
       "      <th>13000000</th>\n",
       "      <td>13</td>\n",
       "      <td>0</td>\n",
       "      <td>59580.039190</td>\n",
       "      <td>y</td>\n",
       "      <td>2.754008e-06</td>\n",
       "      <td>1220</td>\n",
       "      <td>2.753177e-06</td>\n",
       "      <td>1.631092e-09</td>\n",
       "      <td>-0.509652</td>\n",
       "      <td>0.0</td>\n",
       "      <td>ab</td>\n",
       "    </tr>\n",
       "    <tr>\n",
       "      <th>12000000</th>\n",
       "      <td>12</td>\n",
       "      <td>0</td>\n",
       "      <td>59580.038741</td>\n",
       "      <td>y</td>\n",
       "      <td>2.753997e-06</td>\n",
       "      <td>1212</td>\n",
       "      <td>2.753288e-06</td>\n",
       "      <td>1.620210e-09</td>\n",
       "      <td>-0.438074</td>\n",
       "      <td>0.0</td>\n",
       "      <td>ab</td>\n",
       "    </tr>\n",
       "    <tr>\n",
       "      <th>11000000</th>\n",
       "      <td>11</td>\n",
       "      <td>0</td>\n",
       "      <td>59580.038293</td>\n",
       "      <td>y</td>\n",
       "      <td>2.753987e-06</td>\n",
       "      <td>1110</td>\n",
       "      <td>2.751948e-06</td>\n",
       "      <td>1.627357e-09</td>\n",
       "      <td>-1.252795</td>\n",
       "      <td>0.0</td>\n",
       "      <td>ab</td>\n",
       "    </tr>\n",
       "    <tr>\n",
       "      <th>10000000</th>\n",
       "      <td>10</td>\n",
       "      <td>0</td>\n",
       "      <td>59580.037847</td>\n",
       "      <td>y</td>\n",
       "      <td>2.753976e-06</td>\n",
       "      <td>1021</td>\n",
       "      <td>2.755252e-06</td>\n",
       "      <td>1.641769e-09</td>\n",
       "      <td>0.777490</td>\n",
       "      <td>0.0</td>\n",
       "      <td>ab</td>\n",
       "    </tr>\n",
       "    <tr>\n",
       "      <th>9000000</th>\n",
       "      <td>9</td>\n",
       "      <td>0</td>\n",
       "      <td>59580.037401</td>\n",
       "      <td>y</td>\n",
       "      <td>2.753965e-06</td>\n",
       "      <td>957</td>\n",
       "      <td>2.751295e-06</td>\n",
       "      <td>1.654682e-09</td>\n",
       "      <td>-1.613898</td>\n",
       "      <td>0.0</td>\n",
       "      <td>ab</td>\n",
       "    </tr>\n",
       "    <tr>\n",
       "      <th>8000000</th>\n",
       "      <td>8</td>\n",
       "      <td>0</td>\n",
       "      <td>59580.036955</td>\n",
       "      <td>y</td>\n",
       "      <td>2.753954e-06</td>\n",
       "      <td>857</td>\n",
       "      <td>2.753603e-06</td>\n",
       "      <td>1.652410e-09</td>\n",
       "      <td>-0.212740</td>\n",
       "      <td>0.0</td>\n",
       "      <td>ab</td>\n",
       "    </tr>\n",
       "    <tr>\n",
       "      <th>7000000</th>\n",
       "      <td>7</td>\n",
       "      <td>0</td>\n",
       "      <td>59580.036509</td>\n",
       "      <td>y</td>\n",
       "      <td>2.753944e-06</td>\n",
       "      <td>770</td>\n",
       "      <td>2.752465e-06</td>\n",
       "      <td>1.650809e-09</td>\n",
       "      <td>-0.895467</td>\n",
       "      <td>0.0</td>\n",
       "      <td>ab</td>\n",
       "    </tr>\n",
       "    <tr>\n",
       "      <th>6000000</th>\n",
       "      <td>6</td>\n",
       "      <td>0</td>\n",
       "      <td>59580.036062</td>\n",
       "      <td>y</td>\n",
       "      <td>2.753933e-06</td>\n",
       "      <td>680</td>\n",
       "      <td>2.754571e-06</td>\n",
       "      <td>1.649820e-09</td>\n",
       "      <td>0.386902</td>\n",
       "      <td>0.0</td>\n",
       "      <td>ab</td>\n",
       "    </tr>\n",
       "    <tr>\n",
       "      <th>5000000</th>\n",
       "      <td>5</td>\n",
       "      <td>0</td>\n",
       "      <td>59580.035616</td>\n",
       "      <td>y</td>\n",
       "      <td>2.753922e-06</td>\n",
       "      <td>587</td>\n",
       "      <td>2.753080e-06</td>\n",
       "      <td>1.649419e-09</td>\n",
       "      <td>-0.510805</td>\n",
       "      <td>0.0</td>\n",
       "      <td>ab</td>\n",
       "    </tr>\n",
       "    <tr>\n",
       "      <th>4000000</th>\n",
       "      <td>4</td>\n",
       "      <td>0</td>\n",
       "      <td>59580.035169</td>\n",
       "      <td>y</td>\n",
       "      <td>2.753911e-06</td>\n",
       "      <td>505</td>\n",
       "      <td>2.751964e-06</td>\n",
       "      <td>1.649588e-09</td>\n",
       "      <td>-1.180632</td>\n",
       "      <td>0.0</td>\n",
       "      <td>ab</td>\n",
       "    </tr>\n",
       "    <tr>\n",
       "      <th>3000000</th>\n",
       "      <td>3</td>\n",
       "      <td>0</td>\n",
       "      <td>59580.034722</td>\n",
       "      <td>y</td>\n",
       "      <td>2.753901e-06</td>\n",
       "      <td>441</td>\n",
       "      <td>2.753854e-06</td>\n",
       "      <td>1.650317e-09</td>\n",
       "      <td>-0.028182</td>\n",
       "      <td>0.0</td>\n",
       "      <td>ab</td>\n",
       "    </tr>\n",
       "    <tr>\n",
       "      <th>2000000</th>\n",
       "      <td>2</td>\n",
       "      <td>0</td>\n",
       "      <td>59580.034275</td>\n",
       "      <td>y</td>\n",
       "      <td>2.753890e-06</td>\n",
       "      <td>372</td>\n",
       "      <td>2.754597e-06</td>\n",
       "      <td>1.651611e-09</td>\n",
       "      <td>0.428332</td>\n",
       "      <td>0.0</td>\n",
       "      <td>ab</td>\n",
       "    </tr>\n",
       "    <tr>\n",
       "      <th>1000001</th>\n",
       "      <td>1</td>\n",
       "      <td>1</td>\n",
       "      <td>59580.033829</td>\n",
       "      <td>y</td>\n",
       "      <td>5.195321e-09</td>\n",
       "      <td>316</td>\n",
       "      <td>5.247300e-09</td>\n",
       "      <td>7.814309e-10</td>\n",
       "      <td>0.066517</td>\n",
       "      <td>0.0</td>\n",
       "      <td>ab</td>\n",
       "    </tr>\n",
       "    <tr>\n",
       "      <th>14000001</th>\n",
       "      <td>14</td>\n",
       "      <td>1</td>\n",
       "      <td>59580.039637</td>\n",
       "      <td>y</td>\n",
       "      <td>5.195589e-09</td>\n",
       "      <td>1118</td>\n",
       "      <td>5.422184e-09</td>\n",
       "      <td>7.491440e-10</td>\n",
       "      <td>0.302472</td>\n",
       "      <td>0.0</td>\n",
       "      <td>ab</td>\n",
       "    </tr>\n",
       "    <tr>\n",
       "      <th>13000001</th>\n",
       "      <td>13</td>\n",
       "      <td>1</td>\n",
       "      <td>59580.039190</td>\n",
       "      <td>y</td>\n",
       "      <td>5.195569e-09</td>\n",
       "      <td>1220</td>\n",
       "      <td>4.730668e-09</td>\n",
       "      <td>7.329094e-10</td>\n",
       "      <td>-0.634322</td>\n",
       "      <td>0.0</td>\n",
       "      <td>ab</td>\n",
       "    </tr>\n",
       "    <tr>\n",
       "      <th>12000001</th>\n",
       "      <td>12</td>\n",
       "      <td>1</td>\n",
       "      <td>59580.038741</td>\n",
       "      <td>y</td>\n",
       "      <td>5.195548e-09</td>\n",
       "      <td>1212</td>\n",
       "      <td>4.938595e-09</td>\n",
       "      <td>7.083655e-10</td>\n",
       "      <td>-0.362741</td>\n",
       "      <td>0.0</td>\n",
       "      <td>ab</td>\n",
       "    </tr>\n",
       "    <tr>\n",
       "      <th>11000001</th>\n",
       "      <td>11</td>\n",
       "      <td>1</td>\n",
       "      <td>59580.038293</td>\n",
       "      <td>y</td>\n",
       "      <td>5.195527e-09</td>\n",
       "      <td>1110</td>\n",
       "      <td>4.708283e-09</td>\n",
       "      <td>7.245701e-10</td>\n",
       "      <td>-0.672460</td>\n",
       "      <td>0.0</td>\n",
       "      <td>ab</td>\n",
       "    </tr>\n",
       "    <tr>\n",
       "      <th>10000001</th>\n",
       "      <td>10</td>\n",
       "      <td>1</td>\n",
       "      <td>59580.037847</td>\n",
       "      <td>y</td>\n",
       "      <td>5.195507e-09</td>\n",
       "      <td>1021</td>\n",
       "      <td>4.923545e-09</td>\n",
       "      <td>7.563881e-10</td>\n",
       "      <td>-0.359553</td>\n",
       "      <td>0.0</td>\n",
       "      <td>ab</td>\n",
       "    </tr>\n",
       "    <tr>\n",
       "      <th>9000001</th>\n",
       "      <td>9</td>\n",
       "      <td>1</td>\n",
       "      <td>59580.037401</td>\n",
       "      <td>y</td>\n",
       "      <td>5.195486e-09</td>\n",
       "      <td>957</td>\n",
       "      <td>4.557958e-09</td>\n",
       "      <td>7.840265e-10</td>\n",
       "      <td>-0.813146</td>\n",
       "      <td>0.0</td>\n",
       "      <td>ab</td>\n",
       "    </tr>\n",
       "    <tr>\n",
       "      <th>8000001</th>\n",
       "      <td>8</td>\n",
       "      <td>1</td>\n",
       "      <td>59580.036955</td>\n",
       "      <td>y</td>\n",
       "      <td>5.195466e-09</td>\n",
       "      <td>857</td>\n",
       "      <td>3.850300e-09</td>\n",
       "      <td>7.792265e-10</td>\n",
       "      <td>-1.726283</td>\n",
       "      <td>0.0</td>\n",
       "      <td>ab</td>\n",
       "    </tr>\n",
       "    <tr>\n",
       "      <th>7000001</th>\n",
       "      <td>7</td>\n",
       "      <td>1</td>\n",
       "      <td>59580.036509</td>\n",
       "      <td>y</td>\n",
       "      <td>5.195445e-09</td>\n",
       "      <td>770</td>\n",
       "      <td>5.333098e-09</td>\n",
       "      <td>7.758312e-10</td>\n",
       "      <td>0.177426</td>\n",
       "      <td>0.0</td>\n",
       "      <td>ab</td>\n",
       "    </tr>\n",
       "    <tr>\n",
       "      <th>6000001</th>\n",
       "      <td>6</td>\n",
       "      <td>1</td>\n",
       "      <td>59580.036062</td>\n",
       "      <td>y</td>\n",
       "      <td>5.195424e-09</td>\n",
       "      <td>680</td>\n",
       "      <td>4.884554e-09</td>\n",
       "      <td>7.737306e-10</td>\n",
       "      <td>-0.401781</td>\n",
       "      <td>0.0</td>\n",
       "      <td>ab</td>\n",
       "    </tr>\n",
       "    <tr>\n",
       "      <th>5000001</th>\n",
       "      <td>5</td>\n",
       "      <td>1</td>\n",
       "      <td>59580.035616</td>\n",
       "      <td>y</td>\n",
       "      <td>5.195404e-09</td>\n",
       "      <td>587</td>\n",
       "      <td>3.935457e-09</td>\n",
       "      <td>7.728795e-10</td>\n",
       "      <td>-1.630198</td>\n",
       "      <td>0.0</td>\n",
       "      <td>ab</td>\n",
       "    </tr>\n",
       "    <tr>\n",
       "      <th>4000001</th>\n",
       "      <td>4</td>\n",
       "      <td>1</td>\n",
       "      <td>59580.035169</td>\n",
       "      <td>y</td>\n",
       "      <td>5.195383e-09</td>\n",
       "      <td>505</td>\n",
       "      <td>5.553227e-09</td>\n",
       "      <td>7.732447e-10</td>\n",
       "      <td>0.462782</td>\n",
       "      <td>0.0</td>\n",
       "      <td>ab</td>\n",
       "    </tr>\n",
       "    <tr>\n",
       "      <th>3000001</th>\n",
       "      <td>3</td>\n",
       "      <td>1</td>\n",
       "      <td>59580.034722</td>\n",
       "      <td>y</td>\n",
       "      <td>5.195363e-09</td>\n",
       "      <td>441</td>\n",
       "      <td>4.492383e-09</td>\n",
       "      <td>7.748050e-10</td>\n",
       "      <td>-0.907298</td>\n",
       "      <td>0.0</td>\n",
       "      <td>ab</td>\n",
       "    </tr>\n",
       "    <tr>\n",
       "      <th>2000001</th>\n",
       "      <td>2</td>\n",
       "      <td>1</td>\n",
       "      <td>59580.034275</td>\n",
       "      <td>y</td>\n",
       "      <td>5.195342e-09</td>\n",
       "      <td>372</td>\n",
       "      <td>5.235733e-09</td>\n",
       "      <td>7.775629e-10</td>\n",
       "      <td>0.051945</td>\n",
       "      <td>0.0</td>\n",
       "      <td>ab</td>\n",
       "    </tr>\n",
       "  </tbody>\n",
       "</table>\n",
       "</div>"
      ],
      "text/plain": [
       "          obsHistID  objid        expMJD filter     ModelFlux  fieldID  \\\n",
       "pid                                                                      \n",
       "1000000           1      0  59580.033829      y  2.753879e-06      316   \n",
       "14000000         14      0  59580.039637      y  2.754019e-06     1118   \n",
       "13000000         13      0  59580.039190      y  2.754008e-06     1220   \n",
       "12000000         12      0  59580.038741      y  2.753997e-06     1212   \n",
       "11000000         11      0  59580.038293      y  2.753987e-06     1110   \n",
       "10000000         10      0  59580.037847      y  2.753976e-06     1021   \n",
       "9000000           9      0  59580.037401      y  2.753965e-06      957   \n",
       "8000000           8      0  59580.036955      y  2.753954e-06      857   \n",
       "7000000           7      0  59580.036509      y  2.753944e-06      770   \n",
       "6000000           6      0  59580.036062      y  2.753933e-06      680   \n",
       "5000000           5      0  59580.035616      y  2.753922e-06      587   \n",
       "4000000           4      0  59580.035169      y  2.753911e-06      505   \n",
       "3000000           3      0  59580.034722      y  2.753901e-06      441   \n",
       "2000000           2      0  59580.034275      y  2.753890e-06      372   \n",
       "1000001           1      1  59580.033829      y  5.195321e-09      316   \n",
       "14000001         14      1  59580.039637      y  5.195589e-09     1118   \n",
       "13000001         13      1  59580.039190      y  5.195569e-09     1220   \n",
       "12000001         12      1  59580.038741      y  5.195548e-09     1212   \n",
       "11000001         11      1  59580.038293      y  5.195527e-09     1110   \n",
       "10000001         10      1  59580.037847      y  5.195507e-09     1021   \n",
       "9000001           9      1  59580.037401      y  5.195486e-09      957   \n",
       "8000001           8      1  59580.036955      y  5.195466e-09      857   \n",
       "7000001           7      1  59580.036509      y  5.195445e-09      770   \n",
       "6000001           6      1  59580.036062      y  5.195424e-09      680   \n",
       "5000001           5      1  59580.035616      y  5.195404e-09      587   \n",
       "4000001           4      1  59580.035169      y  5.195383e-09      505   \n",
       "3000001           3      1  59580.034722      y  5.195363e-09      441   \n",
       "2000001           2      1  59580.034275      y  5.195342e-09      372   \n",
       "\n",
       "                  flux       fluxerr  deviations   zp zpsys  \n",
       "pid                                                          \n",
       "1000000   2.751058e-06  1.653433e-09   -1.706270  0.0    ab  \n",
       "14000000  2.757215e-06  1.638454e-09    1.950775  0.0    ab  \n",
       "13000000  2.753177e-06  1.631092e-09   -0.509652  0.0    ab  \n",
       "12000000  2.753288e-06  1.620210e-09   -0.438074  0.0    ab  \n",
       "11000000  2.751948e-06  1.627357e-09   -1.252795  0.0    ab  \n",
       "10000000  2.755252e-06  1.641769e-09    0.777490  0.0    ab  \n",
       "9000000   2.751295e-06  1.654682e-09   -1.613898  0.0    ab  \n",
       "8000000   2.753603e-06  1.652410e-09   -0.212740  0.0    ab  \n",
       "7000000   2.752465e-06  1.650809e-09   -0.895467  0.0    ab  \n",
       "6000000   2.754571e-06  1.649820e-09    0.386902  0.0    ab  \n",
       "5000000   2.753080e-06  1.649419e-09   -0.510805  0.0    ab  \n",
       "4000000   2.751964e-06  1.649588e-09   -1.180632  0.0    ab  \n",
       "3000000   2.753854e-06  1.650317e-09   -0.028182  0.0    ab  \n",
       "2000000   2.754597e-06  1.651611e-09    0.428332  0.0    ab  \n",
       "1000001   5.247300e-09  7.814309e-10    0.066517  0.0    ab  \n",
       "14000001  5.422184e-09  7.491440e-10    0.302472  0.0    ab  \n",
       "13000001  4.730668e-09  7.329094e-10   -0.634322  0.0    ab  \n",
       "12000001  4.938595e-09  7.083655e-10   -0.362741  0.0    ab  \n",
       "11000001  4.708283e-09  7.245701e-10   -0.672460  0.0    ab  \n",
       "10000001  4.923545e-09  7.563881e-10   -0.359553  0.0    ab  \n",
       "9000001   4.557958e-09  7.840265e-10   -0.813146  0.0    ab  \n",
       "8000001   3.850300e-09  7.792265e-10   -1.726283  0.0    ab  \n",
       "7000001   5.333098e-09  7.758312e-10    0.177426  0.0    ab  \n",
       "6000001   4.884554e-09  7.737306e-10   -0.401781  0.0    ab  \n",
       "5000001   3.935457e-09  7.728795e-10   -1.630198  0.0    ab  \n",
       "4000001   5.553227e-09  7.732447e-10    0.462782  0.0    ab  \n",
       "3000001   4.492383e-09  7.748050e-10   -0.907298  0.0    ab  \n",
       "2000001   5.235733e-09  7.775629e-10    0.051945  0.0    ab  "
      ]
     },
     "execution_count": 36,
     "metadata": {},
     "output_type": "execute_result"
    }
   ],
   "source": [
    "phot_sim_df"
   ]
  },
  {
   "cell_type": "code",
   "execution_count": 37,
   "metadata": {
    "collapsed": true
   },
   "outputs": [],
   "source": [
    "%matplotlib inline\n",
    "import matplotlib.pyplot as plt\n",
    "import seaborn as sns\n",
    "sns.set_style('whitegrid')"
   ]
  },
  {
   "cell_type": "code",
   "execution_count": 38,
   "metadata": {
    "collapsed": false
   },
   "outputs": [
    {
     "data": {
      "text/html": [
       "<div>\n",
       "<table border=\"1\" class=\"dataframe\">\n",
       "  <thead>\n",
       "    <tr style=\"text-align: right;\">\n",
       "      <th></th>\n",
       "      <th>c</th>\n",
       "      <th>t0</th>\n",
       "      <th>x0</th>\n",
       "      <th>x1</th>\n",
       "      <th>z</th>\n",
       "    </tr>\n",
       "  </thead>\n",
       "  <tbody>\n",
       "    <tr>\n",
       "      <th>0</th>\n",
       "      <td>-0.2</td>\n",
       "      <td>59581.0</td>\n",
       "      <td>0.05000</td>\n",
       "      <td>0.0</td>\n",
       "      <td>0.5</td>\n",
       "    </tr>\n",
       "    <tr>\n",
       "      <th>1</th>\n",
       "      <td>0.5</td>\n",
       "      <td>59580.0</td>\n",
       "      <td>0.00003</td>\n",
       "      <td>0.1</td>\n",
       "      <td>0.6</td>\n",
       "    </tr>\n",
       "  </tbody>\n",
       "</table>\n",
       "</div>"
      ],
      "text/plain": [
       "     c       t0       x0   x1    z\n",
       "0 -0.2  59581.0  0.05000  0.0  0.5\n",
       "1  0.5  59580.0  0.00003  0.1  0.6"
      ]
     },
     "execution_count": 38,
     "metadata": {},
     "output_type": "execute_result"
    }
   ],
   "source": [
    "pop_sim_df"
   ]
  },
  {
   "cell_type": "markdown",
   "metadata": {},
   "source": [
    "# Scratch"
   ]
  },
  {
   "cell_type": "code",
   "execution_count": 35,
   "metadata": {
    "collapsed": true
   },
   "outputs": [],
   "source": [
    "from varsim import BasePopulationFromStochasticModel"
   ]
  },
  {
   "cell_type": "code",
   "execution_count": 38,
   "metadata": {
    "collapsed": false
   },
   "outputs": [],
   "source": [
    "class SALTStatPopulation(BasePopulationFromStochasticModel):\n",
    "    def __init__(self, ):\n",
    "        self.x0 = [5.0e-2, 3.e-5]\n",
    "        self.x1 = [0, .1]\n",
    "        self.c = [-0.2, 0.5]\n",
    "        self.t0 = [59581., 59580. ]\n",
    "        self.z = [0.5, 0.6]\n",
    "        self.ra = [30., 30.]\n",
    "        self.dec = [-45., -45.]\n",
    "    \n",
    "    @property\n",
    "    def pop_rng(self):\n",
    "        return 0\n",
    "    \n",
    "    @property\n",
    "    def numSources(self):\n",
    "        return sum(1 for elem in self.idxvalues)\n",
    "    #def get_pop_rng(self):\n",
    "    #    return self.pop_rng\n",
    "    def set_pop_rng(self, value):\n",
    "        self._pop_rng = value\n",
    "        \n",
    "    def modelparams(self, idx):\n",
    "            return dict(x0=self.x0[idx], x1=self.x1[idx], c=self.c[idx], t0=self.t0[idx],\n",
    "                        z=self.z[idx])\n",
    "        \n",
    "    @property\n",
    "    def idxvalues(self):\n",
    "        return (x for x in (0, 1))\n",
    "    @property\n",
    "    def hasPositionArray(self):\n",
    "        return False\n",
    "    @property\n",
    "    def positionArray(self):\n",
    "        return None\n",
    "    def positions(self, idx):\n",
    "        return dict(ra=self.ra[idx], dec=self.dec[idx])\n",
    "    "
   ]
  },
  {
   "cell_type": "code",
   "execution_count": 39,
   "metadata": {
    "collapsed": false
   },
   "outputs": [],
   "source": [
    "snsims = SALTPopulation()"
   ]
  },
  {
   "cell_type": "code",
   "execution_count": 40,
   "metadata": {
    "collapsed": false
   },
   "outputs": [
    {
     "data": {
      "text/plain": [
       "14"
      ]
     },
     "execution_count": 40,
     "metadata": {},
     "output_type": "execute_result"
    }
   ],
   "source": [
    "bsim.lc(1).index.values.size"
   ]
  },
  {
   "cell_type": "code",
   "execution_count": 41,
   "metadata": {
    "collapsed": false
   },
   "outputs": [
    {
     "data": {
      "text/plain": [
       "14"
      ]
     },
     "execution_count": 41,
     "metadata": {},
     "output_type": "execute_result"
    }
   ],
   "source": [
    "np.unique(bsim.lc(0).index.values).size"
   ]
  },
  {
   "cell_type": "code",
   "execution_count": 42,
   "metadata": {
    "collapsed": false
   },
   "outputs": [
    {
     "data": {
      "text/plain": [
       "Index([u'obsHistID', u'objid', u'expMJD', u'filter', u'ModelFlux', u'fieldID',\n",
       "       u'flux', u'fluxerr', u'deviations', u'zp', u'zpsys'],\n",
       "      dtype='object')"
      ]
     },
     "execution_count": 42,
     "metadata": {},
     "output_type": "execute_result"
    }
   ],
   "source": [
    "bsim.lc(0).columns"
   ]
  },
  {
   "cell_type": "code",
   "execution_count": 43,
   "metadata": {
    "collapsed": false
   },
   "outputs": [
    {
     "name": "stderr",
     "output_type": "stream",
     "text": [
      "/usr/local/miniconda/lib/python2.7/site-packages/tables/path.py:100: NaturalNameWarning: object name is not a valid Python identifier: '0'; it does not match the pattern ``^[a-zA-Z_][a-zA-Z0-9_]*$``; you will not be able to use natural naming to access this object; using ``getattr()`` will still work, though\n",
      "  NaturalNameWarning)\n"
     ]
    }
   ],
   "source": [
    "bsim.write_lc(0, 'test_0.hdf', 'hdf')"
   ]
  },
  {
   "cell_type": "code",
   "execution_count": 44,
   "metadata": {
    "collapsed": true
   },
   "outputs": [],
   "source": [
    "lc_0 = pd.read_hdf('test_0.hdf')"
   ]
  },
  {
   "cell_type": "code",
   "execution_count": 45,
   "metadata": {
    "collapsed": false
   },
   "outputs": [
    {
     "data": {
      "text/html": [
       "<div>\n",
       "<table border=\"1\" class=\"dataframe\">\n",
       "  <thead>\n",
       "    <tr style=\"text-align: right;\">\n",
       "      <th></th>\n",
       "      <th>obsHistID</th>\n",
       "      <th>objid</th>\n",
       "      <th>expMJD</th>\n",
       "      <th>filter</th>\n",
       "      <th>ModelFlux</th>\n",
       "      <th>fieldID</th>\n",
       "      <th>flux</th>\n",
       "      <th>fluxerr</th>\n",
       "      <th>deviations</th>\n",
       "      <th>zp</th>\n",
       "      <th>zpsys</th>\n",
       "    </tr>\n",
       "    <tr>\n",
       "      <th>pid</th>\n",
       "      <th></th>\n",
       "      <th></th>\n",
       "      <th></th>\n",
       "      <th></th>\n",
       "      <th></th>\n",
       "      <th></th>\n",
       "      <th></th>\n",
       "      <th></th>\n",
       "      <th></th>\n",
       "      <th></th>\n",
       "      <th></th>\n",
       "    </tr>\n",
       "  </thead>\n",
       "  <tbody>\n",
       "    <tr>\n",
       "      <th>1000000</th>\n",
       "      <td>1</td>\n",
       "      <td>0</td>\n",
       "      <td>59580.033829</td>\n",
       "      <td>y</td>\n",
       "      <td>0.000003</td>\n",
       "      <td>316</td>\n",
       "      <td>0.000003</td>\n",
       "      <td>1.640065e-09</td>\n",
       "      <td>0.729091</td>\n",
       "      <td>0.0</td>\n",
       "      <td>ab</td>\n",
       "    </tr>\n",
       "    <tr>\n",
       "      <th>14000000</th>\n",
       "      <td>14</td>\n",
       "      <td>0</td>\n",
       "      <td>59580.039637</td>\n",
       "      <td>y</td>\n",
       "      <td>0.000003</td>\n",
       "      <td>1118</td>\n",
       "      <td>0.000003</td>\n",
       "      <td>1.624962e-09</td>\n",
       "      <td>0.128983</td>\n",
       "      <td>0.0</td>\n",
       "      <td>ab</td>\n",
       "    </tr>\n",
       "    <tr>\n",
       "      <th>13000000</th>\n",
       "      <td>13</td>\n",
       "      <td>0</td>\n",
       "      <td>59580.039190</td>\n",
       "      <td>y</td>\n",
       "      <td>0.000003</td>\n",
       "      <td>1220</td>\n",
       "      <td>0.000003</td>\n",
       "      <td>1.617539e-09</td>\n",
       "      <td>1.139401</td>\n",
       "      <td>0.0</td>\n",
       "      <td>ab</td>\n",
       "    </tr>\n",
       "    <tr>\n",
       "      <th>12000000</th>\n",
       "      <td>12</td>\n",
       "      <td>0</td>\n",
       "      <td>59580.038741</td>\n",
       "      <td>y</td>\n",
       "      <td>0.000003</td>\n",
       "      <td>1212</td>\n",
       "      <td>0.000003</td>\n",
       "      <td>1.606565e-09</td>\n",
       "      <td>-1.234826</td>\n",
       "      <td>0.0</td>\n",
       "      <td>ab</td>\n",
       "    </tr>\n",
       "    <tr>\n",
       "      <th>11000000</th>\n",
       "      <td>11</td>\n",
       "      <td>0</td>\n",
       "      <td>59580.038293</td>\n",
       "      <td>y</td>\n",
       "      <td>0.000003</td>\n",
       "      <td>1110</td>\n",
       "      <td>0.000003</td>\n",
       "      <td>1.613773e-09</td>\n",
       "      <td>0.402342</td>\n",
       "      <td>0.0</td>\n",
       "      <td>ab</td>\n",
       "    </tr>\n",
       "    <tr>\n",
       "      <th>10000000</th>\n",
       "      <td>10</td>\n",
       "      <td>0</td>\n",
       "      <td>59580.037847</td>\n",
       "      <td>y</td>\n",
       "      <td>0.000003</td>\n",
       "      <td>1021</td>\n",
       "      <td>0.000003</td>\n",
       "      <td>1.628304e-09</td>\n",
       "      <td>-0.684810</td>\n",
       "      <td>0.0</td>\n",
       "      <td>ab</td>\n",
       "    </tr>\n",
       "    <tr>\n",
       "      <th>9000000</th>\n",
       "      <td>9</td>\n",
       "      <td>0</td>\n",
       "      <td>59580.037401</td>\n",
       "      <td>y</td>\n",
       "      <td>0.000003</td>\n",
       "      <td>957</td>\n",
       "      <td>0.000003</td>\n",
       "      <td>1.641323e-09</td>\n",
       "      <td>-0.870797</td>\n",
       "      <td>0.0</td>\n",
       "      <td>ab</td>\n",
       "    </tr>\n",
       "    <tr>\n",
       "      <th>8000000</th>\n",
       "      <td>8</td>\n",
       "      <td>0</td>\n",
       "      <td>59580.036955</td>\n",
       "      <td>y</td>\n",
       "      <td>0.000003</td>\n",
       "      <td>857</td>\n",
       "      <td>0.000003</td>\n",
       "      <td>1.639033e-09</td>\n",
       "      <td>-0.578850</td>\n",
       "      <td>0.0</td>\n",
       "      <td>ab</td>\n",
       "    </tr>\n",
       "    <tr>\n",
       "      <th>7000000</th>\n",
       "      <td>7</td>\n",
       "      <td>0</td>\n",
       "      <td>59580.036509</td>\n",
       "      <td>y</td>\n",
       "      <td>0.000003</td>\n",
       "      <td>770</td>\n",
       "      <td>0.000003</td>\n",
       "      <td>1.637419e-09</td>\n",
       "      <td>-0.311553</td>\n",
       "      <td>0.0</td>\n",
       "      <td>ab</td>\n",
       "    </tr>\n",
       "    <tr>\n",
       "      <th>6000000</th>\n",
       "      <td>6</td>\n",
       "      <td>0</td>\n",
       "      <td>59580.036062</td>\n",
       "      <td>y</td>\n",
       "      <td>0.000003</td>\n",
       "      <td>680</td>\n",
       "      <td>0.000003</td>\n",
       "      <td>1.636423e-09</td>\n",
       "      <td>0.056165</td>\n",
       "      <td>0.0</td>\n",
       "      <td>ab</td>\n",
       "    </tr>\n",
       "    <tr>\n",
       "      <th>5000000</th>\n",
       "      <td>5</td>\n",
       "      <td>0</td>\n",
       "      <td>59580.035616</td>\n",
       "      <td>y</td>\n",
       "      <td>0.000003</td>\n",
       "      <td>587</td>\n",
       "      <td>0.000003</td>\n",
       "      <td>1.636018e-09</td>\n",
       "      <td>-1.165150</td>\n",
       "      <td>0.0</td>\n",
       "      <td>ab</td>\n",
       "    </tr>\n",
       "    <tr>\n",
       "      <th>4000000</th>\n",
       "      <td>4</td>\n",
       "      <td>0</td>\n",
       "      <td>59580.035169</td>\n",
       "      <td>y</td>\n",
       "      <td>0.000003</td>\n",
       "      <td>505</td>\n",
       "      <td>0.000003</td>\n",
       "      <td>1.636188e-09</td>\n",
       "      <td>0.900826</td>\n",
       "      <td>0.0</td>\n",
       "      <td>ab</td>\n",
       "    </tr>\n",
       "    <tr>\n",
       "      <th>3000000</th>\n",
       "      <td>3</td>\n",
       "      <td>0</td>\n",
       "      <td>59580.034722</td>\n",
       "      <td>y</td>\n",
       "      <td>0.000003</td>\n",
       "      <td>441</td>\n",
       "      <td>0.000003</td>\n",
       "      <td>1.636923e-09</td>\n",
       "      <td>0.465662</td>\n",
       "      <td>0.0</td>\n",
       "      <td>ab</td>\n",
       "    </tr>\n",
       "    <tr>\n",
       "      <th>2000000</th>\n",
       "      <td>2</td>\n",
       "      <td>0</td>\n",
       "      <td>59580.034275</td>\n",
       "      <td>y</td>\n",
       "      <td>0.000003</td>\n",
       "      <td>372</td>\n",
       "      <td>0.000003</td>\n",
       "      <td>1.638228e-09</td>\n",
       "      <td>-1.536244</td>\n",
       "      <td>0.0</td>\n",
       "      <td>ab</td>\n",
       "    </tr>\n",
       "  </tbody>\n",
       "</table>\n",
       "</div>"
      ],
      "text/plain": [
       "          obsHistID  objid        expMJD filter  ModelFlux  fieldID      flux  \\\n",
       "pid                                                                             \n",
       "1000000           1      0  59580.033829      y   0.000003      316  0.000003   \n",
       "14000000         14      0  59580.039637      y   0.000003     1118  0.000003   \n",
       "13000000         13      0  59580.039190      y   0.000003     1220  0.000003   \n",
       "12000000         12      0  59580.038741      y   0.000003     1212  0.000003   \n",
       "11000000         11      0  59580.038293      y   0.000003     1110  0.000003   \n",
       "10000000         10      0  59580.037847      y   0.000003     1021  0.000003   \n",
       "9000000           9      0  59580.037401      y   0.000003      957  0.000003   \n",
       "8000000           8      0  59580.036955      y   0.000003      857  0.000003   \n",
       "7000000           7      0  59580.036509      y   0.000003      770  0.000003   \n",
       "6000000           6      0  59580.036062      y   0.000003      680  0.000003   \n",
       "5000000           5      0  59580.035616      y   0.000003      587  0.000003   \n",
       "4000000           4      0  59580.035169      y   0.000003      505  0.000003   \n",
       "3000000           3      0  59580.034722      y   0.000003      441  0.000003   \n",
       "2000000           2      0  59580.034275      y   0.000003      372  0.000003   \n",
       "\n",
       "               fluxerr  deviations   zp zpsys  \n",
       "pid                                            \n",
       "1000000   1.640065e-09    0.729091  0.0    ab  \n",
       "14000000  1.624962e-09    0.128983  0.0    ab  \n",
       "13000000  1.617539e-09    1.139401  0.0    ab  \n",
       "12000000  1.606565e-09   -1.234826  0.0    ab  \n",
       "11000000  1.613773e-09    0.402342  0.0    ab  \n",
       "10000000  1.628304e-09   -0.684810  0.0    ab  \n",
       "9000000   1.641323e-09   -0.870797  0.0    ab  \n",
       "8000000   1.639033e-09   -0.578850  0.0    ab  \n",
       "7000000   1.637419e-09   -0.311553  0.0    ab  \n",
       "6000000   1.636423e-09    0.056165  0.0    ab  \n",
       "5000000   1.636018e-09   -1.165150  0.0    ab  \n",
       "4000000   1.636188e-09    0.900826  0.0    ab  \n",
       "3000000   1.636923e-09    0.465662  0.0    ab  \n",
       "2000000   1.638228e-09   -1.536244  0.0    ab  "
      ]
     },
     "execution_count": 45,
     "metadata": {},
     "output_type": "execute_result"
    }
   ],
   "source": [
    "lc_0"
   ]
  },
  {
   "cell_type": "code",
   "execution_count": 46,
   "metadata": {
    "collapsed": true
   },
   "outputs": [],
   "source": [
    "from snsims import PowerLawRates"
   ]
  },
  {
   "cell_type": "code",
   "execution_count": 47,
   "metadata": {
    "collapsed": false
   },
   "outputs": [],
   "source": [
    "pr = PowerLawRates(np.random.RandomState(0), numBins=28, fieldArea=1.0)"
   ]
  },
  {
   "cell_type": "code",
   "execution_count": 48,
   "metadata": {
    "collapsed": false
   },
   "outputs": [
    {
     "data": {
      "text/plain": [
       "(2480,)"
      ]
     },
     "execution_count": 48,
     "metadata": {},
     "output_type": "execute_result"
    }
   ],
   "source": [
    "np.shape(pr.zSamples)"
   ]
  },
  {
   "cell_type": "code",
   "execution_count": null,
   "metadata": {
    "collapsed": true
   },
   "outputs": [],
   "source": [
    "class SaltPopulation(BasePopulationFromStochasticModel):\n",
    "    def __init__(self, saltdist, tiling):\n",
    "        "
   ]
  },
  {
   "cell_type": "code",
   "execution_count": 45,
   "metadata": {
    "collapsed": true
   },
   "outputs": [],
   "source": [
    "from astropy.cosmology import Planck15"
   ]
  },
  {
   "cell_type": "code",
   "execution_count": 48,
   "metadata": {
    "collapsed": true
   },
   "outputs": [],
   "source": [
    "from opsimsummary import Tiling"
   ]
  },
  {
   "cell_type": "code",
   "execution_count": 49,
   "metadata": {
    "collapsed": false
   },
   "outputs": [
    {
     "data": {
      "text/plain": [
       "['__abstractmethods__',\n",
       " '__class__',\n",
       " '__delattr__',\n",
       " '__dict__',\n",
       " '__doc__',\n",
       " '__format__',\n",
       " '__getattribute__',\n",
       " '__hash__',\n",
       " '__init__',\n",
       " '__module__',\n",
       " '__new__',\n",
       " '__reduce__',\n",
       " '__reduce_ex__',\n",
       " '__repr__',\n",
       " '__setattr__',\n",
       " '__sizeof__',\n",
       " '__str__',\n",
       " '__subclasshook__',\n",
       " '__weakref__',\n",
       " '_abc_cache',\n",
       " '_abc_negative_cache',\n",
       " '_abc_negative_cache_version',\n",
       " '_abc_registry',\n",
       " 'area',\n",
       " 'pointingSequenceForTile',\n",
       " 'positions',\n",
       " 'samplePatchOnSphere',\n",
       " 'tileIDSequence',\n",
       " 'tileIDsForSN']"
      ]
     },
     "execution_count": 49,
     "metadata": {},
     "output_type": "execute_result"
    }
   ],
   "source": [
    "dir(Tiling)"
   ]
  },
  {
   "cell_type": "code",
   "execution_count": 24,
   "metadata": {
    "collapsed": false
   },
   "outputs": [],
   "source": [
    "from opsimsummary import HealpixTiles, Tiling"
   ]
  },
  {
   "cell_type": "code",
   "execution_count": 25,
   "metadata": {
    "collapsed": true
   },
   "outputs": [],
   "source": [
    "hpTiles = HealpixTiles(nside=256,\n",
    "                       preComputedMap='/Users/rbiswas/data/LSST/OpSimData/healpixelized_MINION_1016_256.db')"
   ]
  },
  {
   "cell_type": "code",
   "execution_count": 27,
   "metadata": {
    "collapsed": false
   },
   "outputs": [],
   "source": [
    "r = hpTiles.positions(0, 1000)"
   ]
  },
  {
   "cell_type": "code",
   "execution_count": 29,
   "metadata": {
    "collapsed": false
   },
   "outputs": [
    {
     "data": {
      "text/plain": [
       "array([ 45.02523028,  45.05311539,  45.02319881,  44.96774065,\n",
       "        45.03517025,  44.98008981,  44.87830566,  45.06080236,\n",
       "        45.09397761,  44.96745365,  45.08819774,  44.9046003 ,\n",
       "        44.98258702,  44.86790104,  44.84317227,  44.90592081,\n",
       "        45.04757379,  44.85686897,  45.11642737,  44.9606429 ,\n",
       "        44.89743981,  44.89149724,  45.03616282,  44.93154659,\n",
       "        45.10538406,  45.11477406,  44.92762674,  45.01087321,\n",
       "        44.84493695,  44.92006679,  45.03991721,  45.05890568,\n",
       "        45.01841756,  45.04647184,  44.99506844,  44.96610187,\n",
       "        45.09272289,  45.13354839,  45.09690722,  45.11932263,\n",
       "        44.96107212,  44.93496213,  44.9811732 ,  44.94627629,\n",
       "        45.03381437,  44.83629658,  44.99382664,  45.02697677,\n",
       "        45.0446629 ,  44.99257132,  44.89301822,  44.98882024,\n",
       "        45.07208928,  44.91375759,  44.95205567,  45.10182213,\n",
       "        44.93477769,  44.97925068,  45.04007969,  44.96402705,\n",
       "        45.01869909,  45.02264202,  44.97772877,  44.97860359,\n",
       "        45.10317882,  45.03915357,  45.16579517,  44.94750363,\n",
       "        44.96073449,  44.92524438,  44.94896392,  44.96319659,\n",
       "        45.06123899,  44.99498912,  45.14639562,  45.00894627,\n",
       "        44.96076381,  45.02826653,  44.955992  ,  44.92792007,\n",
       "        45.09808568,  44.93502736,  44.97379033,  45.0692595 ,\n",
       "        45.12961304,  45.10315453,  44.9394269 ,  45.02423344,\n",
       "        45.04767121,  45.00303216,  44.90199138,  45.12952526,\n",
       "        44.97215902,  45.09330267,  45.10881599,  45.02257591,\n",
       "        44.84997821,  45.00506905,  45.0103128 ,  44.95363749,\n",
       "        45.06141778,  45.00140628,  44.94269695,  44.97229284,\n",
       "        44.96912408,  45.08920276,  44.92876954,  44.9848293 ,\n",
       "        44.91109201,  45.00750121,  44.9775264 ,  44.9159968 ,\n",
       "        45.07111248,  45.04636059,  44.94821042,  44.99885095,\n",
       "        44.96056604,  44.88176687,  44.95027327,  44.94821582,\n",
       "        45.08858312,  44.95091568,  44.95109036,  45.05494757,\n",
       "        45.00938111,  44.87855587,  45.0308481 ,  44.92998707,\n",
       "        44.93610916,  44.93017687,  44.99791716,  44.88491368,\n",
       "        45.00394659,  44.89683448,  45.0255854 ,  45.01073098,\n",
       "        45.15086404,  45.0908086 ,  44.86814081,  44.85344503,\n",
       "        44.97575578,  44.99687698,  44.962219  ,  44.86673963,\n",
       "        44.9914166 ,  45.06288532,  44.83616915,  45.05463943,\n",
       "        44.98934447,  44.95767304,  44.98611839,  45.12058035,\n",
       "        44.95334011,  45.00808301,  45.10035453,  44.991481  ,\n",
       "        44.8877547 ,  44.91710996,  44.99580933,  45.01688544,\n",
       "        44.9051762 ,  44.97254225,  44.99297596,  45.03506762,\n",
       "        44.99905907,  44.8508594 ,  44.9144443 ,  45.03437507,\n",
       "        44.9317304 ,  45.00895535,  44.9137198 ,  44.91226998,\n",
       "        44.94584912,  45.11772833,  44.89189176,  44.98969405,\n",
       "        44.90816939,  44.90515459,  45.0305852 ,  44.99605183,\n",
       "        45.00354726,  45.12242249,  45.00771285,  45.09155909,\n",
       "        44.98763851,  45.01196866,  44.89812724,  44.95711509,\n",
       "        44.96217514,  44.88014244,  44.98028316,  44.94634083,\n",
       "        44.86496173,  45.01671357,  45.03523108,  45.08682245,\n",
       "        44.99856899,  44.99307708,  45.09952587,  44.99402625,\n",
       "        45.03876031,  45.10578519,  44.91937341,  44.96210893,\n",
       "        44.95577551,  45.13169036,  44.94457023,  44.96638025,\n",
       "        44.91329436,  45.11581655,  45.02043532,  45.03744741,\n",
       "        45.04666306,  44.90613777,  45.03576538,  44.95588205,\n",
       "        44.95930851,  45.05798302,  45.06866611,  45.00305366,\n",
       "        44.98243763,  44.91712029,  44.94098781,  45.01631644,\n",
       "        45.07501788,  45.15571945,  45.01560917,  45.04375977,\n",
       "        44.89846013,  44.99575341,  44.98089872,  45.09649463,\n",
       "        44.93090697,  45.02212542,  45.11063816,  45.03737856,\n",
       "        44.83267942,  44.9763967 ,  45.01779691,  44.9940214 ,\n",
       "        44.95807786,  45.06245948,  45.0002778 ,  45.03695495,\n",
       "        45.06482471,  44.99023216,  44.87156935,  44.97408489,\n",
       "        44.8923183 ,  44.88285107,  45.03882275,  44.87744536,\n",
       "        45.00865175,  44.9816461 ,  44.92856909,  44.99740098,\n",
       "        44.96683819,  45.12332136,  45.01374063,  45.01607663,\n",
       "        44.92371354,  44.95311739,  45.08111717,  44.99219798,\n",
       "        44.9620469 ,  44.9549788 ,  45.04605234,  45.09372437,\n",
       "        44.97963361,  45.03024888,  45.00579058,  44.96048513,\n",
       "        45.12508755,  44.93799337,  44.93664724,  45.11595014,\n",
       "        44.87607845,  44.87489595,  45.07720641,  45.00035773,\n",
       "        44.93138613,  45.02767428,  45.083828  ,  45.04186438,\n",
       "        45.00947827,  45.01360487,  44.9848723 ,  45.00034993,\n",
       "        44.95922445,  44.87658104,  44.95143342,  45.01765425,\n",
       "        44.90846585,  44.94857676,  45.00987168,  44.9124509 ,\n",
       "        44.97696637,  44.97669133,  44.97326855,  45.06059688,\n",
       "        45.04714911,  45.02041739,  45.04356782,  44.89879704,\n",
       "        45.02121527,  44.90586379,  45.00427523,  44.97305971,\n",
       "        45.10006193,  45.08965563,  44.89216086,  45.15470236,\n",
       "        45.13079023,  44.96621346,  45.12322327,  45.04558893,\n",
       "        45.04673622,  45.02370041,  44.99443097,  44.98536897,\n",
       "        44.98357462,  44.96516117,  44.89986614,  45.07555671,\n",
       "        44.98023363,  45.04849804,  44.94114825,  45.02113752,\n",
       "        44.93237324,  45.09831466,  44.96605704,  44.83785944,\n",
       "        45.10579417,  44.96809937,  44.92014826,  45.02785724,\n",
       "        44.98915683,  44.96021748,  44.90120745,  45.00268336,\n",
       "        44.99457141,  45.07578797,  44.93513007,  44.97967522,\n",
       "        44.95959807,  45.03995242,  44.91469281,  45.0685019 ,\n",
       "        45.0542905 ,  45.07294305,  45.06224216,  44.98720142,\n",
       "        44.94344559,  44.91867288,  45.048379  ,  45.10001914,\n",
       "        44.9150718 ,  45.0928898 ,  45.04911545,  44.90934085,\n",
       "        44.85973074,  45.03807969,  44.89360284,  45.01440618,\n",
       "        45.01854946,  44.88417634,  45.01811868,  44.91632007,\n",
       "        45.0672021 ,  44.9782236 ,  45.01012366,  44.91573006,\n",
       "        44.97293682,  44.94373122,  44.88537427,  45.07933523,\n",
       "        45.01300433,  44.95677266,  44.98815037,  44.89499917,\n",
       "        44.86303624,  45.01348844,  44.99600002,  44.95637026,\n",
       "        44.99809138,  44.96439189,  44.90163671,  45.13348491,\n",
       "        45.04302429,  44.85924002,  44.91294334,  45.06810776,\n",
       "        44.94750231,  44.99815479,  44.97397395,  45.05003414,\n",
       "        44.8864502 ,  45.03221465,  44.91153923,  45.05216921,\n",
       "        45.08745099,  44.96871561,  45.06815998,  45.12789658,\n",
       "        44.99605397,  45.00838915,  44.99962287,  44.93662767,\n",
       "        44.96183026,  44.9358886 ,  45.06632744,  44.99444469,\n",
       "        45.10688151,  45.02061829,  44.88337755,  45.00967987,\n",
       "        45.00573886,  44.89282272,  45.03438136,  44.92232061,\n",
       "        45.03194929,  45.00432792,  45.03089058,  44.97286927,\n",
       "        45.05566948,  45.00294288,  44.87938489,  44.96206599,\n",
       "        44.99590102,  45.07735554,  44.98700974,  44.9615605 ,\n",
       "        45.03127684,  44.98556755,  45.06424707,  45.05159642,\n",
       "        44.95698691,  45.00023015,  44.99768171,  44.86404489,\n",
       "        44.92094487,  45.06856164,  44.95555706,  45.01168947,\n",
       "        45.00065376,  44.99361785,  44.99980422,  44.91320413,\n",
       "        44.94919184,  45.03372181,  44.88844483,  44.9552313 ,\n",
       "        44.94759249,  45.14025941,  45.04708278,  45.00167848,\n",
       "        44.90993755,  45.04266023,  44.86331696,  45.12193049,\n",
       "        44.99845132,  45.13224009,  44.97511103,  45.04293677,\n",
       "        44.99815991,  45.15273564,  45.07033036,  45.06016516,\n",
       "        45.018167  ,  44.90972964,  45.0677738 ,  44.92727693,\n",
       "        44.99104257,  44.93445869,  45.10050212,  44.99294658,\n",
       "        44.92377578,  44.89043725,  45.04766494,  44.94009366,\n",
       "        45.00494233,  45.07742253,  45.01837483,  45.06365176,\n",
       "        45.09988496,  45.05855401,  44.99284759,  45.07061735,\n",
       "        45.03367276,  45.05069847,  44.94610412,  45.00885894,\n",
       "        45.02152369,  45.00783513,  45.10105385,  44.89001116,\n",
       "        44.95773655,  44.98747772,  44.89104803,  45.09418201,\n",
       "        45.02483689,  45.03554878,  44.93804266,  45.03454023,\n",
       "        45.02474473,  44.90072785,  44.96383303,  44.97504894,\n",
       "        45.15439452,  44.99114483,  44.98472923,  44.91456087,\n",
       "        44.871661  ,  44.89644302,  44.92540222,  44.98968503,\n",
       "        44.99009133,  44.93209184,  44.89099634,  44.99194647,\n",
       "        45.07551872,  45.01689865,  44.95725711,  45.05685635,\n",
       "        44.98426481,  45.0399567 ,  44.96126824,  44.93881626,\n",
       "        44.99732009,  44.87970712,  44.84173113,  45.01102623,\n",
       "        45.01241839,  44.87932433,  44.95885975,  45.15474496,\n",
       "        45.06075059,  45.13237665,  45.09524536,  45.1450542 ,\n",
       "        45.11179714,  44.95077204,  45.04969369,  44.95266874,\n",
       "        45.04660479,  45.0816123 ,  45.00315637,  44.87385943,\n",
       "        44.98470059,  44.92141625,  44.99612662,  44.91233986,\n",
       "        44.88090138,  45.00982445,  44.95972004,  45.00448037,\n",
       "        44.93559232,  44.92074656,  45.06570908,  45.00104642,\n",
       "        44.97440651,  45.10437668,  44.86165315,  45.14786936,\n",
       "        45.10671875,  44.94361779,  44.9473071 ,  44.97201391,\n",
       "        44.97886646,  44.89629338,  45.05062543,  45.10748625,\n",
       "        44.96857527,  45.01042673,  44.98715752,  44.98869099,\n",
       "        44.91704814,  44.96918227,  45.01328343,  44.91482414,\n",
       "        45.0828233 ,  45.01191629,  45.04104691,  45.0465698 ,\n",
       "        45.05689349,  45.06263405,  44.97366228,  45.06496991,\n",
       "        45.09766342,  45.09629999,  45.0508053 ,  44.98650439,\n",
       "        45.02792577,  44.92233151,  45.06584781,  44.91548842,\n",
       "        45.01251432,  44.98753104,  45.01383793,  45.0973711 ,\n",
       "        44.93214232,  44.9373218 ,  44.93748677,  45.07588776,\n",
       "        44.95289654,  45.08621655,  44.96195671,  45.06652803,\n",
       "        45.04244303,  44.94148273,  44.98378795,  45.03611687,\n",
       "        45.02051753,  45.03910062,  45.16084791,  44.99515534,\n",
       "        45.00025517,  44.96415576,  44.88198875,  44.99262466,\n",
       "        45.15018701,  45.01196749,  45.02039061,  45.0345155 ,\n",
       "        45.03203129,  45.0119163 ,  44.85265539,  44.87928317,\n",
       "        44.93827253,  44.98172343,  45.01002262,  44.88063548,\n",
       "        44.93453608,  45.05824522,  44.91673181,  44.99060735,\n",
       "        44.89775787,  45.00484799,  44.84481132,  44.95916961,\n",
       "        45.07058763,  44.97638042,  45.04520492,  44.91140236,\n",
       "        44.94743595,  45.07844877,  45.15842268,  44.87830735,\n",
       "        45.09728382,  45.09289857,  45.01023264,  44.89739984,\n",
       "        45.0500283 ,  45.01278139,  44.99224012,  44.99696932,\n",
       "        45.08018238,  45.15269009,  44.94392845,  44.98049679,\n",
       "        45.11022593,  45.11561836,  44.88760714,  44.97292593,\n",
       "        45.06636292,  45.0388295 ,  45.0853425 ,  45.09133188,\n",
       "        44.90923412,  45.01146686,  45.13086017,  45.14865868,\n",
       "        44.94509618,  44.95060218,  44.99257682,  44.87662015,\n",
       "        44.92781051,  44.98034234,  45.03872533,  44.94896408,\n",
       "        45.07024709,  45.02162255,  45.01573965,  45.02617842,\n",
       "        45.0524934 ,  45.12239121,  45.02533064,  44.99065648,\n",
       "        45.02034343,  44.96140151,  44.87028716,  45.07804895,\n",
       "        44.9831152 ,  44.99948967,  44.96102317,  45.10751248,\n",
       "        45.09141956,  44.96195885,  45.02162683,  45.07084757,\n",
       "        44.85660841,  45.09686496,  45.00220653,  45.01497469,\n",
       "        45.08534771,  44.95203899,  45.00474796,  45.0826861 ,\n",
       "        44.98276652,  44.89264157,  45.1037623 ,  45.02378112,\n",
       "        45.06235163,  45.09327515,  45.03900889,  45.05808689,\n",
       "        45.00140202,  45.07773282,  44.97818665,  45.00172555,\n",
       "        44.99162038,  44.86786656,  44.87979923,  45.06413349,\n",
       "        45.16681079,  45.02914518,  44.99567269,  45.01939891,\n",
       "        45.00955722,  44.91861765,  45.01897136,  45.03705621,\n",
       "        44.98338118,  44.98819953,  45.06574147,  44.99621903,\n",
       "        44.92724663,  45.06722499,  44.97000571,  44.95400304,\n",
       "        45.02556301,  44.96475622,  44.88953261,  44.98813452,\n",
       "        45.03792732,  45.12884678,  45.04769616,  45.1341093 ,\n",
       "        45.09301479,  44.9744467 ,  44.9790852 ,  45.06157667,\n",
       "        45.06186357,  45.0457499 ,  44.96551528,  44.98876555,\n",
       "        45.02742172,  44.97239644,  44.94780596,  45.00277173,\n",
       "        45.13446885,  44.86260323,  44.97654605,  44.9744534 ,\n",
       "        45.1337473 ,  44.94662817,  44.87791327,  44.98124818,\n",
       "        44.94911024,  44.99469249,  44.89431903,  45.06481705,\n",
       "        45.00618949,  45.09361826,  45.07518222,  45.05112834,\n",
       "        44.9144807 ,  45.04539379,  45.01563979,  45.10251996,\n",
       "        45.02671064,  44.9120917 ,  44.8987045 ,  45.00922219,\n",
       "        44.99468558,  44.85194112,  45.13556429,  45.13540186,\n",
       "        45.1310678 ,  45.07763475,  45.07413834,  44.99660813,\n",
       "        45.00959895,  45.01418861,  45.03660779,  44.87624149,\n",
       "        44.96582329,  45.07946283,  44.89986953,  44.9706249 ,\n",
       "        44.98875739,  44.92724872,  45.03414668,  44.99863061,\n",
       "        44.93566691,  45.16490127,  45.04290695,  45.0642165 ,\n",
       "        45.05117734,  44.98134998,  44.91440128,  45.0905935 ,\n",
       "        45.04520875,  44.9557802 ,  45.03467704,  45.09377768,\n",
       "        44.98459949,  44.92950689,  44.8722477 ,  44.93360074,\n",
       "        44.9166336 ,  45.00040405,  44.98717227,  44.99154677,\n",
       "        45.08777891,  44.93189688,  45.02934073,  44.98204403,\n",
       "        45.06623993,  44.95888792,  44.941911  ,  44.93420374,\n",
       "        44.93388401,  44.92827684,  45.13182304,  45.15007126,\n",
       "        45.16543365,  45.01561765,  44.98255488,  45.01502066,\n",
       "        44.9939964 ,  45.09798767,  44.99201287,  44.93287961,\n",
       "        44.96310775,  45.07387536,  45.00891387,  45.09821464,\n",
       "        44.93997002,  45.11743362,  44.99633938,  44.92108839,\n",
       "        44.98672414,  44.99267072,  45.14681333,  44.89697963,\n",
       "        45.12514545,  45.00890133,  45.0571649 ,  45.05767715,\n",
       "        44.91419878,  44.98044265,  44.99365948,  45.00971892,\n",
       "        44.97830522,  45.03886759,  45.06172142,  45.05056776,\n",
       "        44.96717834,  45.07118558,  44.87052711,  44.83246051,\n",
       "        44.87824279,  44.96868409,  45.08709195,  45.01915783,\n",
       "        45.04076786,  45.02508414,  44.93729305,  44.91109206,\n",
       "        44.87731846,  45.01283278,  44.94734707,  44.97539227,\n",
       "        44.93017874,  45.06600733,  44.9447807 ,  44.95420962,\n",
       "        45.00803638,  44.83763965,  44.95955809,  45.07409317,\n",
       "        45.06435411,  44.905142  ,  44.98811412,  45.02233023,\n",
       "        45.04849192,  45.02440986,  45.0191414 ,  45.14941385,\n",
       "        45.00063783,  45.03110218,  45.01785131,  45.00239475,\n",
       "        44.95668689,  45.01944173,  44.97890178,  45.11219713,\n",
       "        44.93621542,  45.00419025,  45.11612837,  44.89955232,\n",
       "        44.87543239,  45.00404439,  45.10701796,  45.03677676,\n",
       "        45.0222509 ,  45.09847696,  44.98182608,  44.95879534,\n",
       "        45.02182375,  45.00746264,  45.03431523,  45.07913538,\n",
       "        44.99441933,  45.04353667,  45.00769552,  45.04291259,\n",
       "        44.89398624,  44.94943852,  45.13929015,  45.0338249 ,\n",
       "        44.9785671 ,  45.04012173,  44.86003276,  45.08835414,\n",
       "        44.98813554,  45.06044028,  45.04937251,  45.0554315 ,\n",
       "        44.95272455,  44.91305759,  45.08743274,  45.00698365,\n",
       "        44.90693335,  44.87342962,  45.01597297,  44.94263111,\n",
       "        45.02275684,  44.99256613,  44.88270561,  44.92984208,\n",
       "        45.06579693,  45.01995582,  45.03057682,  45.01712097,\n",
       "        44.99964245,  44.9084174 ,  45.05976135,  44.92224699,\n",
       "        44.8407768 ,  45.10187705,  45.1234518 ,  45.00598854,\n",
       "        45.05140623,  45.03750054,  44.98013601,  45.12172424,\n",
       "        44.97472645,  45.02917574,  45.0001235 ,  45.05460595,\n",
       "        45.08996784,  45.02314482,  44.88250489,  45.02460879,\n",
       "        44.93554613,  44.98590422,  44.86304078,  45.00251134,\n",
       "        45.03177809,  44.98708515,  45.02789757,  44.95629783,\n",
       "        45.0549006 ,  44.99871775,  45.05521017,  44.91860368,\n",
       "        44.86855159,  45.01520154,  44.98672693,  45.08391928,\n",
       "        45.12051179,  44.9494188 ,  44.94553868,  44.93354089,\n",
       "        44.99234326,  45.10475328,  45.03664412,  45.00472516])"
      ]
     },
     "execution_count": 29,
     "metadata": {},
     "output_type": "execute_result"
    }
   ],
   "source": [
    "r[0]"
   ]
  },
  {
   "cell_type": "code",
   "execution_count": 56,
   "metadata": {
    "collapsed": false
   },
   "outputs": [],
   "source": [
    "class TiledPopulation(BasePopulationFromStochasticModel, Tiling):\n",
    "    def __init__(self):\n",
    "        return super(self.__class__).__init()"
   ]
  },
  {
   "cell_type": "code",
   "execution_count": 57,
   "metadata": {
    "collapsed": false
   },
   "outputs": [
    {
     "ename": "TypeError",
     "evalue": "Can't instantiate abstract class TiledPopulation with abstract methods area, hasPositions, idxvalues, modelparams, numSources, pointingSequenceForTile, pop_rng, positions, set_pop_rng, tileIDSequence, tileIDsForSN",
     "output_type": "error",
     "traceback": [
      "\u001b[0;31m---------------------------------------------------------------------------\u001b[0m",
      "\u001b[0;31mTypeError\u001b[0m                                 Traceback (most recent call last)",
      "\u001b[0;32m<ipython-input-57-51c30396c5e9>\u001b[0m in \u001b[0;36m<module>\u001b[0;34m()\u001b[0m\n\u001b[0;32m----> 1\u001b[0;31m \u001b[0mtp\u001b[0m \u001b[0;34m=\u001b[0m \u001b[0mTiledPopulation\u001b[0m\u001b[0;34m(\u001b[0m\u001b[0;34m)\u001b[0m\u001b[0;34m\u001b[0m\u001b[0m\n\u001b[0m",
      "\u001b[0;31mTypeError\u001b[0m: Can't instantiate abstract class TiledPopulation with abstract methods area, hasPositions, idxvalues, modelparams, numSources, pointingSequenceForTile, pop_rng, positions, set_pop_rng, tileIDSequence, tileIDsForSN"
     ]
    }
   ],
   "source": [
    "tp = TiledPopulation()"
   ]
  },
  {
   "cell_type": "code",
   "execution_count": 68,
   "metadata": {
    "collapsed": false
   },
   "outputs": [],
   "source": [
    "class HPTP(SALTPopulation):\n",
    "    def __init__(self):\n",
    "        return super(self.__class__, self).__init__()"
   ]
  },
  {
   "cell_type": "code",
   "execution_count": 64,
   "metadata": {
    "collapsed": false
   },
   "outputs": [],
   "source": [
    "hptp = HPTP()"
   ]
  },
  {
   "cell_type": "code",
   "execution_count": 67,
   "metadata": {
    "collapsed": false
   },
   "outputs": [
    {
     "ename": "AttributeError",
     "evalue": "'HPTP' object has no attribute 'npix'",
     "output_type": "error",
     "traceback": [
      "\u001b[0;31m---------------------------------------------------------------------------\u001b[0m",
      "\u001b[0;31mAttributeError\u001b[0m                            Traceback (most recent call last)",
      "\u001b[0;32m<ipython-input-67-33e27adc8060>\u001b[0m in \u001b[0;36m<module>\u001b[0;34m()\u001b[0m\n\u001b[0;32m----> 1\u001b[0;31m \u001b[0mhptp\u001b[0m\u001b[0;34m.\u001b[0m\u001b[0marea\u001b[0m\u001b[0;34m(\u001b[0m\u001b[0;36m0\u001b[0m\u001b[0;34m)\u001b[0m\u001b[0;34m\u001b[0m\u001b[0m\n\u001b[0m",
      "\u001b[0;32m/Users/rbiswas/.local/lib/python2.7/site-packages/opsimsummary/healpixTiles.pyc\u001b[0m in \u001b[0;36marea\u001b[0;34m(self, tileID)\u001b[0m\n\u001b[1;32m     64\u001b[0m \u001b[0;34m\u001b[0m\u001b[0m\n\u001b[1;32m     65\u001b[0m     \u001b[0;32mdef\u001b[0m \u001b[0marea\u001b[0m\u001b[0;34m(\u001b[0m\u001b[0mself\u001b[0m\u001b[0;34m,\u001b[0m \u001b[0mtileID\u001b[0m\u001b[0;34m)\u001b[0m\u001b[0;34m:\u001b[0m\u001b[0;34m\u001b[0m\u001b[0m\n\u001b[0;32m---> 66\u001b[0;31m         \u001b[0;32mif\u001b[0m \u001b[0mtileID\u001b[0m \u001b[0;32mnot\u001b[0m \u001b[0;32min\u001b[0m \u001b[0mself\u001b[0m\u001b[0;34m.\u001b[0m\u001b[0mtileIDSequence\u001b[0m\u001b[0;34m:\u001b[0m\u001b[0;34m\u001b[0m\u001b[0m\n\u001b[0m\u001b[1;32m     67\u001b[0m             \u001b[0;32mraise\u001b[0m \u001b[0mValueError\u001b[0m\u001b[0;34m(\u001b[0m\u001b[0;34m'parameter tileID not in set of healpixIDs'\u001b[0m\u001b[0;34m)\u001b[0m\u001b[0;34m\u001b[0m\u001b[0m\n\u001b[1;32m     68\u001b[0m         \u001b[0;32mreturn\u001b[0m \u001b[0mself\u001b[0m\u001b[0;34m.\u001b[0m\u001b[0m_tileArea\u001b[0m \u001b[0;34m*\u001b[0m \u001b[0mnp\u001b[0m\u001b[0;34m.\u001b[0m\u001b[0mdegrees\u001b[0m\u001b[0;34m(\u001b[0m\u001b[0;36m1.\u001b[0m\u001b[0;34m)\u001b[0m \u001b[0;34m*\u001b[0m \u001b[0mnp\u001b[0m\u001b[0;34m.\u001b[0m\u001b[0mdegrees\u001b[0m\u001b[0;34m(\u001b[0m\u001b[0;36m1.\u001b[0m\u001b[0;34m)\u001b[0m\u001b[0;34m\u001b[0m\u001b[0m\n",
      "\u001b[0;32m/Users/rbiswas/.local/lib/python2.7/site-packages/opsimsummary/healpixTiles.pyc\u001b[0m in \u001b[0;36mtileIDSequence\u001b[0;34m(self)\u001b[0m\n\u001b[1;32m     61\u001b[0m     \u001b[0;34m@\u001b[0m\u001b[0mproperty\u001b[0m\u001b[0;34m\u001b[0m\u001b[0m\n\u001b[1;32m     62\u001b[0m     \u001b[0;32mdef\u001b[0m \u001b[0mtileIDSequence\u001b[0m\u001b[0;34m(\u001b[0m\u001b[0mself\u001b[0m\u001b[0;34m)\u001b[0m\u001b[0;34m:\u001b[0m\u001b[0;34m\u001b[0m\u001b[0m\n\u001b[0;32m---> 63\u001b[0;31m         \u001b[0;32mreturn\u001b[0m \u001b[0mxrange\u001b[0m\u001b[0;34m(\u001b[0m\u001b[0mself\u001b[0m\u001b[0;34m.\u001b[0m\u001b[0mnpix\u001b[0m\u001b[0;34m)\u001b[0m\u001b[0;34m\u001b[0m\u001b[0m\n\u001b[0m\u001b[1;32m     64\u001b[0m \u001b[0;34m\u001b[0m\u001b[0m\n\u001b[1;32m     65\u001b[0m     \u001b[0;32mdef\u001b[0m \u001b[0marea\u001b[0m\u001b[0;34m(\u001b[0m\u001b[0mself\u001b[0m\u001b[0;34m,\u001b[0m \u001b[0mtileID\u001b[0m\u001b[0;34m)\u001b[0m\u001b[0;34m:\u001b[0m\u001b[0;34m\u001b[0m\u001b[0m\n",
      "\u001b[0;31mAttributeError\u001b[0m: 'HPTP' object has no attribute 'npix'"
     ]
    }
   ],
   "source": [
    "hptp.area(0)"
   ]
  },
  {
   "cell_type": "code",
   "execution_count": 50,
   "metadata": {
    "collapsed": true
   },
   "outputs": [],
   "source": [
    "from snsims import SALT2_MMDist"
   ]
  },
  {
   "cell_type": "code",
   "execution_count": 52,
   "metadata": {
    "collapsed": false
   },
   "outputs": [],
   "source": [
    "mB, x1, c, z = SALT2_MMDist(10000)"
   ]
  },
  {
   "cell_type": "code",
   "execution_count": 56,
   "metadata": {
    "collapsed": false
   },
   "outputs": [
    {
     "data": {
      "text/plain": [
       "(array([   32.,   392.,  1909.,  2785.,  2305.,  1495.,   715.,   259.,\n",
       "           91.,    17.]),\n",
       " array([-0.21080679, -0.16057906, -0.11035133, -0.06012359, -0.00989586,\n",
       "         0.04033187,  0.09055961,  0.14078734,  0.19101507,  0.24124281,\n",
       "         0.29147054]),\n",
       " <a list of 10 Patch objects>)"
      ]
     },
     "execution_count": 56,
     "metadata": {},
     "output_type": "execute_result"
    },
    {
     "data": {
      "image/png": "[encoded data removed]",
      "text/plain": [
       "<matplotlib.figure.Figure at 0x11941ff50>"
      ]
     },
     "metadata": {},
     "output_type": "display_data"
    }
   ],
   "source": [
    "fig, ax = plt.subplots()\n",
    "ax.hist(c)"
   ]
  },
  {
   "cell_type": "code",
   "execution_count": 59,
   "metadata": {
    "collapsed": true
   },
   "outputs": [],
   "source": [
    "from astropy.cosmology import Planck15"
   ]
  },
  {
   "cell_type": "code",
   "execution_count": 66,
   "metadata": {
    "collapsed": false
   },
   "outputs": [
    {
     "data": {
      "text/plain": [
       "10.0"
      ]
     },
     "execution_count": 66,
     "metadata": {},
     "output_type": "execute_result"
    }
   ],
   "source": [
    "pr.DeltaT"
   ]
  },
  {
   "cell_type": "code",
   "execution_count": 64,
   "metadata": {
    "collapsed": false
   },
   "outputs": [],
   "source": [
    "class SALT2Params(BasePopulationFromStochasticModel):\n",
    "    def __init__(self, zSamples, mjdmin=0., snids=None,\n",
    "                 Mdisp=0.15, alpha=0.11, beta=-3.14, positions=None,\n",
    "                 rng=None, cosmo=Planck15):\n",
    "        self.zSamples = zSamples\n",
    "        self._snids = snids\n",
    "        self.alpha = alpha\n",
    "        self.beta = beta\n",
    "        self._numSN = len(self.zSamples)\n",
    "        self._rng = rng\n",
    "        self.Mdisp = Mdisp\n",
    "        self.cosmo = cosmo\n",
    "        self.mjdmin = mjdmin\n",
    "        self.surveyDuration = self.zSamples.DeltaT * 365.0 \n",
    "        self._positions = positions\n",
    "    \n",
    "    @property\n",
    "    def mjdmax(self):\n",
    "        return self.mjdmin + self.surveyDuration\n",
    "    \n",
    "    @property\n",
    "    def numSources(self):\n",
    "        return self._numSN\n",
    "   \n",
    "    @property\n",
    "    def pop_rng(self):\n",
    "        return self._rng\n",
    "    \n",
    "    def set_pop_rng(self, value):\n",
    "        self._rng = value\n",
    "    \n",
    "    @property\n",
    "    def idxvalues(self):\n",
    "        if self._snids is None:\n",
    "            self._snids = np.arange(self.numSN)\n",
    "        return self._snids\n",
    "    \n",
    "    @property\n",
    "    def positionArray(self):\n",
    "        return None\n",
    "    @property\n",
    "    def hasPositionArray(self):\n",
    "        return False\n",
    "    \n",
    "    def positions(self, idx):\n",
    "        return dict(ra=self._positions[0][idx], dec=self._positions[1][idx])\n",
    "    \n",
    "    def snparamTable(self):\n",
    "        if self._paramSamples is not None:\n",
    "            return self._paramSamples\n",
    "        timescale = self.mjdmax - self.mjdmin\n",
    "        T0Vals = self.randomState.uniform(size=self.numSN) * timescale \\\n",
    "            + self.mjdmin\n",
    "        mB, x1, c, m = SALT2_MMDist(self.numSN)\n",
    "        x0 = np.zeros(len(mB))\n",
    "        mB += self.randomState.normal(loc=0., scale=self.Mdisp,\n",
    "                                      size=self.numSN)\n",
    "        model = sncosmo.Model(source='SALT2')\n",
    "        for i, z in enumerate(self.zSamples):\n",
    "            model.set(z=z, x1=x1[i], c=c[i])\n",
    "            model.source.set_peakmag(mB[i], 'bessellB', 'ab')\n",
    "            x0[i] = model.get('x0')\n",
    "        df = pd.DataFrame(dict(x0=x0, x1=x1, c=c, mB=mB, z=self.zSamples))\n",
    "        return df\n",
    "    def modelparams(self, idx):\n",
    "        return self.snparamTable.ix(idx)\n",
    "        \n",
    "        \n",
    "        \n",
    "    \n",
    "        \n",
    "        \n",
    "        \n",
    "    "
   ]
  },
  {
   "cell_type": "code",
   "execution_count": 65,
   "metadata": {
    "collapsed": false
   },
   "outputs": [
    {
     "ename": "AttributeError",
     "evalue": "'numpy.ndarray' object has no attribute 'DeltaT'",
     "output_type": "error",
     "traceback": [
      "\u001b[0;31m---------------------------------------------------------------------------\u001b[0m",
      "\u001b[0;31mAttributeError\u001b[0m                            Traceback (most recent call last)",
      "\u001b[0;32m<ipython-input-65-d5aeef680f18>\u001b[0m in \u001b[0;36m<module>\u001b[0;34m()\u001b[0m\n\u001b[0;32m----> 1\u001b[0;31m \u001b[0msp\u001b[0m \u001b[0;34m=\u001b[0m \u001b[0mSALT2Params\u001b[0m\u001b[0;34m(\u001b[0m\u001b[0mpr\u001b[0m\u001b[0;34m.\u001b[0m\u001b[0mzSamples\u001b[0m\u001b[0;34m,\u001b[0m \u001b[0;36m59580\u001b[0m\u001b[0;34m)\u001b[0m\u001b[0;34m\u001b[0m\u001b[0m\n\u001b[0m",
      "\u001b[0;32m<ipython-input-64-cea317bf9e6a>\u001b[0m in \u001b[0;36m__init__\u001b[0;34m(self, zSamples, mjdmin, snids, Mdisp, alpha, beta, positions, rng, cosmo)\u001b[0m\n\u001b[1;32m     12\u001b[0m         \u001b[0mself\u001b[0m\u001b[0;34m.\u001b[0m\u001b[0mcosmo\u001b[0m \u001b[0;34m=\u001b[0m \u001b[0mcosmo\u001b[0m\u001b[0;34m\u001b[0m\u001b[0m\n\u001b[1;32m     13\u001b[0m         \u001b[0mself\u001b[0m\u001b[0;34m.\u001b[0m\u001b[0mmjdmin\u001b[0m \u001b[0;34m=\u001b[0m \u001b[0mmjdmin\u001b[0m\u001b[0;34m\u001b[0m\u001b[0m\n\u001b[0;32m---> 14\u001b[0;31m         \u001b[0mself\u001b[0m\u001b[0;34m.\u001b[0m\u001b[0msurveyDuration\u001b[0m \u001b[0;34m=\u001b[0m \u001b[0mself\u001b[0m\u001b[0;34m.\u001b[0m\u001b[0mzSamples\u001b[0m\u001b[0;34m.\u001b[0m\u001b[0mDeltaT\u001b[0m \u001b[0;34m*\u001b[0m \u001b[0;36m365.0\u001b[0m\u001b[0;34m\u001b[0m\u001b[0m\n\u001b[0m\u001b[1;32m     15\u001b[0m         \u001b[0mself\u001b[0m\u001b[0;34m.\u001b[0m\u001b[0m_positions\u001b[0m \u001b[0;34m=\u001b[0m \u001b[0mpositions\u001b[0m\u001b[0;34m\u001b[0m\u001b[0m\n\u001b[1;32m     16\u001b[0m \u001b[0;34m\u001b[0m\u001b[0m\n",
      "\u001b[0;31mAttributeError\u001b[0m: 'numpy.ndarray' object has no attribute 'DeltaT'"
     ]
    }
   ],
   "source": [
    "sp = SALT2Params(pr.zSamples, 59580)"
   ]
  },
  {
   "cell_type": "code",
   "execution_count": 39,
   "metadata": {
    "collapsed": false
   },
   "outputs": [
    {
     "ename": "TypeError",
     "evalue": "write_simulation() takes at least 4 arguments (5 given)",
     "output_type": "error",
     "traceback": [
      "\u001b[0;31m---------------------------------------------------------------------------\u001b[0m",
      "\u001b[0;31mTypeError\u001b[0m                                 Traceback (most recent call last)",
      "\u001b[0;32m<ipython-input-39-d166a677d9f2>\u001b[0m in \u001b[0;36m<module>\u001b[0;34m()\u001b[0m\n\u001b[0;32m----> 1\u001b[0;31m \u001b[0mbsim\u001b[0m\u001b[0;34m.\u001b[0m\u001b[0mwrite_simulation\u001b[0m\u001b[0;34m(\u001b[0m\u001b[0;34m'test_sim.hdf'\u001b[0m\u001b[0;34m,\u001b[0m \u001b[0;34m'hdf'\u001b[0m\u001b[0;34m,\u001b[0m \u001b[0mkey\u001b[0m\u001b[0;34m=\u001b[0m\u001b[0;34m'test'\u001b[0m\u001b[0;34m,\u001b[0m \u001b[0mclobber\u001b[0m\u001b[0;34m=\u001b[0m\u001b[0mFalse\u001b[0m\u001b[0;34m)\u001b[0m\u001b[0;34m\u001b[0m\u001b[0m\n\u001b[0m",
      "\u001b[0;31mTypeError\u001b[0m: write_simulation() takes at least 4 arguments (5 given)"
     ]
    }
   ],
   "source": [
    "bsim.write_simulation('test_sim.hdf', 'hdf', key='test', clobber=False)"
   ]
  },
  {
   "cell_type": "code",
   "execution_count": null,
   "metadata": {
    "collapsed": false
   },
   "outputs": [],
   "source": [
    "simdf = pd.read_hdf('test_sim.hdf')"
   ]
  },
  {
   "cell_type": "code",
   "execution_count": 40,
   "metadata": {
    "collapsed": false
   },
   "outputs": [
    {
     "ename": "NameError",
     "evalue": "name 'simdf' is not defined",
     "output_type": "error",
     "traceback": [
      "\u001b[0;31m---------------------------------------------------------------------------\u001b[0m",
      "\u001b[0;31mNameError\u001b[0m                                 Traceback (most recent call last)",
      "\u001b[0;32m<ipython-input-40-2b56052937b6>\u001b[0m in \u001b[0;36m<module>\u001b[0;34m()\u001b[0m\n\u001b[0;32m----> 1\u001b[0;31m \u001b[0msimdf\u001b[0m\u001b[0;34m\u001b[0m\u001b[0m\n\u001b[0m",
      "\u001b[0;31mNameError\u001b[0m: name 'simdf' is not defined"
     ]
    }
   ],
   "source": [
    "simdf"
   ]
  },
  {
   "cell_type": "code",
   "execution_count": null,
   "metadata": {
    "collapsed": false
   },
   "outputs": [],
   "source": [
    "bsim.write_population()"
   ]
  },
  {
   "cell_type": "code",
   "execution_count": null,
   "metadata": {
    "collapsed": false
   },
   "outputs": [],
   "source": [
    "df = pd.read_hdf('test.hdf', key='test')"
   ]
  },
  {
   "cell_type": "code",
   "execution_count": null,
   "metadata": {
    "collapsed": false
   },
   "outputs": [],
   "source": [
    "bsim.lc(1).to_hdf('test.hdf', key='test', mode='w', append=True, format='t')"
   ]
  },
  {
   "cell_type": "code",
   "execution_count": null,
   "metadata": {
    "collapsed": true
   },
   "outputs": [],
   "source": [
    "bsim.lc(0).to_hdf('test.hdf', key='test', mode='a', append=True, format='t')"
   ]
  },
  {
   "cell_type": "code",
   "execution_count": null,
   "metadata": {
    "collapsed": true
   },
   "outputs": [],
   "source": [
    "df = pd.read_hdf('test.hdf', key='test')"
   ]
  },
  {
   "cell_type": "code",
   "execution_count": null,
   "metadata": {
    "collapsed": false
   },
   "outputs": [],
   "source": [
    "df"
   ]
  },
  {
   "cell_type": "code",
   "execution_count": null,
   "metadata": {
    "collapsed": false
   },
   "outputs": [],
   "source": [
    "bsim.write_lc(0, 'test_0.csv', 'csv', key=None)"
   ]
  },
  {
   "cell_type": "code",
   "execution_count": null,
   "metadata": {
    "collapsed": false
   },
   "outputs": [],
   "source": [
    "dfcsv = pd.read_csv('test_0.csv')"
   ]
  },
  {
   "cell_type": "code",
   "execution_count": null,
   "metadata": {
    "collapsed": false
   },
   "outputs": [],
   "source": [
    "bsim.write_simulation('test.hdf', 'hdf', key=None)"
   ]
  },
  {
   "cell_type": "code",
   "execution_count": null,
   "metadata": {
    "collapsed": false
   },
   "outputs": [],
   "source": [
    "df = pd.read_hdf('test.hdf', key='0')"
   ]
  },
  {
   "cell_type": "code",
   "execution_count": null,
   "metadata": {
    "collapsed": false
   },
   "outputs": [],
   "source": [
    "df.to_sql('')"
   ]
  },
  {
   "cell_type": "code",
   "execution_count": null,
   "metadata": {
    "collapsed": false
   },
   "outputs": [],
   "source": [
    "bsim.write_population('pop.hdf', method='hdf')"
   ]
  },
  {
   "cell_type": "code",
   "execution_count": null,
   "metadata": {
    "collapsed": true
   },
   "outputs": [],
   "source": [
    "sp.idxvalues"
   ]
  },
  {
   "cell_type": "code",
   "execution_count": null,
   "metadata": {
    "collapsed": false
   },
   "outputs": [],
   "source": [
    "dfcsv.equals(df, )"
   ]
  },
  {
   "cell_type": "code",
   "execution_count": null,
   "metadata": {
    "collapsed": false
   },
   "outputs": [],
   "source": [
    "bsim = BasicSimulation(population=sp, model=Model, pointings=)"
   ]
  },
  {
   "cell_type": "code",
   "execution_count": null,
   "metadata": {
    "collapsed": false
   },
   "outputs": [],
   "source": [
    "bsim.write_lc(0, 'lc_0.hdf', 'hdf')"
   ]
  },
  {
   "cell_type": "code",
   "execution_count": null,
   "metadata": {
    "collapsed": true
   },
   "outputs": [],
   "source": [
    "pd.DataFrame.to_hdf()"
   ]
  },
  {
   "cell_type": "code",
   "execution_count": null,
   "metadata": {
    "collapsed": false
   },
   "outputs": [],
   "source": [
    "bsim.write_simulation('test.hdf', 'hdf', key='test')"
   ]
  },
  {
   "cell_type": "code",
   "execution_count": null,
   "metadata": {
    "collapsed": false
   },
   "outputs": [],
   "source": [
    "simdf = pd.read_hdf('test.hdf', key='test')"
   ]
  },
  {
   "cell_type": "code",
   "execution_count": null,
   "metadata": {
    "collapsed": false
   },
   "outputs": [],
   "source": [
    "simdf"
   ]
  },
  {
   "cell_type": "code",
   "execution_count": null,
   "metadata": {
    "collapsed": false
   },
   "outputs": [],
   "source": [
    "sp.positions"
   ]
  },
  {
   "cell_type": "code",
   "execution_count": null,
   "metadata": {
    "collapsed": true
   },
   "outputs": [],
   "source": [
    "model = Model()"
   ]
  },
  {
   "cell_type": "code",
   "execution_count": null,
   "metadata": {
    "collapsed": false
   },
   "outputs": [],
   "source": [
    "sp.modelparams(0)"
   ]
  },
  {
   "cell_type": "code",
   "execution_count": null,
   "metadata": {
    "collapsed": false
   },
   "outputs": [],
   "source": [
    "sp.modelparams(0)"
   ]
  },
  {
   "cell_type": "code",
   "execution_count": null,
   "metadata": {
    "collapsed": false
   },
   "outputs": [],
   "source": [
    "model.setModelParameters(**sp.modelparams(0))"
   ]
  },
  {
   "cell_type": "code",
   "execution_count": null,
   "metadata": {
    "collapsed": false
   },
   "outputs": [],
   "source": [
    "model.sn.SNstate"
   ]
  },
  {
   "cell_type": "code",
   "execution_count": null,
   "metadata": {
    "collapsed": true
   },
   "outputs": [],
   "source": [
    "sn = SNObject()"
   ]
  },
  {
   "cell_type": "code",
   "execution_count": null,
   "metadata": {
    "collapsed": false
   },
   "outputs": [],
   "source": [
    "params"
   ]
  },
  {
   "cell_type": "code",
   "execution_count": null,
   "metadata": {
    "collapsed": false
   },
   "outputs": [],
   "source": [
    "sn.setCoords(params['ra'], params['dec'])"
   ]
  },
  {
   "cell_type": "code",
   "execution_count": null,
   "metadata": {
    "collapsed": true
   },
   "outputs": [],
   "source": [
    "sn.set(**params)"
   ]
  },
  {
   "cell_type": "code",
   "execution_count": null,
   "metadata": {
    "collapsed": true
   },
   "outputs": [],
   "source": [
    "sn.mwEBVfromMaps()"
   ]
  },
  {
   "cell_type": "code",
   "execution_count": null,
   "metadata": {
    "collapsed": false
   },
   "outputs": [],
   "source": [
    "sn.SNstate"
   ]
  },
  {
   "cell_type": "code",
   "execution_count": null,
   "metadata": {
    "collapsed": false
   },
   "outputs": [],
   "source": [
    "model = Model()"
   ]
  },
  {
   "cell_type": "code",
   "execution_count": null,
   "metadata": {
    "collapsed": false
   },
   "outputs": [],
   "source": [
    "params = sp.modelparams(0).copy()"
   ]
  },
  {
   "cell_type": "code",
   "execution_count": null,
   "metadata": {
    "collapsed": true
   },
   "outputs": [],
   "source": [
    "for key in ('ra', 'dec'):\n",
    "    params.pop(key)"
   ]
  },
  {
   "cell_type": "code",
   "execution_count": null,
   "metadata": {
    "collapsed": false
   },
   "outputs": [],
   "source": [
    "params"
   ]
  },
  {
   "cell_type": "code",
   "execution_count": null,
   "metadata": {
    "collapsed": true
   },
   "outputs": [],
   "source": [
    "sn.set(**params)"
   ]
  },
  {
   "cell_type": "code",
   "execution_count": null,
   "metadata": {
    "collapsed": false
   },
   "outputs": [],
   "source": [
    "sn.SNstate"
   ]
  },
  {
   "cell_type": "code",
   "execution_count": null,
   "metadata": {
    "collapsed": false
   },
   "outputs": [],
   "source": [
    "model.setModelParameters(**sp.modelparams(0))"
   ]
  },
  {
   "cell_type": "code",
   "execution_count": null,
   "metadata": {
    "collapsed": false
   },
   "outputs": [],
   "source": [
    "model.sn.SNstate"
   ]
  },
  {
   "cell_type": "code",
   "execution_count": null,
   "metadata": {
    "collapsed": false
   },
   "outputs": [],
   "source": [
    "bandpassobj = bandpassdict['y']"
   ]
  },
  {
   "cell_type": "code",
   "execution_count": null,
   "metadata": {
    "collapsed": false
   },
   "outputs": [],
   "source": [
    "model.setModelParameters(**sp.modelparams(0))"
   ]
  },
  {
   "cell_type": "code",
   "execution_count": null,
   "metadata": {
    "collapsed": false
   },
   "outputs": [],
   "source": [
    "model.modelFlux(59580., bandpassobj=bandpassobj)"
   ]
  },
  {
   "cell_type": "code",
   "execution_count": null,
   "metadata": {
    "collapsed": false
   },
   "outputs": [],
   "source": [
    "bsim = BasicSimulation(sp, model, pointings, rng=np.random.RandomState(0), \n",
    "                       maxObsHistID=1000000, pointingColumnDict=None,\n",
    "                       timeRange=\n",
    "                      pruneWithRadius=False)"
   ]
  },
  {
   "cell_type": "code",
   "execution_count": null,
   "metadata": {
    "collapsed": false
   },
   "outputs": [],
   "source": [
    "bsim.model.maxMjd"
   ]
  },
  {
   "cell_type": "code",
   "execution_count": null,
   "metadata": {
    "collapsed": false
   },
   "outputs": [],
   "source": [
    "bsim.model.r"
   ]
  },
  {
   "cell_type": "code",
   "execution_count": null,
   "metadata": {
    "collapsed": true
   },
   "outputs": [],
   "source": [
    "scrtch__"
   ]
  },
  {
   "cell_type": "code",
   "execution_count": null,
   "metadata": {
    "collapsed": false
   },
   "outputs": [],
   "source": [
    "opsout = _OpSimOutput.fromOpSimDB('/Users/rbiswas/data/LSST/OpSimData/minion_1016_sqlite.db',\n",
    "                                 )"
   ]
  },
  {
   "cell_type": "code",
   "execution_count": null,
   "metadata": {
    "collapsed": false
   },
   "outputs": [],
   "source": [
    "pointings = opsout.summary.query('expMJD < 59580.04')"
   ]
  },
  {
   "cell_type": "code",
   "execution_count": null,
   "metadata": {
    "collapsed": false
   },
   "outputs": [],
   "source": [
    "pointings.expMJD.min()"
   ]
  },
  {
   "cell_type": "code",
   "execution_count": null,
   "metadata": {
    "collapsed": false
   },
   "outputs": [],
   "source": [
    "len(pointings)"
   ]
  },
  {
   "cell_type": "code",
   "execution_count": null,
   "metadata": {
    "collapsed": false
   },
   "outputs": [],
   "source": [
    "pointings.to_csv('check_poinx``tings.csv')"
   ]
  },
  {
   "cell_type": "code",
   "execution_count": null,
   "metadata": {
    "collapsed": false
   },
   "outputs": [],
   "source": [
    "!head check_pointings.csv"
   ]
  },
  {
   "cell_type": "code",
   "execution_count": null,
   "metadata": {
    "collapsed": true
   },
   "outputs": [],
   "source": [
    "from var"
   ]
  },
  {
   "cell_type": "code",
   "execution_count": null,
   "metadata": {
    "collapsed": true
   },
   "outputs": [],
   "source": [
    "from varsim import BaseExcep"
   ]
  },
  {
   "cell_type": "code",
   "execution_count": null,
   "metadata": {
    "collapsed": true
   },
   "outputs": [],
   "source": [
    "import pandas as pd"
   ]
  },
  {
   "cell_type": "code",
   "execution_count": null,
   "metadata": {
    "collapsed": true
   },
   "outputs": [],
   "source": [
    "import numpy as np"
   ]
  },
  {
   "cell_type": "code",
   "execution_count": null,
   "metadata": {
    "collapsed": false
   },
   "outputs": [],
   "source": [
    "df = pd.DataFrame()"
   ]
  },
  {
   "cell_type": "code",
   "execution_count": null,
   "metadata": {
    "collapsed": false
   },
   "outputs": [],
   "source": [
    "df['objid'] = np.arange(10)"
   ]
  },
  {
   "cell_type": "code",
   "execution_count": null,
   "metadata": {
    "collapsed": false
   },
   "outputs": [],
   "source": [
    "df"
   ]
  },
  {
   "cell_type": "code",
   "execution_count": null,
   "metadata": {
    "collapsed": false
   },
   "outputs": [],
   "source": [
    "280 *2 /4 + 20"
   ]
  },
  {
   "cell_type": "code",
   "execution_count": null,
   "metadata": {
    "collapsed": false
   },
   "outputs": [],
   "source": [
    "from collections import namedtuple, OrderedDict as odict"
   ]
  },
  {
   "cell_type": "code",
   "execution_count": null,
   "metadata": {
    "collapsed": false
   },
   "outputs": [],
   "source": [
    "keys = 'abcde'\n",
    "vals = np.arange(5)\n",
    "idx = 'pq'\n",
    "s1 = (dict( (k, v) for (i, k,v) in zip(idx, keys, vals)))\n",
    "s2 = (dict( (k, v) for (i, k,v) in zip(idx, keys, vals)))\n",
    "\n"
   ]
  },
  {
   "cell_type": "code",
   "execution_count": null,
   "metadata": {
    "collapsed": false
   },
   "outputs": [],
   "source": [
    "s = namedtuple(idx, s1)"
   ]
  },
  {
   "cell_type": "code",
   "execution_count": null,
   "metadata": {
    "collapsed": false
   },
   "outputs": [],
   "source": [
    "s = list()\n",
    "_ = list(s.append(x) for x in (s1, s2))"
   ]
  },
  {
   "cell_type": "code",
   "execution_count": null,
   "metadata": {
    "collapsed": false
   },
   "outputs": [],
   "source": [
    "s1"
   ]
  },
  {
   "cell_type": "code",
   "execution_count": null,
   "metadata": {
    "collapsed": true
   },
   "outputs": [],
   "source": [
    "xx = list()"
   ]
  },
  {
   "cell_type": "code",
   "execution_count": null,
   "metadata": {
    "collapsed": false
   },
   "outputs": [],
   "source": [
    "xx = tuple(s)"
   ]
  },
  {
   "cell_type": "code",
   "execution_count": null,
   "metadata": {
    "collapsed": false
   },
   "outputs": [],
   "source": [
    "xx.append(s)"
   ]
  },
  {
   "cell_type": "code",
   "execution_count": null,
   "metadata": {
    "collapsed": false
   },
   "outputs": [],
   "source": [
    "idx = (l for l in idx)"
   ]
  },
  {
   "cell_type": "code",
   "execution_count": null,
   "metadata": {
    "collapsed": false
   },
   "outputs": [],
   "source": [
    "df = pd.DataFrame(s, index=idx)"
   ]
  },
  {
   "cell_type": "code",
   "execution_count": null,
   "metadata": {
    "collapsed": false
   },
   "outputs": [],
   "source": [
    "df"
   ]
  },
  {
   "cell_type": "code",
   "execution_count": null,
   "metadata": {
    "collapsed": false
   },
   "outputs": [],
   "source": [
    "df = pd.DataFrame()"
   ]
  },
  {
   "cell_type": "code",
   "execution_count": null,
   "metadata": {
    "collapsed": false
   },
   "outputs": [],
   "source": [
    "type(s)"
   ]
  },
  {
   "cell_type": "code",
   "execution_count": null,
   "metadata": {
    "collapsed": false
   },
   "outputs": [],
   "source": [
    "df.append(s)"
   ]
  },
  {
   "cell_type": "code",
   "execution_count": null,
   "metadata": {
    "collapsed": true
   },
   "outputs": [],
   "source": []
  }
 ],
 "metadata": {
  "anaconda-cloud": {},
  "kernelspec": {
   "display_name": "Python [default]",
   "language": "python",
   "name": "python2"
  },
  "language_info": {
   "codemirror_mode": {
    "name": "ipython",
    "version": 2
   },
   "file_extension": ".py",
   "mimetype": "text/x-python",
   "name": "python",
   "nbconvert_exporter": "python",
   "pygments_lexer": "ipython2",
   "version": "2.7.12"
  }
 },
 "nbformat": 4,
 "nbformat_minor": 1
}
